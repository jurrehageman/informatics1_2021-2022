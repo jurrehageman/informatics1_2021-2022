{
 "cells": [
  {
   "cell_type": "markdown",
   "metadata": {
    "deletable": false,
    "editable": false,
    "nbgrader": {
     "checksum": "e00a5738c5c18f72a39ea245831a5b95",
     "grade": false,
     "grade_id": "title",
     "locked": true,
     "schema_version": 1,
     "solution": false
    }
   },
   "source": [
    "![](hanze.png)\n",
    "# Tentamen Informatica 1"
   ]
  },
  {
   "cell_type": "markdown",
   "metadata": {
    "deletable": false,
    "editable": false,
    "nbgrader": {
     "checksum": "e99afeb1f641fb85e409c61c30e704d6",
     "grade": false,
     "grade_id": "instructions",
     "locked": true,
     "schema_version": 1,
     "solution": false
    }
   },
   "source": [
    "- **Date/Time** 14/11/2019 08:30 - 10:00\n",
    "- **Teachers** WATS/HJUR\n",
    "- **Scanned by** NOMI\n",
    "- **Test size** 8 assignments\n",
    "- **Supplementary files**\n",
    "    - PyDoc\n",
    "    - Het bestand `sequence.txt`\n",
    "    - het script `submit_your_work` waarmee je de gemaakte opdrachten inlevert\n",
    "- **TO BE SUBMITTED**\n",
    "    - This notebook \n",
    "\n",
    "## Instructies\n",
    "\n",
    "Voor dit tentamen moet je ingelogd zijn als gast (password gast). Het tentamen bevat een aantal opdrachten. Iedere opdracht heeft 1 of meerdere code cellen in deze notebook. Telkens wanneer je `# YOUR CODE HERE` tegenkomt, wordt er input van jou verwacht.  \n",
    "Ook zie je een `raise NotImplementedError()` staan.  \n",
    "Deze moet je <b>vervangen</b> voor jouw code.\n",
    "\n",
    "<b>Belangrijk:</b>\n",
    "In veel van de vragen is de code verpakt in een functie.  \n",
    "De functie is echter nog niet aangeroepen.  \n",
    "Dit moet je zelf nog doen!\n",
    "\n",
    "### Indienen\n",
    "Het gemaakte werk kan ingeleverd worden door het script\n",
    "`submit_your_work` te draaien in de Desktop directory als:  \n",
    "`submit_your_work STUDENTNR xxxxxx.ipynb`    \n",
    "Tip: sla je werk op de Desktop op. Dan kun je je werk indienen zoals hierboven beschreven.  \n",
    "Op een scherm worden de ingeleverde files per computer getoond zodat te zien is of je je werk daadwerkelijk hebt ingeleverd.  \n",
    "\n",
    "### Cijfer\n",
    "Het cijfer wordt als volgt berekend:  \n",
    "behaald aantal punten/totaal aantal punten * 9 + 1\n",
    "\n"
   ]
  },
  {
   "cell_type": "markdown",
   "metadata": {
    "deletable": false,
    "editable": false,
    "nbgrader": {
     "checksum": "f3f634435439b40e243491a1de7bddfe",
     "grade": false,
     "grade_id": "vraag01_txt",
     "locked": true,
     "schema_version": 1,
     "solution": false
    }
   },
   "source": [
    "### Vraag 1\n",
    "Maak de variabelen `voornaam` en `achternaam` en geef deze de waarde van jouw voornaam en achternaam."
   ]
  },
  {
   "cell_type": "code",
   "execution_count": null,
   "metadata": {
    "deletable": false,
    "nbgrader": {
     "checksum": "6956a4df3f18164317b19e540ced838d",
     "grade": false,
     "grade_id": "vraag01_que",
     "locked": false,
     "schema_version": 1,
     "solution": true
    }
   },
   "outputs": [],
   "source": [
    "# YOUR CODE HERE\n",
    "voornaam = \"Jan\"\n",
    "achternaam = \"Janssen\""
   ]
  },
  {
   "cell_type": "code",
   "execution_count": null,
   "metadata": {
    "deletable": false,
    "editable": false,
    "nbgrader": {
     "checksum": "c6a96a91357f6cad6836f8689054bc1a",
     "grade": true,
     "grade_id": "vraag01_cor",
     "locked": true,
     "points": 2,
     "schema_version": 1,
     "solution": false
    }
   },
   "outputs": [],
   "source": []
  },
  {
   "cell_type": "markdown",
   "metadata": {
    "deletable": false,
    "editable": false,
    "nbgrader": {
     "checksum": "fa45ae5d53b528934f220d4c24f23725",
     "grade": false,
     "grade_id": "vraag02_txt",
     "locked": true,
     "schema_version": 1,
     "solution": false
    }
   },
   "source": [
    "### Vraag 2\n",
    "Python heeft een built‒in functie om hulp te krijgen.  \n",
    "Print met deze built‒in functie hulp voor de methode van het lijst datatype waarmee elementen\n",
    " in de lijst gesorteerd kunnen worden."
   ]
  },
  {
   "cell_type": "code",
   "execution_count": null,
   "metadata": {
    "deletable": false,
    "nbgrader": {
     "checksum": "a1603374c31c8884d0dc6ac3fb0764a5",
     "grade": false,
     "grade_id": "vraag02_que",
     "locked": false,
     "schema_version": 1,
     "solution": true
    }
   },
   "outputs": [],
   "source": [
    "# YOUR CODE HERE\n",
    "print(help(list.sort)\n",
    "\n",
    "\n",
    "\n",
    "\n",
    "\n"
   ]
  },
  {
   "cell_type": "code",
   "execution_count": null,
   "metadata": {
    "deletable": false,
    "editable": false,
    "nbgrader": {
     "checksum": "6c857a00cf409e6584066989b04665a5",
     "grade": true,
     "grade_id": "vraag02_corr",
     "locked": true,
     "points": 3,
     "schema_version": 1,
     "solution": false
    }
   },
   "outputs": [],
   "source": []
  },
  {
   "cell_type": "markdown",
   "metadata": {
    "deletable": false,
    "editable": false,
    "nbgrader": {
     "checksum": "f1b06d8a4aed7c6b9f4ae3f47245f9ae",
     "grade": false,
     "grade_id": "vraag03_txt",
     "locked": true,
     "schema_version": 1,
     "solution": false
    }
   },
   "source": [
    "### Vraag 3\n",
    "Gegeven de hoek alfa:  \n",
    "α = 1.5707963267948966  \n",
    "en de volgende formule:  \n",
    "x = sin α\n",
    "\n",
    "Python beschikt over een wiskunde module.\n",
    "Gebruik deze module om x berekenen. "
   ]
  },
  {
   "cell_type": "code",
   "execution_count": null,
   "metadata": {
    "deletable": false,
    "nbgrader": {
     "checksum": "e1a828cbcc5cafa62e09105e984a60b1",
     "grade": false,
     "grade_id": "vraag03_que",
     "locked": false,
     "schema_version": 1,
     "solution": true
    }
   },
   "outputs": [],
   "source": [
    "import math\n",
    "num = 1.5707963267948966\n",
    "\n",
    "\n",
    "def calc_sin(num):\n",
    "    '''Calculates the sinus of alfa'''\n",
    "    # YOUR CODE HERE\n",
    "    print(math.sin(num))\n",
    "    \n",
    "calc_sin(num)"
   ]
  },
  {
   "cell_type": "code",
   "execution_count": null,
   "metadata": {
    "deletable": false,
    "editable": false,
    "nbgrader": {
     "checksum": "4a80b3e4fe2d79737ae68a360021dd90",
     "grade": true,
     "grade_id": "vraag03_cor",
     "locked": true,
     "points": 3,
     "schema_version": 1,
     "solution": false
    }
   },
   "outputs": [],
   "source": []
  },
  {
   "cell_type": "markdown",
   "metadata": {
    "deletable": false,
    "editable": false,
    "nbgrader": {
     "checksum": "ee462f837e6794c8f3777172a60724ec",
     "grade": false,
     "grade_id": "vraag04_txt",
     "locked": true,
     "schema_version": 1,
     "solution": false
    }
   },
   "source": [
    "### Vraag 4\n",
    "Voor een nieuwe laboratoriumtechniek voor genetische modificatie, CRISPR-CAS, is de zogenaamde PAM \n",
    "sequentie erg belangrijk. De PAM sequentie bestaat uit de drie DNA letters `NGG` aan de start van een \n",
    "sequentie. De letter N staat hier voor \"elke base is toegestaan\", dus G, A, T of C. \n",
    "Zorg ervoor dat onderstaande functie `filter_pam` kijkt of een tuple een pam sequentie bevat.  \n",
    "Indien dat zo is dan retourneer je `True`.  \n",
    "Indien het geen pam sequentie bevat, retourneer dan `False`.  \n",
    "Onderstaande code fragment bevat een pam sequentie.  \n",
    "Test je functie ook met een niet-pam sequentie."
   ]
  },
  {
   "cell_type": "code",
   "execution_count": null,
   "metadata": {
    "deletable": false,
    "nbgrader": {
     "checksum": "f338afa0431406b5724c8fc4dfcb11ac",
     "grade": false,
     "grade_id": "vraag04_que",
     "locked": false,
     "schema_version": 1,
     "solution": true
    }
   },
   "outputs": [],
   "source": [
    "dna = ('A', 'G', 'G', 'G', 'T', 'G', 'A', 'G', 'G', 'G', 'G')\n",
    "dna = ('A', 'C', 'G', 'G', 'T', 'G', 'A', 'G', 'G', 'G', 'G')\n",
    "\n",
    "def filter_pam(seq):\n",
    "    '''Filters sequences with a pam subsequence'''\n",
    "    if seq[1] == \"G\" and seq[2] == \"G\":\n",
    "        return True\n",
    "    else:\n",
    "        return False\n",
    "    \n",
    "print(filter_pam(dna))"
   ]
  },
  {
   "cell_type": "code",
   "execution_count": null,
   "metadata": {
    "deletable": false,
    "editable": false,
    "nbgrader": {
     "checksum": "8981dc2c9c13ad2f2dcd14e53dc190d2",
     "grade": true,
     "grade_id": "vraag04_ans",
     "locked": true,
     "points": 5,
     "schema_version": 1,
     "solution": false
    }
   },
   "outputs": [],
   "source": []
  },
  {
   "cell_type": "markdown",
   "metadata": {
    "deletable": false,
    "editable": false,
    "nbgrader": {
     "checksum": "1d5ad594163db57279e8c30b65db2a8b",
     "grade": false,
     "grade_id": "vraag05_txt",
     "locked": true,
     "schema_version": 1,
     "solution": false
    }
   },
   "source": [
    "### Vraag 5\n",
    "Je hebt een aantal sequenties (als losse basen in een lijst).  \n",
    "Zorg er voor dat de sequentie aan de voorkant een PAM sequentie krijgt (NGG) met \n",
    "behulp van de `add_pam` functie. \n",
    "\n",
    "Zoals je ziet is de `random` module al geïmporteerd.  \n",
    "Maak hier gebruik van om de sequentie `NGG` aan de voorkant van de lijst te zetten - dus \n",
    "in plaats van N een willekeurig gekozen DNA letter.  Indien je dit niet lukt zet je er `CGG` voor.  \n",
    "Aan het eind van je functie retourneer je je lijst."
   ]
  },
  {
   "cell_type": "code",
   "execution_count": null,
   "metadata": {
    "deletable": false,
    "nbgrader": {
     "checksum": "8eb4fb2ff3dd39975f8cd5d3ae008048",
     "grade": false,
     "grade_id": "vraag05_que",
     "locked": false,
     "schema_version": 1,
     "solution": true
    }
   },
   "outputs": [],
   "source": [
    "import random\n",
    "my_seq = [\"A\", \"T\", \"C\", \"G\"]\n",
    "\n",
    "\n",
    "def add_pam(seq):\n",
    "    '''Adds a pam sequence to a sequence'''\n",
    "    # YOUR CODE HERE\n",
    "    bases = \"GATC\"\n",
    "    pam = [random.choice(bases), \"G\", \"G\"]\n",
    "    return pam + my_seq\n",
    "\n",
    "res = add_pam(my_seq)\n",
    "print(res)"
   ]
  },
  {
   "cell_type": "code",
   "execution_count": null,
   "metadata": {
    "deletable": false,
    "editable": false,
    "nbgrader": {
     "checksum": "6b94896d4c7818c77dfaf055022eb0e5",
     "grade": true,
     "grade_id": "vraag05_corr",
     "locked": true,
     "points": 5,
     "schema_version": 1,
     "solution": false
    }
   },
   "outputs": [],
   "source": []
  },
  {
   "cell_type": "markdown",
   "metadata": {
    "deletable": false,
    "editable": false,
    "nbgrader": {
     "checksum": "eabad0c856a1652690a14b7226d91654",
     "grade": false,
     "grade_id": "vraag06_txt",
     "locked": true,
     "schema_version": 1,
     "solution": false
    }
   },
   "source": [
    "### Vraag 6\n",
    "Je krijgt als invoer een lijst met basen in kleine letters binnen.  \n",
    "Je hebt echter een *string* bestaande uit hoofdletters nodig.  \n",
    "Schrijf de benodigde code in de functie `list_low_2_string_caps`.\n",
    "Een voorbeeld lijst staat al gegeven, en deze input moet dus \"ACGGTGAGGGGAA\" teruggeven.\n"
   ]
  },
  {
   "cell_type": "code",
   "execution_count": null,
   "metadata": {
    "deletable": false,
    "nbgrader": {
     "checksum": "43d8307f276dd5a862e82863e7ec5845",
     "grade": false,
     "grade_id": "vraag06_que",
     "locked": false,
     "schema_version": 1,
     "solution": true
    }
   },
   "outputs": [],
   "source": [
    "my_list = ['a', 'c', 'g', 'g', 't', 'g', 'a', 'g', 'g', 'g', 'g', 'a', 'a']\n",
    "\n",
    "\n",
    "def list_low_2_string_caps(seq):\n",
    "    '''Changes lowercase strings items inside a list in uppercase'''\n",
    "    # YOUR CODE HERE\n",
    "    caps = []\n",
    "    for i in seq:\n",
    "        caps.append(i.upper())\n",
    "    return \"\".join(caps)\n",
    "\n",
    "seq = list_low_2_string_caps(my_list)\n",
    "print(seq)"
   ]
  },
  {
   "cell_type": "code",
   "execution_count": null,
   "metadata": {
    "deletable": false,
    "editable": false,
    "nbgrader": {
     "checksum": "055633058bb749656d1afb389cc6d431",
     "grade": true,
     "grade_id": "vraag06_corr",
     "locked": true,
     "points": 5,
     "schema_version": 1,
     "solution": false
    }
   },
   "outputs": [],
   "source": []
  },
  {
   "cell_type": "markdown",
   "metadata": {
    "deletable": false,
    "editable": false,
    "nbgrader": {
     "checksum": "ff6b30e932f83b39a8c9748be343e31b",
     "grade": false,
     "grade_id": "vraag07_txt",
     "locked": true,
     "schema_version": 1,
     "solution": false
    }
   },
   "source": [
    "### Vraag 7\n",
    "Hieronder is de sequentie van het eiwit insuline gegeven.  \n",
    "De functie `count_aa` dient een *dictionary* te retourneren met het aantal getelde aminozuren per aminozuur.  \n",
    "De functie moet natuurlijk werken op elke eiwit sequentie.\n",
    "\n"
   ]
  },
  {
   "cell_type": "code",
   "execution_count": null,
   "metadata": {
    "deletable": false,
    "nbgrader": {
     "checksum": "13a03f91ff30e6b9efcda769c524976d",
     "grade": false,
     "grade_id": "vraag07_que",
     "locked": false,
     "schema_version": 1,
     "solution": true
    }
   },
   "outputs": [],
   "source": [
    "insulin = \"MALWMRLLPLLALLALWGPDPAAAFVNQHLCGSHLVEALYLVCGERGFFYTPKTRREAEDLQVGQVELGGGPGAGSLQPLALEGSLQKRGIVEQCCTSICSLYQLENYCN\"\n",
    "\n",
    "\n",
    "def count_aa(seq):\n",
    "    '''Counts the number of each amino acid in a protein sequence'''\n",
    "    # YOUR CODE HERE\n",
    "    aa_counts = {}\n",
    "    for i in seq:\n",
    "        if i not in aa_counts:\n",
    "            aa_counts[i] = seq.count(i)\n",
    "    return aa_counts\n",
    "\n",
    "aa_count = count_aa(insulin)\n",
    "print(aa_count)\n",
    "# Extra: een frequentieplot van de aminozuren\n",
    "for key in aa_count:\n",
    "    print(key, aa_count[key] * \"*\")"
   ]
  },
  {
   "cell_type": "code",
   "execution_count": null,
   "metadata": {
    "deletable": false,
    "editable": false,
    "nbgrader": {
     "checksum": "546439f7c3980636ead58d4d8a467903",
     "grade": true,
     "grade_id": "vraag07_corr",
     "locked": true,
     "points": 5,
     "schema_version": 1,
     "solution": false
    }
   },
   "outputs": [],
   "source": []
  },
  {
   "cell_type": "markdown",
   "metadata": {
    "deletable": false,
    "editable": false,
    "nbgrader": {
     "checksum": "beb18158f055ea9f13ea28219df6b5f3",
     "grade": false,
     "grade_id": "vraag08_txt",
     "locked": true,
     "schema_version": 1,
     "solution": false
    }
   },
   "source": [
    "### Vraag 8\n",
    "\n",
    "Je vindt hieronder twee functies:  \n",
    "\n",
    "`calc_gc` berekent per sequentie een afgerond gc percentage (0 decimalen, gebruik de `round` functie).  \n",
    "\n",
    "`main`: leest het bestand `sequence.txt` in en stuurt per regel de sequentie naar calc_gc.  \n",
    "Sla het afgeronde GC gehalte (0 decimalen, gebruik de round functie) op in een lijst.  \n",
    "Aan het eind van de `main` functie retourneer je de lijst met GC gehaltes - 1 per ingelezen regel.  \n",
    "Let op: de lijst moet dus de GC gehaltes weergeven in dezelfde volgorde als de regels.  "
   ]
  },
  {
   "cell_type": "code",
   "execution_count": 1,
   "metadata": {
    "deletable": false,
    "nbgrader": {
     "checksum": "5f9f80a98203f67cddc92d22681d3e24",
     "grade": false,
     "grade_id": "vraag08_que",
     "locked": false,
     "schema_version": 1,
     "solution": true
    }
   },
   "outputs": [
    {
     "name": "stdout",
     "output_type": "stream",
     "text": [
      "[45, 65, 50, 40, 45, 35, 45, 35, 45, 30, 60, 60, 45, 90, 70, 60, 35, 60, 45, 30]\n"
     ]
    }
   ],
   "source": [
    "file_name = 'sequence.txt'\n",
    "\n",
    "\n",
    "def calc_gc(seq):\n",
    "    '''Calculates the gc percentage in a DNA sequence'''\n",
    "    # YOUR CODE HERE\n",
    "    gc_perc = (seq.count(\"G\") + seq.count(\"C\"))/len(seq) * 100\n",
    "    return round(gc_perc)\n",
    "    \n",
    "    \n",
    "def main(file_name):\n",
    "    '''Reads file and sends seq to calc_gc'''\n",
    "    # YOUR CODE HERE\n",
    "    gc_list = []\n",
    "    file_obj = open(file_name)\n",
    "    for line in file_obj:\n",
    "        line = line.strip()\n",
    "        gc_list.append(calc_gc(line))\n",
    "    file_obj.close()\n",
    "    return gc_list\n",
    "    \n",
    "gc = main(file_name)\n",
    "print(gc)\n",
    "    "
   ]
  },
  {
   "cell_type": "code",
   "execution_count": null,
   "metadata": {
    "deletable": false,
    "editable": false,
    "nbgrader": {
     "checksum": "616c18b0a81cc1549256cec47ec7cb8f",
     "grade": true,
     "grade_id": "vraag08_corr",
     "locked": true,
     "points": 8,
     "schema_version": 1,
     "solution": false
    }
   },
   "outputs": [],
   "source": []
  },
  {
   "cell_type": "code",
   "execution_count": null,
   "metadata": {},
   "outputs": [],
   "source": []
  }
 ],
 "metadata": {
  "kernelspec": {
   "display_name": "Python 3",
   "language": "python",
   "name": "python3"
  },
  "language_info": {
   "codemirror_mode": {
    "name": "ipython",
    "version": 3
   },
   "file_extension": ".py",
   "mimetype": "text/x-python",
   "name": "python",
   "nbconvert_exporter": "python",
   "pygments_lexer": "ipython3",
   "version": "3.7.4"
  },
  "pycharm": {
   "stem_cell": {
    "cell_type": "raw",
    "metadata": {
     "collapsed": false
    },
    "source": []
   }
  }
 },
 "nbformat": 4,
 "nbformat_minor": 2
}
