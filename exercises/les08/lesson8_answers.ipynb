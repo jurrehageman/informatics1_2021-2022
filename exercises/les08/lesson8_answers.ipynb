{
 "cells": [
  {
   "cell_type": "markdown",
   "metadata": {},
   "source": [
    "# Exercises lesson 8"
   ]
  },
  {
   "cell_type": "markdown",
   "metadata": {},
   "source": [
    "Author: Jurre Hageman"
   ]
  },
  {
   "cell_type": "markdown",
   "metadata": {},
   "source": [
    "For these exercises, variables are set underneath the `###DO NOT REMOVE###` tag.  \n",
    "So do not remove this code.  \n",
    "You should write your code underneath the `###YOUR CODE HERE###` tag.  \n",
    "Provide comments with a short explanantion where needed."
   ]
  },
  {
   "cell_type": "markdown",
   "metadata": {},
   "source": [
    "## Peptide mass fingerprinting"
   ]
  },
  {
   "cell_type": "markdown",
   "metadata": {},
   "source": [
    "To understand the topic of today, have a look at the short video below."
   ]
  },
  {
   "cell_type": "markdown",
   "metadata": {},
   "source": [
    "<a href=\"http://www.youtube.com/watch?feature=player_embedded&v=4xSUWK_ueWI\n",
    "\" target=\"_blank\"><img src=\"http://img.youtube.com/vi/4xSUWK_ueWI/0.jpg\" \n",
    "alt=\"Peptide fingerprinting\" width=\"240\" height=\"180\" border=\"10\" /></a>"
   ]
  },
  {
   "cell_type": "markdown",
   "metadata": {},
   "source": [
    "In this lesson, we will create a small script that can simulate peptide mass fingerprinting.  \n",
    "This technique can be used to identify proteins.\n",
    "The first step is protein digestion by trypsin.  \n",
    "Trypsin is a protease that is used to fragment polypeptide chains in small peptides.  \n",
    "The small peptides can subsequently analyzed using mass spectometry to measure the mass of each peptide.  \n",
    "This creates a peptide mass profile that makes it possible to identify proteins by searching the masses in the database.  "
   ]
  },
  {
   "cell_type": "markdown",
   "metadata": {},
   "source": [
    "## Trypsin digestion"
   ]
  },
  {
   "cell_type": "markdown",
   "metadata": {},
   "source": [
    "Trypsin cleaves peptides on the C-terminal side of lysine (K) and arginine (R) amino acid residues. If a proline (P) residue is on the carboxyl side of the cleavage site, the cleavage will not occur. \n",
    "\n",
    "Have a look at [this link](https://web.expasy.org/peptide_cutter/) to get an idea about a peptide cutter.\n",
    "\n",
    "We will generate a trypsin digestion simulation tool."
   ]
  },
  {
   "cell_type": "markdown",
   "metadata": {},
   "source": [
    "## Load sequence\n",
    "\n",
    "Before we will cut a sequence, we will load a sequence from file.  \n",
    "Open the fasta file that represents the unknown protein sequence `sequence.fasta`."
   ]
  },
  {
   "cell_type": "code",
   "execution_count": 4,
   "metadata": {
    "scrolled": true
   },
   "outputs": [
    {
     "name": "stdout",
     "output_type": "stream",
     "text": [
      "MDLSALRVEEVQNVINAMQKILECPICLELIKEPVSTKCDHIFCKFCMLKLLNQKKGPSQCPLCKNDITKRSLQESTRFSQLVEELLKIICAFQLDTGLEYANSYNFAKKENNSPEHLKDEVSIIQSMGYRNRAKRLLQSEPENPSLQETSLSVQLSNLGTVRTLRTKQRIQPQKTSVYIELGSDSSEDTVNKATYCSVGDQELLQITPQGTRDEISLDSAKKAACEFSETDVTNTEHHQPSNNDLNTTEKRAAERHPEKYQGSSVSNLHVEPCGTNTHASSLQHENSSLLLTKDRMNVEKAEFCNKSKQPGLARSQHNRWAGSKETCNDRRTPSTEKKVDLNADPLCERKEWNKQKLPCSENPRDTEDVPWITLNSSIQKVNEWFSRSDELLGSDDSHDGESESNAKVADVLDVLNEVDEYSGSSEKIDLLASDPHEALICKSERVHSKSVESNIEDKIFGKTYRKKASLPNLSHVTENLIIGAFVTEPQIIQERPLTNKLKRKRRPTSGLHPEDFIKKADLAVQKTPEMINQGTNQTEQNGQVMNITNSGHENKTKGDSIQNEKNPNPIESLEKESAFKTKAEPISSSISNMELELNIHNSKAPKKNRLRRKSSTRHIHALELVVSRNLSPPNCTELQIDSCSSSEEIKKKKYNQMPVRHSRNLQLMEGKEPATGAKKSNKPNEQTSKRHDSDTFPELKLTNAPGSFTKCSNTSELKEFVNPSLPREEKEEKLETVKVSNNAEDPKDLMLSGERVLQTERSVESSSISLVPGTDYGTQESISLLEVSTLGKAKTEPNKCVSQCAAFENPKGLIHGCSKDNRNDTEGFKYPLGHEVNHSRETSIEMEESELDAQYLQNTFKVSKRQSFAPFSNPGNAEEECATFSAHSGSLKKQSPKVTFECEQKEENQGKNESNIKPVQTVNITAGFPVVGQKDKPVDNAKCSIKGGSRFCLSSQFRGNETGLITPNKHGLLQNPYRIPPLFPIKSFVKTKCKKNLLEENFEEHSMSPEREMGNENIPSTVSTISRNNIRENVFKEASSSNINEVGSSTNEVGSSINEIGSSDENIQAELGRNRGPKLNAMLRLGVLQPEVYKQSLPGSNCKHPEIKKQEYEEVVQTVNTDFSPYLISDNLEQPMGSSHASQVCSETPDDLLDDGEIKEDTSFAENDIKESSAVFSKSVQKGELSRSPSPFTHTHLAQGYRRGAKKLESSEENLSSEDEELPCFQHLLFGKVNNIPSQSTRHSTVATECLSKNTEENLLSLKNSLNDCSNQVILAKASQEHHLSEETKCSASLFSSQCSELEDLTANTNTQDPFLIGSSKQMRHQSESQGVGLSDKELVSDDEERGTGLEENNQEEQSMDSNLGEAASGCESETSVSEDCSGLSSQSDILTTQQRDTMQHNLIKLQQEMAELEAVLEQHGSQPSNSYPSIISDSSALEDLRNPEQSTSEKAVLTSQKSSEYPISQNPEGLSADKFEVSADSSTSKNKEPGVERSSPSKCPSLDDRWYMHSCSGSLQNRNYPSQEELIKVVDVEEQQLEESGPHDLTETSYLPRQDLEGTPYLESGISLFSDDPESDPSEDRAPESARVGNIPSSTSALKVPQLKVAESAQSPAAAHTTDTAGYNAMEESVSREKPELTASTERVNKRMSMVVSGLTPEEFMLVYKFARKHHITLTNLITEETTHVVMKTDAEFVCERTLKYFLGIAGGKWVVSYFWVTQSIKERKMLNEHDFEVRGDVVNGRNHQGPKRARESQDRKIFRGLEICCYGPFTNMPTDQLEWMVQLCGASVVKELSSFTLGTGVHPIVVVQPDAWTEDNGFHAIGQMCEAPVVTREWVLDSVALYQCQELDTYLIPQIPHSHY\n"
     ]
    }
   ],
   "source": [
    "###YOUR CODE HERE###\n",
    "\n",
    "\n",
    "###ANSWER###\n",
    "filename = \"sequence.fasta\"\n",
    "\n",
    "def read_file(filename):\n",
    "    seq = []\n",
    "    for line in open(filename):\n",
    "        if not line.startswith(\">\"):\n",
    "            seq.append(line.strip())\n",
    "    return \"\".join(seq)\n",
    "\n",
    "seq = read_file(filename)\n",
    "print(seq)\n",
    "###END ANSWER###"
   ]
  },
  {
   "cell_type": "markdown",
   "metadata": {},
   "source": [
    "## Find cut sites\n",
    "Identify how many `K` and `R`are present.  \n",
    "Also check if some of the `K`'s and `R`'s are followed by a `P`."
   ]
  },
  {
   "cell_type": "code",
   "execution_count": 5,
   "metadata": {},
   "outputs": [
    {
     "name": "stdout",
     "output_type": "stream",
     "text": [
      "K: 137\n",
      "R: 76\n",
      "KP: 4\n",
      "RP: 2\n"
     ]
    }
   ],
   "source": [
    "###YOUR CODE HERE###\n",
    "\n",
    "\n",
    "###ANSWER###\n",
    "num_K = seq.count(\"K\")\n",
    "num_R = seq.count(\"R\")\n",
    "num_KP = seq.count(\"KP\")\n",
    "num_RP = seq.count(\"RP\")\n",
    "print(\"K:\", num_K)\n",
    "print(\"R:\", num_R)\n",
    "print(\"KP:\", num_KP)\n",
    "print(\"RP:\", num_RP)\n",
    "###END ANSWER###"
   ]
  },
  {
   "cell_type": "markdown",
   "metadata": {},
   "source": [
    "Think of a strategy to simulate a trypsin digestion.\n",
    "Write it down in the cell below first."
   ]
  },
  {
   "cell_type": "markdown",
   "metadata": {},
   "source": [
    "Your strategy in pseudo code here"
   ]
  },
  {
   "cell_type": "markdown",
   "metadata": {},
   "source": [
    "## Code the trypsin cutter"
   ]
  },
  {
   "cell_type": "markdown",
   "metadata": {},
   "source": [
    "The trypsin cutter should receive the protein sequence and return a list of the peptide sequences.\n",
    "You can make use of multiple functions (as many as you like)."
   ]
  },
  {
   "cell_type": "code",
   "execution_count": 6,
   "metadata": {},
   "outputs": [
    {
     "name": "stdout",
     "output_type": "stream",
     "text": [
      "['MDLSALR', 'VEEVQNVINAMQK', 'ILECPICLELIK', 'EPVSTK', 'CDHIFCK', 'FCMLK', 'LLNQK', 'K', 'GPSQCPLCK', 'NDITK', 'R', 'SLQESTR', 'FSQLVEELLK', 'IICAFQLDTGLEYANSYNFAK', 'K', 'ENNSPEHLK', 'DEVSIIQSMGYR', 'NR', 'AK', 'R', 'LLQSEPENPSLQETSLSVQLSNLGTVR', 'TLR', 'TK', 'QR', 'IQPQK', 'TSVYIELGSDSSEDTVNK', 'ATYCSVGDQELLQITPQGTR', 'DEISLDSAK', 'K', 'AACEFSETDVTNTEHHQPSNNDLNTTEK', 'R', 'AAER', 'HPEK', 'YQGSSVSNLHVEPCGTNTHASSLQHENSSLLLTK', 'DR', 'MNVEK', 'AEFCNK', 'SK', 'QPGLAR', 'SQHNR', 'WAGSK', 'ETCNDR', 'R', 'TPSTEK', 'K', 'VDLNADPLCER', 'K', 'EWNK', 'QK', 'LPCSENPR', 'DTEDVPWITLNSSIQK', 'VNEWFSR', 'SDELLGSDDSHDGESESNAK', 'VADVLDVLNEVDEYSGSSEK', 'IDLLASDPHEALICK', 'SER', 'VHSK', 'SVESNIEDK', 'IFGK', 'TYR', 'K', 'K', 'ASLPNLSHVTENLIIGAFVTEPQIIQERP', 'LTNK', 'LK', 'R', 'K', 'R', 'RP', 'TSGLHPEDFIK', 'K', 'ADLAVQK', 'TPEMINQGTNQTEQNGQVMNITNSGHENK', 'TK', 'GDSIQNEK', 'NPNPIESLEK', 'ESAFK', 'TK', 'AEPISSSISNMELELNIHNSK', 'APK', 'K', 'NR', 'LR', 'R', 'K', 'SSTR', 'HIHALELVVSR', 'NLSPPNCTELQIDSCSSSEEIK', 'K', 'K', 'K', 'YNQMPVR', 'HSR', 'NLQLMEGK', 'EPATGAK', 'K', 'SNKP', 'NEQTSK', 'R', 'HDSDTFPELK', 'LTNAPGSFTK', 'CSNTSELK', 'EFVNPSLPR', 'EEK', 'EEK', 'LETVK', 'VSNNAEDPK', 'DLMLSGER', 'VLQTER', 'SVESSSISLVPGTDYGTQESISLLEVSTLGK', 'AK', 'TEPNK', 'CVSQCAAFENPK', 'GLIHGCSK', 'DNR', 'NDTEGFK', 'YPLGHEVNHSR', 'ETSIEMEESELDAQYLQNTFK', 'VSK', 'R', 'QSFAPFSNPGNAEEECATFSAHSGSLK', 'K', 'QSPK', 'VTFECEQK', 'EENQGK', 'NESNIKP', 'VQTVNITAGFPVVGQK', 'DKP', 'VDNAK', 'CSIK', 'GGSR', 'FCLSSQFR', 'GNETGLITPNK', 'HGLLQNPYR', 'IPPLFPIK', 'SFVK', 'TK', 'CK', 'K', 'NLLEENFEEHSMSPER', 'EMGNENIPSTVSTISR', 'NNIR', 'ENVFK', 'EASSSNINEVGSSTNEVGSSINEIGSSDENIQAELGR', 'NR', 'GPK', 'LNAMLR', 'LGVLQPEVYK', 'QSLPGSNCK', 'HPEIK', 'K', 'QEYEEVVQTVNTDFSPYLISDNLEQPMGSSHASQVCSETPDDLLDDGEIK', 'EDTSFAENDIK', 'ESSAVFSK', 'SVQK', 'GELSR', 'SPSPFTHTHLAQGYR', 'R', 'GAK', 'K', 'LESSEENLSSEDEELPCFQHLLFGK', 'VNNIPSQSTR', 'HSTVATECLSK', 'NTEENLLSLK', 'NSLNDCSNQVILAK', 'ASQEHHLSEETK', 'CSASLFSSQCSELEDLTANTNTQDPFLIGSSK', 'QMR', 'HQSESQGVGLSDK', 'ELVSDDEER', 'GTGLEENNQEEQSMDSNLGEAASGCESETSVSEDCSGLSSQSDILTTQQR', 'DTMQHNLIK', 'LQQEMAELEAVLEQHGSQPSNSYPSIISDSSALEDLR', 'NPEQSTSEK', 'AVLTSQK', 'SSEYPISQNPEGLSADK', 'FEVSADSSTSK', 'NK', 'EPGVER', 'SSPSK', 'CPSLDDR', 'WYMHSCSGSLQNR', 'NYPSQEELIK', 'VVDVEEQQLEESGPHDLTETSYLPR', 'QDLEGTPYLESGISLFSDDPESDPSEDR', 'APESAR', 'VGNIPSSTSALK', 'VPQLK', 'VAESAQSPAAAHTTDTAGYNAMEESVSR', 'EKP', 'ELTASTER', 'VNK', 'R', 'MSMVVSGLTPEEFMLVYK', 'FAR', 'K', 'HHITLTNLITEETTHVVMK', 'TDAEFVCER', 'TLK', 'YFLGIAGGK', 'WVVSYFWVTQSIK', 'ER', 'K', 'MLNEHDFEVR', 'GDVVNGR', 'NHQGPK', 'R', 'AR', 'ESQDR', 'K', 'IFR', 'GLEICCYGPFTNMPTDQLEWMVQLCGASVVK', 'ELSSFTLGTGVHPIVVVQPDAWTEDNGFHAIGQMCEAPVVTR', 'EWVLDSVALYQCQELDTYLIPQIPHSHY']\n"
     ]
    }
   ],
   "source": [
    "###YOUR CODE HERE###\n",
    "\n",
    "\n",
    "###ANSWER###\n",
    "def cleave(seq):\n",
    "    cut = False\n",
    "    peptide = ''\n",
    "    peptides = []\n",
    "    for aa in seq:\n",
    "        if cut and aa != 'P':\n",
    "            peptides.append(peptide)\n",
    "            peptide = aa\n",
    "            cut = False\n",
    "        else:\n",
    "            peptide += aa\n",
    "        if aa in 'RK':\n",
    "            cut = True\n",
    "    if peptide:\n",
    "        peptides.append(peptide)\n",
    "    return peptides\n",
    "\n",
    "peptides = cleave(seq)\n",
    "print(peptides)\n",
    "###END ANSWER###"
   ]
  },
  {
   "cell_type": "markdown",
   "metadata": {},
   "source": [
    "## Verify"
   ]
  },
  {
   "cell_type": "markdown",
   "metadata": {},
   "source": [
    "Veryfy your result at [this link](https://web.expasy.org/peptide_cutter/).  \n",
    "Select the checkbox: `only the following selection of enzymes and chemicals`  \n",
    "Set the protease to `Trypsin`.\n",
    "Do you get the same results?"
   ]
  },
  {
   "cell_type": "markdown",
   "metadata": {},
   "source": [
    "## Molecular Mass"
   ]
  },
  {
   "cell_type": "markdown",
   "metadata": {},
   "source": [
    "Now that we have a list with peptide sequences, it is time to calculate the mass of each peptide.  \n",
    "Write a function that calculates the mass of each peptide.  \n",
    "You can make use of the dictionaries below to calculate the mass of each peptide."
   ]
  },
  {
   "cell_type": "code",
   "execution_count": 7,
   "metadata": {},
   "outputs": [],
   "source": [
    "### Do not remove\n",
    "aa_weight = {'A': 89.09, 'C': 121.16, 'D': 133.1, 'E': 147.13, 'F': 165.19, 'G': 75.07, 'H': 155.16, 'I': 131.18, 'K': 146.19, 'L': 131.18, 'M': 149.21, 'N': 132.12, 'P': 115.13, 'Q': 146.15, 'R': 174.2, 'S': 105.09, 'T': 119.12, 'V': 117.15, 'W': 204.23, 'Y': 181.19}    "
   ]
  },
  {
   "cell_type": "code",
   "execution_count": 8,
   "metadata": {},
   "outputs": [
    {
     "name": "stdout",
     "output_type": "stream",
     "text": [
      "MDLSALR 804.9583\n",
      "VEEVQNVINAMQK 1501.7366\n",
      "ILECPICLELIK 1386.8119\n",
      "EPVSTK 659.7336\n",
      "CDHIFCK 865.0483\n",
      "FCMLK 640.8689\n",
      "LLNQK 614.7589\n",
      "K 146.19\n",
      "GPSQCPLCK 932.1378\n",
      "NDITK 589.6489\n",
      "R 174.2\n",
      "SLQESTR 819.8683\n",
      "FSQLVEELLK 1205.4325\n",
      "IICAFQLDTGLEYANSYNFAK 2381.6944\n",
      "K 146.19\n",
      "ENNSPEHLK 1067.1278\n",
      "DEVSIIQSMGYR 1397.5719\n",
      "NR 288.3047\n",
      "AK 217.2647\n",
      "R 174.2\n",
      "LLQSEPENPSLQETSLSVQLSNLGTVR 2940.2827\n",
      "TLR 388.4694\n",
      "TK 247.2947\n",
      "QR 302.3347\n",
      "IQPQK 612.7389\n",
      "TSVYIELGSDSSEDTVNK 1944.0302\n",
      "ATYCSVGDQELLQITPQGTR 2180.4397\n",
      "DEISLDSAK 977.0278\n",
      "K 146.19\n",
      "AACEFSETDVTNTEHHQPSNNDLNTTEK 3133.2174\n",
      "R 174.2\n",
      "AAER 445.4642\n",
      "HPEK 509.5642\n",
      "YQGSSVSNLHVEPCGTNTHASSLQHENSSLLLTK 3639.9858\n",
      "DR 289.2847\n",
      "MNVEK 619.7389\n",
      "AEFCNK 710.8036\n",
      "SK 233.2647\n",
      "QPGLAR 640.7436\n",
      "SQHNR 640.6589\n",
      "WAGSK 547.6089\n",
      "ETCNDR 736.7536\n",
      "R 174.2\n",
      "TPSTEK 661.7036\n",
      "K 146.19\n",
      "VDLNADPLCER 1244.3872\n",
      "K 146.19\n",
      "EWNK 575.6242\n",
      "QK 274.3247\n",
      "LPCSENPR 915.033\n",
      "DTEDVPWITLNSSIQK 1846.0308\n",
      "VNEWFSR 937.0183\n",
      "SDELLGSDDSHDGESESNAK 2092.0097\n",
      "VADVLDVLNEVDEYSGSSEK 2168.2897\n",
      "IDLLASDPHEALICK 1637.9261\n",
      "SER 390.3894\n",
      "VHSK 469.5442\n",
      "SVESNIEDK 1020.0578\n",
      "IFGK 463.5842\n",
      "TYR 438.4794\n",
      "K 146.19\n",
      "K 146.19\n",
      "ASLPNLSHVTENLIIGAFVTEPQIIQERP 3187.6722\n",
      "LTNK 474.5642\n",
      "LK 259.3547\n",
      "R 174.2\n",
      "K 146.19\n",
      "R 174.2\n",
      "RP 271.3147\n",
      "TSGLHPEDFIK 1243.3872\n",
      "K 146.19\n",
      "ADLAVQK 743.8583\n",
      "TPEMINQGTNQTEQNGQVMNITNSGHENK 3215.4722\n",
      "TK 247.2947\n",
      "GDSIQNEK 889.923\n",
      "NPNPIESLEK 1140.2625\n",
      "ESAFK 580.6289\n",
      "TK 247.2947\n",
      "AEPISSSISNMELELNIHNSK 2313.5744\n",
      "APK 314.3794\n",
      "K 146.19\n",
      "NR 288.3047\n",
      "LR 287.3647\n",
      "R 174.2\n",
      "K 146.19\n",
      "SSTR 449.4542\n",
      "HIHALELVVSR 1273.5172\n",
      "NLSPPNCTELQIDSCSSSEEIK 2394.6191\n",
      "K 146.19\n",
      "K 146.19\n",
      "K 146.19\n",
      "YNQMPVR 907.0583\n",
      "HSR 398.4194\n",
      "NLQLMEGK 932.123\n",
      "EPATGAK 672.7283\n",
      "K 146.19\n",
      "SNKP 444.4842\n",
      "NEQTSK 705.7236\n",
      "R 174.2\n",
      "HDSDTFPELK 1188.2525\n",
      "LTNAPGSFTK 1035.1625\n",
      "CSNTSELK 880.973\n",
      "EFVNPSLPR 1058.1978\n",
      "EEK 404.4194\n",
      "EEK 404.4194\n",
      "LETVK 588.7089\n",
      "VSNNAEDPK 972.9978\n",
      "DLMLSGER 920.053\n",
      "VLQTER 744.8536\n",
      "SVESSSISLVPGTDYGTQESISLLEVSTLGK 3184.5116\n",
      "AK 217.2647\n",
      "TEPNK 587.6289\n",
      "CVSQCAAFENPK 1296.4819\n",
      "GLIHGCSK 813.993\n",
      "DNR 403.3894\n",
      "NDTEGFK 809.8283\n",
      "YPLGHEVNHSR 1308.4272\n",
      "ETSIEMEESELDAQYLQNTFK 2505.6944\n",
      "VSK 332.3994\n",
      "R 174.2\n",
      "QSFAPFSNPGNAEEECATFSAHSGSLK 2813.9727\n",
      "K 146.19\n",
      "QSPK 458.5142\n",
      "VTFECEQK 983.113\n",
      "EENQGK 703.7136\n",
      "NESNIKP 800.8683\n",
      "VQTVNITAGFPVVGQK 1657.9508\n",
      "DKP 358.3894\n",
      "VDNAK 545.5889\n",
      "CSIK 449.5742\n",
      "GGSR 375.3842\n",
      "FCLSSQFR 987.143\n",
      "GNETGLITPNK 1143.2772\n",
      "HGLLQNPYR 1097.2578\n",
      "IPPLFPIK 924.203\n",
      "SFVK 479.5742\n",
      "TK 247.2947\n",
      "CK 249.3347\n",
      "K 146.19\n",
      "NLLEENFEEHSMSPER 1961.0908\n",
      "EMGNENIPSTVSTISR 1734.9008\n",
      "NNIR 515.5742\n",
      "ENVFK 635.7189\n",
      "EASSSNINEVGSSTNEVGSSINEIGSSDENIQAELGR 3781.8699\n",
      "NR 288.3047\n",
      "GPK 300.3594\n",
      "LNAMLR 716.9036\n",
      "LGVLQPEVYK 1145.3825\n",
      "QSLPGSNCK 933.0578\n",
      "HPEIK 622.7289\n",
      "K 146.19\n",
      "QEYEEVVQTVNTDFSPYLISDNLEQPMGSSHASQVCSETPDDLLDDGEIK 5574.9613\n",
      "EDTSFAENDIK 1268.2872\n",
      "ESSAVFSK 853.913\n",
      "SVQK 460.5342\n",
      "GELSR 560.6089\n",
      "SPSPFTHTHLAQGYR 1698.8561\n",
      "R 174.2\n",
      "GAK 274.3194\n",
      "K 146.19\n",
      "LESSEENLSSEDEELPCFQHLLFGK 2881.1333\n",
      "VNNIPSQSTR 1115.2125\n",
      "HSTVATECLSK 1175.3272\n",
      "NTEENLLSLK 1160.3025\n",
      "NSLNDCSNQVILAK 1518.7214\n",
      "ASQEHHLSEETK 1395.4519\n",
      "CSASLFSSQCSELEDLTANTNTQDPFLIGSSK 3394.6863\n",
      "QMR 433.5294\n",
      "HQSESQGVGLSDK 1371.4366\n",
      "ELVSDDEER 1091.0878\n",
      "GTGLEENNQEEQSMDSNLGEAASGCESETSVSEDCSGLSSQSDILTTQQR 5240.3913\n",
      "DTMQHNLIK 1099.2878\n",
      "LQQEMAELEAVLEQHGSQPSNSYPSIISDSSALEDLR 4073.4199\n",
      "NPEQSTSEK 1019.0278\n",
      "AVLTSQK 745.8783\n",
      "SSEYPISQNPEGLSADK 1821.9055\n",
      "FEVSADSSTSK 1157.1772\n",
      "NK 260.2947\n",
      "EPGVER 685.7336\n",
      "SSPSK 504.5289\n",
      "CPSLDDR 804.8683\n",
      "WYMHSCSGSLQNR 1568.7566\n",
      "NYPSQEELIK 1220.3525\n",
      "VVDVEEQQLEESGPHDLTETSYLPR 2871.0733\n",
      "QDLEGTPYLESGISLFSDDPESDPSEDR 3099.1574\n",
      "APESAR 629.6536\n",
      "VGNIPSSTSALK 1173.3319\n",
      "VPQLK 583.7389\n",
      "VAESAQSPAAAHTTDTAGYNAMEESVSR 2851.9574\n",
      "EKP 372.4194\n",
      "ELTASTER 905.953\n",
      "VNK 359.4294\n",
      "R 174.2\n",
      "MSMVVSGLTPEEFMLVYK 2061.5102\n",
      "FAR 392.4494\n",
      "K 146.19\n",
      "HHITLTNLITEETTHVVMK 2217.605\n",
      "TDAEFVCER 1069.1478\n",
      "TLK 360.4594\n",
      "YFLGIAGGK 925.1078\n",
      "WVVSYFWVTQSIK 1642.9266\n",
      "ER 303.3147\n",
      "K 146.19\n",
      "MLNEHDFEVR 1289.4325\n",
      "GDVVNGR 715.7683\n",
      "NHQGPK 679.7436\n",
      "R 174.2\n",
      "AR 245.2747\n",
      "ESQDR 633.6089\n",
      "K 146.19\n",
      "IFR 434.5394\n",
      "GLEICCYGPFTNMPTDQLEWMVQLCGASVVK 3434.0816\n",
      "ELSSFTLGTGVHPIVVVQPDAWTEDNGFHAIGQMCEAPVVTR 4510.1035\n",
      "EWVLDSVALYQCQELDTYLIPQIPHSHY 3361.8074\n"
     ]
    }
   ],
   "source": [
    "###YOUR CODE HERE###\n",
    "\n",
    "\n",
    "###ANSWER###\n",
    "def corr_pep_bond(seq, mass):\n",
    "    mol_weight_water = 18.01528\n",
    "    peptide_bonds = len(seq) - 1\n",
    "    corr_mass = mass - (peptide_bonds * mol_weight_water)\n",
    "    return corr_mass\n",
    "\n",
    "def calc_mass(seq):\n",
    "    total_mass = 0\n",
    "    for aa in seq:\n",
    "        mass_aa = aa_weight[aa]\n",
    "        total_mass += mass_aa\n",
    "    return total_mass\n",
    "\n",
    "for seq in peptides:\n",
    "    mass = calc_mass(seq)\n",
    "    mass_corr = corr_pep_bond(seq, mass)\n",
    "    print(seq, round(mass_corr, 4))\n",
    "###END ANSWER###"
   ]
  },
  {
   "cell_type": "markdown",
   "metadata": {},
   "source": [
    "## Write to file"
   ]
  },
  {
   "cell_type": "markdown",
   "metadata": {},
   "source": [
    "Extend your program with a function `write_data` that will write all the data to a file. The function should accept a file name as argument. Name the file `peptide_mass.txt`."
   ]
  },
  {
   "cell_type": "code",
   "execution_count": 12,
   "metadata": {},
   "outputs": [
    {
     "name": "stdout",
     "output_type": "stream",
     "text": [
      "Done\n"
     ]
    }
   ],
   "source": [
    "###YOUR CODE HERE###\n",
    "\n",
    "\n",
    "\n",
    "###ANSWER###\n",
    "def write_data(filename):\n",
    "    file_obj = open(filename, \"w\")\n",
    "    for seq in peptides:\n",
    "        mass = calc_mass(seq)\n",
    "        mass_corr = corr_pep_bond(seq, mass)\n",
    "        print(seq,round(mass_corr, 4), file=file_obj)\n",
    "    file_obj.close()\n",
    "\n",
    "filename = \"peptide_mass.txt\"\n",
    "write_data(filename)\n",
    "print(\"Done\")\n",
    "###END ANSWER###"
   ]
  },
  {
   "cell_type": "markdown",
   "metadata": {},
   "source": [
    "## Verify"
   ]
  },
  {
   "cell_type": "markdown",
   "metadata": {},
   "source": [
    "Verify if the mass profile is correct at [PeptideMass](https://web.expasy.org/peptide_mass/).  \n",
    "To do so, select the following on the website:  \n",
    "- Select \\[M\\]\n",
    "- Select monoisotopic.\n",
    "- Select an enzyme: Trypsin\n",
    "- Display the peptides with a mass bigger than 0 and smaller than unlimited Dalton\n",
    "- Chronological order in the protein."
   ]
  },
  {
   "cell_type": "markdown",
   "metadata": {},
   "source": [
    "The end\n",
    "\n",
    "---\n",
    "\n"
   ]
  }
 ],
 "metadata": {
  "kernelspec": {
   "display_name": "Python 3",
   "language": "python",
   "name": "python3"
  },
  "language_info": {
   "codemirror_mode": {
    "name": "ipython",
    "version": 3
   },
   "file_extension": ".py",
   "mimetype": "text/x-python",
   "name": "python",
   "nbconvert_exporter": "python",
   "pygments_lexer": "ipython3",
   "version": "3.8.8"
  }
 },
 "nbformat": 4,
 "nbformat_minor": 2
}
