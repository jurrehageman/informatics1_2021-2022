{
 "cells": [
  {
   "cell_type": "markdown",
   "metadata": {},
   "source": [
    "# Exercises lesson 8"
   ]
  },
  {
   "cell_type": "markdown",
   "metadata": {},
   "source": [
    "Author: Jurre Hageman"
   ]
  },
  {
   "cell_type": "markdown",
   "metadata": {},
   "source": [
    "For these exercises, variables are set underneath the `###DO NOT REMOVE###` tag.  \n",
    "So do not remove this code.  \n",
    "You should write your code underneath the `###YOUR CODE HERE###` tag.  \n",
    "Provide comments with a short explanantion where needed."
   ]
  },
  {
   "cell_type": "markdown",
   "metadata": {},
   "source": [
    "## Peptide mass fingerprinting"
   ]
  },
  {
   "cell_type": "markdown",
   "metadata": {},
   "source": [
    "To understand the topic of today, have a look at the short video below."
   ]
  },
  {
   "cell_type": "markdown",
   "metadata": {},
   "source": [
    "<a href=\"http://www.youtube.com/watch?feature=player_embedded&v=4xSUWK_ueWI\n",
    "\" target=\"_blank\"><img src=\"http://img.youtube.com/vi/4xSUWK_ueWI/0.jpg\" \n",
    "alt=\"Peptide fingerprinting\" width=\"240\" height=\"180\" border=\"10\" /></a>"
   ]
  },
  {
   "cell_type": "markdown",
   "metadata": {},
   "source": [
    "In this lesson, we will create a small script that can simulate peptide mass fingerprinting.  \n",
    "This technique can be used to identify proteins.\n",
    "The first step is protein digestion by trypsin.  \n",
    "Trypsin is a protease that is used to fragment polypeptide chains in small peptides.  \n",
    "The small peptides can subsequently analyzed using mass spectometry to measure the mass of each peptide.  \n",
    "This creates a peptide mass profile that makes it possible to identify proteins by searching the masses in the database.  "
   ]
  },
  {
   "cell_type": "markdown",
   "metadata": {},
   "source": [
    "## Trypsin digestion"
   ]
  },
  {
   "cell_type": "markdown",
   "metadata": {},
   "source": [
    "Trypsin cleaves peptides on the C-terminal side of lysine (K) and arginine (R) amino acid residues. If a proline (P) residue is on the carboxyl side of the cleavage site, the cleavage will not occur. \n",
    "\n",
    "Have a look at [this link](https://web.expasy.org/peptide_cutter/) to get an idea about a peptide cutter.\n",
    "\n",
    "We will generate a trypsin digestion simulation tool."
   ]
  },
  {
   "cell_type": "markdown",
   "metadata": {},
   "source": [
    "## Load sequence\n",
    "\n",
    "Before we will cut a sequence, we will load a sequence from file.  \n",
    "Open the fasta file that represents the unknown protein sequence `sequence.fasta`."
   ]
  },
  {
   "cell_type": "code",
   "execution_count": 6,
   "metadata": {
    "scrolled": true
   },
   "outputs": [
    {
     "name": "stdout",
     "output_type": "stream",
     "text": [
      "MDLSALRVEEVQNVINAMQKILECPICLELIKEPVSTKCDHIFCKFCMLKLLNQKKGPSQCPLCKNDITKRSLQESTRFSQLVEELLKIICAFQLDTGLEYANSYNFAKKENNSPEHLKDEVSIIQSMGYRNRAKRLLQSEPENPSLQETSLSVQLSNLGTVRTLRTKQRIQPQKTSVYIELGSDSSEDTVNKATYCSVGDQELLQITPQGTRDEISLDSAKKAACEFSETDVTNTEHHQPSNNDLNTTEKRAAERHPEKYQGSSVSNLHVEPCGTNTHASSLQHENSSLLLTKDRMNVEKAEFCNKSKQPGLARSQHNRWAGSKETCNDRRTPSTEKKVDLNADPLCERKEWNKQKLPCSENPRDTEDVPWITLNSSIQKVNEWFSRSDELLGSDDSHDGESESNAKVADVLDVLNEVDEYSGSSEKIDLLASDPHEALICKSERVHSKSVESNIEDKIFGKTYRKKASLPNLSHVTENLIIGAFVTEPQIIQERPLTNKLKRKRRPTSGLHPEDFIKKADLAVQKTPEMINQGTNQTEQNGQVMNITNSGHENKTKGDSIQNEKNPNPIESLEKESAFKTKAEPISSSISNMELELNIHNSKAPKKNRLRRKSSTRHIHALELVVSRNLSPPNCTELQIDSCSSSEEIKKKKYNQMPVRHSRNLQLMEGKEPATGAKKSNKPNEQTSKRHDSDTFPELKLTNAPGSFTKCSNTSELKEFVNPSLPREEKEEKLETVKVSNNAEDPKDLMLSGERVLQTERSVESSSISLVPGTDYGTQESISLLEVSTLGKAKTEPNKCVSQCAAFENPKGLIHGCSKDNRNDTEGFKYPLGHEVNHSRETSIEMEESELDAQYLQNTFKVSKRQSFAPFSNPGNAEEECATFSAHSGSLKKQSPKVTFECEQKEENQGKNESNIKPVQTVNITAGFPVVGQKDKPVDNAKCSIKGGSRFCLSSQFRGNETGLITPNKHGLLQNPYRIPPLFPIKSFVKTKCKKNLLEENFEEHSMSPEREMGNENIPSTVSTISRNNIRENVFKEASSSNINEVGSSTNEVGSSINEIGSSDENIQAELGRNRGPKLNAMLRLGVLQPEVYKQSLPGSNCKHPEIKKQEYEEVVQTVNTDFSPYLISDNLEQPMGSSHASQVCSETPDDLLDDGEIKEDTSFAENDIKESSAVFSKSVQKGELSRSPSPFTHTHLAQGYRRGAKKLESSEENLSSEDEELPCFQHLLFGKVNNIPSQSTRHSTVATECLSKNTEENLLSLKNSLNDCSNQVILAKASQEHHLSEETKCSASLFSSQCSELEDLTANTNTQDPFLIGSSKQMRHQSESQGVGLSDKELVSDDEERGTGLEENNQEEQSMDSNLGEAASGCESETSVSEDCSGLSSQSDILTTQQRDTMQHNLIKLQQEMAELEAVLEQHGSQPSNSYPSIISDSSALEDLRNPEQSTSEKAVLTSQKSSEYPISQNPEGLSADKFEVSADSSTSKNKEPGVERSSPSKCPSLDDRWYMHSCSGSLQNRNYPSQEELIKVVDVEEQQLEESGPHDLTETSYLPRQDLEGTPYLESGISLFSDDPESDPSEDRAPESARVGNIPSSTSALKVPQLKVAESAQSPAAAHTTDTAGYNAMEESVSREKPELTASTERVNKRMSMVVSGLTPEEFMLVYKFARKHHITLTNLITEETTHVVMKTDAEFVCERTLKYFLGIAGGKWVVSYFWVTQSIKERKMLNEHDFEVRGDVVNGRNHQGPKRARESQDRKIFRGLEICCYGPFTNMPTDQLEWMVQLCGASVVKELSSFTLGTGVHPIVVVQPDAWTEDNGFHAIGQMCEAPVVTREWVLDSVALYQCQELDTYLIPQIPHSHY\n"
     ]
    }
   ],
   "source": [
    "###YOUR CODE HERE###\n",
    "\n",
    "\n",
    "\n"
   ]
  },
  {
   "cell_type": "markdown",
   "metadata": {},
   "source": [
    "## Find cut sites\n",
    "Identify how many `K` and `R`are present.  \n",
    "Also check if some of the `K`'s and `R`'s are followed by a `P`."
   ]
  },
  {
   "cell_type": "code",
   "execution_count": 7,
   "metadata": {},
   "outputs": [
    {
     "name": "stdout",
     "output_type": "stream",
     "text": [
      "K: 137\n",
      "R: 76\n",
      "KP: 4\n",
      "RP: 2\n"
     ]
    }
   ],
   "source": [
    "###YOUR CODE HERE###\n",
    "\n",
    "\n",
    "\n"
   ]
  },
  {
   "cell_type": "markdown",
   "metadata": {},
   "source": [
    "Think of a strategy to simulate a trypsin digestion.\n",
    "Write it down in the cell below first."
   ]
  },
  {
   "cell_type": "markdown",
   "metadata": {},
   "source": [
    "Your strategy in pseudo code here"
   ]
  },
  {
   "cell_type": "markdown",
   "metadata": {},
   "source": [
    "## Code the trypsin cutter"
   ]
  },
  {
   "cell_type": "markdown",
   "metadata": {},
   "source": [
    "The trypsin cutter should receive the protein sequence and return a list of the peptide sequences.\n",
    "You can make use of multiple functions (as many as you like)."
   ]
  },
  {
   "cell_type": "code",
   "execution_count": 10,
   "metadata": {},
   "outputs": [
    {
     "name": "stdout",
     "output_type": "stream",
     "text": [
      "['MDLSALR', 'VEEVQNVINAMQK', 'ILECPICLELIK', 'EPVSTK', 'CDHIFCK', 'FCMLK', 'LLNQK', 'K', 'GPSQCPLCK', 'NDITK', 'R', 'SLQESTR', 'FSQLVEELLK', 'IICAFQLDTGLEYANSYNFAK', 'K', 'ENNSPEHLK', 'DEVSIIQSMGYR', 'NR', 'AK', 'R', 'LLQSEPENPSLQETSLSVQLSNLGTVR', 'TLR', 'TK', 'QR', 'IQPQK', 'TSVYIELGSDSSEDTVNK', 'ATYCSVGDQELLQITPQGTR', 'DEISLDSAK', 'K', 'AACEFSETDVTNTEHHQPSNNDLNTTEK', 'R', 'AAER', 'HPEK', 'YQGSSVSNLHVEPCGTNTHASSLQHENSSLLLTK', 'DR', 'MNVEK', 'AEFCNK', 'SK', 'QPGLAR', 'SQHNR', 'WAGSK', 'ETCNDR', 'R', 'TPSTEK', 'K', 'VDLNADPLCER', 'K', 'EWNK', 'QK', 'LPCSENPR', 'DTEDVPWITLNSSIQK', 'VNEWFSR', 'SDELLGSDDSHDGESESNAK', 'VADVLDVLNEVDEYSGSSEK', 'IDLLASDPHEALICK', 'SER', 'VHSK', 'SVESNIEDK', 'IFGK', 'TYR', 'K', 'K', 'ASLPNLSHVTENLIIGAFVTEPQIIQERPLTNK', 'LK', 'R', 'K', 'R', 'RPTSGLHPEDFIK', 'K', 'ADLAVQK', 'TPEMINQGTNQTEQNGQVMNITNSGHENK', 'TK', 'GDSIQNEK', 'NPNPIESLEK', 'ESAFK', 'TK', 'AEPISSSISNMELELNIHNSK', 'APK', 'K', 'NR', 'LR', 'R', 'K', 'SSTR', 'HIHALELVVSR', 'NLSPPNCTELQIDSCSSSEEIK', 'K', 'K', 'K', 'YNQMPVR', 'HSR', 'NLQLMEGK', 'EPATGAK', 'K', 'SNKPNEQTSK', 'R', 'HDSDTFPELK', 'LTNAPGSFTK', 'CSNTSELK', 'EFVNPSLPR', 'EEK', 'EEK', 'LETVK', 'VSNNAEDPK', 'DLMLSGER', 'VLQTER', 'SVESSSISLVPGTDYGTQESISLLEVSTLGK', 'AK', 'TEPNK', 'CVSQCAAFENPK', 'GLIHGCSK', 'DNR', 'NDTEGFK', 'YPLGHEVNHSR', 'ETSIEMEESELDAQYLQNTFK', 'VSK', 'R', 'QSFAPFSNPGNAEEECATFSAHSGSLK', 'K', 'QSPK', 'VTFECEQK', 'EENQGK', 'NESNIKPVQTVNITAGFPVVGQK', 'DKPVDNAK', 'CSIK', 'GGSR', 'FCLSSQFR', 'GNETGLITPNK', 'HGLLQNPYR', 'IPPLFPIK', 'SFVK', 'TK', 'CK', 'K', 'NLLEENFEEHSMSPER', 'EMGNENIPSTVSTISR', 'NNIR', 'ENVFK', 'EASSSNINEVGSSTNEVGSSINEIGSSDENIQAELGR', 'NR', 'GPK', 'LNAMLR', 'LGVLQPEVYK', 'QSLPGSNCK', 'HPEIK', 'K', 'QEYEEVVQTVNTDFSPYLISDNLEQPMGSSHASQVCSETPDDLLDDGEIK', 'EDTSFAENDIK', 'ESSAVFSK', 'SVQK', 'GELSR', 'SPSPFTHTHLAQGYR', 'R', 'GAK', 'K', 'LESSEENLSSEDEELPCFQHLLFGK', 'VNNIPSQSTR', 'HSTVATECLSK', 'NTEENLLSLK', 'NSLNDCSNQVILAK', 'ASQEHHLSEETK', 'CSASLFSSQCSELEDLTANTNTQDPFLIGSSK', 'QMR', 'HQSESQGVGLSDK', 'ELVSDDEER', 'GTGLEENNQEEQSMDSNLGEAASGCESETSVSEDCSGLSSQSDILTTQQR', 'DTMQHNLIK', 'LQQEMAELEAVLEQHGSQPSNSYPSIISDSSALEDLR', 'NPEQSTSEK', 'AVLTSQK', 'SSEYPISQNPEGLSADK', 'FEVSADSSTSK', 'NK', 'EPGVER', 'SSPSK', 'CPSLDDR', 'WYMHSCSGSLQNR', 'NYPSQEELIK', 'VVDVEEQQLEESGPHDLTETSYLPR', 'QDLEGTPYLESGISLFSDDPESDPSEDR', 'APESAR', 'VGNIPSSTSALK', 'VPQLK', 'VAESAQSPAAAHTTDTAGYNAMEESVSR', 'EKPELTASTER', 'VNK', 'R', 'MSMVVSGLTPEEFMLVYK', 'FAR', 'K', 'HHITLTNLITEETTHVVMK', 'TDAEFVCER', 'TLK', 'YFLGIAGGK', 'WVVSYFWVTQSIK', 'ER', 'K', 'MLNEHDFEVR', 'GDVVNGR', 'NHQGPK', 'R', 'AR', 'ESQDR', 'K', 'IFR', 'GLEICCYGPFTNMPTDQLEWMVQLCGASVVK', 'ELSSFTLGTGVHPIVVVQPDAWTEDNGFHAIGQMCEAPVVTR', 'EWVLDSVALYQCQELDTYLIPQIPHSHY']\n"
     ]
    }
   ],
   "source": [
    "###YOUR CODE HERE###\n",
    "\n",
    "\n",
    "\n"
   ]
  },
  {
   "cell_type": "markdown",
   "metadata": {},
   "source": [
    "## Verify"
   ]
  },
  {
   "cell_type": "markdown",
   "metadata": {},
   "source": [
    "Veryfy your result at [this link](https://web.expasy.org/peptide_cutter/).  \n",
    "Select the checkbox: `only the following selection of enzymes and chemicals`  \n",
    "Set the protease to `Trypsin`.\n",
    "Do you get the same results?"
   ]
  },
  {
   "cell_type": "markdown",
   "metadata": {},
   "source": [
    "## Molecular Mass"
   ]
  },
  {
   "cell_type": "markdown",
   "metadata": {},
   "source": [
    "Now that we have a list with peptide sequences, it is time to calculate the mass of each peptide.  \n",
    "Write a function that calculates the mass of each peptide.  \n",
    "You can make use of the dictionaries below to calculate the mass of each peptide."
   ]
  },
  {
   "cell_type": "code",
   "execution_count": 29,
   "metadata": {},
   "outputs": [],
   "source": [
    "### Do not remove\n",
    "aa_weight = {'A': 89.09, 'C': 121.16, 'D': 133.1, 'E': 147.13, 'F': 165.19, 'G': 75.07, 'H': 155.16, 'I': 131.18, 'K': 146.19, 'L': 131.18, 'M': 149.21, 'N': 132.12, 'P': 115.13, 'Q': 146.15, 'R': 174.2, 'S': 105.09, 'T': 119.12, 'V': 117.15, 'W': 204.23, 'Y': 181.19}    "
   ]
  },
  {
   "cell_type": "code",
   "execution_count": 33,
   "metadata": {},
   "outputs": [
    {
     "name": "stdout",
     "output_type": "stream",
     "text": [
      "MDLSALR 786.94\n",
      "VEEVQNVINAMQK 1483.689\n",
      "ILECPICLELIK 1368.747\n",
      "EPVSTK 641.714\n",
      "CDHIFCK 847.016\n",
      "FCMLK 622.843\n",
      "LLNQK 596.719\n",
      "K 128.172\n",
      "GPSQCPLCK 914.104\n",
      "NDITK 571.624\n",
      "R 156.186\n",
      "SLQESTR 801.845\n",
      "FSQLVEELLK 1187.385\n",
      "IICAFQLDTGLEYANSYNFAK 2363.642\n",
      "K 128.172\n",
      "ENNSPEHLK 1049.095\n",
      "DEVSIIQSMGYR 1379.538\n",
      "NR 270.288\n",
      "AK 199.25\n",
      "R 156.186\n",
      "LLQSEPENPSLQETSLSVQLSNLGTVR 2922.204\n",
      "TLR 370.447\n",
      "TK 229.276\n",
      "QR 284.315\n",
      "IQPQK 594.704\n",
      "TSVYIELGSDSSEDTVNK 1925.997\n",
      "ATYCSVGDQELLQITPQGTR 2162.38\n",
      "DEISLDSAK 959.009\n",
      "K 128.172\n",
      "AACEFSETDVTNTEHHQPSNNDLNTTEK 3115.172\n",
      "R 156.186\n",
      "AAER 427.456\n",
      "HPEK 491.541\n",
      "YQGSSVSNLHVEPCGTNTHASSLQHENSSLLLTK 3621.899\n",
      "DR 271.273\n",
      "MNVEK 601.716\n",
      "AEFCNK 692.784\n",
      "SK 215.25\n",
      "QPGLAR 622.717\n",
      "SQHNR 622.634\n",
      "WAGSK 529.589\n",
      "ETCNDR 718.736\n",
      "R 156.186\n",
      "TPSTEK 643.687\n",
      "K 128.172\n",
      "VDLNADPLCER 1226.359\n",
      "K 128.172\n",
      "EWNK 557.599\n",
      "QK 256.302\n",
      "LPCSENPR 897.01\n",
      "DTEDVPWITLNSSIQK 1827.984\n",
      "VNEWFSR 918.995\n",
      "SDELLGSDDSHDGESESNAK 2073.988\n",
      "VADVLDVLNEVDEYSGSSEK 2150.253\n",
      "IDLLASDPHEALICK 1619.88\n",
      "SER 372.377\n",
      "VHSK 451.52\n",
      "SVESNIEDK 1002.034\n",
      "IFGK 445.555\n",
      "TYR 420.463\n",
      "K 128.172\n",
      "K 128.172\n",
      "ASLPNLSHVTENLIIGAFVTEPQIIQERPLTNK 3626.121\n",
      "LK 241.33\n",
      "R 156.186\n",
      "K 128.172\n",
      "R 156.186\n",
      "RPTSGLHPEDFIK 1478.651\n",
      "K 128.172\n",
      "ADLAVQK 725.833\n",
      "TPEMINQGTNQTEQNGQVMNITNSGHENK 3197.387\n",
      "TK 229.276\n",
      "GDSIQNEK 871.892\n",
      "NPNPIESLEK 1122.228\n",
      "ESAFK 562.615\n",
      "TK 229.276\n",
      "AEPISSSISNMELELNIHNSK 2295.525\n",
      "APK 296.365\n",
      "K 128.172\n",
      "NR 270.288\n",
      "LR 269.343\n",
      "R 156.186\n",
      "K 128.172\n",
      "SSTR 431.444\n",
      "HIHALELVVSR 1255.468\n",
      "NLSPPNCTELQIDSCSSSEEIK 2376.573\n",
      "K 128.172\n",
      "K 128.172\n",
      "K 128.172\n",
      "YNQMPVR 889.033\n",
      "HSR 380.402\n",
      "NLQLMEGK 914.081\n",
      "EPATGAK 654.713\n",
      "K 128.172\n",
      "SNKPNEQTSK 1114.167\n",
      "R 156.186\n",
      "HDSDTFPELK 1170.228\n",
      "LTNAPGSFTK 1017.136\n",
      "CSNTSELK 862.948\n",
      "EFVNPSLPR 1040.173\n",
      "EEK 386.4\n",
      "EEK 386.4\n",
      "LETVK 570.679\n",
      "VSNNAEDPK 954.98\n",
      "DLMLSGER 902.027\n",
      "VLQTER 726.822\n",
      "SVESSSISLVPGTDYGTQESISLLEVSTLGK 3166.442\n",
      "AK 199.25\n",
      "TEPNK 569.608\n",
      "CVSQCAAFENPK 1278.457\n",
      "GLIHGCSK 795.95\n",
      "DNR 385.376\n",
      "NDTEGFK 791.805\n",
      "YPLGHEVNHSR 1290.387\n",
      "ETSIEMEESELDAQYLQNTFK 2487.647\n",
      "VSK 314.381\n",
      "R 156.186\n",
      "QSFAPFSNPGNAEEECATFSAHSGSLK 2795.945\n",
      "K 128.172\n",
      "QSPK 440.494\n",
      "VTFECEQK 965.081\n",
      "EENQGK 685.683\n",
      "NESNIKPVQTVNITAGFPVVGQK 2422.734\n",
      "DKPVDNAK 867.946\n",
      "CSIK 431.55\n",
      "GGSR 357.366\n",
      "FCLSSQFR 969.118\n",
      "GNETGLITPNK 1125.232\n",
      "HGLLQNPYR 1079.212\n",
      "IPPLFPIK 906.165\n",
      "SFVK 461.555\n",
      "TK 229.276\n",
      "CK 231.315\n",
      "K 128.172\n",
      "NLLEENFEEHSMSPER 1943.055\n",
      "EMGNENIPSTVSTISR 1716.867\n",
      "NNIR 497.548\n",
      "ENVFK 617.694\n",
      "EASSSNINEVGSSTNEVGSSINEIGSSDENIQAELGR 3763.81\n",
      "NR 270.288\n",
      "GPK 282.339\n",
      "LNAMLR 698.878\n",
      "LGVLQPEVYK 1127.333\n",
      "QSLPGSNCK 915.026\n",
      "HPEIK 604.698\n",
      "K 128.172\n",
      "QEYEEVVQTVNTDFSPYLISDNLEQPMGSSHASQVCSETPDDLLDDGEIK 5556.873\n",
      "EDTSFAENDIK 1250.268\n",
      "ESSAVFSK 835.901\n",
      "SVQK 442.51\n",
      "GELSR 542.586\n",
      "SPSPFTHTHLAQGYR 1680.82\n",
      "R 156.186\n",
      "GAK 256.302\n",
      "K 128.172\n",
      "LESSEENLSSEDEELPCFQHLLFGK 2863.069\n",
      "VNNIPSQSTR 1097.182\n",
      "HSTVATECLSK 1157.297\n",
      "NTEENLLSLK 1142.26\n",
      "NSLNDCSNQVILAK 1500.676\n",
      "ASQEHHLSEETK 1377.416\n",
      "CSASLFSSQCSELEDLTANTNTQDPFLIGSSK 3376.635\n",
      "QMR 415.511\n",
      "HQSESQGVGLSDK 1353.395\n",
      "ELVSDDEER 1073.068\n",
      "GTGLEENNQEEQSMDSNLGEAASGCESETSVSEDCSGLSSQSDILTTQQR 5222.316\n",
      "DTMQHNLIK 1081.246\n",
      "LQQEMAELEAVLEQHGSQPSNSYPSIISDSSALEDLR 4055.349\n",
      "NPEQSTSEK 1001.006\n",
      "AVLTSQK 727.849\n",
      "SSEYPISQNPEGLSADK 1803.877\n",
      "FEVSADSSTSK 1139.17\n",
      "NK 242.275\n",
      "EPGVER 667.711\n",
      "SSPSK 486.519\n",
      "CPSLDDR 786.854\n",
      "WYMHSCSGSLQNR 1550.72\n",
      "NYPSQEELIK 1202.313\n",
      "VVDVEEQQLEESGPHDLTETSYLPR 2853.012\n",
      "QDLEGTPYLESGISLFSDDPESDPSEDR 3081.124\n",
      "APESAR 611.648\n",
      "VGNIPSSTSALK 1155.301\n",
      "VPQLK 565.705\n",
      "VAESAQSPAAAHTTDTAGYNAMEESVSR 2833.95\n",
      "EKPELTASTER 1242.336\n",
      "VNK 341.406\n",
      "R 156.186\n",
      "MSMVVSGLTPEEFMLVYK 2043.469\n",
      "FAR 374.438\n",
      "K 128.172\n",
      "HHITLTNLITEETTHVVMK 2199.529\n",
      "TDAEFVCER 1051.131\n",
      "TLK 342.434\n",
      "YFLGIAGGK 907.066\n",
      "WVVSYFWVTQSIK 1624.878\n",
      "ER 285.3\n",
      "K 128.172\n",
      "MLNEHDFEVR 1271.402\n",
      "GDVVNGR 697.74\n",
      "NHQGPK 661.71\n",
      "R 156.186\n",
      "AR 227.264\n",
      "ESQDR 615.594\n",
      "K 128.172\n",
      "IFR 416.517\n",
      "GLEICCYGPFTNMPTDQLEWMVQLCGASVVK 3415.998\n",
      "ELSSFTLGTGVHPIVVVQPDAWTEDNGFHAIGQMCEAPVVTR 4492.01\n",
      "EWVLDSVALYQCQELDTYLIPQIPHSHY 3343.716\n"
     ]
    }
   ],
   "source": [
    "###YOUR CODE HERE###\n",
    "\n",
    "\n",
    "\n"
   ]
  },
  {
   "cell_type": "markdown",
   "metadata": {},
   "source": [
    "## Verify"
   ]
  },
  {
   "cell_type": "markdown",
   "metadata": {},
   "source": [
    "Verify if the mass profile is correct at [PeptideMass](https://web.expasy.org/peptide_mass/).  \n",
    "To do so, select the following on the website:  \n",
    "- Select \\[M\\]\n",
    "- Select monoisotopic.\n",
    "- Select an enzyme: Trypsin\n",
    "- Display the peptides with a mass bigger than 0 and smaller than unlimited Dalton\n",
    "- Chronological order in the protein."
   ]
  },
  {
   "cell_type": "markdown",
   "metadata": {},
   "source": [
    "The end\n",
    "\n",
    "---\n",
    "\n"
   ]
  }
 ],
 "metadata": {
  "kernelspec": {
   "display_name": "Python 3",
   "language": "python",
   "name": "python3"
  },
  "language_info": {
   "codemirror_mode": {
    "name": "ipython",
    "version": 3
   },
   "file_extension": ".py",
   "mimetype": "text/x-python",
   "name": "python",
   "nbconvert_exporter": "python",
   "pygments_lexer": "ipython3",
   "version": "3.7.4"
  }
 },
 "nbformat": 4,
 "nbformat_minor": 2
}
