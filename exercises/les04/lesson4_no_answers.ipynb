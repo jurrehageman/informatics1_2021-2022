{
 "cells": [
  {
   "cell_type": "markdown",
   "metadata": {},
   "source": [
    "# Exercises lesson 4"
   ]
  },
  {
   "cell_type": "markdown",
   "metadata": {},
   "source": [
    "Author: Jurre Hageman"
   ]
  },
  {
   "cell_type": "markdown",
   "metadata": {},
   "source": [
    "For these exercises, variables are set underneath the `###DO NOT REMOVE###` tag.  \n",
    "So do not remove this code.  \n",
    "You should write your code underneath the `###YOUR CODE HERE###` tag.  \n",
    "Provide comments with a short explanantion where needed."
   ]
  },
  {
   "cell_type": "markdown",
   "metadata": {},
   "source": [
    "## Exercise 1"
   ]
  },
  {
   "cell_type": "markdown",
   "metadata": {},
   "source": [
    "Find the largest number in my_nums. \n",
    "Do not use the `max` function. Don not use a `sort` function.  \n",
    "Verify your result using the `max` function.  "
   ]
  },
  {
   "cell_type": "code",
   "execution_count": null,
   "metadata": {},
   "outputs": [],
   "source": [
    "###DO NOT REMOVE###\n",
    "import random\n",
    "random.seed(123)\n",
    "\n",
    "my_nums = []\n",
    "for _ in range(1000): # The underscore (_) is sometimes used as 'variable' if its value is not important\n",
    "    my_nums.append(random.randint(1, 10000))"
   ]
  },
  {
   "cell_type": "code",
   "execution_count": null,
   "metadata": {},
   "outputs": [],
   "source": [
    "###YOUR CODE HERE###\n",
    "\n",
    "\n"
   ]
  },
  {
   "cell_type": "markdown",
   "metadata": {},
   "source": [
    "## Exercise 2"
   ]
  },
  {
   "cell_type": "markdown",
   "metadata": {},
   "source": [
    "Use flow control to count and report the number of even and odd numbers in `my_nums`.  \n",
    "Do not make use of built-in Python functions.\n",
    "\n",
    "Hint: even numbers can be divided by 2 without a remainder; you can test the remainder of the division to check if it's zero."
   ]
  },
  {
   "cell_type": "code",
   "execution_count": null,
   "metadata": {},
   "outputs": [],
   "source": [
    "###YOUR CODE HERE###\n",
    "\n",
    "\n"
   ]
  },
  {
   "cell_type": "markdown",
   "metadata": {},
   "source": [
    "## Exercise 3"
   ]
  },
  {
   "cell_type": "markdown",
   "metadata": {},
   "source": [
    "Project Euler has many challenging exersises.  \n",
    "This is the first problem (copied from the [website](\"https://projecteuler.net/\")):  \n",
    "If we list all the natural numbers below 10 that are multiples of 3 or 5, we get 3, 5, 6 and 9.  \n",
    "The sum of these multiples is 23.  \n",
    "Find the sum of all the multiples of 3 or 5 below 1000."
   ]
  },
  {
   "cell_type": "code",
   "execution_count": 2,
   "metadata": {},
   "outputs": [
    {
     "name": "stdout",
     "output_type": "stream",
     "text": [
      "233168\n"
     ]
    }
   ],
   "source": [
    "###YOUR CODE HERE###\n",
    "\n",
    "\n"
   ]
  },
  {
   "cell_type": "markdown",
   "metadata": {},
   "source": [
    "## Exercise 4"
   ]
  },
  {
   "cell_type": "markdown",
   "metadata": {},
   "source": [
    "Ask a user for it's age.  \n",
    "If the age of the user is equal or higher than 18, print `cheers`.  \n",
    "In other cases print that the user is too young for alcoholic beverages.  \n",
    "Note, you can make use of the `input` function but during writing and testing of your script, it is recommended that you store the age as string in the variable `age`.  \n",
    "The reason to store it as a string is that user input (e.g. from input function, as command line argument or from a web form) is always a string.   \n",
    "This way, developping and testing is much faster and saves you from entering the number each time you run the code.  \n",
    "In general, it is better not to use the `input` function at all! \n",
    "There are better ways to receive user information (command line arguments) that you will learn in informatics 2. (Games are an exception, see below)."
   ]
  },
  {
   "cell_type": "code",
   "execution_count": null,
   "metadata": {},
   "outputs": [],
   "source": [
    "###YOUR CODE HERE###\n",
    "\n",
    "\n"
   ]
  },
  {
   "cell_type": "markdown",
   "metadata": {},
   "source": [
    "## Exercise 5"
   ]
  },
  {
   "cell_type": "markdown",
   "metadata": {},
   "source": [
    "Extend your script from the previous exercise.  \n",
    "Check if the datatype can be converted to a integer.  \n",
    "If that is not possible, communicate to the user that only integers are allowed.  \n",
    "Hint: use `str.isnumeric()` for this.  \n",
    "If the input is a number, then verify the age as with the previous exercise."
   ]
  },
  {
   "cell_type": "code",
   "execution_count": 3,
   "metadata": {},
   "outputs": [
    {
     "name": "stdout",
     "output_type": "stream",
     "text": [
      "cheers!\n"
     ]
    }
   ],
   "source": [
    "###YOUR CODE HERE###\n",
    "\n",
    "\n"
   ]
  },
  {
   "cell_type": "markdown",
   "metadata": {},
   "source": [
    "## Exercise 6"
   ]
  },
  {
   "cell_type": "markdown",
   "metadata": {},
   "source": [
    "Assume we have a cell that contains `123243` copies of a certain mRNA.  \n",
    "Each hour, the number of this type of mRNA molecules decreases with 12.4%.  \n",
    "Print the number of mRNA copies after each hour for as long as the number of mRNA molecules is larger then `23000`.  \n",
    "Hint: this is best solved using a `while` loop."
   ]
  },
  {
   "cell_type": "code",
   "execution_count": null,
   "metadata": {},
   "outputs": [],
   "source": [
    "###YOUR CODE HERE###\n",
    "\n",
    "\n"
   ]
  },
  {
   "cell_type": "markdown",
   "metadata": {},
   "source": [
    "## Exercise 7"
   ]
  },
  {
   "cell_type": "markdown",
   "metadata": {},
   "source": [
    "Program a higher/lower game that will ask the user for a number. \n",
    "This time, use the `input` function to take guesses (a game, remember).\n",
    "The user will have `7` turns for guessing.  \n",
    "\n",
    "Hint: use a `while` loop to take care of the turns.\n",
    "\n",
    "- If the number is correct, congratulate the user with the win and notify the user how many turns were used.\n",
    "- If the number is too high, notify that the number is too high and notify the user how many turns are left.  \n",
    "- Otherwise, notify that the number is too low and notify the user how many turns are left.  \n",
    "- If no turns are left, notify the user that the computer has won.\n",
    "\n",
    "The next code block generates a random number between 1 and 100.   \n",
    "You do not need to understand it at this stage but you are recommended to study it.  \n",
    "Run the code block below.  \n",
    "It will create the variable `winning_number` with a (semi-random) integer from 1-10.  \n",
    "You can use this variable for your game.\n",
    "\n",
    "Optional: you can use an `else` clause after a while loop (computer wins) although for simplicity we do not use it in the answer model:  \n",
    "See [this link](\"https://www.w3schools.com/python/gloss_python_while_else.asp\"\n",
    "\n",
    "Can you also think of a winning strategy?"
   ]
  },
  {
   "cell_type": "code",
   "execution_count": 5,
   "metadata": {},
   "outputs": [],
   "source": [
    "###DO NOT REMOVE###\n",
    "import random\n",
    "winning_number = random.randint(1, 100)"
   ]
  },
  {
   "cell_type": "code",
   "execution_count": 6,
   "metadata": {},
   "outputs": [
    {
     "name": "stdout",
     "output_type": "stream",
     "text": [
      "Enter a number: 23\n",
      "the number is higher\n",
      "turns left: 6\n",
      "Enter a number: 50\n",
      "the number is lower\n",
      "turns left: 5\n",
      "Enter a number: 37\n",
      "the number is higher\n",
      "turns left: 4\n",
      "Enter a number: 42\n",
      "the number is higher\n",
      "turns left: 3\n",
      "Enter a number: 46\n",
      "congrats, you have guessed it\n",
      "turns used: 5\n"
     ]
    }
   ],
   "source": [
    "# YOUR CODE HERE###\n",
    "\n",
    "\n"
   ]
  },
  {
   "cell_type": "markdown",
   "metadata": {},
   "source": [
    "## Exercise 8"
   ]
  },
  {
   "cell_type": "markdown",
   "metadata": {},
   "source": [
    "Another problem copied from project Euler [website](\"https://projecteuler.net/\"):  \n",
    "\n",
    "Each new term in the Fibonacci sequence is generated by adding the previous two terms. By starting with 1 and 1, the first 11 terms will be:\n",
    "\n",
    "1, 1, 2, 3, 5, 8, 13, 21, 34, 55, 89, ...\n",
    "\n",
    "By considering the terms in the Fibonacci sequence whose values do not exceed four million, find the sum of the even-valued terms."
   ]
  },
  {
   "cell_type": "code",
   "execution_count": null,
   "metadata": {},
   "outputs": [],
   "source": [
    "###YOUR CODE HERE###\n",
    "\n",
    "\n"
   ]
  },
  {
   "cell_type": "markdown",
   "metadata": {},
   "source": [
    "## Exercise 9"
   ]
  },
  {
   "cell_type": "markdown",
   "metadata": {},
   "source": [
    "Write a a script that will use the quadratic equation (ABC formula) to solve an equation of the form:\n",
    "$ax^2 + bx + c = 0$  \n",
    "\n",
    "ABC formula:  \n",
    "\n",
    "$x = \\frac{-b \\pm \\sqrt(b^2 - 4ac)}{2a}$\n",
    "\n",
    "Use flow control to test the following:\n",
    "- First calculate the discriminant (you should know the equation from your math lessons)\n",
    "- Test if the discriminant is negative. If so, return a message that tells the user that the equation can not be solved (it has complex roots).\n",
    "- Then test if the discriminant is positive. If so, there are two solutions for the equation. Print the solution.\n",
    "- Then test if the discriminant is 0. If so, there is one solution for the equation. Print the solution.\n",
    "\n",
    "Test your function for the following quadratic models:  \n",
    "$1x^2 + 2x + 3$ (no solution)  \n",
    "$3x^2 + 7x + 4$ (two intersections)  \n",
    "$2x^2 + 4x + 2$ (1 intersection)  \n",
    "\n",
    "You can verify your answers at [this website](\"https://www.mathsisfun.com/quadratic-equation-solver.html\")"
   ]
  },
  {
   "cell_type": "code",
   "execution_count": 6,
   "metadata": {},
   "outputs": [
    {
     "name": "stdout",
     "output_type": "stream",
     "text": [
      "-1.0 -1.3333333333333333\n"
     ]
    }
   ],
   "source": [
    "###YOUR CODE HERE###\n",
    "\n",
    "\n"
   ]
  },
  {
   "cell_type": "markdown",
   "metadata": {},
   "source": [
    "## Extra spicy problem 1: calculating pi \n",
    "\n",
    "You probably know pi ($\\pi$) as the value relating the diameter of a circle to its circumference. You may also know that the sequence of numbers in pi never ends and that supercomputers are being used to calculate pi with ever greater precision. But how do you calculate pi on a computer? You can't really measure the circumference of a circle. You can calculate it, but you'll use pi for doing that. So how?\n",
    "\n",
    "Actually, there are several ways of calculating pi. We here use a straightforward (be it rather inaccurate) approach,\n",
    "the Monte Carlo Method.\n",
    "This approach is based on the relation between a square and its inscribed circle. For a square with sides $d$, the area is $d^2$. Its inscribed circle has area $\\frac{1}{4}\\pi d^2$. So the ratio between the two is $\\frac{\\pi}{4}$, which means that that part of the square is covered by circle. Now if you take a random point ($x$, $y$) in the square, you can easily check whether it's also in the circle. The number of points inside the circle, divided by the total number of points should be approximately equal the the ratio between the areas, so $\\frac{\\pi}{4}$. And with that, we can calculate $\\pi$ as 4 times the number of points in the sphere, divided by the total number of points.\n",
    "\n",
    "Use the above approach to approach pi.  \n",
    "Start with 1000 points. \n",
    "Increase that later to 100000 points."
   ]
  },
  {
   "cell_type": "code",
   "execution_count": 10,
   "metadata": {},
   "outputs": [],
   "source": [
    "###DO NOT REMOVE###\n",
    "# import loads functionality (modules) from the library\n",
    "# check help(random) after importing the module to see what it can do\n",
    "import random\n",
    "import math\n",
    "import matplotlib.pyplot as plt"
   ]
  },
  {
   "cell_type": "code",
   "execution_count": 20,
   "metadata": {},
   "outputs": [
    {
     "data": {
      "image/png": "[encoded data removed]",
      "text/plain": [
       "<Figure size 432x288 with 1 Axes>"
      ]
     },
     "metadata": {
      "needs_background": "light"
     },
     "output_type": "display_data"
    },
    {
     "name": "stdout",
     "output_type": "stream",
     "text": [
      "3.135111351113511\n"
     ]
    }
   ],
   "source": [
    "###YOUR CODE HERE###\n",
    "\n",
    "\n"
   ]
  },
  {
   "cell_type": "markdown",
   "metadata": {},
   "source": [
    "## Extra spicy problem 2: fractals\n",
    "\n",
    "A [fractal](\"https://en.wikipedia.org/wiki/Fractal\") is a self-similar figure, where the same pattern can be seen at different levels. A simple class of fractals are the Lindenmayer systems ([L-systems](\"https://en.wikipedia.org/wiki/L-system\")). These can be drawn by simple movement rules that are written as string (or list). These strings are evolved using a few simple replacement rules. An example is the Dragon curve. It starts with a sequence `FX` and has two replacement rules: in the string, each `X` is replaced by `X+YF+` and each `Y` is replaced by `-FX-Y`. So, after the first replacement cycle, the string will be `FX+YF+`, and after one cycle more it will be `FX+YF++-FX-YF+`. \n",
    "\n",
    "The string that results after a number of substitutions (say 10 or so) will be quite long. It can be used to draw according to the *movement* rules:\n",
    "\n",
    "- F: draw a line in the forward direction\n",
    "- +: rotate 90 degrees clockwise\n",
    "- -: rotate 90 degrees counter clockwise\n",
    "\n",
    "The drawing can be done using the Python library for making graphs. For that you need to convert the string into x, y coordinates, according to the movement rules. You start at $x = 0$ and $y = 0$ (although that doesn't actually matter). The direction at the start is given as $dx = 1$ and $dy = 0$. Collect the coordinates in two lists.\n",
    "\n",
    "A move forward (`F`) means that you add `dx` and `dy` to the last coordinates and store the results.\n",
    "\n",
    "A clockwise rotation means you set `dx` equal to `dy` and you set `dy` equal to `-dx` (simultaneously!).\n",
    "\n",
    "A counterclockwise rotation means you set `dx` equal to `-dy` and you set `dy` equal to `dx` (simultaneously!).\n",
    "\n",
    "After generating the coordinates, you can pass them to the plot function from the matplotlib module:\n",
    "\n",
    "`plt.plot(xlist, ylist)`"
   ]
  },
  {
   "cell_type": "code",
   "execution_count": 13,
   "metadata": {},
   "outputs": [
    {
     "data": {
      "image/png": "[encoded data removed]",
      "text/plain": [
       "<Figure size 432x288 with 1 Axes>"
      ]
     },
     "metadata": {
      "needs_background": "light"
     },
     "output_type": "display_data"
    }
   ],
   "source": [
    "###YOUR CODE HERE###\n",
    "\n",
    "\n"
   ]
  },
  {
   "cell_type": "markdown",
   "metadata": {},
   "source": [
    "The end\n",
    "\n",
    "---\n",
    "\n"
   ]
  }
 ],
 "metadata": {
  "kernelspec": {
   "display_name": "Python 3",
   "language": "python",
   "name": "python3"
  },
  "language_info": {
   "codemirror_mode": {
    "name": "ipython",
    "version": 3
   },
   "file_extension": ".py",
   "mimetype": "text/x-python",
   "name": "python",
   "nbconvert_exporter": "python",
   "pygments_lexer": "ipython3",
   "version": "3.7.4"
  }
 },
 "nbformat": 4,
 "nbformat_minor": 2
}
