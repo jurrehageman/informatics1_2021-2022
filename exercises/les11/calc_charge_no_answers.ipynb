{
 "cells": [
  {
   "cell_type": "markdown",
   "metadata": {},
   "source": [
    "# Calculate charge from a protein sequence\n",
    "Author: Jurre Hageman"
   ]
  },
  {
   "cell_type": "markdown",
   "metadata": {},
   "source": [
    "## The charge of proteins"
   ]
  },
  {
   "cell_type": "markdown",
   "metadata": {},
   "source": [
    "The charge of a protein is dependent on the pH. All proteins contain a N-terminus and a C-terminus that can be protonated or deprotonated, depending on the pH. In addition, some amino acids have side chains that can be protonated or deprotonated. As a result, the net charge of the protein will depend on the pH. The pKa of the N-terminal amino group is approximately 9.5. That means that below a pH of 9.5, the amino group will have a charge of +1 and above this pH, the amino group will have a charge of 0. The pKa of the C-terminal carboxyl group is approximately 2.3. That means that above a pH of 2.3, the carboxyl group will have a charge of -1 and below the pH of 2.3, the carboxyl group will have a charge of 0.\n",
    "\n",
    "As mentioned above, some side chains of amino acids can be protonated/deprotonated dependent on the pH. We call these side chains [ionizable](https://www.yumpu.com/en/document/read/10990979/ionizable-amino-acids-protonated-deprotonated-forms-).  \n",
    "They can be devided in two types. \n",
    "- Amino acids with side chains that can aquire a **negative charge**: Aspartic Acid (D), Glutamic Acid (E), Cysteine (C),  Tyrosine (Y). If the pH is **above** the pKa value of the side chain, the amino acid will have a -1 charge. Else the charge will be 0.\n",
    "- Amino acids with side chains that can aquire a **positive charge**: Lysine (K), Arginine(R), Histidine (H). If the pH is **below** the pKa value of the side chain, the amino acid will have a +1 charge. Else the charge will be 0.\n",
    "\n",
    "\n",
    "To summarize:\n",
    "- The amino terminus as well as K, R and H aquire a +1 charge at a pH below the pKa value. Else, the charge is 0.\n",
    "- The carboxyl terminus as well as D, E, C and Y aquire a -1 charge above the pKa value. Else, the charge is 0.\n",
    "\n",
    "The pKa values of the amino acids are:  \n",
    "\n",
    "Positives:\n",
    "- H: 6.0  \n",
    "- K: 10.5  \n",
    "- R: 12.5\n",
    "- Amino terminus: 9.5\n",
    "\n",
    "Negatives:\n",
    "- D: 3.9  \n",
    "- E: 4.1 \n",
    "- C: 8.4  \n",
    "- Y: 10.5  \n",
    "- Carboxyl terminus: 2.3\n",
    "\n",
    "Let's look at an example protein sequence and calculate the charge at pH 1, 7 and 14:\n",
    "\n",
    "Peptide sequence: `MHGC`\n",
    "\n",
    "At pH 1:  \n",
    "- M: 0\n",
    "- H: +1\n",
    "- G: 0\n",
    "- C: 0\n",
    "- amino terminus: +1\n",
    "- carboxyl terminus: 0  \n",
    "Thus the net charge is +2.\n",
    "\n",
    "At pH 7:\n",
    "- M: 0\n",
    "- H: 0\n",
    "- G: 0\n",
    "- C: 0\n",
    "- amino terminus: +1\n",
    "- carboxyl terminus: -1  \n",
    "Thus the net charge is 0.\n",
    "\n",
    "\n",
    "At pH 14:\n",
    "- M 0\n",
    "- H 0\n",
    "- G 0\n",
    "- C -1\n",
    "- amino terminus: 0\n",
    "- carboxyl terminus: -1  \n",
    "Thus the net charge is -2"
   ]
  },
  {
   "cell_type": "markdown",
   "metadata": {},
   "source": [
    "## Summary in a video"
   ]
  },
  {
   "cell_type": "markdown",
   "metadata": {},
   "source": [
    "You can find a short video about the subject [in this link](https://www.youtube.com/watch?v=Gkb4it5nOuc&feature=youtu.be)."
   ]
  },
  {
   "cell_type": "markdown",
   "metadata": {},
   "source": [
    "## The exercise\n",
    "\n",
    "Write a script that:\n",
    "- contains the function `read_pka` that reads the file `pka.txt`. Return a dictionary with amino acid linked to the pKA values.\n",
    "- contains the function `read_seq` that reads the file `sequence.fasta` and returns the sequence as a string.\n",
    "- contains the function `calc_charge` that calculates the charge of the protein based on a pH value.\n",
    "- all functions should be called from the `main` function.\n",
    "- test your script using the list of `ph_values = [1, 7, 14]`\n",
    "\n",
    "The outcome should be as follows:  \n",
    "charge at pH 1 is: 24  \n",
    "charge at pH 7 is: 0  \n",
    "charge at pH 14 is: -21  "
   ]
  },
  {
   "cell_type": "code",
   "execution_count": 1,
   "metadata": {},
   "outputs": [
    {
     "name": "stdout",
     "output_type": "stream",
     "text": [
      "charge at pH 1 is: 24\n",
      "charge at pH 7 is: 0\n",
      "charge at pH 14 is: -21\n"
     ]
    }
   ],
   "source": [
    "###YOUR CODE HERE###\n",
    "\n",
    "\n",
    "\n"
   ]
  },
  {
   "cell_type": "markdown",
   "metadata": {},
   "source": [
    "## Verify your result"
   ]
  },
  {
   "cell_type": "markdown",
   "metadata": {},
   "source": [
    "You can verify your result at [this web page](http://protcalc.sourceforge.net/cgi-bin/protcalc).\n",
    "Note that there might be small variations due to the use of different pKa-values."
   ]
  },
  {
   "cell_type": "markdown",
   "metadata": {},
   "source": [
    "The end..."
   ]
  }
 ],
 "metadata": {
  "kernelspec": {
   "display_name": "Python 3",
   "language": "python",
   "name": "python3"
  },
  "language_info": {
   "codemirror_mode": {
    "name": "ipython",
    "version": 3
   },
   "file_extension": ".py",
   "mimetype": "text/x-python",
   "name": "python",
   "nbconvert_exporter": "python",
   "pygments_lexer": "ipython3",
   "version": "3.7.4"
  }
 },
 "nbformat": 4,
 "nbformat_minor": 2
}
