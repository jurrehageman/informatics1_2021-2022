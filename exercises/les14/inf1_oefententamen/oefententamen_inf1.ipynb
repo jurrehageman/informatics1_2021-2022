{
 "cells": [
  {
   "cell_type": "markdown",
   "metadata": {},
   "source": [
    "# Hertentamen Informatica 1"
   ]
  },
  {
   "cell_type": "markdown",
   "metadata": {},
   "source": [
    "## Studiejaar: 2018-2019"
   ]
  },
  {
   "cell_type": "markdown",
   "metadata": {},
   "source": [
    "In alle gevallen wordt gevraagd om met Python functies en methoden de gegeven variabelen te veranderen. <br>\n",
    "Een voorbeeld: <br>\n",
    "Als gevraagd wordt om aan een lijst een extra item toe te voegen dan is het volgende **niet** toegestaan:"
   ]
  },
  {
   "cell_type": "code",
   "execution_count": 1,
   "metadata": {},
   "outputs": [],
   "source": [
    "my_list = ['Adenine']\n",
    "my_list = ['Adenine', 'Thymine']"
   ]
  },
  {
   "cell_type": "markdown",
   "metadata": {},
   "source": [
    "Het is de bedoeling dat je een lijst methode gebruikt of Python syntax gebruikt om de lijst aan te vullen:"
   ]
  },
  {
   "cell_type": "code",
   "execution_count": 3,
   "metadata": {},
   "outputs": [],
   "source": [
    "my_list = ['Adenine']\n",
    "my_list.append('Thymine') # Met een methode of ...\n",
    "my_list += ['Thymine'] # ... door middel van syntax "
   ]
  },
  {
   "cell_type": "markdown",
   "metadata": {},
   "source": [
    "## Vraag 1 [2p]"
   ]
  },
  {
   "cell_type": "markdown",
   "metadata": {},
   "source": [
    "Maak een variabele `voornaam` en een variabele `achternaam` aan. Geef deze variabelen de juiste waarden (je voornaam en achternaam).  \n",
    "Print je voornaam gevolgd door je achternaam door gebruik te maken van de variabelen met behulp van de print functie.  "
   ]
  },
  {
   "cell_type": "markdown",
   "metadata": {},
   "source": [
    "## Vraag 2"
   ]
  },
  {
   "cell_type": "markdown",
   "metadata": {},
   "source": [
    "### Vraag 2a [2p]"
   ]
  },
  {
   "cell_type": "markdown",
   "metadata": {},
   "source": [
    "Python heeft een built-in functie om hulp te krijgen.  \n",
    "Print met deze built-in functie hulp voor een lijst methode waarmee items in een lijst in omgekeerde volgorde gezet worden."
   ]
  },
  {
   "cell_type": "markdown",
   "metadata": {},
   "source": [
    "### Vraag 2b [2p]"
   ]
  },
  {
   "cell_type": "markdown",
   "metadata": {},
   "source": [
    "Python beschikt over een wiskunde module.  \n",
    "Gebruik deze module om de logaritme van `14348907` met grondtal (basis) `3` te berekenen en print het resultaat naar het scherm.\n",
    "<div style=\"page-break-after: always;\"></div>"
   ]
  },
  {
   "cell_type": "markdown",
   "metadata": {},
   "source": [
    "### Vraag 3"
   ]
  },
  {
   "cell_type": "markdown",
   "metadata": {},
   "source": [
    "Je hebt een dictionary met basen:"
   ]
  },
  {
   "cell_type": "code",
   "execution_count": 8,
   "metadata": {},
   "outputs": [],
   "source": [
    "dna_bases = {'A': 'Adenine', 'T': 'Thymine', 'U': 'Uracil', 'C': 'Cytosine'}"
   ]
  },
  {
   "cell_type": "markdown",
   "metadata": {},
   "source": [
    "### Vraag 3a [2p]"
   ]
  },
  {
   "cell_type": "markdown",
   "metadata": {},
   "source": [
    "Voeg de nucleobase `Guanine` (G) toe aan de dictionary met behulp van Python syntax of een dictionary methode.     \n",
    "Als je hier niet uitkomt gebruik je voor de volgende opdracht:"
   ]
  },
  {
   "cell_type": "code",
   "execution_count": 10,
   "metadata": {},
   "outputs": [],
   "source": [
    "dna_bases = {'A': 'Adenine', 'C': 'Cytosine', 'G': 'Guanine', 'T': 'Thymine', 'U': 'Uracil'}"
   ]
  },
  {
   "cell_type": "markdown",
   "metadata": {},
   "source": [
    "### Vraag 3b [2p]"
   ]
  },
  {
   "cell_type": "markdown",
   "metadata": {},
   "source": [
    "Verwijder nu het sleutel-waarde paar `'U': 'Uracil'`  \n",
    "Als je hier niet uitkomt gebruik je voor de volgende opdracht:"
   ]
  },
  {
   "cell_type": "code",
   "execution_count": 12,
   "metadata": {},
   "outputs": [],
   "source": [
    "dna_bases = {'A': 'Adenine', 'C': 'Cytosine', 'G':\n",
    "    'Guanine', 'T': 'Thymine'}"
   ]
  },
  {
   "cell_type": "markdown",
   "metadata": {},
   "source": [
    "### Vraag 3c [2p]"
   ]
  },
  {
   "cell_type": "markdown",
   "metadata": {},
   "source": [
    "Gebruik Python syntax om de waarde van sleutel `G` uit bovenstaande dictionary naar het scherm te printen."
   ]
  },
  {
   "cell_type": "markdown",
   "metadata": {},
   "source": [
    "### Vraag 3d [3p]"
   ]
  },
  {
   "cell_type": "markdown",
   "metadata": {},
   "source": [
    "Het nadeel van bovenstaande methode is dat het opvragen van een waarde met een niet bestaande sleutel een (key)error geeft.  \n",
    "Gebruik een dictionary methode om de waarde van `G` met een dictionary methode uit bovenstaande dictionary naar het scherm te printen.  \n",
    "Test daarbij of de sleutel `Q` geen foutmelding geeft.\n",
    "<div style=\"page-break-after: always;\"></div>"
   ]
  },
  {
   "cell_type": "markdown",
   "metadata": {},
   "source": [
    "### Vraag 3e [6p]"
   ]
  },
  {
   "cell_type": "markdown",
   "metadata": {},
   "source": [
    "Hieronder is een DNA molecuul als string gegeven:\n",
    "\n",
    "`dna = \"g a t c a a c c g g t t\"`\n",
    "\n",
    "Zet het DNA molecuul om in een string met hoofdletters zonder spaties er tussen.  \n",
    "koppel het aan de variabele `dna_up`.  \n",
    "Print vervolgens `dna_up` naar het scherm.  \n",
    "Hierbij is het de bedoeling dat je GEEN for loop gebruikt (en geen list comprehension).  \n",
    "Wel mag je de data omzetten naar andere data typen en gebruik maken van de data object methoden.\n"
   ]
  },
  {
   "cell_type": "markdown",
   "metadata": {},
   "source": [
    "## Vraag 4 [10p]"
   ]
  },
  {
   "cell_type": "markdown",
   "metadata": {},
   "source": [
    "Hieronder is de aminozuursequentie gegeven van het groen fluorescente eiwit:  "
   ]
  },
  {
   "cell_type": "code",
   "execution_count": 19,
   "metadata": {},
   "outputs": [],
   "source": [
    "gfp = \"\"\"MSRVSKGEELFTGVVPILVELDGDVNGHKFSVSGEGEGDATYGKLTLKFICTTGKLPVPWPTLVTTLTYG\n",
    "VQCFSRYPDHMKQHDFFKSAMPEGYVQERTIFFKDDGNYKTRAEVKFEGDTLVNRIELKGIDFKEDGNIL\n",
    "GHKLEYNYNSHNVYIMADKQKNGIKVNFKIRHNIEDGSVQLADHYQQNTPIGDGPVLLPDNHYLSTQSAL\n",
    "SKDPNEKRDHMVLLEFVTAAGITLGMDELYK\"\"\""
   ]
  },
  {
   "cell_type": "markdown",
   "metadata": {},
   "source": [
    "Alle aminozuren zijn hieronder gegeven:  "
   ]
  },
  {
   "cell_type": "code",
   "execution_count": 16,
   "metadata": {},
   "outputs": [],
   "source": [
    "aa = 'ACDEFGHIKLMNPQRSTVWY'"
   ]
  },
  {
   "cell_type": "markdown",
   "metadata": {},
   "source": [
    "Genereer een histogram voor het voorkomen van elk van de aminozuren.  \n",
    "Doe dit op een efficiente manier.  \n",
    "Gebruik asterisks (\\*) voor het weergeven van het aantal aminozuren.  \n",
    "Bijvoorbeeld: De `A` komt 8 maal voor en hiervoor print je dus 8 maal de asterisk.  \n",
    "Zie hieronder voorbeeld output:  "
   ]
  },
  {
   "cell_type": "markdown",
   "metadata": {},
   "source": [
    "A \\*\\*\\*\\*\\*\\*\\*\\*  \n",
    "C \\*\\*  \n",
    "D \\*\\*\\*\\*\\*\\*\\*\\*\\*\\*\\*\\*\\*\\*\\*\\*\\*\\*  \n",
    "E \\*\\*\\*\\*\\*\\*\\*\\*\\*\\*\\*\\*\\*\\*\\*\\*  \n",
    "etc...\n",
    "<div style=\"page-break-after: always;\"></div>"
   ]
  },
  {
   "cell_type": "markdown",
   "metadata": {},
   "source": [
    "## Vraag 5 [15p]"
   ]
  },
  {
   "cell_type": "markdown",
   "metadata": {},
   "source": [
    "mRNA wordt steeds aangemaakt en afgebroken. De aanmaak is constant, maar de afbraak betreft een percentage van de hoeveelheid die er is. Meestal is er een balans tussen aanmaak en afbraak en is er sprake van een evenwicht. Als de aanmaak en afbraaksnelheid bekend zijn, kun je berekenen hoe dat evenwicht bereikt wordt, door middel van de volgende formule:\n",
    "```\n",
    "mRNA += aanmaak – mRNA * afbraak  \n",
    "```\n",
    "Gebruik 0.2 voor de aanmaak en 0.1 voor de afbraak, begin met mRNA = 0 fmol/liter.  \n",
    "\n",
    "Schrijf python code die:  \n",
    "- de hoeveelheid mRNA berekent totdat de verandering (aanmaak – mRNA * afbraak) kleiner is dan 0.00001 \n",
    "- op elke stap de hoeveelheid mRNA print\n",
    "- de hoeveelheid mRNA print die in evenwicht aanwezig is (in fmol/liter)"
   ]
  },
  {
   "cell_type": "markdown",
   "metadata": {},
   "source": [
    "## Vraag 6 [15p]"
   ]
  },
  {
   "cell_type": "markdown",
   "metadata": {},
   "source": [
    "Schrijf een script dat twee bestanden met secundaire structuur inleest: \n",
    "- ubiquitine.dss  \n",
    "- villin.dss\n",
    "\n",
    "De secundaire structuur is gegeven als H (helix), S (sheet) en L (loop).  \n",
    "Voor elke aminozuurpositie in de file is aangegeven of het aminozuur behoort tot H, S of L.\n",
    "\n",
    "Schrijf een functie die \n",
    "  1. een bestand leest\n",
    "  2. het aantal letters (aminozuren) print \n",
    "  3. de percentages H, S en L teruggeeft.  \n",
    "\n",
    "Gebruik de functie voor beide bestanden.  \n",
    "Print welk bestand het hoogste percentage H heeft.  \n",
    "Print welk bestand het hoogste percentage S heeft.  \n",
    "\n",
    "Indien het je niet lukt het bestand te openen dan kun je de volgende data gebruiken:"
   ]
  },
  {
   "cell_type": "code",
   "execution_count": null,
   "metadata": {},
   "outputs": [],
   "source": [
    "ubiquitine = \"SSSSSSSSLLSSSSSSLLLLHHHHHHHHHHHHHHHLLLLSSSSSHHHSSSSSS\" \n",
    "villin = \"SSSHHHHHLLLSSSHHHHHHLLHHHHHHHHHHLLLL\""
   ]
  },
  {
   "cell_type": "markdown",
   "metadata": {},
   "source": [
    "EINDE"
   ]
  }
 ],
 "metadata": {
  "kernelspec": {
   "display_name": "Python 3",
   "language": "python",
   "name": "python3"
  },
  "language_info": {
   "codemirror_mode": {
    "name": "ipython",
    "version": 3
   },
   "file_extension": ".py",
   "mimetype": "text/x-python",
   "name": "python",
   "nbconvert_exporter": "python",
   "pygments_lexer": "ipython3",
   "version": "3.6.4"
  }
 },
 "nbformat": 4,
 "nbformat_minor": 2
}