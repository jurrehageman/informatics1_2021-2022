{
 "cells": [
  {
   "cell_type": "markdown",
   "metadata": {},
   "source": [
    "# Exercises lesson 3"
   ]
  },
  {
   "cell_type": "markdown",
   "metadata": {},
   "source": [
    "Author: Jurre Hageman"
   ]
  },
  {
   "cell_type": "markdown",
   "metadata": {},
   "source": [
    "For these exercises, variables are set underneath the `###DO NOT REMOVE###` tag.  \n",
    "So do not remove this code.  \n",
    "You should write your code underneath the `###YOUR CODE HERE###` tag.  \n",
    "Provide comments with a short explanantion where needed."
   ]
  },
  {
   "cell_type": "markdown",
   "metadata": {},
   "source": [
    "## Exercise 1"
   ]
  },
  {
   "cell_type": "markdown",
   "metadata": {},
   "source": [
    "In the file `amino_acids.txt` are all the amino acids as full name, 3-letter abbreviation and 1-letter abbreviation.  \n",
    "Read the data from file and print it's content.  \n",
    "Do not print the header (Amino acid    Three letter code...)."
   ]
  },
  {
   "cell_type": "code",
   "execution_count": 1,
   "metadata": {},
   "outputs": [
    {
     "name": "stdout",
     "output_type": "stream",
     "text": [
      "alanine,ala,A\n",
      "arginine,arg,R\n",
      "asparagine,asn,N\n",
      "aspartic acid,asp,D\n",
      "cysteine,cys,C\n",
      "glutamic acid,glu,E\n",
      "glutamine,gln,Q\n",
      "glycine,gly,G\n",
      "histidine,his,H\n",
      "isoleucine,ile,I\n",
      "leucine,leu,L\n",
      "lysine,lys,K\n",
      "methionine,met,M\n",
      "phenylalanine,phe,F\n",
      "proline,pro,P\n",
      "serine,ser,S\n",
      "threonine,thr,T\n",
      "tryptophan,trp,W\n",
      "tyrosine,tyr,Y\n",
      "valine,val,V\n"
     ]
    }
   ],
   "source": [
    "###YOUR CODE HERE###\n",
    "\n",
    "###ANSWER###\n",
    "file_name = \"amino_acids.txt\"\n",
    "open_file = open(file_name)\n",
    "for line in open_file:\n",
    "    line = line.strip()\n",
    "    if not line.startswith(\"Amino acid\"):\n",
    "        print(line)\n",
    "open_file.close()\n",
    "###END ANSWER###"
   ]
  },
  {
   "cell_type": "markdown",
   "metadata": {},
   "source": [
    "## Exercise 2"
   ]
  },
  {
   "cell_type": "markdown",
   "metadata": {},
   "source": [
    "Extend your script from the previous exercise.  \n",
    "Store each line in a list with the following structure: `[full name, 3-letter, 1-letter]`  \n",
    "Print your list to screen.  \n",
    "Note: repeating code is never a good idea.  \n",
    "We do extend a script from a previous cell for educational purposes."
   ]
  },
  {
   "cell_type": "code",
   "execution_count": 2,
   "metadata": {},
   "outputs": [
    {
     "name": "stdout",
     "output_type": "stream",
     "text": [
      "['alanine', 'ala', 'A']\n",
      "['arginine', 'arg', 'R']\n",
      "['asparagine', 'asn', 'N']\n",
      "['aspartic acid', 'asp', 'D']\n",
      "['cysteine', 'cys', 'C']\n",
      "['glutamic acid', 'glu', 'E']\n",
      "['glutamine', 'gln', 'Q']\n",
      "['glycine', 'gly', 'G']\n",
      "['histidine', 'his', 'H']\n",
      "['isoleucine', 'ile', 'I']\n",
      "['leucine', 'leu', 'L']\n",
      "['lysine', 'lys', 'K']\n",
      "['methionine', 'met', 'M']\n",
      "['phenylalanine', 'phe', 'F']\n",
      "['proline', 'pro', 'P']\n",
      "['serine', 'ser', 'S']\n",
      "['threonine', 'thr', 'T']\n",
      "['tryptophan', 'trp', 'W']\n",
      "['tyrosine', 'tyr', 'Y']\n",
      "['valine', 'val', 'V']\n"
     ]
    }
   ],
   "source": [
    "###YOUR CODE HERE###\n",
    "\n",
    "###ANSWER###\n",
    "file_name = \"amino_acids.txt\"\n",
    "open_file = open(file_name)\n",
    "for line in open_file:\n",
    "    line = line.strip()\n",
    "    if not line.startswith(\"Amino acid\"):\n",
    "        amino_acid_list = line.split(\",\")\n",
    "        print(amino_acid_list)\n",
    "open_file.close()\n",
    "###END ANSWER###"
   ]
  },
  {
   "cell_type": "markdown",
   "metadata": {},
   "source": [
    "## Exercise 3"
   ]
  },
  {
   "cell_type": "markdown",
   "metadata": {},
   "source": [
    "Extend your script to store your information in two dictionaries:\n",
    "- full_2_3letter: key = full_name, value = 3-letter code\n",
    "- full_2_1letter: key = full_name, value = 1-letter code\n",
    "\n",
    "Print the two dictionaries"
   ]
  },
  {
   "cell_type": "code",
   "execution_count": 3,
   "metadata": {},
   "outputs": [
    {
     "name": "stdout",
     "output_type": "stream",
     "text": [
      "{'alanine': 'ala', 'arginine': 'arg', 'asparagine': 'asn', 'aspartic acid': 'asp', 'cysteine': 'cys', 'glutamic acid': 'glu', 'glutamine': 'gln', 'glycine': 'gly', 'histidine': 'his', 'isoleucine': 'ile', 'leucine': 'leu', 'lysine': 'lys', 'methionine': 'met', 'phenylalanine': 'phe', 'proline': 'pro', 'serine': 'ser', 'threonine': 'thr', 'tryptophan': 'trp', 'tyrosine': 'tyr', 'valine': 'val'}\n",
      "\n",
      "{'alanine': 'A', 'arginine': 'R', 'asparagine': 'N', 'aspartic acid': 'D', 'cysteine': 'C', 'glutamic acid': 'E', 'glutamine': 'Q', 'glycine': 'G', 'histidine': 'H', 'isoleucine': 'I', 'leucine': 'L', 'lysine': 'K', 'methionine': 'M', 'phenylalanine': 'F', 'proline': 'P', 'serine': 'S', 'threonine': 'T', 'tryptophan': 'W', 'tyrosine': 'Y', 'valine': 'V'}\n"
     ]
    }
   ],
   "source": [
    "###YOUR CODE HERE###\n",
    "\n",
    "###ANSWER###\n",
    "full_2_3letter = {}\n",
    "full_2_1letter = {}\n",
    "\n",
    "file_name = \"amino_acids.txt\"\n",
    "open_file = open(file_name)\n",
    "for line in open_file:\n",
    "    line = line.strip()\n",
    "    if not line.startswith(\"Amino acid\"):\n",
    "        amino_acid_list = line.split(\",\")\n",
    "        full_2_3letter[amino_acid_list[0]] = amino_acid_list[1]\n",
    "        full_2_1letter[amino_acid_list[0]] = amino_acid_list[2]\n",
    "open_file.close()\n",
    "print(full_2_3letter)\n",
    "print()\n",
    "print(full_2_1letter)\n",
    "###END ANSWER###"
   ]
  },
  {
   "cell_type": "markdown",
   "metadata": {},
   "source": [
    "## Exercise 4"
   ]
  },
  {
   "cell_type": "markdown",
   "metadata": {},
   "source": [
    "The following code block of code generates a sequence of amino acids. \n",
    "The result will be stored in the variable `seq`.  \n",
    "Run the following code block.  \n",
    "Encode the sequence of `seq` in 3-letter and 1-letter sequences.  \n",
    "Remember that you still have your dictionaries in memory!  \n",
    "Print your result as strings with a dash between the amino-acids.\n",
    "Your answers should be:\n",
    "- arg-his-asn-phe-his-asp-arg-met-trp-trp\n",
    "- R-H-N-F-H-D-R-M-W-W"
   ]
  },
  {
   "cell_type": "code",
   "execution_count": 4,
   "metadata": {},
   "outputs": [
    {
     "name": "stdout",
     "output_type": "stream",
     "text": [
      "['arginine', 'histidine', 'asparagine', 'phenylalanine', 'histidine', 'aspartic acid', 'arginine', 'methionine', 'tryptophan', 'tryptophan']\n"
     ]
    }
   ],
   "source": [
    "###DO NOT REMOVE###\n",
    "# You do not need to understand this at this stage!\n",
    "import random\n",
    "random.seed(123)\n",
    "seq = []\n",
    "names = list(full_2_3letter.keys())\n",
    "for i in range(10):\n",
    "    seq.append(random.choice(names))\n",
    "print(seq)"
   ]
  },
  {
   "cell_type": "code",
   "execution_count": 5,
   "metadata": {},
   "outputs": [
    {
     "name": "stdout",
     "output_type": "stream",
     "text": [
      "arg-his-asn-phe-his-asp-arg-met-trp-trp\n",
      "R-H-N-F-H-D-R-M-W-W\n"
     ]
    }
   ],
   "source": [
    "###YOUR CODE HERE###\n",
    "\n",
    "###ANSWER###\n",
    "three_letter_code = []\n",
    "one_letter_code = []\n",
    "for aa in seq:\n",
    "    three_letter_code.append(full_2_3letter[aa])\n",
    "    one_letter_code.append(full_2_1letter[aa])\n",
    "print(\"-\".join(three_letter_code))\n",
    "print(\"-\".join(one_letter_code))\n",
    "###END ANSWER###"
   ]
  },
  {
   "cell_type": "markdown",
   "metadata": {},
   "source": [
    "## Exercise 5"
   ]
  },
  {
   "cell_type": "markdown",
   "metadata": {},
   "source": [
    "The molecular weight of the sequences of amino acids is given below:  \n",
    "They are listed on alphabetic order of the 3-letter code of amino acids.  \n",
    "Thus:  \n",
    "`'Ala': 71.0779,\n",
    "'Arg': 156.1857,\n",
    "'Asn': 114.1026`   \n",
    "etc.\n",
    "However, they are stored in a list!  \n",
    "This is not the best data structure to work with.  \n",
    "Store the weights in a proper data structure and calculate the molecular mass of the peptide `seq`."
   ]
  },
  {
   "cell_type": "code",
   "execution_count": 9,
   "metadata": {},
   "outputs": [
    {
     "name": "stdout",
     "output_type": "stream",
     "text": [
      "[71.0779, 156.1857, 114.1026, 115.0874, 103.1429, 128.1292, 129.114, 57.0513, 137.1393, 113.1576, 113.1576, 128.1723, 131.1961, 147.1739, 97.1152, 87.0773, 101.1039, 186.2099, 163.1733, 99.1311]\n",
      "\n",
      "['alanine', 'arginine', 'asparagine', 'aspartic acid', 'cysteine', 'glutamic acid', 'glutamine', 'glycine', 'histidine', 'isoleucine', 'leucine', 'lysine', 'methionine', 'phenylalanine', 'proline', 'serine', 'threonine', 'tryptophan', 'tyrosine', 'valine']\n",
      "\n",
      "['arginine', 'histidine', 'asparagine', 'phenylalanine', 'histidine', 'aspartic acid', 'arginine', 'methionine', 'tryptophan', 'tryptophan']\n"
     ]
    }
   ],
   "source": [
    "###DO NOT REMOVE###\n",
    "aa_weight = [71.0779, 156.1857, 114.1026, 115.0874, 103.1429, 128.1292, 129.114, 57.0513, 137.1393, 113.1576, 113.1576, 128.1723, 131.1961, 147.1739, 97.1152, 87.0773, 101.1039, 186.2099, 163.1733, 99.1311]\n",
    "aa_names = list(full_2_3letter.keys())\n",
    "\n",
    "print(aa_weight)\n",
    "print()\n",
    "print(aa_names)\n",
    "print()\n",
    "print(seq)"
   ]
  },
  {
   "cell_type": "code",
   "execution_count": 14,
   "metadata": {},
   "outputs": [
    {
     "name": "stdout",
     "output_type": "stream",
     "text": [
      "Mol weight of seq: 1467 Da\n"
     ]
    }
   ],
   "source": [
    "###YOUR CODE HERE###\n",
    "\n",
    "###ANSWER###\n",
    "aa_weight_dict = {}\n",
    "index = 0\n",
    "for name in aa_names:\n",
    "    weight = aa_weight[index]\n",
    "    index = index + 1\n",
    "    aa_weight_dict[name] = weight\n",
    "\n",
    "mol_weight = 0\n",
    "for aa in seq:\n",
    "    mol_weight = mol_weight + aa_weight_dict[aa]\n",
    "print(\"Mol weight of seq:\", round(mol_weight), \"Da\")\n",
    "    \n",
    "###END ANSWER###"
   ]
  },
  {
   "cell_type": "markdown",
   "metadata": {},
   "source": [
    "## Exercise 6"
   ]
  },
  {
   "cell_type": "markdown",
   "metadata": {},
   "source": [
    "The sequence of a single strand of DNA is:  \n",
    "\"5'-GATGCCAGGACCGTTCCAGGATGGGGATTTATTAGGACCAGGG-3'\"  \n",
    "Of course, DNA is a double helix.  \n",
    "Provide the double strand sequence:  \n",
    "5'-GATG...3'  \n",
    "3'-CTAC...5'  "
   ]
  },
  {
   "cell_type": "code",
   "execution_count": 15,
   "metadata": {},
   "outputs": [
    {
     "name": "stdout",
     "output_type": "stream",
     "text": [
      "5'- GATGCCAGGACCGTTCCAGGATGGGGATTTATTAGGACCAGGG -3'\n",
      "3'- CTACGGTCCTGGCAAGGTCCTACCCCTAAATAATCCTGGTCCC -5'\n"
     ]
    }
   ],
   "source": [
    "###YOUR CODE HERE###\n",
    "\n",
    "###ANSWER###\n",
    "strand_plus = \"GATGCCAGGACCGTTCCAGGATGGGGATTTATTAGGACCAGGG\"\n",
    "comp_bases = {\"G\":\"C\", \"C\":\"G\", \"T\":\"A\", \"A\":\"T\"}\n",
    "strand_minus = []\n",
    "for base in strand_plus:\n",
    "    strand_minus.append(comp_bases[base])\n",
    "strand_minus = \"\".join(strand_minus)\n",
    "print(\"5'-\", strand_plus, \"-3'\")\n",
    "print(\"3'-\", strand_minus, \"-5'\")\n",
    "###END ANSWER###"
   ]
  },
  {
   "cell_type": "markdown",
   "metadata": {},
   "source": [
    "## Exercise 7"
   ]
  },
  {
   "cell_type": "markdown",
   "metadata": {},
   "source": [
    "Calculate the % of GC in the DNA molecule above.  "
   ]
  },
  {
   "cell_type": "code",
   "execution_count": 19,
   "metadata": {},
   "outputs": [
    {
     "name": "stdout",
     "output_type": "stream",
     "text": [
      "GC% = 56%\n"
     ]
    }
   ],
   "source": [
    "###YOUR CODE HERE###\n",
    "\n",
    "###ANSWER###\n",
    "GC = (strand_plus.count(\"G\") + strand_plus.count(\"C\"))/len(strand_plus) * 100\n",
    "print(\"GC% = \", round(GC), \"%\", sep=\"\")\n",
    "###END ANSWER###"
   ]
  },
  {
   "cell_type": "markdown",
   "metadata": {},
   "source": [
    "## Exercise 8"
   ]
  },
  {
   "cell_type": "markdown",
   "metadata": {},
   "source": [
    "Calculate the molecular weight of the single stranded molecule listed above.\n",
    "Exact M.W. of ssDNA (e.g., Oligonucleotides):  \n",
    "M.W. = (An x 313.2) + (Tn x 304.2) + (Cn x 289.2) + (Gn x 329.2) + 79.0\n",
    "See link for the molecular weight of nucleotides:"
   ]
  },
  {
   "cell_type": "code",
   "execution_count": 21,
   "metadata": {},
   "outputs": [
    {
     "name": "stdout",
     "output_type": "stream",
     "text": [
      "Mol weight is: 13530 Da\n"
     ]
    }
   ],
   "source": [
    "###YOUR CODE HERE###\n",
    "\n",
    "###ANSWER###\n",
    "nucleotide_weight = {\"A\": 313.2, \"T\": 304.2, \"C\": 289.2, \"G\": 329.2}\n",
    "mol_weight = 0\n",
    "for nucleotide in strand_plus:\n",
    "    mol_weight += nucleotide_weight[nucleotide]\n",
    "mol_weight += 79.0\n",
    "print(\"Mol weight is:\", round(mol_weight), \"Da\")\n",
    "###END ANSWER###"
   ]
  },
  {
   "cell_type": "markdown",
   "metadata": {},
   "source": [
    "## Exercise 9"
   ]
  },
  {
   "cell_type": "markdown",
   "metadata": {},
   "source": [
    "Write a Caesar Cipher to decript a message.  \n",
    "Look at [this link](https://en.wikipedia.org/wiki/Caesar_cipher) for information about a Ceasar Cipher.  \n",
    "Use a rot-13 decription.  \n",
    "`ascii_lowercase = 'abcdefghijklmnopqrstuvwxyz'`  \n",
    "Message to decript:  \n",
    "`gur nafjre gb gur hygvzngr dhrfgvba bs yvsr gur havirefr naq rirelguvat vf sbegl gjb`"
   ]
  },
  {
   "cell_type": "code",
   "execution_count": 35,
   "metadata": {},
   "outputs": [
    {
     "name": "stdout",
     "output_type": "stream",
     "text": [
      "{'a': 'n', 'b': 'o', 'c': 'p', 'd': 'q', 'e': 'r', 'f': 's', 'g': 't', 'h': 'u', 'i': 'v', 'j': 'w', 'k': 'x', 'l': 'y', 'm': 'z', 'n': 'a', 'o': 'b', 'p': 'c', 'q': 'd', 'r': 'e', 's': 'f', 't': 'g', 'u': 'h', 'v': 'i', 'w': 'j', 'x': 'k', 'y': 'l', 'z': 'm'}\n",
      "the answer to the ultimate question of life the universe and everything is forty two\n"
     ]
    }
   ],
   "source": [
    "###YOUR CODE HERE###\n",
    "\n",
    "###ANSWER###\n",
    "mssg = \"gur nafjre gb gur hygvzngr dhrfgvba bs yvsr gur havirefr naq rirelguvat vf sbegl gjb\"\n",
    "ascii_lowercase = 'abcdefghijklmnopqrstuvwxyz'\n",
    "ascii_shifted = ascii_lowercase[13:] + ascii_lowercase[:13] \n",
    "hashtable = {}\n",
    "num = 0\n",
    "for letter in ascii_lowercase:\n",
    "    hashtable[letter] = ascii_shifted[num]\n",
    "    num += 1\n",
    "print(hashtable)\n",
    "mssg_decoded = []\n",
    "for letter in mssg:\n",
    "    if letter != \" \":\n",
    "        mssg_decoded.append(hashtable[letter])\n",
    "    else:\n",
    "        mssg_decoded.append(\" \")\n",
    "print(\"\".join(mssg_decoded))\n",
    "###END ANSWER###"
   ]
  },
  {
   "cell_type": "markdown",
   "metadata": {},
   "source": [
    "The End\n",
    "\n",
    "---\n"
   ]
  }
 ],
 "metadata": {
  "kernelspec": {
   "display_name": "Python 3",
   "language": "python",
   "name": "python3"
  },
  "language_info": {
   "codemirror_mode": {
    "name": "ipython",
    "version": 3
   },
   "file_extension": ".py",
   "mimetype": "text/x-python",
   "name": "python",
   "nbconvert_exporter": "python",
   "pygments_lexer": "ipython3",
   "version": "3.7.4"
  }
 },
 "nbformat": 4,
 "nbformat_minor": 2
}
