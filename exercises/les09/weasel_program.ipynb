{
 "cells": [
  {
   "cell_type": "markdown",
   "id": "1b29eeb9",
   "metadata": {},
   "source": [
    "# Weasel program"
   ]
  },
  {
   "cell_type": "markdown",
   "id": "75719492",
   "metadata": {},
   "source": [
    "The weasel program or Dawkins' weasel is a thought experiment and a variety of computer simulations illustrating it. Their aim is to demonstrate that the process that drives evolutionary systems—random variation combined with non-random cumulative selection—is different from pure chance.\n",
    "\n",
    "The thought experiment was formulated by Richard Dawkins, and the first simulation written by him; various other implementations of the program have been written by others.  \n",
    "Source: https://en.wikipedia.org/wiki/Weasel_program  \n",
    "\n",
    "Read the webpage."
   ]
  },
  {
   "cell_type": "markdown",
   "id": "d38f56fa",
   "metadata": {},
   "source": [
    "## Goal"
   ]
  },
  {
   "cell_type": "markdown",
   "id": "2f46164f",
   "metadata": {},
   "source": [
    "The goal of this lesson is to write a Weasel program implementation in Python.  \n",
    "\n",
    "A randomly generated sequence of 28 letters and spaces will be gradually changed each generation. The sequences progress through each generation:  \n",
    "\n",
    "Generation 01:   WDLTMNLT DTJBKWIRZREZLMQCO P  \n",
    "Generation 02:   WDLTMNLT DTJBSWIRZREZLMQCO P  \n",
    "Generation 10:   MDLDMNLS ITJISWHRZREZ MECS P  \n",
    "Generation 20:   MELDINLS IT ISWPRKE Z WECSEL  \n",
    "Generation 30:   METHINGS IT ISWLIKE B WECSEL  \n",
    "Generation 40:   METHINKS IT IS LIKE I WEASEL  \n",
    "Generation 43:   METHINKS IT IS LIKE A WEASEL  "
   ]
  },
  {
   "cell_type": "markdown",
   "id": "301ba798",
   "metadata": {},
   "source": [
    "## The algoritm: simple version"
   ]
  },
  {
   "cell_type": "markdown",
   "id": "7cf948f3",
   "metadata": {},
   "source": [
    "The simplest algoritm would be to keep matching positions and to mutate non matching positions each generation. However, this is not how evolution works. Evolution works by random mutation, selection and amplification.  \n",
    "Let's start with the simple version. Run the code block below in order to obtain the variables."
   ]
  },
  {
   "cell_type": "code",
   "execution_count": null,
   "id": "8f9e8e55",
   "metadata": {},
   "outputs": [],
   "source": [
    "###DO NOT REMOVE###\n",
    "import string\n",
    "import random\n",
    "random.seed(10) #you can comment this if all works well\n",
    "target = \"METHINKS IT IS LIKE A WEASEL\"\n",
    "target = [i for i in target] #no need to understand this yet\n",
    "letters =  string.ascii_uppercase + \" \"\n",
    "start_seq = [random.choice(letters) for i in range(len(target))] #no need to understand this yet\n",
    "print(\"target:\", target)\n",
    "print(\"start sequence: \", start_seq)"
   ]
  },
  {
   "cell_type": "markdown",
   "id": "db7f7d34",
   "metadata": {},
   "source": [
    "Now write the program below:"
   ]
  },
  {
   "cell_type": "code",
   "execution_count": null,
   "id": "51b9fd5d",
   "metadata": {},
   "outputs": [],
   "source": [
    "###YOUR CODE HERE###\n",
    "\n",
    "###ANSWER###\n",
    "def compare_strings(target, descendant):\n",
    "    diff_pos = []\n",
    "    pos = 0\n",
    "    for letter in target:\n",
    "        if not letter == descendant[pos]:\n",
    "            diff_pos.append(pos)\n",
    "        pos += 1\n",
    "    return diff_pos\n",
    "\n",
    "\n",
    "def replace_letters(descendant, diff):\n",
    "    if diff:\n",
    "        for num in diff:\n",
    "            descendant[num] = random.choice(letters)\n",
    "    return descendant\n",
    "\n",
    "\n",
    "def cumulative_select(target, start_seq):\n",
    "    generation = 1\n",
    "    descendant = start_seq\n",
    "    while descendant != target:\n",
    "        diff = compare_strings(target, descendant)\n",
    "        descendant = replace_letters(descendant, diff)\n",
    "        print(\"\".join(descendant), \" generation = \", generation)\n",
    "        generation += 1\n",
    "\n",
    "        \n",
    "cumulative_select(target, start_seq)\n",
    "###END ANSWER###"
   ]
  },
  {
   "cell_type": "markdown",
   "id": "21699b85",
   "metadata": {},
   "source": [
    "## Spicy problem: complex version"
   ]
  },
  {
   "cell_type": "markdown",
   "id": "0185c5f8",
   "metadata": {},
   "source": [
    "There is something odd about the algoritm above. Evolution does not work like that. Have a look at the figure below:  \n",
    "![fig1](pics/fig1.png)\n",
    "\n",
    "Note that, in generation 8, the 25th character, which had been correct (A), becomes incorrect (I). The program written by Dawkins does not \"lock\" correct characters as we did, rather it measures at each iteration the closeness of the complete string to the 'target' phrase.\n",
    "\n",
    "Although Dawkins did not provide the source code for his program, a \"Weasel\" style algorithm could run as follows:  \n",
    "\n",
    "- Start with a random string of 28 characters.\n",
    "- Make 100 copies of the string (reproduce).\n",
    "- For each character in each of the 100 copies, with a probability of 5%, replace (mutate) the character with a new random character.\n",
    "- Compare each new string with the target string \"METHINKS IT IS LIKE A WEASEL\", and give each a score (the number of letters in the string that are correct and in the correct position).\n",
    "- If any of the new strings has a perfect score (28), halt. Otherwise, take the highest scoring string, and go to step 2.\n",
    "\n",
    "Write the new version according to this algoritm below.  \n",
    "First run the cell below:"
   ]
  },
  {
   "cell_type": "code",
   "execution_count": 1,
   "id": "3e617b0f",
   "metadata": {},
   "outputs": [
    {
     "name": "stdout",
     "output_type": "stream",
     "text": [
      "target: ['M', 'E', 'T', 'H', 'I', 'N', 'K', 'S', ' ', 'I', 'T', ' ', 'I', 'S', ' ', 'L', 'I', 'K', 'E', ' ', 'A', ' ', 'W', 'E', 'A', 'S', 'E', 'L']\n",
      "seed: ['S', 'B', 'N', 'P', 'S', 'A', 'G', 'O', ' ', 'P', ' ', 'I', 'U', 'Z', 'F', 'B', 'Q', 'P', 'K', 'C', 'H', 'X', 'L', 'B', 'N', 'E', 'T', 'L']\n"
     ]
    }
   ],
   "source": [
    "###DO NOT REMOVE###\n",
    "import string\n",
    "import random\n",
    "random.seed(10) #you can comment this if all works well\n",
    "\n",
    "TARGET = [i for i in \"METHINKS IT IS LIKE A WEASEL\"]\n",
    "VOLUME = 100\n",
    "MUT_RATE = 0.05\n",
    "LETTERS =  string.ascii_uppercase + \" \"\n",
    "SEED = [random.choice(LETTERS) for i in range(len(TARGET))] #no need to understand this yet\n",
    "print(\"target:\", TARGET)\n",
    "print(\"seed:\", SEED)"
   ]
  },
  {
   "cell_type": "code",
   "execution_count": 7,
   "id": "d92a56c0",
   "metadata": {},
   "outputs": [
    {
     "name": "stdout",
     "output_type": "stream",
     "text": [
      "SBNPSAGO P IUZFBQPKCHXLBNEEL  generation 1\n",
      "SBNPSAGO P IUSFBQPKCHXLBNEEL  generation 2\n",
      "SBNPSNGO P IUSFBQPKCHXLBNEEL  generation 3\n",
      "SBNPSNGO P IUS BQPKCHXLBNEEL  generation 4\n",
      "SBNPSNGS P IUS BQPKCHXLBNEEL  generation 5\n",
      "SBNPSNGS PTIUS BQPKCHXLBNEEL  generation 6\n",
      "SBNPSNGS PTIUS BQPKCHXWBNEEL  generation 7\n",
      "SBNPSNGS PTIUS BQPKCH WBNEEL  generation 8\n",
      "SBTPSNGS PTIUS BQPKCH WBNEEL  generation 9\n",
      "SBTPSNGS PTIUS BQPECH WBNEEL  generation 10\n",
      "SBTPINGS PTIUS BQPECH WBNEEL  generation 11\n",
      "SBTPINGS PTIIS BQPECH WBNEEL  generation 12\n",
      "SBTPINGS PTIIS BIPECH WBNEEL  generation 13\n",
      "SBTPINGS PTIIS BIPECH WBAEEL  generation 14\n",
      "SBTPINAS PTIIS BIPECH WBAEEL  generation 15\n",
      "SETPINAS PTIIS BIPECH WBAEEL  generation 16\n",
      "SETHINAS PTIIS BIPECH WBAEEL  generation 17\n",
      "IETHINAS PTIIS BIPECH WBAEEL  generation 18\n",
      "METHINAS PTIIS BIPECH WBAEEL  generation 19\n",
      "METHINAS ITIIS BIPECH WBAEEL  generation 20\n",
      "METHINAS ITIIS BIPE H WBAEEL  generation 21\n",
      "METHINAS ITIIS LIPE H WBAEEL  generation 22\n",
      "METHINAS ITIIS LIPE H WBAXEL  generation 23\n",
      "METHINAS ITIIS LIKE H WBAXEL  generation 24\n",
      "METHINKS ITIIS LIKE H WBAXEL  generation 25\n",
      "METHINKS IT IS LIKE H WBAXEL  generation 26\n",
      "METHINKS IT IS LIKE A WBAXEL  generation 27\n",
      "METHINKS IT IS LIKE A WBAOEL  generation 28\n",
      "METHINKS IT IS LIKE A WBAOEL  generation 29\n",
      "METHINKS IT IS LIKE A WBAOEL  generation 30\n",
      "METHINKS IT IS LIKE A WBAOEL  generation 31\n",
      "METHINKS IT IS LIKE A W AOEL  generation 32\n",
      "METHINKS IT IS LIKE A WEAOEL  generation 33\n",
      "METHINKS IT IS LIKE A WEAVEL  generation 34\n",
      "METHINKS IT IS LIKE A WEANEL  generation 35\n",
      "METHINKS IT IS LIKE A WEANEL  generation 36\n",
      "METHINKS IT IS LIKE A WEAAEL  generation 37\n",
      "METHINKS IT IS LIKE A WEAPEL  generation 38\n",
      "METHINKS IT IS LIKE A WEASEL  generation 39\n"
     ]
    }
   ],
   "source": [
    "###YOUR CODE HERE###\n",
    "\n",
    "###ANSWER###\n",
    "def sel_best_match(target, offspring):\n",
    "    best_match_seq = \"\"\n",
    "    best_match_score = 0\n",
    "    for seq in offspring:\n",
    "        score = 0\n",
    "        pos = 0\n",
    "        for letter in seq:\n",
    "            if target[pos] == letter:\n",
    "                score += 1\n",
    "            pos += 1\n",
    "        if score > best_match_score:\n",
    "            best_match_score = score\n",
    "            best_match_seq = seq\n",
    "        \n",
    "    return best_match_seq\n",
    "\n",
    "\n",
    "def generate_offspring(parent, VOLUME, MUT_RATE):\n",
    "    num_of_mut = int(round(MUT_RATE * len(parent), 0))\n",
    "    offspring = []\n",
    "    for _ in range(VOLUME):\n",
    "        positions = []\n",
    "        for i in range(num_of_mut):\n",
    "            positions.append(random.randint(0, len(parent) -1))  \n",
    "        child = parent.copy()\n",
    "        for i in positions:\n",
    "            child[i] = random.choice(LETTERS)\n",
    "        offspring.append(child)\n",
    "    return offspring\n",
    "\n",
    "\n",
    "def cumulative_select(SEED, TARGET, VOLUME, MUT_RATE):\n",
    "    best_match = SEED\n",
    "    generation = 1\n",
    "    while best_match != TARGET:\n",
    "        offspring = generate_offspring(best_match, VOLUME, MUT_RATE)\n",
    "        best_match = sel_best_match(TARGET, offspring)\n",
    "        print(\"\".join(best_match), \" generation\", generation)\n",
    "        generation += 1\n",
    "        \n",
    "cumulative_select(SEED, TARGET, VOLUME, MUT_RATE)\n",
    "###END ANSWER###"
   ]
  },
  {
   "cell_type": "markdown",
   "id": "1f1182ac",
   "metadata": {},
   "source": [
    "The end..."
   ]
  }
 ],
 "metadata": {
  "kernelspec": {
   "display_name": "Python 3",
   "language": "python",
   "name": "python3"
  },
  "language_info": {
   "codemirror_mode": {
    "name": "ipython",
    "version": 3
   },
   "file_extension": ".py",
   "mimetype": "text/x-python",
   "name": "python",
   "nbconvert_exporter": "python",
   "pygments_lexer": "ipython3",
   "version": "3.8.8"
  }
 },
 "nbformat": 4,
 "nbformat_minor": 5
}
