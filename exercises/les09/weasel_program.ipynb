{
 "cells": [
  {
   "cell_type": "markdown",
   "id": "1b29eeb9",
   "metadata": {},
   "source": [
    "# Weasel program"
   ]
  },
  {
   "cell_type": "markdown",
   "id": "75719492",
   "metadata": {},
   "source": [
    "The weasel program or Dawkins' weasel is a thought experiment and a variety of computer simulations illustrating it. Their aim is to demonstrate that the process that drives evolutionary systems—random variation combined with non-random cumulative selection—is different from pure chance.\n",
    "\n",
    "The thought experiment was formulated by Richard Dawkins, and the first simulation written by him; various other implementations of the program have been written by others.  \n",
    "Source: https://en.wikipedia.org/wiki/Weasel_program  \n",
    "\n",
    "Read the webpage."
   ]
  },
  {
   "cell_type": "markdown",
   "id": "d38f56fa",
   "metadata": {},
   "source": [
    "## Goal"
   ]
  },
  {
   "cell_type": "markdown",
   "id": "2f46164f",
   "metadata": {},
   "source": [
    "The goal of this lesson is to write a Weasel program implementation in Python.  \n",
    "\n",
    "A randomly generated sequence of 28 letters and spaces will be gradually changed each generation. The sequences progress through each generation:  \n",
    "\n",
    "Generation 01:   WDLTMNLT DTJBKWIRZREZLMQCO P  \n",
    "Generation 02:   WDLTMNLT DTJBSWIRZREZLMQCO P  \n",
    "Generation 10:   MDLDMNLS ITJISWHRZREZ MECS P  \n",
    "Generation 20:   MELDINLS IT ISWPRKE Z WECSEL  \n",
    "Generation 30:   METHINGS IT ISWLIKE B WECSEL  \n",
    "Generation 40:   METHINKS IT IS LIKE I WEASEL  \n",
    "Generation 43:   METHINKS IT IS LIKE A WEASEL  "
   ]
  },
  {
   "cell_type": "markdown",
   "id": "301ba798",
   "metadata": {},
   "source": [
    "## The algoritm: simple version"
   ]
  },
  {
   "cell_type": "markdown",
   "id": "7cf948f3",
   "metadata": {},
   "source": [
    "The simplest algoritm would be to keep matching positions and to mutate non matching positions each generation. However, this is not how evolution works. Evolution works by random mutation, selection and amplification.  \n",
    "Let's start with the simple version. Run the code block below in order to obtain the variables."
   ]
  },
  {
   "cell_type": "code",
   "execution_count": 1,
   "id": "8f9e8e55",
   "metadata": {},
   "outputs": [
    {
     "name": "stdout",
     "output_type": "stream",
     "text": [
      "target: ['M', 'E', 'T', 'H', 'I', 'N', 'K', 'S', ' ', 'I', 'T', ' ', 'I', 'S', ' ', 'L', 'I', 'K', 'E', ' ', 'A', ' ', 'W', 'E', 'A', 'S', 'E', 'L']\n",
      "start sequence:  ['S', 'B', 'N', 'P', 'S', 'A', 'G', 'O', ' ', 'P', ' ', 'I', 'U', 'Z', 'F', 'B', 'Q', 'P', 'K', 'C', 'H', 'X', 'L', 'B', 'N', 'E', 'T', 'L']\n"
     ]
    }
   ],
   "source": [
    "###DO NOT REMOVE###\n",
    "import string\n",
    "import random\n",
    "random.seed(10) #you can comment this if all works well\n",
    "target = \"METHINKS IT IS LIKE A WEASEL\"\n",
    "target = [i for i in target] #no need to understand this yet\n",
    "letters =  string.ascii_uppercase + \" \"\n",
    "start_seq = [random.choice(letters) for i in range(len(target))] #no need to understand this yet\n",
    "print(\"target:\", target)\n",
    "print(\"start sequence: \", start_seq)"
   ]
  },
  {
   "cell_type": "markdown",
   "id": "db7f7d34",
   "metadata": {},
   "source": [
    "Now write the program below:"
   ]
  },
  {
   "cell_type": "code",
   "execution_count": 2,
   "id": "51b9fd5d",
   "metadata": {},
   "outputs": [
    {
     "name": "stdout",
     "output_type": "stream",
     "text": [
      "MNJ VIOF VJVLEOYHOTMBSAHEGJL  generation =  1\n",
      "MRLYHKVR ONPCUSKQF HNHBBPJ L  generation =  2\n",
      "MTVCRCEM SLTEDYYDOFZGLNNOHVL  generation =  3\n",
      "MIETQFDI OJFVU FYFPYLKNHARWL  generation =  4\n",
      "MBKKHCIO MSFMP VHXQIQPTPACFL  generation =  5\n",
      "MPVOMENR SLRMP WFRODN BAAORL  generation =  6\n",
      "MCBLCEDT O ZPE ONYQOK XIAZWL  generation =  7\n",
      "MONKUQQE XHKTB VGUSS  UPAAZL  generation =  8\n",
      "MDJNHWJC BTRYD  JFVPE LTAMZL  generation =  9\n",
      "MGLFCSGN GTDVJ OXYW Q XNAOVL  generation =  10\n",
      "MXRGITLD UTZUA GNTN M ZUAGCL  generation =  11\n",
      "MYNZIC B LTILO NYGU X JOAWJL  generation =  12\n",
      "MQPQIIMO UTKLX IPOP S PCAWRL  generation =  13\n",
      "MXLZIXMZ FTTNX SCTX   JAASKL  generation =  14\n",
      "MUKCIXMT LTJTF HFJD R Z ASBL  generation =  15\n",
      "MHSXICNG STSOZ SAMG K SGASQL  generation =  16\n",
      "MZSYIY K BTVWS BBSL M KTASUL  generation =  17\n",
      "MFYFIDTZ LTFAS XRQZ L CMASOL  generation =  18\n",
      "MSLBIEOW PTTOS XOTF L  NAS L  generation =  19\n",
      "M KRIQOM GTDNS UEBF U UGASSL  generation =  20\n",
      "MNZLIRMB TTBFS JHBS F DUASSL  generation =  21\n",
      "ML FIJBM TTYNS CLYG P FFASML  generation =  22\n",
      "MZYOIYKB FT FS SWNE Q UWASML  generation =  23\n",
      "MDM IDKH DT NS XUJE X JRASUL  generation =  24\n",
      "MDL IQKT PT TS HRJE A VFASVL  generation =  25\n",
      "MMWHIDKQ UT YS PDSE A MSASGL  generation =  26\n",
      "MJLHICKG TT RS QACE A MZASBL  generation =  27\n",
      "MAUHI KN KT  S FXBE A LKASUL  generation =  28\n",
      "MPZHIFKA GT ES J GE A HHASML  generation =  29\n",
      "MTRHISKT NT RS YAEE A ADASAL  generation =  30\n",
      "M BHIVKY YT FS DWME A CAASVL  generation =  31\n",
      "MNXHIVKF TT NS BRFE A BWASML  generation =  32\n",
      "MSOHIOKK FT BS MUOE A PWASWL  generation =  33\n",
      "MLVHICKE IT IS FCOE A AEASIL  generation =  34\n",
      "MCQHIJKE IT IS YDRE A DEASJL  generation =  35\n",
      "MWTHIZKK IT IS ZASE A IEASUL  generation =  36\n",
      "MYTHIQKN IT IS QEWE A BEASUL  generation =  37\n",
      "MBTHITKB IT IS UGRE A AEASGL  generation =  38\n",
      "METHIJKW IT IS  NEE A AEASLL  generation =  39\n",
      "METHIQKV IT IS WDPE A JEASOL  generation =  40\n",
      "METHIOKF IT IS UEAE A MEASTL  generation =  41\n",
      "METHIEKO IT IS VW E A  EASYL  generation =  42\n",
      "METHIFKK IT IS QVPE A EEASBL  generation =  43\n",
      "METHIPKS IT IS MFPE A WEASIL  generation =  44\n",
      "METHIGKS IT IS PQLE A WEASUL  generation =  45\n",
      "METHISKS IT IS YRME A WEASEL  generation =  46\n",
      "METHIUKS IT IS KXKE A WEASEL  generation =  47\n",
      "METHIEKS IT IS BOKE A WEASEL  generation =  48\n",
      "METHIBKS IT IS VKKE A WEASEL  generation =  49\n",
      "METHIQKS IT IS QBKE A WEASEL  generation =  50\n",
      "METHIMKS IT IS TYKE A WEASEL  generation =  51\n",
      "METHIZKS IT IS CWKE A WEASEL  generation =  52\n",
      "METHIXKS IT IS BEKE A WEASEL  generation =  53\n",
      "METHIBKS IT IS ALKE A WEASEL  generation =  54\n",
      "METHINKS IT IS HVKE A WEASEL  generation =  55\n",
      "METHINKS IT IS P KE A WEASEL  generation =  56\n",
      "METHINKS IT IS SVKE A WEASEL  generation =  57\n",
      "METHINKS IT IS XCKE A WEASEL  generation =  58\n",
      "METHINKS IT IS DCKE A WEASEL  generation =  59\n",
      "METHINKS IT IS LZKE A WEASEL  generation =  60\n",
      "METHINKS IT IS LOKE A WEASEL  generation =  61\n",
      "METHINKS IT IS LNKE A WEASEL  generation =  62\n",
      "METHINKS IT IS LJKE A WEASEL  generation =  63\n",
      "METHINKS IT IS LFKE A WEASEL  generation =  64\n",
      "METHINKS IT IS LXKE A WEASEL  generation =  65\n",
      "METHINKS IT IS LEKE A WEASEL  generation =  66\n",
      "METHINKS IT IS LYKE A WEASEL  generation =  67\n",
      "METHINKS IT IS LUKE A WEASEL  generation =  68\n",
      "METHINKS IT IS LMKE A WEASEL  generation =  69\n",
      "METHINKS IT IS LRKE A WEASEL  generation =  70\n",
      "METHINKS IT IS LWKE A WEASEL  generation =  71\n",
      "METHINKS IT IS LRKE A WEASEL  generation =  72\n",
      "METHINKS IT IS LGKE A WEASEL  generation =  73\n",
      "METHINKS IT IS LVKE A WEASEL  generation =  74\n",
      "METHINKS IT IS LXKE A WEASEL  generation =  75\n",
      "METHINKS IT IS LHKE A WEASEL  generation =  76\n",
      "METHINKS IT IS LXKE A WEASEL  generation =  77\n",
      "METHINKS IT IS LEKE A WEASEL  generation =  78\n",
      "METHINKS IT IS L KE A WEASEL  generation =  79\n",
      "METHINKS IT IS LMKE A WEASEL  generation =  80\n",
      "METHINKS IT IS LGKE A WEASEL  generation =  81\n",
      "METHINKS IT IS LQKE A WEASEL  generation =  82\n",
      "METHINKS IT IS LTKE A WEASEL  generation =  83\n",
      "METHINKS IT IS LPKE A WEASEL  generation =  84\n",
      "METHINKS IT IS LVKE A WEASEL  generation =  85\n",
      "METHINKS IT IS L KE A WEASEL  generation =  86\n",
      "METHINKS IT IS L KE A WEASEL  generation =  87\n",
      "METHINKS IT IS LVKE A WEASEL  generation =  88\n",
      "METHINKS IT IS LMKE A WEASEL  generation =  89\n",
      "METHINKS IT IS LZKE A WEASEL  generation =  90\n",
      "METHINKS IT IS LGKE A WEASEL  generation =  91\n",
      "METHINKS IT IS LCKE A WEASEL  generation =  92\n",
      "METHINKS IT IS LRKE A WEASEL  generation =  93\n",
      "METHINKS IT IS LXKE A WEASEL  generation =  94\n",
      "METHINKS IT IS LXKE A WEASEL  generation =  95\n",
      "METHINKS IT IS LEKE A WEASEL  generation =  96\n",
      "METHINKS IT IS LTKE A WEASEL  generation =  97\n",
      "METHINKS IT IS LSKE A WEASEL  generation =  98\n",
      "METHINKS IT IS LRKE A WEASEL  generation =  99\n",
      "METHINKS IT IS LEKE A WEASEL  generation =  100\n",
      "METHINKS IT IS LCKE A WEASEL  generation =  101\n",
      "METHINKS IT IS LVKE A WEASEL  generation =  102\n",
      "METHINKS IT IS LMKE A WEASEL  generation =  103\n",
      "METHINKS IT IS LOKE A WEASEL  generation =  104\n",
      "METHINKS IT IS LCKE A WEASEL  generation =  105\n",
      "METHINKS IT IS LGKE A WEASEL  generation =  106\n",
      "METHINKS IT IS LAKE A WEASEL  generation =  107\n",
      "METHINKS IT IS LOKE A WEASEL  generation =  108\n",
      "METHINKS IT IS LFKE A WEASEL  generation =  109\n",
      "METHINKS IT IS LVKE A WEASEL  generation =  110\n",
      "METHINKS IT IS LFKE A WEASEL  generation =  111\n",
      "METHINKS IT IS LLKE A WEASEL  generation =  112\n",
      "METHINKS IT IS LMKE A WEASEL  generation =  113\n",
      "METHINKS IT IS LUKE A WEASEL  generation =  114\n",
      "METHINKS IT IS LGKE A WEASEL  generation =  115\n",
      "METHINKS IT IS LHKE A WEASEL  generation =  116\n",
      "METHINKS IT IS LKKE A WEASEL  generation =  117\n",
      "METHINKS IT IS LJKE A WEASEL  generation =  118\n",
      "METHINKS IT IS LSKE A WEASEL  generation =  119\n",
      "METHINKS IT IS LIKE A WEASEL  generation =  120\n"
     ]
    }
   ],
   "source": [
    "###YOUR CODE HERE###\n",
    "\n",
    "###ANSWER###\n",
    "def compare_strings(target, descendant):\n",
    "    diff_pos = []\n",
    "    pos = 0\n",
    "    for letter in target:\n",
    "        if not letter == descendant[pos]:\n",
    "            diff_pos.append(pos)\n",
    "        pos += 1\n",
    "    return diff_pos\n",
    "\n",
    "\n",
    "def replace_letters(descendant, diff):\n",
    "    if diff:\n",
    "        for num in diff:\n",
    "            descendant[num] = random.choice(letters)\n",
    "    return descendant\n",
    "\n",
    "\n",
    "def cumulative_select(target, start_seq):\n",
    "    generation = 1\n",
    "    descendant = start_seq\n",
    "    while descendant != target:\n",
    "        diff = compare_strings(target, descendant)\n",
    "        descendant = replace_letters(descendant, diff)\n",
    "        print(\"\".join(descendant), \" generation = \", generation)\n",
    "        generation += 1\n",
    "\n",
    "        \n",
    "cumulative_select(target, start_seq)\n",
    "###END ANSWER###"
   ]
  },
  {
   "cell_type": "markdown",
   "id": "21699b85",
   "metadata": {},
   "source": [
    "## Spicy problem: complex version"
   ]
  },
  {
   "cell_type": "markdown",
   "id": "0185c5f8",
   "metadata": {},
   "source": [
    "There is something odd about the algoritm above. Evolution does not work like that. Have a look at the figure below:  \n",
    "\n",
    "![fig1](pics/fig1.png)\n",
    "\n",
    "Note that, in generation 8, the 25th character, which had been correct (A), becomes incorrect (I). The program written by Dawkins does not \"lock\" correct characters as we did, rather it measures at each iteration the closeness of the complete string to the 'target' phrase.\n",
    "\n",
    "Although Dawkins did not provide the source code for his program, a \"Weasel\" style algorithm could run as follows:  \n",
    "\n",
    "- Start with a random string of 28 characters.\n",
    "- Make 100 copies of the string (reproduce).\n",
    "- For each character in each of the 100 copies, with a probability of 5%, replace (mutate) the character with a new random character.\n",
    "- Compare each new string with the target string \"METHINKS IT IS LIKE A WEASEL\", and give each a score (the number of letters in the string that are correct and in the correct position).\n",
    "- If any of the new strings has a perfect score (28), halt. Otherwise, take the highest scoring string, and go to step 2.\n",
    "\n",
    "Write the new version according to this algoritm below.  \n",
    "First run the cell below:"
   ]
  },
  {
   "cell_type": "code",
   "execution_count": null,
   "id": "3e617b0f",
   "metadata": {},
   "outputs": [],
   "source": [
    "###DO NOT REMOVE###\n",
    "import string\n",
    "import random\n",
    "random.seed(10) #you can comment this if all works well\n",
    "\n",
    "TARGET = [i for i in \"METHINKS IT IS LIKE A WEASEL\"]\n",
    "VOLUME = 100\n",
    "MUT_RATE = 0.05\n",
    "LETTERS =  string.ascii_uppercase + \" \"\n",
    "SEED = [random.choice(LETTERS) for i in range(len(TARGET))] #no need to understand this yet\n",
    "print(\"target:\", TARGET)\n",
    "print(\"seed:\", SEED)"
   ]
  },
  {
   "cell_type": "code",
   "execution_count": null,
   "id": "d92a56c0",
   "metadata": {},
   "outputs": [],
   "source": [
    "###YOUR CODE HERE###\n",
    "\n",
    "###ANSWER###\n",
    "def sel_best_match(target, offspring):\n",
    "    best_match_seq = \"\"\n",
    "    best_match_score = 0\n",
    "    for seq in offspring:\n",
    "        score = 0\n",
    "        pos = 0\n",
    "        for letter in seq:\n",
    "            if target[pos] == letter:\n",
    "                score += 1\n",
    "            pos += 1\n",
    "        if score > best_match_score:\n",
    "            best_match_score = score\n",
    "            best_match_seq = seq\n",
    "        \n",
    "    return best_match_seq\n",
    "\n",
    "\n",
    "def generate_offspring(parent, VOLUME, MUT_RATE):\n",
    "    num_of_mut = int(round(MUT_RATE * len(parent), 0))\n",
    "    offspring = []\n",
    "    for _ in range(VOLUME):\n",
    "        positions = []\n",
    "        for i in range(num_of_mut):\n",
    "            positions.append(random.randint(0, len(parent) -1))  \n",
    "        child = parent.copy()\n",
    "        for i in positions:\n",
    "            child[i] = random.choice(LETTERS)\n",
    "        offspring.append(child)\n",
    "    return offspring\n",
    "\n",
    "\n",
    "def cumulative_select(SEED, TARGET, VOLUME, MUT_RATE):\n",
    "    best_match = SEED\n",
    "    generation = 1\n",
    "    while best_match != TARGET:\n",
    "        offspring = generate_offspring(best_match, VOLUME, MUT_RATE)\n",
    "        best_match = sel_best_match(TARGET, offspring)\n",
    "        print(\"\".join(best_match), \" generation\", generation)\n",
    "        generation += 1\n",
    "        \n",
    "cumulative_select(SEED, TARGET, VOLUME, MUT_RATE)\n",
    "###END ANSWER###"
   ]
  },
  {
   "cell_type": "markdown",
   "id": "1f1182ac",
   "metadata": {},
   "source": [
    "The end..."
   ]
  }
 ],
 "metadata": {
  "kernelspec": {
   "display_name": "Python 3 (ipykernel)",
   "language": "python",
   "name": "python3"
  },
  "language_info": {
   "codemirror_mode": {
    "name": "ipython",
    "version": 3
   },
   "file_extension": ".py",
   "mimetype": "text/x-python",
   "name": "python",
   "nbconvert_exporter": "python",
   "pygments_lexer": "ipython3",
   "version": "3.9.7"
  }
 },
 "nbformat": 4,
 "nbformat_minor": 5
}
