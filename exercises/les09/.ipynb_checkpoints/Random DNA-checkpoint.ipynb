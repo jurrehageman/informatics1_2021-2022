{
 "cells": [
  {
   "cell_type": "markdown",
   "metadata": {},
   "source": [
    "# Random DNA"
   ]
  },
  {
   "cell_type": "markdown",
   "metadata": {},
   "source": [
    "Write a small program that:\n",
    "- Generates a user given number of random DNA sequences of a user given length\n",
    "- Calculates the GC percentage for each sequence\n",
    "- Writes each sequence + the GC percentage to a file\n",
    "- Use functions\n",
    "- Use a main function\n",
    "- Use well organised code"
   ]
  },
  {
   "cell_type": "code",
   "execution_count": 2,
   "metadata": {},
   "outputs": [
    {
     "name": "stdout",
     "output_type": "stream",
     "text": [
      "results have been written to gc_perc.txt\n"
     ]
    }
   ],
   "source": [
    "import random\n",
    "\n",
    "\n",
    "def gen_random_dna(length=20):\n",
    "    \"\"\"generates random dna sequence\"\"\"\n",
    "    bases = \"GATC\"\n",
    "    dna = \"\"\n",
    "    for _ in range(length):\n",
    "        random_base = random.choice(bases)\n",
    "        dna += random_base\n",
    "    return dna\n",
    "\n",
    "\n",
    "def calc_gc(dna):\n",
    "    \"\"\"calculates the gc percentages of a list of dna sequences\"\"\"\n",
    "    gc = {}\n",
    "    for seq in dna:\n",
    "        gc_perc = (seq.count(\"G\") +  seq.count(\"C\"))/len(seq) * 100\n",
    "        gc[seq] = gc_perc\n",
    "    return gc\n",
    "\n",
    "\n",
    "def gen_many_dna(number, length):\n",
    "    \"\"\"generates a user-defined number of dna molecules\"\"\"\n",
    "    dna_col = []\n",
    "    for _ in range(number):\n",
    "        dna = gen_random_dna(length)\n",
    "        dna_col.append(dna)\n",
    "    return dna_col\n",
    "\n",
    "\n",
    "def write_file(gc, file_name):\n",
    "    \"\"\"writes the results to a file\"\"\"\n",
    "    file_handler = open(file_name, \"w\")\n",
    "    for key in gc:\n",
    "        value = gc[key]\n",
    "        print(key, value, file=file_handler)\n",
    "\n",
    "        \n",
    "def main():\n",
    "    \"\"\"main function 'controls' the other functions\"\"\"\n",
    "    file_name = \"gc_perc.txt\"\n",
    "    length = 50\n",
    "    number = 25\n",
    "    dna = gen_many_dna(number, length)\n",
    "    gc = calc_gc(dna)\n",
    "    write_file(gc, file_name)\n",
    "    print(\"results have been written to\", file_name)\n",
    "\n",
    "    \n",
    "main()"
   ]
  },
  {
   "cell_type": "markdown",
   "metadata": {},
   "source": [
    "The end..."
   ]
  }
 ],
 "metadata": {
  "kernelspec": {
   "display_name": "Python 3",
   "language": "python",
   "name": "python3"
  },
  "language_info": {
   "codemirror_mode": {
    "name": "ipython",
    "version": 3
   },
   "file_extension": ".py",
   "mimetype": "text/x-python",
   "name": "python",
   "nbconvert_exporter": "python",
   "pygments_lexer": "ipython3",
   "version": "3.7.4"
  }
 },
 "nbformat": 4,
 "nbformat_minor": 2
}
