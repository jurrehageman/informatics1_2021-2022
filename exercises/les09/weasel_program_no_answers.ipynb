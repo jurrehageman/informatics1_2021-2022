{
 "cells": [
  {
   "cell_type": "markdown",
   "id": "1b29eeb9",
   "metadata": {},
   "source": [
    "# Weasel program"
   ]
  },
  {
   "cell_type": "markdown",
   "id": "75719492",
   "metadata": {},
   "source": [
    "The weasel program or Dawkins' weasel is a thought experiment and a variety of computer simulations illustrating it. Their aim is to demonstrate that the process that drives evolutionary systems—random variation combined with non-random cumulative selection—is different from pure chance.\n",
    "\n",
    "The thought experiment was formulated by Richard Dawkins, and the first simulation written by him; various other implementations of the program have been written by others.  \n",
    "Source: https://en.wikipedia.org/wiki/Weasel_program  \n",
    "\n",
    "Read the webpage."
   ]
  },
  {
   "cell_type": "markdown",
   "id": "d38f56fa",
   "metadata": {},
   "source": [
    "## Goal"
   ]
  },
  {
   "cell_type": "markdown",
   "id": "2f46164f",
   "metadata": {},
   "source": [
    "The goal of this lesson is to write a Weasel program implementation in Python.  \n",
    "\n",
    "A randomly generated sequence of 28 letters and spaces will be gradually changed each generation. The sequences progress through each generation:  \n",
    "\n",
    "Generation 01:   WDLTMNLT DTJBKWIRZREZLMQCO P  \n",
    "Generation 02:   WDLTMNLT DTJBSWIRZREZLMQCO P  \n",
    "Generation 10:   MDLDMNLS ITJISWHRZREZ MECS P  \n",
    "Generation 20:   MELDINLS IT ISWPRKE Z WECSEL  \n",
    "Generation 30:   METHINGS IT ISWLIKE B WECSEL  \n",
    "Generation 40:   METHINKS IT IS LIKE I WEASEL  \n",
    "Generation 43:   METHINKS IT IS LIKE A WEASEL  "
   ]
  },
  {
   "cell_type": "markdown",
   "id": "301ba798",
   "metadata": {},
   "source": [
    "## The algoritm: simple version"
   ]
  },
  {
   "cell_type": "markdown",
   "id": "7cf948f3",
   "metadata": {},
   "source": [
    "The simplest algoritm would be to keep matching positions and to mutate non matching positions each generation. However, this is not how evolution works. Evolution works by random mutation, selection and amplification.  \n",
    "Let's start with the simple version. Run the code block below in order to obtain the variables."
   ]
  },
  {
   "cell_type": "code",
   "execution_count": 2,
   "id": "8f9e8e55",
   "metadata": {},
   "outputs": [],
   "source": [
    "###DO NOT REMOVE###\n",
    "import string\n",
    "import random\n",
    "#random.seed(10)\n",
    "target = \"METHINKS IT IS LIKE A WEASEL\"\n",
    "target = [i for i in target]\n",
    "letters =  string.ascii_uppercase + \" \"\n",
    "start_seq = [random.choice(letters) for i in range(len(target))]"
   ]
  },
  {
   "cell_type": "markdown",
   "id": "db7f7d34",
   "metadata": {},
   "source": [
    "Now write the program below:"
   ]
  },
  {
   "cell_type": "code",
   "execution_count": 3,
   "id": "51b9fd5d",
   "metadata": {},
   "outputs": [
    {
     "name": "stdout",
     "output_type": "stream",
     "text": [
      "RCTCGVRZEITRBPINKWXEVSESHYMX  generation =  1\n",
      "GDTABONKVITYPDKTOTWLPVRWWDUP  generation =  2\n",
      "JRTFKTQFUITOFA XVBMMPBGNFZCH  generation =  3\n",
      "HUTAZJQRAITOCE LVOIFRBXVVGME  generation =  4\n",
      "MWTXRSAHZITJOE LHBDDNALOKMKJ  generation =  5\n",
      "MBTZSTAYVITEYP LMAXGVQWJTKE   generation =  6\n",
      "MVTFVLCRSITYTX LBWXUXJWMPPEV  generation =  7\n",
      "MXT XRELKITDKF LXVMUCKWCHFEK  generation =  8\n",
      "MCTJJHQKNITEIF LKWYOZEWPUJEL  generation =  9\n",
      "MZTEKYVKVITAIQ LSYFRMBWNEVEL  generation =  10\n",
      "MZTALNGVVITEIK LQHZLMPWGVXEL  generation =  11\n",
      "MCTOZNHTKITSIP LPKUEKTWNUCEL  generation =  12\n",
      "MCTHKNHFLITIIB LSKUTLZWSKHEL  generation =  13\n",
      "M THDNAGSITSIY LZKLFVFWHSUEL  generation =  14\n",
      "MFTHGNQRLITQIY LAKVMTGWYM EL  generation =  15\n",
      "MTTHTNWYSITOIG LBKWKWQWHHZEL  generation =  16\n",
      "MLTHGNSJNITKIJ LBKX RMWULCEL  generation =  17\n",
      "MSTHTNBZOITWIH LCKP BIWVXCEL  generation =  18\n",
      "MHTHMNKSNITXID LDKL VKWDKBEL  generation =  19\n",
      "MHTHNNKSNITBIC LRKR JEWUEJEL  generation =  20\n",
      "METHCNKSAITMIE LWKU XMWVUKEL  generation =  21\n",
      "METH NKSHITEIK LNKH KYWV UEL  generation =  22\n",
      "METHNNKSSITRIR LFKF ZMWMCIEL  generation =  23\n",
      "METHENKSCITAI  LWKJ BEWTWZEL  generation =  24\n",
      "METHZNKSNITQIN LEKD DXWJUTEL  generation =  25\n",
      "METHLNKSBITBII LRKT JHWGSZEL  generation =  26\n",
      "METHMNKSQITAIV LMKU BOWMHDEL  generation =  27\n",
      "METHGNKSVITNIQ LNKM EBWROREL  generation =  28\n",
      "METHSNKSBITRIK LYKK TAWCIMEL  generation =  29\n",
      "METHHNKSUITYIT LCKH IZWTNUEL  generation =  30\n",
      "METHZNKSPITSIG LAKC RZWNLXEL  generation =  31\n",
      "METHNNKSHIT IQ LNKN C WKWLEL  generation =  32\n",
      "METHANKSZIT IL LZKD W WPWSEL  generation =  33\n",
      "METHFNKS IT IM LJKS E WEOSEL  generation =  34\n",
      "METHZNKS IT IG LFKI S WEQSEL  generation =  35\n",
      "METHBNKS IT IR LWKP B WEJSEL  generation =  36\n",
      "METHNNKS IT IY LTKN X WEUSEL  generation =  37\n",
      "METHENKS IT IO LNKK J WETSEL  generation =  38\n",
      "METHNNKS IT IV LLKG W WEQSEL  generation =  39\n",
      "METH NKS IT IN LCKL K WEESEL  generation =  40\n",
      "METHYNKS IT IE LLKU M WEUSEL  generation =  41\n",
      "METHRNKS IT IH LEKQ Y WEGSEL  generation =  42\n",
      "METHANKS IT IG LVKJ P WECSEL  generation =  43\n",
      "METHKNKS IT IJ LEKJ V WEHSEL  generation =  44\n",
      "METHCNKS IT II LFKP F WEPSEL  generation =  45\n",
      "METHMNKS IT IR LCKF E WEHSEL  generation =  46\n",
      "METHKNKS IT IJ LEKO G WENSEL  generation =  47\n",
      "METHCNKS IT IF LRKH D WESSEL  generation =  48\n",
      "METHTNKS IT IM LPKF K WEVSEL  generation =  49\n",
      "METHYNKS IT IT LCK  D WELSEL  generation =  50\n",
      "METHDNKS IT IG LBKP C WEFSEL  generation =  51\n",
      "METHNNKS IT IP LRKN U WEJSEL  generation =  52\n",
      "METHCNKS IT IM LUKW J WEVSEL  generation =  53\n",
      "METHKNKS IT IO LCKV B WEGSEL  generation =  54\n",
      "METHFNKS IT IO LMKB B WE SEL  generation =  55\n",
      "METHDNKS IT IT LFKM J WEYSEL  generation =  56\n",
      "METHXNKS IT IX LIKT W WEVSEL  generation =  57\n",
      "METHMNKS IT IG LIKC Q WEJSEL  generation =  58\n",
      "METH NKS IT IV LIKY K WERSEL  generation =  59\n",
      "METHWNKS IT IS LIKG J WEDSEL  generation =  60\n",
      "METHQNKS IT IS LIK  R WEJSEL  generation =  61\n",
      "METHMNKS IT IS LIKX R WEQSEL  generation =  62\n",
      "METHVNKS IT IS LIKB X WEZSEL  generation =  63\n",
      "METHMNKS IT IS LIKJ T WEESEL  generation =  64\n",
      "METHQNKS IT IS LIKZ S WEPSEL  generation =  65\n",
      "METHENKS IT IS LIK  S WEHSEL  generation =  66\n",
      "METHLNKS IT IS LIKO C WESSEL  generation =  67\n",
      "METHONKS IT IS LIKH O WEESEL  generation =  68\n",
      "METHCNKS IT IS LIKG I WEASEL  generation =  69\n",
      "METHUNKS IT IS LIKG C WEASEL  generation =  70\n",
      "METHUNKS IT IS LIKE S WEASEL  generation =  71\n",
      "METHZNKS IT IS LIKE T WEASEL  generation =  72\n",
      "METHVNKS IT IS LIKE J WEASEL  generation =  73\n",
      "METHRNKS IT IS LIKE V WEASEL  generation =  74\n",
      "METHCNKS IT IS LIKE E WEASEL  generation =  75\n",
      "METHWNKS IT IS LIKE K WEASEL  generation =  76\n",
      "METHQNKS IT IS LIKE W WEASEL  generation =  77\n",
      "METHKNKS IT IS LIKE S WEASEL  generation =  78\n",
      "METHDNKS IT IS LIKE R WEASEL  generation =  79\n",
      "METHZNKS IT IS LIKE O WEASEL  generation =  80\n",
      "METHJNKS IT IS LIKE N WEASEL  generation =  81\n",
      "METHSNKS IT IS LIKE R WEASEL  generation =  82\n",
      "METHZNKS IT IS LIKE S WEASEL  generation =  83\n",
      "METHVNKS IT IS LIKE O WEASEL  generation =  84\n",
      "METHBNKS IT IS LIKE S WEASEL  generation =  85\n",
      "METHTNKS IT IS LIKE W WEASEL  generation =  86\n",
      "METHZNKS IT IS LIKE N WEASEL  generation =  87\n",
      "METHGNKS IT IS LIKE G WEASEL  generation =  88\n",
      "METHYNKS IT IS LIKE O WEASEL  generation =  89\n",
      "METHWNKS IT IS LIKE L WEASEL  generation =  90\n",
      "METHKNKS IT IS LIKE V WEASEL  generation =  91\n",
      "METHJNKS IT IS LIKE E WEASEL  generation =  92\n",
      "METHANKS IT IS LIKE W WEASEL  generation =  93\n",
      "METHZNKS IT IS LIKE F WEASEL  generation =  94\n",
      "METHYNKS IT IS LIKE T WEASEL  generation =  95\n",
      "METHINKS IT IS LIKE Z WEASEL  generation =  96\n",
      "METHINKS IT IS LIKE I WEASEL  generation =  97\n",
      "METHINKS IT IS LIKE V WEASEL  generation =  98\n",
      "METHINKS IT IS LIKE F WEASEL  generation =  99\n",
      "METHINKS IT IS LIKE K WEASEL  generation =  100\n",
      "METHINKS IT IS LIKE S WEASEL  generation =  101\n",
      "METHINKS IT IS LIKE L WEASEL  generation =  102\n",
      "METHINKS IT IS LIKE J WEASEL  generation =  103\n",
      "METHINKS IT IS LIKE W WEASEL  generation =  104\n",
      "METHINKS IT IS LIKE I WEASEL  generation =  105\n",
      "METHINKS IT IS LIKE D WEASEL  generation =  106\n",
      "METHINKS IT IS LIKE N WEASEL  generation =  107\n",
      "METHINKS IT IS LIKE I WEASEL  generation =  108\n",
      "METHINKS IT IS LIKE R WEASEL  generation =  109\n",
      "METHINKS IT IS LIKE Z WEASEL  generation =  110\n",
      "METHINKS IT IS LIKE L WEASEL  generation =  111\n",
      "METHINKS IT IS LIKE X WEASEL  generation =  112\n",
      "METHINKS IT IS LIKE X WEASEL  generation =  113\n",
      "METHINKS IT IS LIKE C WEASEL  generation =  114\n",
      "METHINKS IT IS LIKE   WEASEL  generation =  115\n",
      "METHINKS IT IS LIKE U WEASEL  generation =  116\n",
      "METHINKS IT IS LIKE F WEASEL  generation =  117\n",
      "METHINKS IT IS LIKE I WEASEL  generation =  118\n",
      "METHINKS IT IS LIKE E WEASEL  generation =  119\n",
      "METHINKS IT IS LIKE D WEASEL  generation =  120\n",
      "METHINKS IT IS LIKE T WEASEL  generation =  121\n",
      "METHINKS IT IS LIKE P WEASEL  generation =  122\n",
      "METHINKS IT IS LIKE R WEASEL  generation =  123\n",
      "METHINKS IT IS LIKE L WEASEL  generation =  124\n",
      "METHINKS IT IS LIKE R WEASEL  generation =  125\n",
      "METHINKS IT IS LIKE K WEASEL  generation =  126\n",
      "METHINKS IT IS LIKE B WEASEL  generation =  127\n",
      "METHINKS IT IS LIKE D WEASEL  generation =  128\n",
      "METHINKS IT IS LIKE T WEASEL  generation =  129\n",
      "METHINKS IT IS LIKE T WEASEL  generation =  130\n",
      "METHINKS IT IS LIKE K WEASEL  generation =  131\n",
      "METHINKS IT IS LIKE D WEASEL  generation =  132\n",
      "METHINKS IT IS LIKE F WEASEL  generation =  133\n",
      "METHINKS IT IS LIKE O WEASEL  generation =  134\n",
      "METHINKS IT IS LIKE K WEASEL  generation =  135\n",
      "METHINKS IT IS LIKE Z WEASEL  generation =  136\n",
      "METHINKS IT IS LIKE Q WEASEL  generation =  137\n",
      "METHINKS IT IS LIKE G WEASEL  generation =  138\n",
      "METHINKS IT IS LIKE I WEASEL  generation =  139\n",
      "METHINKS IT IS LIKE E WEASEL  generation =  140\n",
      "METHINKS IT IS LIKE K WEASEL  generation =  141\n",
      "METHINKS IT IS LIKE O WEASEL  generation =  142\n",
      "METHINKS IT IS LIKE Y WEASEL  generation =  143\n",
      "METHINKS IT IS LIKE C WEASEL  generation =  144\n",
      "METHINKS IT IS LIKE E WEASEL  generation =  145\n",
      "METHINKS IT IS LIKE X WEASEL  generation =  146\n",
      "METHINKS IT IS LIKE E WEASEL  generation =  147\n",
      "METHINKS IT IS LIKE M WEASEL  generation =  148\n",
      "METHINKS IT IS LIKE J WEASEL  generation =  149\n",
      "METHINKS IT IS LIKE D WEASEL  generation =  150\n",
      "METHINKS IT IS LIKE A WEASEL  generation =  151\n"
     ]
    }
   ],
   "source": [
    "###YOUR CODE HERE###\n",
    "\n",
    "\n"
   ]
  },
  {
   "cell_type": "markdown",
   "id": "21699b85",
   "metadata": {},
   "source": [
    "## Spicy problem: complex version"
   ]
  },
  {
   "cell_type": "markdown",
   "id": "0185c5f8",
   "metadata": {},
   "source": [
    "There is something odd about the algoritm above. Evolution does not work like that. Have a look at the figure below:  \n",
    "![fig1](pics/fig1.png)\n",
    "\n",
    "Note that, in generation 8, the 25th character, which had been correct (A), becomes incorrect (I). The program written by Dawkins does not \"lock\" correct characters as we did, rather it measures at each iteration the closeness of the complete string to the 'target' phrase.\n",
    "\n",
    "Although Dawkins did not provide the source code for his program, a \"Weasel\" style algorithm could run as follows:  \n",
    "\n",
    "- Start with a random string of 28 characters.\n",
    "- Make 100 copies of the string (reproduce).\n",
    "- For each character in each of the 100 copies, with a probability of 5%, replace (mutate) the character with a new random character.\n",
    "- Compare each new string with the target string \"METHINKS IT IS LIKE A WEASEL\", and give each a score (the number of letters in the string that are correct and in the correct position).\n",
    "- If any of the new strings has a perfect score (28), halt. Otherwise, take the highest scoring string, and go to step 2.\n",
    "\n",
    "Write the new version according to this algoritm below:"
   ]
  },
  {
   "cell_type": "code",
   "execution_count": 1,
   "id": "3e617b0f",
   "metadata": {},
   "outputs": [],
   "source": [
    "###DO NOT REMOVE###\n",
    "import string\n",
    "import random\n",
    "#random.seed(10)\n",
    "\n",
    "TARGET = [i for i in \"METHINKS IT IS LIKE A WEASEL\"]\n",
    "VOLUME = 100\n",
    "MUT_RATE = 0.05\n",
    "LETTERS =  string.ascii_uppercase + \" \"\n",
    "SEED = [random.choice(LETTERS) for i in range(len(TARGET))]"
   ]
  },
  {
   "cell_type": "code",
   "execution_count": 3,
   "id": "d92a56c0",
   "metadata": {},
   "outputs": [
    {
     "name": "stdout",
     "output_type": "stream",
     "text": [
      "WDHNW SOGAEDDSEQDWBUXQMFHAXO  generation 1\n",
      "WDHNW SOGAEDDSEQDWBUXQMFHSXO  generation 2\n",
      "WDHNW SOGAEDDSEQDWBUXQMEHSXO  generation 3\n",
      "WDHNW SOGAE DSEQDWBUXQMEHSXO  generation 4\n",
      "WDHNW SOGAE DS QDWBUXQMEHSXO  generation 5\n",
      "WDHNW SSGAE DS QDWBUXQMEHSXO  generation 6\n",
      "WDHNW SSGAE DS LDWBUXQMEHSXO  generation 7\n",
      "WDHNW SSGAE DS LDWBUAQMEHSXO  generation 8\n",
      "WDHHW SSGAE DS LDWBUAQMEHSXO  generation 9\n",
      "MDHHW SSGAE DS LDWBUAQMEHSXO  generation 10\n",
      "MDHHW SSGAE DS LDWBUAQMEHSXL  generation 11\n",
      "MDHHW SSGAE DS LDWEUAQMEHSXL  generation 12\n",
      "MDTHW SSGAE DS LDWEUAQMEHSXL  generation 13\n",
      "MDTHWNSSGAE DS LDWEUAQMEHSXL  generation 14\n",
      "MDTHWNSSGAE DS LDKEUAQMEHSXL  generation 15\n",
      "MDTHWNSSGAE DS LDKEUAQMEHSEL  generation 16\n",
      "MDTHWNSS AE DS LDKEUAQMEHSEL  generation 17\n",
      "MDTHWNSS AE DS LDKEUAQWEHSEL  generation 18\n",
      "MDTHWNSS AE DS L KEUAQWEHSEL  generation 19\n",
      "MDTHWNSS AE DS LIKEUAQWEHSEL  generation 20\n",
      "MDTHWNSS AE DS LIKEUAQWEASEL  generation 21\n",
      "MDTHWNSS AE IS LIKEUAQWEASEL  generation 22\n",
      "MDTHWNSS AE IS LIKE AQWEASEL  generation 23\n",
      "MDTHWNSS AT IS LIKE AQWEASEL  generation 24\n",
      "MDTHWNSS IT IS LIKE AQWEASEL  generation 25\n",
      "MDTHUNSS IT IS LIKE AQWEASEL  generation 26\n",
      "METHUNSS IT IS LIKE AQWEASEL  generation 27\n",
      "METHUNSS IT IS LIKE AQWEASEL  generation 28\n",
      "METHUNSS IT IS LIKE AHWEASEL  generation 29\n",
      "METHUNOS IT IS LIKE AHWEASEL  generation 30\n",
      "METH NOS IT IS LIKE AHWEASEL  generation 31\n",
      "METH NOS IT IS LIKE AHWEASEL  generation 32\n",
      "METH NOS IT IS LIKE AHWEASEL  generation 33\n",
      "METHFNOS IT IS LIKE AHWEASEL  generation 34\n",
      "METHFNOS IT IS LIKE AHWEASEL  generation 35\n",
      "METHFNKS IT IS LIKE AHWEASEL  generation 36\n",
      "METHVNKS IT IS LIKE AHWEASEL  generation 37\n",
      "METHINKS IT IS LIKE AHWEASEL  generation 38\n",
      "METHINKS IT IS LIKE AHWEASEL  generation 39\n",
      "METHINKS IT IS LIKE ASWEASEL  generation 40\n",
      "METHINKS IT IS LIKE ASWEASEL  generation 41\n",
      "METHINKS IT IS LIKE A WEASEL  generation 42\n"
     ]
    }
   ],
   "source": [
    "###YOUR CODE HERE###\n",
    "\n",
    "\n"
   ]
  },
  {
   "cell_type": "markdown",
   "id": "1f1182ac",
   "metadata": {},
   "source": [
    "The end..."
   ]
  }
 ],
 "metadata": {
  "kernelspec": {
   "display_name": "Python 3",
   "language": "python",
   "name": "python3"
  },
  "language_info": {
   "codemirror_mode": {
    "name": "ipython",
    "version": 3
   },
   "file_extension": ".py",
   "mimetype": "text/x-python",
   "name": "python",
   "nbconvert_exporter": "python",
   "pygments_lexer": "ipython3",
   "version": "3.8.8"
  }
 },
 "nbformat": 4,
 "nbformat_minor": 5
}
