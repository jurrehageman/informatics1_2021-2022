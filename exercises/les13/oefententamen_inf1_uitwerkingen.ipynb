{
 "cells": [
  {
   "cell_type": "markdown",
   "metadata": {},
   "source": [
    "# Hertentamen Informatica 1: Uitwerkingen"
   ]
  },
  {
   "cell_type": "markdown",
   "metadata": {},
   "source": [
    "## Studiejaar: 2018-2019"
   ]
  },
  {
   "cell_type": "markdown",
   "metadata": {},
   "source": [
    "In alle gevallen wordt gevraagd om met Python functies en methoden de gegeven variabelen te veranderen. <br>\n",
    "Een voorbeeld: <br>\n",
    "Als gevraagd wordt om aan een list een extra item toe te voegen dan is het volgende **niet** toegestaan:"
   ]
  },
  {
   "cell_type": "code",
   "execution_count": 1,
   "metadata": {},
   "outputs": [],
   "source": [
    "### Do not remove\n",
    "my_list = ['Adenine']\n",
    "my_list = ['Adenine', 'Thymine']"
   ]
  },
  {
   "cell_type": "markdown",
   "metadata": {},
   "source": [
    "Het is de bedoeling dat je een lijst methode gebruikt of Python syntax gebruikt om de lijst aan te vullen:"
   ]
  },
  {
   "cell_type": "code",
   "execution_count": 2,
   "metadata": {},
   "outputs": [],
   "source": [
    "### Do not remove\n",
    "my_list = ['Adenine']\n",
    "my_list.append('Thymine') # Met een methode of ...\n",
    "my_list += ['Thymine'] # ... door middel van synthax "
   ]
  },
  {
   "cell_type": "markdown",
   "metadata": {},
   "source": [
    "## Vraag 1 [2p]"
   ]
  },
  {
   "cell_type": "markdown",
   "metadata": {},
   "source": [
    "Maak een variabele `voornaam` en een variabele `achternaam` aan. Geef deze variabelen de juiste waarden (je voornaam en achternaam).  \n",
    "Print je voornaam gevolgd door je achternaam door gebruik te maken van de variabelen met behulp van de print functie.  "
   ]
  },
  {
   "cell_type": "code",
   "execution_count": 3,
   "metadata": {},
   "outputs": [
    {
     "name": "stdout",
     "output_type": "stream",
     "text": [
      "Jurre Hageman\n"
     ]
    }
   ],
   "source": [
    "###YOUR CODE HERE###\n",
    "\n",
    "\n",
    "###ANSWER###\n",
    "voornaam = 'Jurre'\n",
    "achternaam = 'Hageman'\n",
    "print(voornaam, achternaam)\n",
    "###END ANSWER###"
   ]
  },
  {
   "cell_type": "markdown",
   "metadata": {},
   "source": [
    "Beoordeling:  \n",
    "variabelen goed: 1p  \n",
    "print: 1p\n",
    "String concatenatie mag maar dan wel een spatie er tussen."
   ]
  },
  {
   "cell_type": "markdown",
   "metadata": {},
   "source": [
    "## Vraag 2"
   ]
  },
  {
   "cell_type": "markdown",
   "metadata": {},
   "source": [
    "### Vraag 2a [2p]"
   ]
  },
  {
   "cell_type": "markdown",
   "metadata": {},
   "source": [
    "Python heeft een built-in functie om hulp te krijgen.  \n",
    "Print met deze built-in functie hulp voor een lijst methode waarmee items in een lijst in omgekeerde volgorde gezet worden."
   ]
  },
  {
   "cell_type": "code",
   "execution_count": 4,
   "metadata": {},
   "outputs": [
    {
     "name": "stdout",
     "output_type": "stream",
     "text": [
      "Help on method_descriptor:\n",
      "\n",
      "reverse(self, /)\n",
      "    Reverse *IN PLACE*.\n",
      "\n",
      "None\n"
     ]
    }
   ],
   "source": [
    "###YOUR CODE HERE###\n",
    "\n",
    "\n",
    "###ANSWER###\n",
    "print(help(list.reverse))\n",
    "###END ANSWER###"
   ]
  },
  {
   "cell_type": "markdown",
   "metadata": {},
   "source": [
    "Beoordeling:  \n",
    "help(list): 1p\n",
    "help(list.reverse): 2p"
   ]
  },
  {
   "cell_type": "markdown",
   "metadata": {},
   "source": [
    "### Vraag 2b [2p]"
   ]
  },
  {
   "cell_type": "markdown",
   "metadata": {},
   "source": [
    "Python beschikt over een wiskunde module.  \n",
    "Gebruik deze module om de logaritme van `14348907` met grondtal `3` te berekenen en print het resultaat naar het scherm."
   ]
  },
  {
   "cell_type": "code",
   "execution_count": 5,
   "metadata": {},
   "outputs": [
    {
     "name": "stdout",
     "output_type": "stream",
     "text": [
      "14.999999999999998\n"
     ]
    }
   ],
   "source": [
    "###YOUR CODE HERE###\n",
    "\n",
    "\n",
    "###ANSWER###\n",
    "import math\n",
    "print(math.log(14348907, 3))\n",
    "###END ANSWER###"
   ]
  },
  {
   "cell_type": "markdown",
   "metadata": {},
   "source": [
    "Math import: 1p  \n",
    "correct gebruik math.log: 1p"
   ]
  },
  {
   "cell_type": "markdown",
   "metadata": {},
   "source": [
    "### Vraag 3"
   ]
  },
  {
   "cell_type": "markdown",
   "metadata": {},
   "source": [
    "Je hebt een dictionary met basen:"
   ]
  },
  {
   "cell_type": "code",
   "execution_count": 6,
   "metadata": {},
   "outputs": [],
   "source": [
    "dna_bases = {'A': 'Adenine', 'T': 'Thymine', 'U': 'Uracil', 'C': 'Cytosine'}"
   ]
  },
  {
   "cell_type": "markdown",
   "metadata": {},
   "source": [
    "### Vraag 3a [2p]"
   ]
  },
  {
   "cell_type": "markdown",
   "metadata": {},
   "source": [
    "Voeg het nucleobase `Guanine` (G) toe aan de dictionary met behulp van Python syntax of een dictionary methode.     \n",
    "Als je hier niet uitkomt gebruik je voor de volgende opdracht:"
   ]
  },
  {
   "cell_type": "code",
   "execution_count": 7,
   "metadata": {},
   "outputs": [],
   "source": [
    "### Do not remove\n",
    "dna_bases = {'A': 'Adenine', 'C': 'Cytosine', 'G': 'Guanine', 'T': 'Thymine', 'U': 'Uracil'}"
   ]
  },
  {
   "cell_type": "code",
   "execution_count": 8,
   "metadata": {},
   "outputs": [
    {
     "name": "stdout",
     "output_type": "stream",
     "text": [
      "{'A': 'Adenine', 'C': 'Cytosine', 'G': 'Guanine', 'T': 'Thymine', 'U': 'Uracil'}\n"
     ]
    }
   ],
   "source": [
    "###YOUR CODE HERE###\n",
    "\n",
    "\n",
    "###ANSWER###\n",
    "dna_bases['G'] = 'Guanine'\n",
    "print(dna_bases)\n",
    "###END ANSWER###"
   ]
  },
  {
   "cell_type": "markdown",
   "metadata": {},
   "source": [
    "Beoordeling:  \n",
    "[] synthax : 2p  \n",
    "update methode: 2p"
   ]
  },
  {
   "cell_type": "markdown",
   "metadata": {},
   "source": [
    "### Vraag 3b [2p]"
   ]
  },
  {
   "cell_type": "markdown",
   "metadata": {},
   "source": [
    "Verwijder nu het sleutel-waarde paar `'U': 'Uracil'`  "
   ]
  },
  {
   "cell_type": "code",
   "execution_count": 9,
   "metadata": {},
   "outputs": [
    {
     "name": "stdout",
     "output_type": "stream",
     "text": [
      "{'A': 'Adenine', 'C': 'Cytosine', 'G': 'Guanine', 'T': 'Thymine'}\n"
     ]
    }
   ],
   "source": [
    "###YOUR CODE HERE###\n",
    "\n",
    "\n",
    "###ANSWER###\n",
    "del dna_bases['U']\n",
    "print(dna_bases)\n",
    "###END ANSWER###"
   ]
  },
  {
   "cell_type": "markdown",
   "metadata": {},
   "source": [
    "Als je hier niet uitkomt gebruik je voor de volgende opdracht:"
   ]
  },
  {
   "cell_type": "code",
   "execution_count": 10,
   "metadata": {},
   "outputs": [],
   "source": [
    "### Do not remove\n",
    "dna_bases = {'A': 'Adenine', 'C': 'Cytosine', 'G': 'Guanine', 'T': 'Thymine'}"
   ]
  },
  {
   "cell_type": "markdown",
   "metadata": {},
   "source": [
    "Beoordeling:  \n",
    "del: 2p\n",
    "pop: 2p"
   ]
  },
  {
   "cell_type": "markdown",
   "metadata": {},
   "source": [
    "### Vraag 3c [2p]"
   ]
  },
  {
   "cell_type": "markdown",
   "metadata": {},
   "source": [
    "Gebruik Python syntax om de waarde van sleutel `G` uit bovenstaande dictionary naar het scherm te printen."
   ]
  },
  {
   "cell_type": "code",
   "execution_count": 11,
   "metadata": {},
   "outputs": [
    {
     "name": "stdout",
     "output_type": "stream",
     "text": [
      "Guanine\n"
     ]
    }
   ],
   "source": [
    "###YOUR CODE HERE###\n",
    "\n",
    "\n",
    "###ANSWER###\n",
    "print(dna_bases['G'])\n",
    "###END ANSWER###"
   ]
  },
  {
   "cell_type": "markdown",
   "metadata": {},
   "source": [
    "Beoordeling:  \n",
    "Alles of niets"
   ]
  },
  {
   "cell_type": "markdown",
   "metadata": {},
   "source": [
    "### Vraag 3d [3p]"
   ]
  },
  {
   "cell_type": "markdown",
   "metadata": {},
   "source": [
    "Het nadeel van bovenstaande methode is dat het opvragen van een waarde met een niet bestaande sleutel een (key)error geeft.  \n",
    "Gebruik een dictionary methode om de waarde van `G` met een dictionary methode uit bovenstaande dictionary naar het scherm te printen.  \n",
    "Test daarbij of de sleutel `Q` geen foutmelding geeft."
   ]
  },
  {
   "cell_type": "code",
   "execution_count": 12,
   "metadata": {},
   "outputs": [
    {
     "name": "stdout",
     "output_type": "stream",
     "text": [
      "None\n"
     ]
    }
   ],
   "source": [
    "###YOUR CODE HERE###\n",
    "\n",
    "\n",
    "###ANSWER###\n",
    "print(dna_bases.get('Q'))\n",
    "###END ANSWER###"
   ]
  },
  {
   "cell_type": "markdown",
   "metadata": {},
   "source": [
    "### Vraag 3e [6p]"
   ]
  },
  {
   "cell_type": "markdown",
   "metadata": {},
   "source": [
    "Hieronder is een DNA molecuul als string gegeven:\n",
    "\n",
    "`dna = \"g a t c a a c c g g t t\"`\n",
    "\n",
    "Zet het DNA molecuul om in een string met hoofdletters zonder spaties er tussen.  \n",
    "koppel het aan de variabele `dna_up`.  \n",
    "Print vervolgens `dna_up` naar het scherm.  \n",
    "Hierbij is het de bedoeling dat je GEEN for loop gebruikt (en geen list comprehension).  \n",
    "Wel mag je de data omzetten naar andere data typen en gebruik maken van de data object methoden.\n"
   ]
  },
  {
   "cell_type": "code",
   "execution_count": 13,
   "metadata": {},
   "outputs": [
    {
     "name": "stdout",
     "output_type": "stream",
     "text": [
      "GATCAACCGGTT\n",
      "GATCAACCGGTT\n",
      "\n"
     ]
    }
   ],
   "source": [
    "###YOUR CODE HERE###\n",
    "\n",
    "\n",
    "###ANSWER###\n",
    "dna = \"g a t c a a c c g g t t\"\n",
    "dna_up = dna.upper()\n",
    "dna_up = dna_up.split()\n",
    "dna_up = \"\".join(dna_up)\n",
    "print(dna_up)\n",
    "\n",
    "#Of:\n",
    "dna = \"g a t c a a c c g g t t\"\n",
    "dna_up = dna.upper()\n",
    "dna_up = dna_up.replace(' ', '')\n",
    "print(dna_up)\n",
    "print()\n",
    "###END ANSWER###"
   ]
  },
  {
   "cell_type": "markdown",
   "metadata": {},
   "source": [
    "dna.upper(): 2p  \n",
    "via str.split/list join: 4p  \n",
    "via str.replace: 4p"
   ]
  },
  {
   "cell_type": "markdown",
   "metadata": {},
   "source": [
    "## Vraag 4 [10p]"
   ]
  },
  {
   "cell_type": "markdown",
   "metadata": {},
   "source": [
    "Hieronder is de aminozuursequentie gegeven van het groen fluorescente eiwit:  "
   ]
  },
  {
   "cell_type": "code",
   "execution_count": 14,
   "metadata": {},
   "outputs": [],
   "source": [
    "### Do not remove\n",
    "gfp = \"\"\"MSRVSKGEELFTGVVPILVELDGDVNGHKFSVSGEGEGDATYGKLTLKFICTTGKLPVPWPTLVTTLTYG\n",
    "VQCFSRYPDHMKQHDFFKSAMPEGYVQERTIFFKDDGNYKTRAEVKFEGDTLVNRIELKGIDFKEDGNIL\n",
    "GHKLEYNYNSHNVYIMADKQKNGIKVNFKIRHNIEDGSVQLADHYQQNTPIGDGPVLLPDNHYLSTQSAL\n",
    "SKDPNEKRDHMVLLEFVTAAGITLGMDELYK\"\"\""
   ]
  },
  {
   "cell_type": "markdown",
   "metadata": {},
   "source": [
    "Alle aminozuren zijn hieronder gegeven:  "
   ]
  },
  {
   "cell_type": "code",
   "execution_count": 15,
   "metadata": {},
   "outputs": [],
   "source": [
    "### Do not remove\n",
    "aa = 'ACDEFGHIKLMNPQRSTVWY'"
   ]
  },
  {
   "cell_type": "markdown",
   "metadata": {},
   "source": [
    "Genereer een histogram voor het voorkomen van elk van de aminozuren.  \n",
    "Doe dit op een efficiente manier.  \n",
    "Gebruik asterisks (\\*) voor het weergeven van het aantal aminozuren.  \n",
    "Bijvoorbeeld: De `A` komt 8 maal voor en hiervoor print je dus 8 maal de asterisk.  \n",
    "Zie hieronder voorbeeld output:  "
   ]
  },
  {
   "cell_type": "markdown",
   "metadata": {},
   "source": [
    "A \\*\\*\\*\\*\\*\\*\\*\\*  \n",
    "C \\*\\*  \n",
    "D \\*\\*\\*\\*\\*\\*\\*\\*\\*\\*\\*\\*\\*\\*\\*\\*\\*\\*  \n",
    "E \\*\\*\\*\\*\\*\\*\\*\\*\\*\\*\\*\\*\\*\\*\\*\\*  \n",
    "etc..."
   ]
  },
  {
   "cell_type": "code",
   "execution_count": 16,
   "metadata": {},
   "outputs": [
    {
     "name": "stdout",
     "output_type": "stream",
     "text": [
      "A ********\n",
      "C **\n",
      "D ******************\n",
      "E ****************\n",
      "F ************\n",
      "G **********************\n",
      "H *********\n",
      "I ************\n",
      "K ********************\n",
      "L *********************\n",
      "M ******\n",
      "N *************\n",
      "P **********\n",
      "Q ********\n",
      "R *******\n",
      "S ***********\n",
      "T ****************\n",
      "V ******************\n",
      "W *\n",
      "Y ***********\n"
     ]
    }
   ],
   "source": [
    "###YOUR CODE HERE###\n",
    "\n",
    "\n",
    "###ANSWER###\n",
    "for i in aa:\n",
    "    print(i, gfp.count(i) * '*')\n",
    "###END ANSWER###"
   ]
  },
  {
   "cell_type": "markdown",
   "metadata": {},
   "source": [
    "str.count() gebruikt: 3p  \n",
    "Bijna werkend: 5p  \n",
    "Indien andersom aangepakt (door GFP itereren en AA.count, waardoor redundancy): 5p  \n",
    "Goede histogram verkregen (dus werkend, maar inefficiente code): 7p  \n",
    "Goed histogram en efficiente code (syntax): 10p"
   ]
  },
  {
   "cell_type": "markdown",
   "metadata": {},
   "source": [
    "## Vraag 5 [15p]"
   ]
  },
  {
   "cell_type": "markdown",
   "metadata": {},
   "source": [
    "mRNA wordt steeds aangemaakt en afgebroken. De aanmaak is constant, maar de afbraak betreft een percentage van de hoeveelheid die er is. Meestal is er een balans tussen aanmaak en afbraak en is er sprake van een evenwicht. Als de aanmaak en afbraaksnelheid bekend zijn, kun je berekenen hoe dat evenwicht bereikt wordt, door middel van de volgende formule:\n",
    "```\n",
    "mRNA += aanmaak – mRNA * afbraak  \n",
    "```\n",
    "Gebruik 0.2 voor de aanmaak en 0.1 voor de afbraak, begin met mRNA = 0 fmol/liter.  \n",
    "\n",
    "Schrijf python code die:  \n",
    "- de hoeveelheid mRNA berekent totdat de verandering (aanmaak – mRNA * afbraak) kleiner is dan 0.00001 \n",
    "- op elke stap de hoeveelheid mRNA print\n",
    "- de hoeveelheid mRNA print die in evenwicht aanwezig is (in fmol/liter)\n",
    " "
   ]
  },
  {
   "cell_type": "code",
   "execution_count": 17,
   "metadata": {},
   "outputs": [
    {
     "name": "stdout",
     "output_type": "stream",
     "text": [
      "mRNA 0\n",
      "mRNA 0.02\n",
      "mRNA 0.038\n",
      "mRNA 0.0542\n",
      "mRNA 0.06878\n",
      "mRNA 0.0819\n",
      "mRNA 0.09371\n",
      "mRNA 0.10434\n",
      "mRNA 0.11391\n",
      "mRNA 0.12252\n",
      "mRNA 0.13026\n",
      "mRNA 0.13724\n",
      "mRNA 0.14351\n",
      "mRNA 0.14916\n",
      "mRNA 0.15425\n",
      "mRNA 0.15882\n",
      "mRNA 0.16294\n",
      "mRNA 0.16665\n",
      "mRNA 0.16998\n",
      "mRNA 0.17298\n",
      "mRNA 0.17568\n",
      "mRNA 0.17812\n",
      "mRNA 0.1803\n",
      "mRNA 0.18227\n",
      "mRNA 0.18405\n",
      "mRNA 0.18564\n",
      "mRNA 0.18708\n",
      "mRNA 0.18837\n",
      "mRNA 0.18953\n",
      "mRNA 0.19058\n",
      "mRNA 0.19152\n",
      "mRNA 0.19237\n",
      "mRNA 0.19313\n",
      "mRNA 0.19382\n",
      "mRNA 0.19444\n",
      "mRNA 0.19499\n",
      "mRNA 0.19549\n",
      "mRNA 0.19594\n",
      "mRNA 0.19635\n",
      "mRNA 0.19672\n",
      "mRNA 0.19704\n",
      "mRNA 0.19734\n",
      "mRNA 0.19761\n",
      "mRNA 0.19784\n",
      "mRNA 0.19806\n",
      "mRNA 0.19825\n",
      "mRNA 0.19843\n",
      "mRNA 0.19859\n",
      "mRNA 0.19873\n",
      "mRNA 0.19885\n",
      "mRNA 0.19897\n",
      "mRNA 0.19907\n",
      "mRNA 0.19917\n",
      "mRNA 0.19925\n",
      "mRNA 0.19932\n",
      "mRNA 0.19939\n",
      "mRNA 0.19945\n",
      "mRNA 0.19951\n",
      "mRNA 0.19956\n",
      "mRNA 0.1996\n",
      "mRNA 0.19964\n",
      "mRNA 0.19968\n",
      "mRNA 0.19971\n",
      "mRNA 0.19974\n",
      "mRNA 0.19976\n",
      "mRNA 0.19979\n",
      "mRNA 0.19981\n",
      "mRNA 0.19983\n",
      "mRNA 0.19985\n",
      "mRNA 0.19986\n",
      "mRNA 0.19987\n",
      "mRNA 0.19989\n",
      "mRNA 0.1999\n",
      "mRNA 0.19991\n",
      "mRNA in evenwicht: 0.2\n",
      "end...\n"
     ]
    }
   ],
   "source": [
    "###YOUR CODE HERE###\n",
    "\n",
    "\n",
    "###ANSWER###\n",
    "aanmaak = 0.2\n",
    "afbraak = 0.1\n",
    "evenwicht = 0.00001\n",
    "mRNA = 0\n",
    "verandering = 1\n",
    "while verandering >= evenwicht:\n",
    "    verandering = (aanmaak - mRNA) * afbraak\n",
    "    print(\"mRNA\", round(mRNA, 5))\n",
    "    mRNA += verandering\n",
    "print(\"mRNA in evenwicht:\", round(mRNA, 2))\n",
    "print('end...')\n",
    "###END ANSWER###"
   ]
  },
  {
   "cell_type": "markdown",
   "metadata": {},
   "source": [
    "## Vraag 6 [15p]"
   ]
  },
  {
   "cell_type": "markdown",
   "metadata": {},
   "source": [
    "Schrijf een script dat twee bestanden met secundaire structuur inleest: \n",
    "- ubiquitine.dss  \n",
    "- villin.dss  \n",
    "\n",
    "De secundaire structuur is gegeven als H (helix), S (sheet) en L (loop).\n",
    "\n",
    "Schrijf een functie die \n",
    "  1. een bestand leest  \n",
    "  2. het aantal letters (aminozuren) print  \n",
    "  3. de percentages H, S en L teruggeeft.  \n",
    "\n",
    "Gebruik de functie voor beide bestanden.\n",
    "Print welk bestand het hoogste percentage H heeft.\n",
    "Print welk bestand het hoogste percentage S heeft.\n",
    "\n",
    "Indien het je niet lukt het bestand te openen dan kun je de volgende data gebruiken:"
   ]
  },
  {
   "cell_type": "code",
   "execution_count": 18,
   "metadata": {},
   "outputs": [],
   "source": [
    "### Do not remove\n",
    "ubiquitine = \"SSSSSSSSLLSSSSSSLLLLHHHHHHHHHHHHHHHLLLLSSSSSHHHSSSSSS\" \n",
    "villin = \"SSSHHHHHLLLSSSHHHHHHLLHHHHHHHHHHLLLL\""
   ]
  },
  {
   "cell_type": "code",
   "execution_count": 19,
   "metadata": {},
   "outputs": [
    {
     "name": "stdout",
     "output_type": "stream",
     "text": [
      "aa in ubiquitin.dss : 167\n",
      "S 7\n",
      "H 105\n",
      "L 55\n",
      "aa in villin.dss : 282\n",
      "S 45\n",
      "H 108\n",
      "L 129\n",
      "max H: villin.dss\n",
      "max S: villin.dss\n",
      "end...\n"
     ]
    }
   ],
   "source": [
    "###YOUR CODE HERE###\n",
    "\n",
    "\n",
    "###ANSWER###\n",
    "files = ('ubiquitin.dss', 'villin.dss')\n",
    "\n",
    "\n",
    "def sec_struct(file_name):\n",
    "    file_obj = open(file)\n",
    "    structure_data = {'S': 0, 'H': 0, 'L': 0}\n",
    "    num_of_aa = 0\n",
    "    for line in file_obj:\n",
    "        line = line.strip()\n",
    "        num_of_aa += len(line)\n",
    "        for aa in line:\n",
    "            structure_data[aa] += 1\n",
    "    file_obj.close()\n",
    "    print(\"aa in\", file_name, \":\", num_of_aa)\n",
    "    return structure_data\n",
    "\n",
    "\n",
    "max_H = 0\n",
    "max_S = 0\n",
    "max_H_file_name = ''\n",
    "max_S_file_name = ''\n",
    "for file in files:\n",
    "    struct_data = sec_struct(file)\n",
    "    if struct_data['H'] > max_H:\n",
    "        max_H_file_name = file\n",
    "    if struct_data['S'] > max_S:\n",
    "        max_S_file_name = file\n",
    "    for key in struct_data:\n",
    "        print(key, struct_data[key])\n",
    "print('max H:', max_H_file_name)\n",
    "print('max S:', max_S_file_name)\n",
    "print('end...')\n",
    "###END ANSWER###"
   ]
  },
  {
   "cell_type": "markdown",
   "metadata": {},
   "source": [
    "EINDE"
   ]
  }
 ],
 "metadata": {
  "kernelspec": {
   "display_name": "Python 3 (ipykernel)",
   "language": "python",
   "name": "python3"
  },
  "language_info": {
   "codemirror_mode": {
    "name": "ipython",
    "version": 3
   },
   "file_extension": ".py",
   "mimetype": "text/x-python",
   "name": "python",
   "nbconvert_exporter": "python",
   "pygments_lexer": "ipython3",
   "version": "3.9.7"
  }
 },
 "nbformat": 4,
 "nbformat_minor": 2
}
