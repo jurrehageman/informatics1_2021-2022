{
 "cells": [
  {
   "cell_type": "markdown",
   "metadata": {},
   "source": [
    "# Exercises lesson 2"
   ]
  },
  {
   "cell_type": "markdown",
   "metadata": {},
   "source": [
    "Author: Jurre Hageman"
   ]
  },
  {
   "cell_type": "markdown",
   "metadata": {},
   "source": [
    "For these exercises, variables are set underneath the `###DO NOT REMOVE###` tag.  \n",
    "So do not remove this code.  \n",
    "You should write your code underneath the `###YOUR CODE HERE###` tag.  \n",
    "Provide comments with a short explanantion where needed."
   ]
  },
  {
   "cell_type": "markdown",
   "metadata": {},
   "source": [
    "## Exercise 1"
   ]
  },
  {
   "cell_type": "markdown",
   "metadata": {},
   "source": [
    "Create two variables that store your first name and last name. Print them using the print function after the message \"Hello\" (also stored in a seperate variable). The output should look like: Hello Jan Janssen."
   ]
  },
  {
   "cell_type": "code",
   "execution_count": 1,
   "metadata": {},
   "outputs": [
    {
     "name": "stdout",
     "output_type": "stream",
     "text": [
      "Hello Jurre Hageman\n"
     ]
    }
   ],
   "source": [
    "###YOUR CODE HERE###\n",
    "\n",
    "\n"
   ]
  },
  {
   "cell_type": "markdown",
   "metadata": {},
   "source": [
    "## Exercise 2"
   ]
  },
  {
   "cell_type": "markdown",
   "metadata": {},
   "source": [
    "Use the `dir` and `help` functions to explore the `strip` method to process the strings in a correct way.  \n",
    "There are multiple `strip` methods.  \n",
    "There might also be multiple ways to solve this.  \n",
    "You can use `dir` to find string methods and `help` to get information on how to use the string method. \n",
    "Look at the message and make corrections.\n",
    "If the message is `I hate trailing whitespace` then remove the trailing whitespace."
   ]
  },
  {
   "cell_type": "code",
   "execution_count": 10,
   "metadata": {},
   "outputs": [],
   "source": [
    "###DO NOT REMOVE###\n",
    "my_str1 = \"  I hate trailing whitespace \"\n",
    "my_str2 = \"  I hate trailing whitespace       \"\n",
    "my_str3 = \"  I hate trailing whitespace\\t\\t\\t\\t\\t\"\n",
    "my_str4 = \"  I hate trailing whitespace\\n\\n\\n\\n\\n\"\n",
    "my_str5 = \"  I hate trailing whitespace   \\n\\t   \\t\"\n",
    "my_str6 = \"    \\t \\n    I hate leading whitespace   \"\n",
    "my_str7 = \"    \\t \\n    I hate whitespace from both sides   \"\n",
    "my_str8 = \"I hate the number eight written as a number888\"\n",
    "my_str9 = \"---I hate dashes on the left---\"\n",
    "my_str10 = \"---I hate dashes on both sides---\""
   ]
  },
  {
   "cell_type": "code",
   "execution_count": 11,
   "metadata": {},
   "outputs": [
    {
     "name": "stdout",
     "output_type": "stream",
     "text": [
      "  I hate trailing whitespace\n",
      "  I hate trailing whitespace\n",
      "  I hate trailing whitespace\n",
      "  I hate trailing whitespace\n",
      "  I hate trailing whitespace\n",
      "I hate leading whitespace   \n",
      "I hate whitespace from both sides   \n",
      "I hate the number eight written as number\n",
      "I hate dashes on the left---\n",
      "I hate dashes on both sides\n"
     ]
    }
   ],
   "source": [
    "###YOUR CODE HERE###\n",
    "\n",
    "\n"
   ]
  },
  {
   "cell_type": "markdown",
   "metadata": {},
   "source": [
    "## Exercise 3"
   ]
  },
  {
   "cell_type": "markdown",
   "metadata": {},
   "source": [
    "Use `dir` and `help` to find methods and use them to manipulate the following strings in the correct output."
   ]
  },
  {
   "cell_type": "code",
   "execution_count": 18,
   "metadata": {},
   "outputs": [],
   "source": [
    "###DO NOT REMOVE###\n",
    "my_str1 = \"i am shouting\"\n",
    "my_str2 = \"I AM WHISPERING\"\n",
    "my_str3 = \"I will never do that again. \"\n",
    "my_str4 = \"Who will repair my miztake\"\n",
    "my_str5 = \"Do I startwith 'Do'?\"\n",
    "my_str6 = \"Is 'end?' the end of this scentence that ends with end?\"\n",
    "my_str7 = \"AMIUPPER\"\n",
    "my_str8 = \"How many letters 't' are in this scentence?\"\n",
    "my_str9 = \"At what position is the first occurance of letter 'p'?\"\n",
    "my_str10 = \"pLeAsE sWaP mY cAsE\""
   ]
  },
  {
   "cell_type": "markdown",
   "metadata": {},
   "source": [
    "Output:\n",
    "\n",
    "I AM SHOUTING  \n",
    "i am whispering  \n",
    "I will never do that again. I will never do that again. I will never do that again. I will never do that again. I will never do that again. I will never do that again. I will never do that again. I will never do that again. I will never do that again. I will never do that again.   \n",
    "Who will repair my mistake  \n",
    "True  \n",
    "True  \n",
    "True  \n",
    "5  \n",
    "8  \n",
    "PlEaSe SwAp My CaSe  "
   ]
  },
  {
   "cell_type": "code",
   "execution_count": 19,
   "metadata": {},
   "outputs": [
    {
     "name": "stdout",
     "output_type": "stream",
     "text": [
      "I AM SHOUTING\n",
      "i am whispering\n",
      "I will never do that again. I will never do that again. I will never do that again. I will never do that again. I will never do that again. I will never do that again. I will never do that again. I will never do that again. I will never do that again. I will never do that again. \n",
      "Who will repair my mistake\n",
      "True\n",
      "True\n",
      "True\n",
      "5\n",
      "8\n",
      "PlEaSe SwAp My CaSe\n"
     ]
    }
   ],
   "source": [
    "###YOUR CODE HERE###\n",
    "\n",
    "\n"
   ]
  },
  {
   "cell_type": "markdown",
   "metadata": {},
   "source": [
    "## Exercise 4"
   ]
  },
  {
   "cell_type": "markdown",
   "metadata": {},
   "source": [
    "Use a for loop to print every item of the groceries listed in the following list on a seperate line."
   ]
  },
  {
   "cell_type": "code",
   "execution_count": 21,
   "metadata": {},
   "outputs": [],
   "source": [
    "my_groceries = ['apples', 'bananas', 'bread', 'milk', 'walnuts', 'butter', 'yoghurt', 'lemonade']"
   ]
  },
  {
   "cell_type": "code",
   "execution_count": 22,
   "metadata": {},
   "outputs": [
    {
     "name": "stdout",
     "output_type": "stream",
     "text": [
      "apples\n",
      "bananas\n",
      "bread\n",
      "milk\n",
      "walnuts\n",
      "butter\n",
      "yoghurt\n",
      "lemonade\n"
     ]
    }
   ],
   "source": [
    "###YOUR CODE HERE###\n",
    "\n",
    "\n"
   ]
  },
  {
   "cell_type": "markdown",
   "metadata": {},
   "source": [
    "## Exercise 5"
   ]
  },
  {
   "cell_type": "markdown",
   "metadata": {},
   "source": [
    "Use for loops and the `range` function to print the following range of numbers on screen:"
   ]
  },
  {
   "cell_type": "markdown",
   "metadata": {},
   "source": [
    "- 0 to 9 (including 9)\n",
    "- 1 to 10 (including 10)\n",
    "- 10 to 0 (not including 0)\n",
    "- 10 to 0 (including 0)\n",
    "- 0 - 10 (not including 10, only even numbers) "
   ]
  },
  {
   "cell_type": "code",
   "execution_count": 36,
   "metadata": {},
   "outputs": [
    {
     "name": "stdout",
     "output_type": "stream",
     "text": [
      "0\n",
      "1\n",
      "2\n",
      "3\n",
      "4\n",
      "5\n",
      "6\n",
      "7\n",
      "8\n",
      "9\n",
      "--------------------------------------------------\n",
      "1\n",
      "2\n",
      "3\n",
      "4\n",
      "5\n",
      "6\n",
      "7\n",
      "8\n",
      "9\n",
      "10\n",
      "--------------------------------------------------\n",
      "10\n",
      "9\n",
      "8\n",
      "7\n",
      "6\n",
      "5\n",
      "4\n",
      "3\n",
      "2\n",
      "1\n",
      "--------------------------------------------------\n",
      "10\n",
      "9\n",
      "8\n",
      "7\n",
      "6\n",
      "5\n",
      "4\n",
      "3\n",
      "2\n",
      "1\n",
      "0\n",
      "--------------------------------------------------\n",
      "0\n",
      "2\n",
      "4\n",
      "6\n",
      "8\n"
     ]
    }
   ],
   "source": [
    "###YOUR CODE HERE###\n",
    "\n",
    "\n"
   ]
  },
  {
   "cell_type": "markdown",
   "metadata": {},
   "source": [
    "## Exercise 6"
   ]
  },
  {
   "cell_type": "markdown",
   "metadata": {},
   "source": [
    "Write the entire songtext of the song \"99 bottles of beer on the wall\".\n",
    "But be smart and use a for loop and the `range` function.\n",
    "\n",
    "The song's lyrics are as follows:\n",
    "\n",
    "`99 bottles of beer on the wall, 99 bottles of beer.\n",
    "Take one down, pass it around, 98 bottles of beer on the wall...\n",
    "\n",
    "98 bottles of beer on the wall, 98 bottles of beer.\n",
    "Take one down, pass it around, 97 bottles of beer on the wall...`\n",
    "\n",
    "For this Exercise, we don't care for 1 bottle of beer being singular instead of plural.  \n",
    "Just treat it as plural."
   ]
  },
  {
   "cell_type": "code",
   "execution_count": 32,
   "metadata": {},
   "outputs": [
    {
     "name": "stdout",
     "output_type": "stream",
     "text": [
      "99 bottles of beer on the wall 99 bottles of beer.\n",
      "Take one down, pass it around, 98 bottles of beer on the wall...\n",
      "\n",
      "98 bottles of beer on the wall 98 bottles of beer.\n",
      "Take one down, pass it around, 97 bottles of beer on the wall...\n",
      "\n",
      "97 bottles of beer on the wall 97 bottles of beer.\n",
      "Take one down, pass it around, 96 bottles of beer on the wall...\n",
      "\n",
      "96 bottles of beer on the wall 96 bottles of beer.\n",
      "Take one down, pass it around, 95 bottles of beer on the wall...\n",
      "\n",
      "95 bottles of beer on the wall 95 bottles of beer.\n",
      "Take one down, pass it around, 94 bottles of beer on the wall...\n",
      "\n",
      "94 bottles of beer on the wall 94 bottles of beer.\n",
      "Take one down, pass it around, 93 bottles of beer on the wall...\n",
      "\n",
      "93 bottles of beer on the wall 93 bottles of beer.\n",
      "Take one down, pass it around, 92 bottles of beer on the wall...\n",
      "\n",
      "92 bottles of beer on the wall 92 bottles of beer.\n",
      "Take one down, pass it around, 91 bottles of beer on the wall...\n",
      "\n",
      "91 bottles of beer on the wall 91 bottles of beer.\n",
      "Take one down, pass it around, 90 bottles of beer on the wall...\n",
      "\n",
      "90 bottles of beer on the wall 90 bottles of beer.\n",
      "Take one down, pass it around, 89 bottles of beer on the wall...\n",
      "\n",
      "89 bottles of beer on the wall 89 bottles of beer.\n",
      "Take one down, pass it around, 88 bottles of beer on the wall...\n",
      "\n",
      "88 bottles of beer on the wall 88 bottles of beer.\n",
      "Take one down, pass it around, 87 bottles of beer on the wall...\n",
      "\n",
      "87 bottles of beer on the wall 87 bottles of beer.\n",
      "Take one down, pass it around, 86 bottles of beer on the wall...\n",
      "\n",
      "86 bottles of beer on the wall 86 bottles of beer.\n",
      "Take one down, pass it around, 85 bottles of beer on the wall...\n",
      "\n",
      "85 bottles of beer on the wall 85 bottles of beer.\n",
      "Take one down, pass it around, 84 bottles of beer on the wall...\n",
      "\n",
      "84 bottles of beer on the wall 84 bottles of beer.\n",
      "Take one down, pass it around, 83 bottles of beer on the wall...\n",
      "\n",
      "83 bottles of beer on the wall 83 bottles of beer.\n",
      "Take one down, pass it around, 82 bottles of beer on the wall...\n",
      "\n",
      "82 bottles of beer on the wall 82 bottles of beer.\n",
      "Take one down, pass it around, 81 bottles of beer on the wall...\n",
      "\n",
      "81 bottles of beer on the wall 81 bottles of beer.\n",
      "Take one down, pass it around, 80 bottles of beer on the wall...\n",
      "\n",
      "80 bottles of beer on the wall 80 bottles of beer.\n",
      "Take one down, pass it around, 79 bottles of beer on the wall...\n",
      "\n",
      "79 bottles of beer on the wall 79 bottles of beer.\n",
      "Take one down, pass it around, 78 bottles of beer on the wall...\n",
      "\n",
      "78 bottles of beer on the wall 78 bottles of beer.\n",
      "Take one down, pass it around, 77 bottles of beer on the wall...\n",
      "\n",
      "77 bottles of beer on the wall 77 bottles of beer.\n",
      "Take one down, pass it around, 76 bottles of beer on the wall...\n",
      "\n",
      "76 bottles of beer on the wall 76 bottles of beer.\n",
      "Take one down, pass it around, 75 bottles of beer on the wall...\n",
      "\n",
      "75 bottles of beer on the wall 75 bottles of beer.\n",
      "Take one down, pass it around, 74 bottles of beer on the wall...\n",
      "\n",
      "74 bottles of beer on the wall 74 bottles of beer.\n",
      "Take one down, pass it around, 73 bottles of beer on the wall...\n",
      "\n",
      "73 bottles of beer on the wall 73 bottles of beer.\n",
      "Take one down, pass it around, 72 bottles of beer on the wall...\n",
      "\n",
      "72 bottles of beer on the wall 72 bottles of beer.\n",
      "Take one down, pass it around, 71 bottles of beer on the wall...\n",
      "\n",
      "71 bottles of beer on the wall 71 bottles of beer.\n",
      "Take one down, pass it around, 70 bottles of beer on the wall...\n",
      "\n",
      "70 bottles of beer on the wall 70 bottles of beer.\n",
      "Take one down, pass it around, 69 bottles of beer on the wall...\n",
      "\n",
      "69 bottles of beer on the wall 69 bottles of beer.\n",
      "Take one down, pass it around, 68 bottles of beer on the wall...\n",
      "\n",
      "68 bottles of beer on the wall 68 bottles of beer.\n",
      "Take one down, pass it around, 67 bottles of beer on the wall...\n",
      "\n",
      "67 bottles of beer on the wall 67 bottles of beer.\n",
      "Take one down, pass it around, 66 bottles of beer on the wall...\n",
      "\n",
      "66 bottles of beer on the wall 66 bottles of beer.\n",
      "Take one down, pass it around, 65 bottles of beer on the wall...\n",
      "\n",
      "65 bottles of beer on the wall 65 bottles of beer.\n",
      "Take one down, pass it around, 64 bottles of beer on the wall...\n",
      "\n",
      "64 bottles of beer on the wall 64 bottles of beer.\n",
      "Take one down, pass it around, 63 bottles of beer on the wall...\n",
      "\n",
      "63 bottles of beer on the wall 63 bottles of beer.\n",
      "Take one down, pass it around, 62 bottles of beer on the wall...\n",
      "\n",
      "62 bottles of beer on the wall 62 bottles of beer.\n",
      "Take one down, pass it around, 61 bottles of beer on the wall...\n",
      "\n",
      "61 bottles of beer on the wall 61 bottles of beer.\n",
      "Take one down, pass it around, 60 bottles of beer on the wall...\n",
      "\n",
      "60 bottles of beer on the wall 60 bottles of beer.\n",
      "Take one down, pass it around, 59 bottles of beer on the wall...\n",
      "\n",
      "59 bottles of beer on the wall 59 bottles of beer.\n",
      "Take one down, pass it around, 58 bottles of beer on the wall...\n",
      "\n",
      "58 bottles of beer on the wall 58 bottles of beer.\n",
      "Take one down, pass it around, 57 bottles of beer on the wall...\n",
      "\n",
      "57 bottles of beer on the wall 57 bottles of beer.\n",
      "Take one down, pass it around, 56 bottles of beer on the wall...\n",
      "\n",
      "56 bottles of beer on the wall 56 bottles of beer.\n",
      "Take one down, pass it around, 55 bottles of beer on the wall...\n",
      "\n",
      "55 bottles of beer on the wall 55 bottles of beer.\n",
      "Take one down, pass it around, 54 bottles of beer on the wall...\n",
      "\n",
      "54 bottles of beer on the wall 54 bottles of beer.\n",
      "Take one down, pass it around, 53 bottles of beer on the wall...\n",
      "\n",
      "53 bottles of beer on the wall 53 bottles of beer.\n",
      "Take one down, pass it around, 52 bottles of beer on the wall...\n",
      "\n",
      "52 bottles of beer on the wall 52 bottles of beer.\n",
      "Take one down, pass it around, 51 bottles of beer on the wall...\n",
      "\n",
      "51 bottles of beer on the wall 51 bottles of beer.\n",
      "Take one down, pass it around, 50 bottles of beer on the wall...\n",
      "\n",
      "50 bottles of beer on the wall 50 bottles of beer.\n",
      "Take one down, pass it around, 49 bottles of beer on the wall...\n",
      "\n",
      "49 bottles of beer on the wall 49 bottles of beer.\n",
      "Take one down, pass it around, 48 bottles of beer on the wall...\n",
      "\n",
      "48 bottles of beer on the wall 48 bottles of beer.\n",
      "Take one down, pass it around, 47 bottles of beer on the wall...\n",
      "\n",
      "47 bottles of beer on the wall 47 bottles of beer.\n",
      "Take one down, pass it around, 46 bottles of beer on the wall...\n",
      "\n",
      "46 bottles of beer on the wall 46 bottles of beer.\n",
      "Take one down, pass it around, 45 bottles of beer on the wall...\n",
      "\n",
      "45 bottles of beer on the wall 45 bottles of beer.\n",
      "Take one down, pass it around, 44 bottles of beer on the wall...\n",
      "\n",
      "44 bottles of beer on the wall 44 bottles of beer.\n",
      "Take one down, pass it around, 43 bottles of beer on the wall...\n",
      "\n",
      "43 bottles of beer on the wall 43 bottles of beer.\n",
      "Take one down, pass it around, 42 bottles of beer on the wall...\n",
      "\n",
      "42 bottles of beer on the wall 42 bottles of beer.\n",
      "Take one down, pass it around, 41 bottles of beer on the wall...\n",
      "\n",
      "41 bottles of beer on the wall 41 bottles of beer.\n",
      "Take one down, pass it around, 40 bottles of beer on the wall...\n",
      "\n",
      "40 bottles of beer on the wall 40 bottles of beer.\n",
      "Take one down, pass it around, 39 bottles of beer on the wall...\n",
      "\n",
      "39 bottles of beer on the wall 39 bottles of beer.\n",
      "Take one down, pass it around, 38 bottles of beer on the wall...\n",
      "\n",
      "38 bottles of beer on the wall 38 bottles of beer.\n",
      "Take one down, pass it around, 37 bottles of beer on the wall...\n",
      "\n",
      "37 bottles of beer on the wall 37 bottles of beer.\n",
      "Take one down, pass it around, 36 bottles of beer on the wall...\n",
      "\n",
      "36 bottles of beer on the wall 36 bottles of beer.\n",
      "Take one down, pass it around, 35 bottles of beer on the wall...\n",
      "\n",
      "35 bottles of beer on the wall 35 bottles of beer.\n",
      "Take one down, pass it around, 34 bottles of beer on the wall...\n",
      "\n",
      "34 bottles of beer on the wall 34 bottles of beer.\n",
      "Take one down, pass it around, 33 bottles of beer on the wall...\n",
      "\n",
      "33 bottles of beer on the wall 33 bottles of beer.\n",
      "Take one down, pass it around, 32 bottles of beer on the wall...\n",
      "\n",
      "32 bottles of beer on the wall 32 bottles of beer.\n",
      "Take one down, pass it around, 31 bottles of beer on the wall...\n",
      "\n",
      "31 bottles of beer on the wall 31 bottles of beer.\n",
      "Take one down, pass it around, 30 bottles of beer on the wall...\n",
      "\n",
      "30 bottles of beer on the wall 30 bottles of beer.\n",
      "Take one down, pass it around, 29 bottles of beer on the wall...\n",
      "\n",
      "29 bottles of beer on the wall 29 bottles of beer.\n",
      "Take one down, pass it around, 28 bottles of beer on the wall...\n",
      "\n",
      "28 bottles of beer on the wall 28 bottles of beer.\n",
      "Take one down, pass it around, 27 bottles of beer on the wall...\n",
      "\n",
      "27 bottles of beer on the wall 27 bottles of beer.\n",
      "Take one down, pass it around, 26 bottles of beer on the wall...\n",
      "\n",
      "26 bottles of beer on the wall 26 bottles of beer.\n",
      "Take one down, pass it around, 25 bottles of beer on the wall...\n",
      "\n",
      "25 bottles of beer on the wall 25 bottles of beer.\n",
      "Take one down, pass it around, 24 bottles of beer on the wall...\n",
      "\n",
      "24 bottles of beer on the wall 24 bottles of beer.\n",
      "Take one down, pass it around, 23 bottles of beer on the wall...\n",
      "\n",
      "23 bottles of beer on the wall 23 bottles of beer.\n",
      "Take one down, pass it around, 22 bottles of beer on the wall...\n",
      "\n",
      "22 bottles of beer on the wall 22 bottles of beer.\n",
      "Take one down, pass it around, 21 bottles of beer on the wall...\n",
      "\n",
      "21 bottles of beer on the wall 21 bottles of beer.\n",
      "Take one down, pass it around, 20 bottles of beer on the wall...\n",
      "\n",
      "20 bottles of beer on the wall 20 bottles of beer.\n",
      "Take one down, pass it around, 19 bottles of beer on the wall...\n",
      "\n",
      "19 bottles of beer on the wall 19 bottles of beer.\n",
      "Take one down, pass it around, 18 bottles of beer on the wall...\n",
      "\n",
      "18 bottles of beer on the wall 18 bottles of beer.\n",
      "Take one down, pass it around, 17 bottles of beer on the wall...\n",
      "\n",
      "17 bottles of beer on the wall 17 bottles of beer.\n",
      "Take one down, pass it around, 16 bottles of beer on the wall...\n",
      "\n",
      "16 bottles of beer on the wall 16 bottles of beer.\n",
      "Take one down, pass it around, 15 bottles of beer on the wall...\n",
      "\n",
      "15 bottles of beer on the wall 15 bottles of beer.\n",
      "Take one down, pass it around, 14 bottles of beer on the wall...\n",
      "\n",
      "14 bottles of beer on the wall 14 bottles of beer.\n",
      "Take one down, pass it around, 13 bottles of beer on the wall...\n",
      "\n",
      "13 bottles of beer on the wall 13 bottles of beer.\n",
      "Take one down, pass it around, 12 bottles of beer on the wall...\n",
      "\n",
      "12 bottles of beer on the wall 12 bottles of beer.\n",
      "Take one down, pass it around, 11 bottles of beer on the wall...\n",
      "\n",
      "11 bottles of beer on the wall 11 bottles of beer.\n",
      "Take one down, pass it around, 10 bottles of beer on the wall...\n",
      "\n",
      "10 bottles of beer on the wall 10 bottles of beer.\n",
      "Take one down, pass it around, 9 bottles of beer on the wall...\n",
      "\n",
      "9 bottles of beer on the wall 9 bottles of beer.\n",
      "Take one down, pass it around, 8 bottles of beer on the wall...\n",
      "\n",
      "8 bottles of beer on the wall 8 bottles of beer.\n",
      "Take one down, pass it around, 7 bottles of beer on the wall...\n",
      "\n",
      "7 bottles of beer on the wall 7 bottles of beer.\n",
      "Take one down, pass it around, 6 bottles of beer on the wall...\n",
      "\n",
      "6 bottles of beer on the wall 6 bottles of beer.\n",
      "Take one down, pass it around, 5 bottles of beer on the wall...\n",
      "\n",
      "5 bottles of beer on the wall 5 bottles of beer.\n",
      "Take one down, pass it around, 4 bottles of beer on the wall...\n",
      "\n",
      "4 bottles of beer on the wall 4 bottles of beer.\n",
      "Take one down, pass it around, 3 bottles of beer on the wall...\n",
      "\n",
      "3 bottles of beer on the wall 3 bottles of beer.\n",
      "Take one down, pass it around, 2 bottles of beer on the wall...\n",
      "\n",
      "2 bottles of beer on the wall 2 bottles of beer.\n",
      "Take one down, pass it around, 1 bottles of beer on the wall...\n",
      "\n",
      "1 bottles of beer on the wall 1 bottles of beer.\n",
      "Take one down, pass it around, 0 bottles of beer on the wall...\n",
      "\n"
     ]
    }
   ],
   "source": [
    "###YOUR CODE HERE###\n",
    "\n",
    "\n"
   ]
  },
  {
   "cell_type": "markdown",
   "metadata": {},
   "source": [
    "## Exercise 7"
   ]
  },
  {
   "cell_type": "markdown",
   "metadata": {},
   "source": [
    "Open the text file `my_file.txt`. First assign the filename to the variable `file_name`.  \n",
    "Next, use the `open` function to generate a file object. Assign the file object to the variable `file_obj`.\n",
    "Add it's content to the variable `content` using the `file.read()` method.  \n",
    "Print the content of the file to screen.  \n",
    "Note: this method is **not** recommended as files can be big and RAM memory may be limited.  \n",
    "It is only safe to use if you know on forehand that the file is of limited size.  \n",
    "Do not forget to close the file!"
   ]
  },
  {
   "cell_type": "code",
   "execution_count": 3,
   "metadata": {},
   "outputs": [
    {
     "name": "stdout",
     "output_type": "stream",
     "text": [
      "A text file (sometimes spelled textfile; an old alternative name is flatfile) is a kind of computer file that is structured as a sequence of lines of electronic text. \n",
      "A text file exists stored as data within a computer file system. \n",
      "In operating systems such as CP/M and MS-DOS, where the operating system does not keep track of the file size in bytes, the end of a text file is denoted by placing one or more special characters, known as an end-of-file marker, as padding after the last line in a text file. \n",
      "On modern operating systems such as Microsoft Windows and Unix-like systems, text files do not contain any special EOF character, because file systems on those operating systems keep track of the file size in bytes. \n",
      "There are for most text files a need to have end-of-line delimiters, which are done in a few different ways depending on operating system. \n",
      "Some operating systems with record-orientated file systems may not use new line delimiters and will primarily store text files with lines separated as fixed or variable length records.\n",
      "\"Text file\" refers to a type of container, while plain text refers to a type of content.\n",
      "At a generic level of description, there are two kinds of computer files: text files and binary files.\n"
     ]
    }
   ],
   "source": [
    "###YOUR CODE HERE###\n",
    "\n",
    "\n"
   ]
  },
  {
   "cell_type": "markdown",
   "metadata": {},
   "source": [
    "## Exercise 8"
   ]
  },
  {
   "cell_type": "markdown",
   "metadata": {},
   "source": [
    "Repeat Exercise 2 but now show the content of the file in **streaming mode**.  \n",
    "This is the recommended way of opening files.\n",
    "This way, you can safely open en process large files.  \n",
    "Strip empty space from the line using the `str.strip()` method.\n",
    "Do not forget to close the file!"
   ]
  },
  {
   "cell_type": "code",
   "execution_count": 5,
   "metadata": {},
   "outputs": [
    {
     "name": "stdout",
     "output_type": "stream",
     "text": [
      "A text file (sometimes spelled textfile; an old alternative name is flatfile) is a kind of computer file that is structured as a sequence of lines of electronic text.\n",
      "A text file exists stored as data within a computer file system.\n",
      "In operating systems such as CP/M and MS-DOS, where the operating system does not keep track of the file size in bytes, the end of a text file is denoted by placing one or more special characters, known as an end-of-file marker, as padding after the last line in a text file.\n",
      "On modern operating systems such as Microsoft Windows and Unix-like systems, text files do not contain any special EOF character, because file systems on those operating systems keep track of the file size in bytes.\n",
      "There are for most text files a need to have end-of-line delimiters, which are done in a few different ways depending on operating system.\n",
      "Some operating systems with record-orientated file systems may not use new line delimiters and will primarily store text files with lines separated as fixed or variable length records.\n",
      "\"Text file\" refers to a type of container, while plain text refers to a type of content.\n",
      "At a generic level of description, there are two kinds of computer files: text files and binary files.\n"
     ]
    }
   ],
   "source": [
    "###YOUR CODE HERE###\n",
    "\n",
    "\n"
   ]
  },
  {
   "cell_type": "markdown",
   "metadata": {},
   "source": [
    "## Exercise 9"
   ]
  },
  {
   "cell_type": "markdown",
   "metadata": {},
   "source": [
    "Write the following sequences to a text file named `my_dna.txt`:\n",
    "- \"atcg\"\n",
    "- \"ccgg\"\n",
    "- \"ttaa\"\n",
    "Use the print function to write to file. \n",
    "Each sequence should be on a seperate line.  \n",
    "Use the `help` function on the `print` function to find out how.  \n",
    "Make use of a `file_name` variable en a file object variable named `file_obj`.\n",
    "Do not forget to close the file!"
   ]
  },
  {
   "cell_type": "code",
   "execution_count": 38,
   "metadata": {},
   "outputs": [],
   "source": [
    "###YOUR CODE HERE###\n",
    "\n",
    "\n"
   ]
  },
  {
   "cell_type": "markdown",
   "metadata": {},
   "source": [
    "## Exercise 10"
   ]
  },
  {
   "cell_type": "markdown",
   "metadata": {},
   "source": [
    "Read the contents of the file of Exercise 9.  \n",
    "Change each sequence in capital.  \n",
    "Write the capitalized sequences to a new file named `my_dna_caps.txt`.  \n",
    "Make sure you handle the file in streaming mode.  "
   ]
  },
  {
   "cell_type": "code",
   "execution_count": 42,
   "metadata": {},
   "outputs": [],
   "source": [
    "###YOUR CODE HERE###\n",
    "\n",
    "\n"
   ]
  },
  {
   "cell_type": "markdown",
   "metadata": {},
   "source": [
    "The End\n",
    "\n",
    "---\n"
   ]
  }
 ],
 "metadata": {
  "kernelspec": {
   "display_name": "Python 3",
   "language": "python",
   "name": "python3"
  },
  "language_info": {
   "codemirror_mode": {
    "name": "ipython",
    "version": 3
   },
   "file_extension": ".py",
   "mimetype": "text/x-python",
   "name": "python",
   "nbconvert_exporter": "python",
   "pygments_lexer": "ipython3",
   "version": "3.7.4"
  }
 },
 "nbformat": 4,
 "nbformat_minor": 2
}
