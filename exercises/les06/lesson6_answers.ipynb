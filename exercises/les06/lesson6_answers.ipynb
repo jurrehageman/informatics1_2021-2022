{
 "cells": [
  {
   "cell_type": "markdown",
   "metadata": {},
   "source": [
    "# Exercises lesson 6"
   ]
  },
  {
   "cell_type": "markdown",
   "metadata": {},
   "source": [
    "Author: Jurre Hageman"
   ]
  },
  {
   "cell_type": "markdown",
   "metadata": {},
   "source": [
    "For these exercises, variables are set underneath the `###DO NOT REMOVE###` tag.  \n",
    "So do not remove this code.  \n",
    "You should write your code underneath the `###YOUR CODE HERE###` tag.  \n",
    "Provide comments with a short explanantion where needed."
   ]
  },
  {
   "cell_type": "markdown",
   "metadata": {},
   "source": [
    "## Exercise 1"
   ]
  },
  {
   "cell_type": "markdown",
   "metadata": {},
   "source": [
    "The code below aims to compare the largest numbers from three lists. Rewrite the code, using a function `find_max`, such that there is as little double code as possible. "
   ]
  },
  {
   "cell_type": "code",
   "execution_count": null,
   "metadata": {},
   "outputs": [],
   "source": [
    "###DO NOT REMOVE###\n",
    "import random\n",
    "\n",
    "def random1000():\n",
    "    numbers = []\n",
    "    for _ in range(1000):\n",
    "        numbers.append(random.randint(-10000, 1))\n",
    "    return numbers\n",
    "\n",
    "numberlist1 = random1000()\n",
    "numberlist2 = random1000()\n",
    "numberlist3 = random1000()"
   ]
  },
  {
   "cell_type": "code",
   "execution_count": null,
   "metadata": {},
   "outputs": [],
   "source": [
    "###DO NOT REMOVE###\n",
    "import math\n",
    "max_num1 = -math.inf\n",
    "for num in numberlist1:\n",
    "    if num > max_num1:\n",
    "        max_num1 = num\n",
    "\n",
    "max_num2 = -math.inf\n",
    "for num in numberlist2:\n",
    "    if num > max_num2:\n",
    "        max_num2 = num\n",
    "        \n",
    "max_num3 = -math.inf\n",
    "for num in numberlist3:\n",
    "    if num > max_num3:\n",
    "        max_num3 = num\n",
    "\n",
    "if max_num1 > max_num2 and max_num1 > max_num3:\n",
    "    print(\"List 1 has the highest number:\", max_num1)\n",
    "elif max_num2 > max_num1 and max_num2 > max_num3:\n",
    "    print(\"List 2 has the highest number:\", max_num2)\n",
    "elif max_num3 > max_num1 and max_num3 > max_num2:\n",
    "    print(\"List 3 has the highest number:\", max_num3)\n",
    "else:\n",
    "    print(\"There seems to be a draw.\")"
   ]
  },
  {
   "cell_type": "code",
   "execution_count": null,
   "metadata": {
    "scrolled": true
   },
   "outputs": [],
   "source": [
    "###YOUR CODE HERE###\n",
    "\n",
    "\n",
    "###ANSWER###\n",
    "def find_max(numbers):\n",
    "    max_num = -math.inf\n",
    "    for num in numbers:\n",
    "        if num > max_num:\n",
    "            max_num = num\n",
    "    return max_num\n",
    "\n",
    "max_num1 = find_max(numberlist1)\n",
    "max_num2 = find_max(numberlist2)\n",
    "max_num3 = find_max(numberlist3)\n",
    "\n",
    "if max_num1 > max_num2 and max_num1 > max_num3:\n",
    "    print(\"List 1 has the highest number:\", max_num1)\n",
    "elif max_num2 > max_num1 and max_num2 > max_num3:\n",
    "    print(\"List 2 has the highest number:\", max_num2)\n",
    "elif max_num3 > max_num1 and max_num3 > max_num2:\n",
    "    print(\"List 3 has the highest number:\", max_num3)\n",
    "else:\n",
    "    print(\"There seems to be a draw.\")\n",
    "###END ANSWER###"
   ]
  },
  {
   "cell_type": "markdown",
   "metadata": {},
   "source": [
    "## Exercise 2"
   ]
  },
  {
   "cell_type": "markdown",
   "metadata": {},
   "source": [
    "Extend the code of the previous exercise with a function `validate_nums`.  \n",
    "This function should verify that my_nums is a list or a tuple.  \n",
    "If it is not a tuple or list, return False.  \n",
    "Else return True.  \n",
    "Check the value returned by `validate_nums` and print a message if the wrong datatype is used.  \n",
    "Else, run `find_max` and store the returned value in `max_number`."
   ]
  },
  {
   "cell_type": "code",
   "execution_count": null,
   "metadata": {},
   "outputs": [],
   "source": [
    "###DO NOT REMOVE###\n",
    "import random\n",
    "\n",
    "my_nums = []\n",
    "for _ in range(1000): # The underscore (_) is sometimes used as 'variable' if its value is not important\n",
    "    my_nums.append(random.randint(-10000, 1))\n",
    "nums = []\n",
    "for i in my_nums:\n",
    "    nums.append(str(i))\n",
    "my_nums = \",\".join(nums) # You can hash this line to toggle between list and string"
   ]
  },
  {
   "cell_type": "code",
   "execution_count": null,
   "metadata": {},
   "outputs": [],
   "source": [
    "###YOUR CODE HERE###\n",
    "\n",
    "###ANSWER###\n",
    "def validate_nums(numbers):\n",
    "    if type(numbers) == list or type(numbers) == tuple:\n",
    "        return True\n",
    "    else:\n",
    "        return False\n",
    "\n",
    "if not validate_nums(my_nums):\n",
    "    print(\"Numbers should be tuple or list\")\n",
    "else:\n",
    "    max_number =  find_max(my_nums)        \n",
    "    print(max_number)  \n",
    "###END ANSWER###"
   ]
  },
  {
   "cell_type": "markdown",
   "metadata": {},
   "source": [
    "## Exercise 3"
   ]
  },
  {
   "cell_type": "markdown",
   "metadata": {},
   "source": [
    "Create a function named `validate_bases` that will validate if all 4 bases are found in a DNA sequence.  \n",
    "The function should return a **boolean**. Use the function to remove as much of the double code as possible in the code below."
   ]
  },
  {
   "cell_type": "code",
   "execution_count": null,
   "metadata": {},
   "outputs": [],
   "source": [
    "###DO NOT REMOVE###\n",
    "dna_seq1 = \"GACCATGGACCGGATTTAGGACC\"\n",
    "dna_seq2 = \"TTTAGGGGGGGAAAAAAAAAATT\"\n",
    "dna_seq3 = \"GCATCAGCATACGACTCGGCGCA\""
   ]
  },
  {
   "cell_type": "code",
   "execution_count": null,
   "metadata": {},
   "outputs": [],
   "source": [
    "###DO NOT REMOVE###\n",
    "unique = set(dna_seq1)\n",
    "if unique == set(\"GATC\"):\n",
    "    hasACGT = True\n",
    "else:\n",
    "    hasACGT = False\n",
    "    \n",
    "if hasACGT:\n",
    "    print(\"Sequence\", dna_seq1, \"contains all 4 bases (and only those).\")\n",
    "else:\n",
    "    print(\"Sequence\", dna_seq1, \"does not contain all 4 bases and/or contains other characters.\")\n",
    "    \n",
    "unique = set(dna_seq2)\n",
    "if unique == set(\"GATC\"):\n",
    "    hasACGT = True\n",
    "else:\n",
    "    hasACGT = False\n",
    "    \n",
    "if hasACGT:\n",
    "    print(\"Sequence\", dna_seq2, \"contains all 4 bases (and only those).\")\n",
    "else:\n",
    "    print(\"Sequence\", dna_seq2, \"does not contain all 4 bases and/or contains other characters.\")\n",
    "    \n",
    "unique = set(dna_seq3)\n",
    "if unique == set(\"GATC\"):\n",
    "    hasACGT = True\n",
    "else:\n",
    "    hasACGT = False\n",
    "    \n",
    "if hasACGT:\n",
    "    print(\"Sequence\", dna_seq3, \"contains all 4 bases (and only those).\")\n",
    "else:\n",
    "    print(\"Sequence\", dna_seq3, \"does not contain all 4 bases and/or contains other characters.\")"
   ]
  },
  {
   "cell_type": "code",
   "execution_count": null,
   "metadata": {},
   "outputs": [],
   "source": [
    "###YOUR CODE HERE###\n",
    "\n",
    "###ANSWER###\n",
    "def validate_bases(dna_seq):\n",
    "    unique_letters = set(dna_seq)\n",
    "    if unique_letters == set(\"GATC\"):\n",
    "        return True\n",
    "    else:\n",
    "        return False\n",
    "\n",
    "dna_list = [dna_seq1, dna_seq2, dna_seq3]\n",
    "\n",
    "for dna_seq in dna_list:\n",
    "    if not validate_bases(dna_seq):\n",
    "        print(\"Sequence\", dna_seq, \"contains all 4 bases (and only those).\")\n",
    "    else:\n",
    "        print(\"Sequence\", dna_seq, \"does not contain all 4 bases and/or contains other characters.\")\n",
    "###END ANSWER###"
   ]
  },
  {
   "cell_type": "markdown",
   "metadata": {},
   "source": [
    "## Exercise 4"
   ]
  },
  {
   "cell_type": "markdown",
   "metadata": {},
   "source": [
    "Create a function `rev_comp` that returns the reverse complement of a DNA sequence."
   ]
  },
  {
   "cell_type": "code",
   "execution_count": null,
   "metadata": {},
   "outputs": [],
   "source": [
    "###DO NOT REMOVE###\n",
    "dna_seq = \"GACCATGGACCGGATTTAGGACC\""
   ]
  },
  {
   "cell_type": "code",
   "execution_count": null,
   "metadata": {},
   "outputs": [],
   "source": [
    "###YOUR CODE HERE###\n",
    "\n",
    "###ANSWER###\n",
    "def rev_comp(seq):\n",
    "    comp_bases = {\"A\": \"T\", \"T\":\"A\", \"C\": \"G\", \"G\":\"C\"}\n",
    "    rev = seq[::-1]\n",
    "    rev_comp = []\n",
    "    for i in rev:\n",
    "        rev_comp.append(comp_bases[i])\n",
    "    return \"\".join(rev_comp)\n",
    "\n",
    "rev_comp = rev_comp(dna_seq)\n",
    "print(rev_comp)\n",
    "###END ANSWER###"
   ]
  },
  {
   "cell_type": "markdown",
   "metadata": {},
   "source": [
    "## Exercise 5"
   ]
  },
  {
   "cell_type": "markdown",
   "metadata": {},
   "source": [
    "Various websites like the following [website](http://arep.med.harvard.edu/labgc/adnan/projects/Utilities/revcomp.html) allow the user to choose between reverse, complement and revererse complement sequences.  \n",
    "Create seperate functions to change a user sequence into the desired sequence. \n",
    "The user should be able to choose the output.  \n",
    "A lowercase DNA sequence should be allowed.  \n",
    "Avoid code duplication!"
   ]
  },
  {
   "cell_type": "code",
   "execution_count": null,
   "metadata": {},
   "outputs": [],
   "source": [
    "###DO NOT REMOVE###\n",
    "dna_seq = \"gaccatggaccggatttaggacc\""
   ]
  },
  {
   "cell_type": "code",
   "execution_count": null,
   "metadata": {},
   "outputs": [],
   "source": [
    "###YOUR CODE HERE###\n",
    "\n",
    "###ANSWER###\n",
    "def get_reverse(seq):\n",
    "    rev = seq[::-1]\n",
    "    return rev\n",
    "\n",
    "\n",
    "def get_complement(seq):\n",
    "    comp_bases = {\"A\": \"T\", \"T\":\"A\", \"C\": \"G\", \"G\":\"C\"}\n",
    "    comp = []\n",
    "    for i in seq:\n",
    "        comp.append(comp_bases[i])\n",
    "    return \"\".join(comp)\n",
    "\n",
    "\n",
    "def get_rev_comp(seq):\n",
    "    rev = get_reverse(seq)\n",
    "    rev_comp = get_complement(rev)\n",
    "    return rev_comp\n",
    "\n",
    "\n",
    "print(\"Choose mode: r for reverse, c for complement and i for reverse complement\")\n",
    "#mode = input(\"choose your mode: \") #better not to use input. \n",
    "mode = \"i\"\n",
    "dna_seq = dna_seq.upper()\n",
    "if mode == \"r\":\n",
    "    print(get_reverse(dna_seq))\n",
    "elif mode == \"c\":\n",
    "    print(get_complement(dna_seq))\n",
    "elif mode == \"i\":\n",
    "    print(get_rev_comp(dna_seq))\n",
    "else:\n",
    "    print(mode, \"is not a valid mode\")\n",
    "###END ANSWER###"
   ]
  },
  {
   "cell_type": "markdown",
   "metadata": {},
   "source": [
    "## Exercise 6"
   ]
  },
  {
   "cell_type": "markdown",
   "metadata": {},
   "source": [
    "Prime numbers are numbers that have only 2 factors (dividers): 1 and themselves. For example, the first 5 prime numbers are 2, 3, 5, 7, and 11.  \n",
    "Write a function that will check if a number is a prime number or not.  \n",
    "Note: more efficient algoritms excist such as [pyprimesieve](https://pypi.org/project/pyprimesieve/).\n",
    "\n",
    "We will just write a far less efficient version for educational purposes.  \n",
    "The most basic method of checking the primality of a given integer `n` is called trial division. This method divides `n` by each integer from 2 up to the square root of `n`. Any such integer dividing n evenly establishes `n` as composite; otherwise it is prime. Integers larger than the square root do not need to be checked because, whenever $n=a\\cdot b$ , one of the two factors `a` and `b` is less than or equal to the square root of `n`. (adapted from Wikipedia.org).\n",
    "Hint: You can calculate the square root using the `math` module (or use the power of 0.5).\n",
    "\n",
    "Use your function to print all prime numbers below 20"
   ]
  },
  {
   "cell_type": "code",
   "execution_count": null,
   "metadata": {},
   "outputs": [],
   "source": [
    "###YOUR CODE HERE###\n",
    "\n",
    "###ANSWER###\n",
    "import math\n",
    "def prime_check(n):\n",
    "    for i in range(2, int(math.sqrt(n) + 1)):\n",
    "        if n % i == 0: \n",
    "            return False\n",
    "    return True\n",
    "    \n",
    "for i in range(20):\n",
    "    if prime_check(i):\n",
    "        print(i)\n",
    "###END ANSWER###"
   ]
  },
  {
   "cell_type": "markdown",
   "metadata": {},
   "source": [
    "## Exercise 7"
   ]
  },
  {
   "cell_type": "markdown",
   "metadata": {},
   "source": [
    "Use your function to solve Euler problem 7:\n",
    "By listing the first six prime numbers: 2, 3, 5, 7, 11, and 13, we can see that the 6th prime is 13.\n",
    "\n",
    "What is the 10 001st prime number?\n",
    "(copied from [project Euler](https://projecteuler.net)) "
   ]
  },
  {
   "cell_type": "code",
   "execution_count": null,
   "metadata": {},
   "outputs": [],
   "source": [
    "# YOUR CODE HERE###\n",
    "\n",
    "###ANSWER###\n",
    "prime_counter = 0\n",
    "num = 2\n",
    "while prime_counter < 10001:\n",
    "    if prime_check(num):\n",
    "        prime_counter += 1\n",
    "    num += 1\n",
    "print(num - 1)  \n",
    "###END ANSWER###"
   ]
  },
  {
   "cell_type": "markdown",
   "metadata": {},
   "source": [
    "## Exercise 8"
   ]
  },
  {
   "cell_type": "markdown",
   "metadata": {},
   "source": [
    "[Rosalind](http://rosalind.info/problems/locations/) is website devoted to learn Bioinformatics.  \n",
    "Create an account and login on the website.  \n",
    "Download the dataset from [problem 1](http://rosalind.info/problems/dna/).\n",
    "Solve this problem.  \n",
    "Organize your code in functions."
   ]
  },
  {
   "cell_type": "code",
   "execution_count": null,
   "metadata": {},
   "outputs": [],
   "source": [
    "###YOUR CODE HERE###\n",
    "\n",
    "###ANSWER###\n",
    "file_name = \"rosalind_dna.txt\"\n",
    "\n",
    "def count_nucleotides(file_name):\n",
    "    counts = {\"A\": 0, \"C\": 0, \"G\": 0, \"T\": 0}\n",
    "    for line in open(file_name):\n",
    "        counts[\"A\"] += line.count(\"A\")\n",
    "        counts[\"T\"] += line.count(\"T\")\n",
    "        counts[\"C\"] += line.count(\"C\")\n",
    "        counts[\"G\"] += line.count(\"G\")\n",
    "    return counts\n",
    "\n",
    "counts = count_nucleotides(file_name)   \n",
    "print(counts[\"A\"], counts[\"C\"], counts[\"G\"], counts[\"T\"])\n",
    "###END ANSWER###"
   ]
  },
  {
   "cell_type": "markdown",
   "metadata": {},
   "source": [
    "## Exercise 9"
   ]
  },
  {
   "cell_type": "markdown",
   "metadata": {},
   "source": [
    "Another [Rosalind](http://rosalind.info/problems/locations/) problem.  \n",
    "Download the dataset from [problem 2](http://rosalind.info/problems/rna/).\n",
    "Solve this problem.  \n",
    "Organize your code in functions."
   ]
  },
  {
   "cell_type": "code",
   "execution_count": null,
   "metadata": {},
   "outputs": [],
   "source": [
    "###YOUR CODE HERE###\n",
    "\n",
    "###ANSWER###\n",
    "file_name = \"rosalind_rna.txt\"\n",
    "\n",
    "def transcribe(file_name):\n",
    "    transcribed_lines = []\n",
    "    for line in open(file_name):\n",
    "        RNA = line.replace(\"T\", \"U\")\n",
    "        transcribed_lines.append(RNA)\n",
    "    return \"\".join(transcribed_lines)\n",
    "\n",
    "transcript = transcribe(file_name)  \n",
    "print(transcript)\n",
    "###END ANSWER###"
   ]
  },
  {
   "cell_type": "markdown",
   "metadata": {},
   "source": [
    "## Exercise 10\n",
    "\n",
    "Another [Rosalind](http://rosalind.info/problems/locations/) problem.  \n",
    "Download the dataset from [problem 3](http://rosalind.info/problems/revc/).\n",
    "Solve this problem.  \n",
    "Organize your code in functions.  \n",
    "Note that you can use functions from Exercise 5 to solve this.  \n",
    "This is the advantage of functions!  \n",
    "They can be re-used."
   ]
  },
  {
   "cell_type": "code",
   "execution_count": null,
   "metadata": {},
   "outputs": [],
   "source": [
    "###YOUR CODE HERE###\n",
    "\n",
    "###ANSWER###\n",
    "file_name = \"rosalind_revc.txt\"\n",
    "\n",
    "def rev_comp_file(file_name):\n",
    "    rev_comp_lines = []\n",
    "    for line in open(file_name):\n",
    "        line = line.strip()\n",
    "        rev_comp = get_rev_comp(line) #re-used from exercise 5\n",
    "        rev_comp_lines.append(rev_comp)\n",
    "    return \"\".join(rev_comp_lines)\n",
    "\n",
    "print(rev_comp_file(file_name)  )\n",
    "###END ANSWER###"
   ]
  },
  {
   "cell_type": "markdown",
   "metadata": {},
   "source": [
    "## Extra spicy problem\n",
    "\n",
    "Another [Rosalind](http://rosalind.info/problems/locations/) problem.  \n",
    "Download the dataset from [problem 5](http://rosalind.info/problems/gc/).\n",
    "Solve this problem.  \n",
    "Organize your code in functions.  \n",
    "The hard part of this problem is the multi-fasta parsing."
   ]
  },
  {
   "cell_type": "code",
   "execution_count": null,
   "metadata": {},
   "outputs": [],
   "source": [
    "###YOUR CODE HERE###\n",
    "\n",
    "###ANSWER###\n",
    "file_name = \"rosalind_gc.txt\"\n",
    "\n",
    "def calc_gc_content(seq):\n",
    "        g_count = seq.count('G')\n",
    "        c_count = seq.count('C')\n",
    "        perc_GC = (g_count + c_count)/len(seq) * 100\n",
    "        return perc_GC\n",
    "\n",
    "def get_gc_per_seq(file_name):\n",
    "    gc_per_seq = {}\n",
    "    header = None\n",
    "    seq = []  \n",
    "    for line in open(file_name):\n",
    "        line = line.strip()\n",
    "        if line.startswith(\">\"):\n",
    "            header = line\n",
    "            if seq:\n",
    "                gc = calc_gc_content(\"\".join(seq))\n",
    "                gc_per_seq[header] = gc\n",
    "            seq = []\n",
    "        else:\n",
    "            seq.append(line)\n",
    "    # Do not forget the last entry!\n",
    "    gc = calc_gc_content(\"\".join(seq))\n",
    "    gc_per_seq[header] = gc\n",
    "    return gc_per_seq\n",
    "\n",
    "\n",
    "gc_dict = get_gc_per_seq(file_name)\n",
    "max_entry = None\n",
    "max_gc = 0\n",
    "for i in gc_dict:\n",
    "    if gc_dict[i] > max_gc:\n",
    "        max_gc = gc_dict[i]\n",
    "        max_entry = i\n",
    "print(max_entry)\n",
    "print(max_gc)\n",
    "###END ANSWER###   "
   ]
  },
  {
   "cell_type": "markdown",
   "metadata": {},
   "source": [
    "The end\n",
    "\n",
    "---\n",
    "\n"
   ]
  }
 ],
 "metadata": {
  "kernelspec": {
   "display_name": "Python 3",
   "language": "python",
   "name": "python3"
  },
  "language_info": {
   "codemirror_mode": {
    "name": "ipython",
    "version": 3
   },
   "file_extension": ".py",
   "mimetype": "text/x-python",
   "name": "python",
   "nbconvert_exporter": "python",
   "pygments_lexer": "ipython3",
   "version": "3.8.8"
  }
 },
 "nbformat": 4,
 "nbformat_minor": 2
}
