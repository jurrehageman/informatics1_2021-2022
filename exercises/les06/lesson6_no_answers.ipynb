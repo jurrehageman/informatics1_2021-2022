{
 "cells": [
  {
   "cell_type": "markdown",
   "metadata": {},
   "source": [
    "# Exercises lesson 6"
   ]
  },
  {
   "cell_type": "markdown",
   "metadata": {},
   "source": [
    "Author: Jurre Hageman"
   ]
  },
  {
   "cell_type": "markdown",
   "metadata": {},
   "source": [
    "For these exercises, variables are set underneath the `###DO NOT REMOVE###` tag.  \n",
    "So do not remove this code.  \n",
    "You should write your code underneath the `###YOUR CODE HERE###` tag.  \n",
    "Provide comments with a short explanantion where needed."
   ]
  },
  {
   "cell_type": "markdown",
   "metadata": {},
   "source": [
    "## Exercise 1"
   ]
  },
  {
   "cell_type": "markdown",
   "metadata": {},
   "source": [
    "The code below aims to compare the largest numbers from three lists. Rewrite the code, using a function `find_max`, such that there is as little double code as possible. "
   ]
  },
  {
   "cell_type": "code",
   "execution_count": null,
   "metadata": {},
   "outputs": [],
   "source": [
    "###DO NOT REMOVE###\n",
    "import random\n",
    "\n",
    "def random1000():\n",
    "    numbers = []\n",
    "    for _ in range(1000):\n",
    "        numbers.append(random.randint(-10000, 1))\n",
    "    return numbers\n",
    "\n",
    "numberlist1 = random1000()\n",
    "numberlist2 = random1000()\n",
    "numberlist3 = random1000()"
   ]
  },
  {
   "cell_type": "code",
   "execution_count": null,
   "metadata": {},
   "outputs": [],
   "source": [
    "###DO NOT REMOVE###\n",
    "import math\n",
    "max_num1 = -math.inf\n",
    "for num in numberlist1:\n",
    "    if num > max_num1:\n",
    "        max_num1 = num\n",
    "\n",
    "max_num2 = -math.inf\n",
    "for num in numberlist2:\n",
    "    if num > max_num2:\n",
    "        max_num2 = num\n",
    "        \n",
    "max_num3 = -math.inf\n",
    "for num in numberlist3:\n",
    "    if num > max_num3:\n",
    "        max_num3 = num\n",
    "\n",
    "if max_num1 > max_num2 and max_num1 > max_num3:\n",
    "    print(\"List 1 has the highest number:\", max_num1)\n",
    "elif max_num2 > max_num1 and max_num2 > max_num3:\n",
    "    print(\"List 2 has the highest number:\", max_num2)\n",
    "elif max_num3 > max_num1 and max_num3 > max_num2:\n",
    "    print(\"List 3 has the highest number:\", max_num3)\n",
    "else:\n",
    "    print(\"There seems to be a draw.\")"
   ]
  },
  {
   "cell_type": "code",
   "execution_count": null,
   "metadata": {
    "scrolled": true
   },
   "outputs": [],
   "source": [
    "###YOUR CODE HERE###\n",
    "\n",
    "\n",
    "\n"
   ]
  },
  {
   "cell_type": "markdown",
   "metadata": {},
   "source": [
    "## Exercise 2"
   ]
  },
  {
   "cell_type": "markdown",
   "metadata": {},
   "source": [
    "Extend the code of the previous exercise with a function `validate_nums`.  \n",
    "This function should verify that my_nums is a list or a tuple.  \n",
    "If it is not a tuple or list, return False.  \n",
    "Else return True.  \n",
    "Check the value returned by `validate_nums` and print a message if the wrong datatype is used.  \n",
    "Else, run `find_max` and store the returned value in `max_number`."
   ]
  },
  {
   "cell_type": "code",
   "execution_count": null,
   "metadata": {},
   "outputs": [],
   "source": [
    "###DO NOT REMOVE###\n",
    "import random\n",
    "\n",
    "my_nums = []\n",
    "for _ in range(1000): # The underscore (_) is sometimes used as 'variable' if its value is not important\n",
    "    my_nums.append(random.randint(-10000, 1))\n",
    "nums = []\n",
    "for i in my_nums:\n",
    "    nums.append(str(i))\n",
    "my_nums = \",\".join(nums) # You can hash this line to toggle between list and string"
   ]
  },
  {
   "cell_type": "code",
   "execution_count": null,
   "metadata": {},
   "outputs": [],
   "source": [
    "###YOUR CODE HERE###\n",
    "\n",
    "\n"
   ]
  },
  {
   "cell_type": "markdown",
   "metadata": {},
   "source": [
    "## Exercise 3"
   ]
  },
  {
   "cell_type": "markdown",
   "metadata": {},
   "source": [
    "Create a function named `validate_bases` that will validate if all 4 bases are found in a DNA sequence.  \n",
    "The function should return a **boolean**. Use the function to remove as much of the double code as possible in the code below."
   ]
  },
  {
   "cell_type": "code",
   "execution_count": null,
   "metadata": {},
   "outputs": [],
   "source": [
    "###DO NOT REMOVE###\n",
    "dna_seq1 = \"GACCATGGACCGGATTTAGGACC\"\n",
    "dna_seq2 = \"TTTAGGGGGGGAAAAAAAAAATT\"\n",
    "dna_seq3 = \"GCATCAGCATACGACTCGGCGCA\""
   ]
  },
  {
   "cell_type": "code",
   "execution_count": null,
   "metadata": {},
   "outputs": [],
   "source": [
    "###DO NOT REMOVE###\n",
    "unique = set(dna_seq1)\n",
    "if unique == set(\"GATC\"):\n",
    "    hasACGT = True\n",
    "else:\n",
    "    hasACGT = False\n",
    "    \n",
    "if hasACGT:\n",
    "    print(\"Sequence\", dna_seq1, \"contains all 4 bases (and only those).\")\n",
    "else:\n",
    "    print(\"Sequence\", dna_seq1, \"does not contain all 4 bases and/or contains other characters.\")\n",
    "    \n",
    "unique = set(dna_seq2)\n",
    "if unique == set(\"GATC\"):\n",
    "    hasACGT = True\n",
    "else:\n",
    "    hasACGT = False\n",
    "    \n",
    "if hasACGT:\n",
    "    print(\"Sequence\", dna_seq2, \"contains all 4 bases (and only those).\")\n",
    "else:\n",
    "    print(\"Sequence\", dna_seq2, \"does not contain all 4 bases and/or contains other characters.\")\n",
    "    \n",
    "unique = set(dna_seq3)\n",
    "if unique == set(\"GATC\"):\n",
    "    hasACGT = True\n",
    "else:\n",
    "    hasACGT = False\n",
    "    \n",
    "if hasACGT:\n",
    "    print(\"Sequence\", dna_seq3, \"contains all 4 bases (and only those).\")\n",
    "else:\n",
    "    print(\"Sequence\", dna_seq3, \"does not contain all 4 bases and/or contains other characters.\")"
   ]
  },
  {
   "cell_type": "code",
   "execution_count": null,
   "metadata": {},
   "outputs": [],
   "source": [
    "###YOUR CODE HERE###\n",
    "\n",
    "\n"
   ]
  },
  {
   "cell_type": "markdown",
   "metadata": {},
   "source": [
    "## Exercise 4"
   ]
  },
  {
   "cell_type": "markdown",
   "metadata": {},
   "source": [
    "Create a function `rev_comp` that returns the reverse complement of a DNA sequence."
   ]
  },
  {
   "cell_type": "code",
   "execution_count": null,
   "metadata": {},
   "outputs": [],
   "source": [
    "###DO NOT REMOVE###\n",
    "dna_seq = \"GACCATGGACCGGATTTAGGACC\""
   ]
  },
  {
   "cell_type": "code",
   "execution_count": null,
   "metadata": {},
   "outputs": [],
   "source": [
    "###YOUR CODE HERE###\n",
    "\n",
    "\n"
   ]
  },
  {
   "cell_type": "markdown",
   "metadata": {},
   "source": [
    "## Exercise 5"
   ]
  },
  {
   "cell_type": "markdown",
   "metadata": {},
   "source": [
    "Various websites like the following [website](http://arep.med.harvard.edu/labgc/adnan/projects/Utilities/revcomp.html) allow the user to choose between reverse, complement and revererse complement sequences.  \n",
    "Create seperate functions to change a user sequence into the desired sequence. \n",
    "The user should be able to choose the output.  \n",
    "A lowercase DNA sequence should be allowed.  \n",
    "Avoid code duplication!"
   ]
  },
  {
   "cell_type": "code",
   "execution_count": null,
   "metadata": {},
   "outputs": [],
   "source": [
    "###DO NOT REMOVE###\n",
    "dna_seq = \"gaccatggaccggatttaggacc\""
   ]
  },
  {
   "cell_type": "code",
   "execution_count": null,
   "metadata": {},
   "outputs": [],
   "source": [
    "###YOUR CODE HERE###\n",
    "\n",
    "\n"
   ]
  },
  {
   "cell_type": "markdown",
   "metadata": {},
   "source": [
    "## Exercise 6"
   ]
  },
  {
   "cell_type": "markdown",
   "metadata": {},
   "source": [
    "Prime numbers are numbers that have only 2 factors (dividers): 1 and themselves. For example, the first 5 prime numbers are 2, 3, 5, 7, and 11.  \n",
    "Write a function that will check if a number is a prime number or not.  \n",
    "Note: more efficient algoritms excist such as [pyprimesieve](https://pypi.org/project/pyprimesieve/).\n",
    "\n",
    "We will just write a far less efficient version for educational purposes.  \n",
    "The most basic method of checking the primality of a given integer `n` is called trial division. This method divides `n` by each integer from 2 up to the square root of `n`. Any such integer dividing n evenly establishes `n` as composite; otherwise it is prime. Integers larger than the square root do not need to be checked because, whenever $n=a\\cdot b$ , one of the two factors `a` and `b` is less than or equal to the square root of `n`. (adapted from Wikipedia.org).\n",
    "Hint: You can calculate the square root using the `math` module (or use the power of 0.5).\n",
    "\n",
    "Use your function to print all prime numbers below 20"
   ]
  },
  {
   "cell_type": "code",
   "execution_count": null,
   "metadata": {},
   "outputs": [],
   "source": [
    "###YOUR CODE HERE###\n",
    "\n",
    "\n"
   ]
  },
  {
   "cell_type": "markdown",
   "metadata": {},
   "source": [
    "## Exercise 7"
   ]
  },
  {
   "cell_type": "markdown",
   "metadata": {},
   "source": [
    "Use your function to solve Euler problem 7:\n",
    "By listing the first six prime numbers: 2, 3, 5, 7, 11, and 13, we can see that the 6th prime is 13.\n",
    "\n",
    "What is the 10 001st prime number?\n",
    "(copied from [project Euler](https://projecteuler.net)) "
   ]
  },
  {
   "cell_type": "code",
   "execution_count": null,
   "metadata": {},
   "outputs": [],
   "source": [
    "# YOUR CODE HERE###\n",
    "\n",
    "\n"
   ]
  },
  {
   "cell_type": "markdown",
   "metadata": {},
   "source": [
    "## Exercise 8"
   ]
  },
  {
   "cell_type": "markdown",
   "metadata": {},
   "source": [
    "[Rosalind](http://rosalind.info/problems/locations/) is website devoted to learn Bioinformatics.  \n",
    "Create an account and login on the website.  \n",
    "Download the dataset from [problem 1](http://rosalind.info/problems/dna/).\n",
    "Solve this problem.  \n",
    "Organize your code in functions."
   ]
  },
  {
   "cell_type": "code",
   "execution_count": null,
   "metadata": {},
   "outputs": [],
   "source": [
    "###YOUR CODE HERE###\n",
    "\n",
    "\n"
   ]
  },
  {
   "cell_type": "markdown",
   "metadata": {},
   "source": [
    "## Exercise 9"
   ]
  },
  {
   "cell_type": "markdown",
   "metadata": {},
   "source": [
    "Another [Rosalind](http://rosalind.info/problems/locations/) problem.  \n",
    "Download the dataset from [problem 2](http://rosalind.info/problems/rna/).\n",
    "Solve this problem.  \n",
    "Organize your code in functions."
   ]
  },
  {
   "cell_type": "code",
   "execution_count": null,
   "metadata": {},
   "outputs": [],
   "source": [
    "###YOUR CODE HERE###\n",
    "\n",
    "\n"
   ]
  },
  {
   "cell_type": "markdown",
   "metadata": {},
   "source": [
    "## Exercise 10\n",
    "\n",
    "Another [Rosalind](http://rosalind.info/problems/locations/) problem.  \n",
    "Download the dataset from [problem 3](http://rosalind.info/problems/revc/).\n",
    "Solve this problem.  \n",
    "Organize your code in functions.  \n",
    "Note that you can use functions from Exercise 5 to solve this.  \n",
    "This is the advantage of functions!  \n",
    "They can be re-used."
   ]
  },
  {
   "cell_type": "code",
   "execution_count": null,
   "metadata": {},
   "outputs": [],
   "source": [
    "###YOUR CODE HERE###\n",
    "\n",
    "\n"
   ]
  },
  {
   "cell_type": "markdown",
   "metadata": {},
   "source": [
    "## Extra spicy problem\n",
    "\n",
    "Another [Rosalind](http://rosalind.info/problems/locations/) problem.  \n",
    "Download the dataset from [problem 5](http://rosalind.info/problems/gc/).\n",
    "Solve this problem.  \n",
    "Organize your code in functions.  \n",
    "The hard part of this problem is the multi-fasta parsing."
   ]
  },
  {
   "cell_type": "code",
   "execution_count": null,
   "metadata": {},
   "outputs": [],
   "source": [
    "###YOUR CODE HERE###\n",
    "\n",
    "\n"
   ]
  },
  {
   "cell_type": "markdown",
   "metadata": {},
   "source": [
    "The end\n",
    "\n",
    "---\n",
    "\n"
   ]
  }
 ],
 "metadata": {
  "kernelspec": {
   "display_name": "Python 3",
   "language": "python",
   "name": "python3"
  },
  "language_info": {
   "codemirror_mode": {
    "name": "ipython",
    "version": 3
   },
   "file_extension": ".py",
   "mimetype": "text/x-python",
   "name": "python",
   "nbconvert_exporter": "python",
   "pygments_lexer": "ipython3",
   "version": "3.7.4"
  }
 },
 "nbformat": 4,
 "nbformat_minor": 2
}
