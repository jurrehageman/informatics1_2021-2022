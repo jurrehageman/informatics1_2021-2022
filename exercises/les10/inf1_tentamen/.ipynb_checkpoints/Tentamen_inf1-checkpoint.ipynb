{
 "cells": [
  {
   "cell_type": "markdown",
   "metadata": {},
   "source": [
    "# Tentamen Informatica 1"
   ]
  },
  {
   "cell_type": "markdown",
   "metadata": {},
   "source": [
    "## Studiejaar: 2018-2019"
   ]
  },
  {
   "cell_type": "markdown",
   "metadata": {},
   "source": [
    "In alle gevallen wordt gevraagd om met Python functies en methoden de gegeven variabelen te veranderen. <br>\n",
    "Een voorbeeld: <br>\n",
    "Als gevraagd wordt om aan een dictionary met een sleutel-waarde paar een extra sleutel-waarde paar toe te voegen dan is het volgende **niet** toegestaan:"
   ]
  },
  {
   "cell_type": "code",
   "execution_count": 1,
   "metadata": {},
   "outputs": [],
   "source": [
    "my_dict = {'A':'Adenine'}\n",
    "my_dict = {'A':'Adenine', 'T':'Thymine'}"
   ]
  },
  {
   "cell_type": "markdown",
   "metadata": {},
   "source": [
    "Het is de bedoeling dat je een lijst methode gebruikt of Python syntax gebruikt om de lijst aan te vullen:"
   ]
  },
  {
   "cell_type": "code",
   "execution_count": 19,
   "metadata": {},
   "outputs": [],
   "source": [
    "my_dict = {'A':'Adenine'}\n",
    "my_dict.update({'T':'Thymine'}) # Met een functie of ...\n",
    "my_dict['T'] = 'Thymine' # ... door middel van synthax "
   ]
  },
  {
   "cell_type": "markdown",
   "metadata": {},
   "source": [
    "## Vraag 1 [2p]"
   ]
  },
  {
   "cell_type": "markdown",
   "metadata": {},
   "source": [
    "Maak een variabele `voornaam` en een variabele `achternaam` aan. Geef deze variabelen de juiste waarden (je voornaam en achternaam).  \n",
    "Print je voornaam gevolgd door je achternaam door gebruik te maken van de variabelen.  "
   ]
  },
  {
   "cell_type": "code",
   "execution_count": null,
   "metadata": {},
   "outputs": [],
   "source": [
    "###YOUR CODE HERE\n"
   ]
  },
  {
   "cell_type": "markdown",
   "metadata": {},
   "source": [
    "## Vraag 2"
   ]
  },
  {
   "cell_type": "markdown",
   "metadata": {},
   "source": [
    "### Vraag 2a [2p]"
   ]
  },
  {
   "cell_type": "markdown",
   "metadata": {},
   "source": [
    "Python heeft een built-in functie om attributen van objecten in te zien. Print met deze built-in functie de attributen (waaronder veel van de methoden) van een string object."
   ]
  },
  {
   "cell_type": "code",
   "execution_count": null,
   "metadata": {},
   "outputs": [],
   "source": [
    "###YOUR CODE HERE\n"
   ]
  },
  {
   "cell_type": "markdown",
   "metadata": {},
   "source": [
    "### Vraag 2b [2p]"
   ]
  },
  {
   "cell_type": "markdown",
   "metadata": {},
   "source": [
    "Python beschikt over een built-in functie om hulp te krijgen. Print specifieke hulp naar het scherm over de index methode van een string object."
   ]
  },
  {
   "cell_type": "code",
   "execution_count": null,
   "metadata": {},
   "outputs": [],
   "source": [
    "###YOUR CODE HERE\n"
   ]
  },
  {
   "cell_type": "markdown",
   "metadata": {},
   "source": [
    "### Vraag 3"
   ]
  },
  {
   "cell_type": "markdown",
   "metadata": {},
   "source": [
    "Je hebt een string met sequencing data. De sequenties zijn geschieden door een puntkomma: `;`"
   ]
  },
  {
   "cell_type": "code",
   "execution_count": 3,
   "metadata": {},
   "outputs": [],
   "source": [
    "seq_data = \"gatc;tatc;aacg;aatt;utaa;gggc\""
   ]
  },
  {
   "cell_type": "markdown",
   "metadata": {},
   "source": [
    "### Vraag 3a [2p]"
   ]
  },
  {
   "cell_type": "markdown",
   "metadata": {},
   "source": [
    "Zet seq_data om in een lijst door te splitsen op een `;` en koppel dit aan de variabele seq_data_list.  \n",
    "Print de lijst naar het scherm.  \n",
    "Als je hier niet uitkomt gebruik je voor de volgende opdracht de lijst:"
   ]
  },
  {
   "cell_type": "code",
   "execution_count": 4,
   "metadata": {},
   "outputs": [],
   "source": [
    "seq_data_list = ['gatc', 'tatc', 'aacg', 'aatt', 'utaa', 'gggc']"
   ]
  },
  {
   "cell_type": "code",
   "execution_count": null,
   "metadata": {},
   "outputs": [],
   "source": [
    "###YOUR CODE HERE\n"
   ]
  },
  {
   "cell_type": "markdown",
   "metadata": {},
   "source": [
    "### Vraag 3b [2p]"
   ]
  },
  {
   "cell_type": "markdown",
   "metadata": {},
   "source": [
    "Voeg nu de sequentie `gggg` toe aan het eind van de lijst met een lijst methode. <br>\n",
    "Print de lijst naar het scherm. <br>\n",
    "Als je hier niet uitkomt gebruik je voor de volgende opdracht de volgende lijst:"
   ]
  },
  {
   "cell_type": "code",
   "execution_count": 5,
   "metadata": {},
   "outputs": [],
   "source": [
    "seq_data_list = ['gatc', 'tatc', 'aacg', 'aatt', 'utaa', 'gggc', 'gggg']"
   ]
  },
  {
   "cell_type": "code",
   "execution_count": null,
   "metadata": {},
   "outputs": [],
   "source": [
    "###YOUR CODE HERE\n"
   ]
  },
  {
   "cell_type": "markdown",
   "metadata": {},
   "source": [
    "### Vraag 3c [2p]"
   ]
  },
  {
   "cell_type": "markdown",
   "metadata": {},
   "source": [
    "Voeg nu de sequentie `aaaa` toe aan het begin van de lijst zonder de code binnen de blokhaken te veranderen. <br>\n",
    "Print de lijst naar het scherm. <br>\n",
    "Kom je hier niet uit dan gebruik je voor de volgende opdracht de volgende lijst:"
   ]
  },
  {
   "cell_type": "code",
   "execution_count": 6,
   "metadata": {},
   "outputs": [],
   "source": [
    "seq_data_list = ['aaaa', 'gatc', 'tatc', 'aacg', 'aatt', 'utaa', 'gggc', 'gggg']"
   ]
  },
  {
   "cell_type": "code",
   "execution_count": null,
   "metadata": {},
   "outputs": [],
   "source": [
    "###YOUR CODE HERE\n"
   ]
  },
  {
   "cell_type": "markdown",
   "metadata": {},
   "source": [
    "### Vraag 3d [2p]"
   ]
  },
  {
   "cell_type": "markdown",
   "metadata": {},
   "source": [
    "Haal nu de sequentie `aacg` uit de lijst op basis van de sequentie en niet op de basis van de positie. <br>\n",
    "Print de lijst naar het scherm. <br>\n",
    "Kom je hier niet uit dan gebruik je voor de volgende opdracht de volgende lijst: "
   ]
  },
  {
   "cell_type": "code",
   "execution_count": 7,
   "metadata": {},
   "outputs": [],
   "source": [
    "seq_data_list = ['aaaa', 'gatc', 'tatc', 'aatt', 'utaa', 'gggc', 'gggg']"
   ]
  },
  {
   "cell_type": "code",
   "execution_count": null,
   "metadata": {},
   "outputs": [],
   "source": [
    "###YOUR CODE HERE\n"
   ]
  },
  {
   "cell_type": "markdown",
   "metadata": {},
   "source": [
    "### Vraag 3e [6p]"
   ]
  },
  {
   "cell_type": "markdown",
   "metadata": {},
   "source": [
    "Gebruik de data van de lijst seq_data_list om in een nieuwe lijst met de naam seq_data_caps alle elementen in hoofdletters te zetten behalve als de sequentie `u` in de lijst voorkomt. Een sequentie met de letter u wil je niet aan de nieuwe lijst toevoegen. <br>\n",
    "Print de lijst naar het scherm. Je moet de volgende uitput hebben:"
   ]
  },
  {
   "cell_type": "code",
   "execution_count": 1,
   "metadata": {},
   "outputs": [
    {
     "data": {
      "text/plain": [
       "['AAAA', 'GATC', 'TATC', 'AATT', 'GGGC', 'GGGG']"
      ]
     },
     "execution_count": 1,
     "metadata": {},
     "output_type": "execute_result"
    }
   ],
   "source": [
    "['AAAA', 'GATC', 'TATC', 'AATT', 'GGGC', 'GGGG']"
   ]
  },
  {
   "cell_type": "code",
   "execution_count": null,
   "metadata": {},
   "outputs": [],
   "source": [
    "###YOUR CODE HERE\n"
   ]
  },
  {
   "cell_type": "markdown",
   "metadata": {},
   "source": [
    "## Vraag 4 [10p]"
   ]
  },
  {
   "cell_type": "markdown",
   "metadata": {},
   "source": [
    "Het molecuulgewicht (MW) in gram per mol van enkelstrengs DNA (ssDNA) kan als volgt berekend worden: <br>\n",
    "\n",
    "\n",
    "```\n",
    "MW = (aantal A x 313.2) + (aantal T x 304.2) + (aantal C x 289.2) + (aantal G x 329.2)\n",
    "```\n",
    "Maak gebruik van het juiste type verzameling om het gewicht per base in het geheugen te bewaren. <br>\n",
    "Bereken vervolgens het moleculaire gewicht van de sequentie `AATTCCGGGACGGATTTT` <br>\n",
    "Print je antwoord naar het scherm. Vergeet daarbij de eenheid niet (g/mol)."
   ]
  },
  {
   "cell_type": "code",
   "execution_count": null,
   "metadata": {},
   "outputs": [],
   "source": [
    "###YOUR CODE HERE\n"
   ]
  },
  {
   "cell_type": "markdown",
   "metadata": {},
   "source": [
    "## Vraag 5 [15p]"
   ]
  },
  {
   "cell_type": "markdown",
   "metadata": {},
   "source": [
    "Het meten van Anti-Müller-Hormoon (AMH) in bloed is een diagnostisch middel om het aantal eicellen van een vrouw te voorspellen. Met de leeftijd neemt het aantal eicellen af. Deze afname kan worden afgelezen aan de hand van de concentratie van AMH in het bloed. <br>\n",
    "Een vrouw van `20` heeft een hoeveelheid van `8.4` μg/ml AMH in bloed.<br>\n",
    "De afname per jaar bedraagt `16.24` % <br>\n",
    "De kritische grens voor AMH bedraagt `0.1` μg/ml.\n",
    "De formule voor het berekenen van de hoeveelheid AMH per jaar is dus:  \n",
    "```\n",
    "AMH nieuwe jaar = AMH oude jaar - (AMH oude jaar * (percentage afname/100))\n",
    "```\n",
    "\n",
    "Schrijf Python code die:\n",
    "- per jaar de leeftijd van de vrouw en de hoeveelheid AMH op 1 regel naar het scherm print.\n",
    "- bij de uitvoering van het script stopt als de kritische waarde van `0.1` μg/ml bereikt is.\n",
    "- print aan het eind de string \"tot slot\" naar het scherm.\n",
    "- print dan nog eenmaal de leeftijd van de vrouw en de hoeveelheid AMH op 1 regel naar het scherm."
   ]
  },
  {
   "cell_type": "code",
   "execution_count": null,
   "metadata": {},
   "outputs": [],
   "source": [
    "###YOUR CODE HERE\n"
   ]
  },
  {
   "cell_type": "markdown",
   "metadata": {},
   "source": [
    "## Vraag 6 [15p]"
   ]
  },
  {
   "cell_type": "markdown",
   "metadata": {},
   "source": [
    "Schrijf een script dat:\n",
    "- Naast de rest van de code een calc_gc functie bevat.\n",
    "- Het script moet de file `sequence.txt` inlezen.\n",
    "- Per regel moet het GC percentage uitgerekend worden met de calc_gc functie. De functie moet het GC percentage retourneren.\n",
    "- Print voor elke regel het GC percentage.\n",
    "- Print helemaal aan het einde de **sequentie** met het hoogste GC percentage en het GC percentage van deze sequentie. <br><br>\n",
    "Indien het je niet lukt om de file in te lezen kun je gebruik maken van de volgende lijst met sequenties:"
   ]
  },
  {
   "cell_type": "code",
   "execution_count": 14,
   "metadata": {},
   "outputs": [],
   "source": [
    "sequences = ['GATGGACGTTTGAGGGA', 'TTGAATTATATATATAT', 'GCGGAGGGGGGGGCACACGGAG', 'GGGCGCGGAAAGTCCGGGGG']"
   ]
  },
  {
   "cell_type": "code",
   "execution_count": null,
   "metadata": {},
   "outputs": [],
   "source": [
    "###YOUR CODE HERE\n"
   ]
  },
  {
   "cell_type": "markdown",
   "metadata": {},
   "source": [
    "EINDE"
   ]
  }
 ],
 "metadata": {
  "kernelspec": {
   "display_name": "Python 3",
   "language": "python",
   "name": "python3"
  },
  "language_info": {
   "codemirror_mode": {
    "name": "ipython",
    "version": 3
   },
   "file_extension": ".py",
   "mimetype": "text/x-python",
   "name": "python",
   "nbconvert_exporter": "python",
   "pygments_lexer": "ipython3",
   "version": "3.7.4"
  }
 },
 "nbformat": 4,
 "nbformat_minor": 2
}
