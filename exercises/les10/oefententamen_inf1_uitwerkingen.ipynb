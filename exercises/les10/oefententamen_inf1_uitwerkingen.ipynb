{
 "cells": [
  {
   "cell_type": "markdown",
   "metadata": {},
   "source": [
    "# Tentamen Informatica 1"
   ]
  },
  {
   "cell_type": "markdown",
   "metadata": {},
   "source": [
    "## Studiejaar: 2018-2019"
   ]
  },
  {
   "cell_type": "markdown",
   "metadata": {},
   "source": [
    "In alle gevallen wordt gevraagd om met Python functies en methoden de gegeven variabelen te veranderen. <br>\n",
    "Een voorbeeld: <br>\n",
    "Als gevraagd wordt om aan een dictionary met een sleutel-waarde paar een extra sleutel-waarde paar toe te voegen dan is het volgende **niet** toegestaan:"
   ]
  },
  {
   "cell_type": "code",
   "execution_count": 1,
   "metadata": {},
   "outputs": [],
   "source": [
    "my_dict = {'A':'Adenine'}\n",
    "my_dict = {'A':'Adenine', 'T':'Thymine'}"
   ]
  },
  {
   "cell_type": "markdown",
   "metadata": {},
   "source": [
    "Het is de bedoeling dat je een lijst methode gebruikt of Python syntax gebruikt om de lijst aan te vullen:"
   ]
  },
  {
   "cell_type": "code",
   "execution_count": 19,
   "metadata": {},
   "outputs": [],
   "source": [
    "my_dict = {'A':'Adenine'}\n",
    "my_dict.update({'T':'Thymine'}) # Met een functie of ...\n",
    "my_dict['T'] = 'Thymine' # ... door middel van synthax "
   ]
  },
  {
   "cell_type": "markdown",
   "metadata": {},
   "source": [
    "## Vraag 1 [2p]"
   ]
  },
  {
   "cell_type": "markdown",
   "metadata": {},
   "source": [
    "Maak een variabele `voornaam` en een variabele `achternaam` aan. Geef deze variabelen de juiste waarden (je voornaam en achternaam).  \n",
    "Print je voornaam gevolgd door je achternaam door gebruik te maken van de variabelen.  "
   ]
  },
  {
   "cell_type": "code",
   "execution_count": 30,
   "metadata": {},
   "outputs": [
    {
     "name": "stdout",
     "output_type": "stream",
     "text": [
      "Jan Janssen\n"
     ]
    }
   ],
   "source": [
    "###YOUR CODE HERE###\n",
    "\n",
    "\n",
    "###ANSWER###\n",
    "voornaam = \"Jan\"\n",
    "achternaam = \"Janssen\"\n",
    "print(voornaam, achternaam)\n",
    "###END ANSWER###"
   ]
  },
  {
   "cell_type": "markdown",
   "metadata": {},
   "source": [
    "## Vraag 2"
   ]
  },
  {
   "cell_type": "markdown",
   "metadata": {},
   "source": [
    "### Vraag 2a [2p]"
   ]
  },
  {
   "cell_type": "markdown",
   "metadata": {},
   "source": [
    "Python heeft een built-in functie om attributen van objecten in te zien. Print met deze built-in functie de attributen (waaronder veel van de methoden) van een string object."
   ]
  },
  {
   "cell_type": "code",
   "execution_count": 4,
   "metadata": {},
   "outputs": [
    {
     "name": "stdout",
     "output_type": "stream",
     "text": [
      "['__add__', '__class__', '__contains__', '__delattr__', '__dir__', '__doc__', '__eq__', '__format__', '__ge__', '__getattribute__', '__getitem__', '__getnewargs__', '__gt__', '__hash__', '__init__', '__init_subclass__', '__iter__', '__le__', '__len__', '__lt__', '__mod__', '__mul__', '__ne__', '__new__', '__reduce__', '__reduce_ex__', '__repr__', '__rmod__', '__rmul__', '__setattr__', '__sizeof__', '__str__', '__subclasshook__', 'capitalize', 'casefold', 'center', 'count', 'encode', 'endswith', 'expandtabs', 'find', 'format', 'format_map', 'index', 'isalnum', 'isalpha', 'isascii', 'isdecimal', 'isdigit', 'isidentifier', 'islower', 'isnumeric', 'isprintable', 'isspace', 'istitle', 'isupper', 'join', 'ljust', 'lower', 'lstrip', 'maketrans', 'partition', 'replace', 'rfind', 'rindex', 'rjust', 'rpartition', 'rsplit', 'rstrip', 'split', 'splitlines', 'startswith', 'strip', 'swapcase', 'title', 'translate', 'upper', 'zfill']\n",
      "\n",
      "['__add__', '__class__', '__contains__', '__delattr__', '__dir__', '__doc__', '__eq__', '__format__', '__ge__', '__getattribute__', '__getitem__', '__getnewargs__', '__gt__', '__hash__', '__init__', '__init_subclass__', '__iter__', '__le__', '__len__', '__lt__', '__mod__', '__mul__', '__ne__', '__new__', '__reduce__', '__reduce_ex__', '__repr__', '__rmod__', '__rmul__', '__setattr__', '__sizeof__', '__str__', '__subclasshook__', 'capitalize', 'casefold', 'center', 'count', 'encode', 'endswith', 'expandtabs', 'find', 'format', 'format_map', 'index', 'isalnum', 'isalpha', 'isascii', 'isdecimal', 'isdigit', 'isidentifier', 'islower', 'isnumeric', 'isprintable', 'isspace', 'istitle', 'isupper', 'join', 'ljust', 'lower', 'lstrip', 'maketrans', 'partition', 'replace', 'rfind', 'rindex', 'rjust', 'rpartition', 'rsplit', 'rstrip', 'split', 'splitlines', 'startswith', 'strip', 'swapcase', 'title', 'translate', 'upper', 'zfill']\n"
     ]
    }
   ],
   "source": [
    "###YOUR CODE HERE###\n",
    "\n",
    "\n",
    "###ANSWER###\n",
    "print(dir(str))\n",
    "print() #print lege regel\n",
    "#of op een variabele:\n",
    "print(dir(voornaam))\n",
    "###END ANSWER###"
   ]
  },
  {
   "cell_type": "markdown",
   "metadata": {},
   "source": [
    "### Vraag 2b [2p]"
   ]
  },
  {
   "cell_type": "markdown",
   "metadata": {},
   "source": [
    "Python beschikt over een built-in functie om hulp te krijgen. Print specifieke hulp naar het scherm over de index methode van een string object."
   ]
  },
  {
   "cell_type": "code",
   "execution_count": 33,
   "metadata": {},
   "outputs": [
    {
     "name": "stdout",
     "output_type": "stream",
     "text": [
      "Help on method_descriptor:\n",
      "\n",
      "index(...)\n",
      "    S.index(sub[, start[, end]]) -> int\n",
      "    \n",
      "    Return the lowest index in S where substring sub is found, \n",
      "    such that sub is contained within S[start:end].  Optional\n",
      "    arguments start and end are interpreted as in slice notation.\n",
      "    \n",
      "    Raises ValueError when the substring is not found.\n",
      "\n",
      "None\n",
      "\n",
      "Help on built-in function index:\n",
      "\n",
      "index(...) method of builtins.str instance\n",
      "    S.index(sub[, start[, end]]) -> int\n",
      "    \n",
      "    Return the lowest index in S where substring sub is found, \n",
      "    such that sub is contained within S[start:end].  Optional\n",
      "    arguments start and end are interpreted as in slice notation.\n",
      "    \n",
      "    Raises ValueError when the substring is not found.\n",
      "\n",
      "None\n"
     ]
    }
   ],
   "source": [
    "###YOUR CODE HERE###\n",
    "\n",
    "\n",
    "###ANSWER###\n",
    "print(help(str.index))\n",
    "print()\n",
    "#op variabele:\n",
    "print(help(voornaam.index))\n",
    "###END ANSWER###"
   ]
  },
  {
   "cell_type": "markdown",
   "metadata": {},
   "source": [
    "### Vraag 3"
   ]
  },
  {
   "cell_type": "markdown",
   "metadata": {},
   "source": [
    "Je hebt een string met sequencing data. De sequenties zijn geschieden door een puntkomma: `;`"
   ]
  },
  {
   "cell_type": "code",
   "execution_count": 8,
   "metadata": {},
   "outputs": [],
   "source": [
    "seq_data = \"gatc;tatc;aacg;aatt;utaa;gggc\""
   ]
  },
  {
   "cell_type": "markdown",
   "metadata": {},
   "source": [
    "### Vraag 3a [2p]"
   ]
  },
  {
   "cell_type": "markdown",
   "metadata": {},
   "source": [
    "Zet seq_data om in een lijst door te splitsen op een `;` en koppel dit aan de variabele seq_data_list.  \n",
    "Print de lijst naar het scherm.  \n",
    "Als je hier niet uitkomt gebruik je voor de volgende opdracht de lijst:"
   ]
  },
  {
   "cell_type": "code",
   "execution_count": 34,
   "metadata": {},
   "outputs": [],
   "source": [
    "seq_data_list = ['gatc', 'tatc', 'aacg', 'aatt', 'utaa', 'gggc']"
   ]
  },
  {
   "cell_type": "code",
   "execution_count": 36,
   "metadata": {},
   "outputs": [
    {
     "name": "stdout",
     "output_type": "stream",
     "text": [
      "['gatc', 'tatc', 'aacg', 'aatt', 'utaa', 'gggc']\n"
     ]
    }
   ],
   "source": [
    "###YOUR CODE HERE###\n",
    "\n",
    "\n",
    "###ANSWER###\n",
    "seq_data_list = seq_data.split(\";\")\n",
    "print(seq_data_list)\n",
    "###END ANSWER###"
   ]
  },
  {
   "cell_type": "markdown",
   "metadata": {},
   "source": [
    "### Vraag 3b [2p]"
   ]
  },
  {
   "cell_type": "markdown",
   "metadata": {},
   "source": [
    "Voeg nu de sequentie `gggg` toe aan het eind van de lijst met een lijst methode. <br>\n",
    "Print de lijst naar het scherm. <br>\n",
    "Als je hier niet uitkomt gebruik je voor de volgende opdracht de volgende lijst:"
   ]
  },
  {
   "cell_type": "code",
   "execution_count": 5,
   "metadata": {},
   "outputs": [],
   "source": [
    "seq_data_list = ['gatc', 'tatc', 'aacg', 'aatt', 'utaa', 'gggc', 'gggg']"
   ]
  },
  {
   "cell_type": "code",
   "execution_count": 37,
   "metadata": {},
   "outputs": [
    {
     "name": "stdout",
     "output_type": "stream",
     "text": [
      "['gatc', 'tatc', 'aacg', 'aatt', 'utaa', 'gggc', 'gggg']\n"
     ]
    }
   ],
   "source": [
    "###YOUR CODE HERE###\n",
    "\n",
    "\n",
    "###ANSWER###\n",
    "seq_data_list.append(\"gggg\")\n",
    "print(seq_data_list)\n",
    "###END ANSWER###"
   ]
  },
  {
   "cell_type": "markdown",
   "metadata": {},
   "source": [
    "### Vraag 3c [2p]"
   ]
  },
  {
   "cell_type": "markdown",
   "metadata": {},
   "source": [
    "Voeg nu de sequentie `aaaa` toe aan het begin van de lijst zonder de code binnen de blokhaken te veranderen. <br>\n",
    "Print de lijst naar het scherm. <br>\n",
    "Kom je hier niet uit dan gebruik je voor de volgende opdracht de volgende lijst:"
   ]
  },
  {
   "cell_type": "code",
   "execution_count": 42,
   "metadata": {},
   "outputs": [],
   "source": [
    "seq_data_list = ['aaaa', 'gatc', 'tatc', 'aacg', 'aatt', 'utaa', 'gggc', 'gggg']"
   ]
  },
  {
   "cell_type": "code",
   "execution_count": 41,
   "metadata": {},
   "outputs": [
    {
     "name": "stdout",
     "output_type": "stream",
     "text": [
      "['aaaa', 'aaaa', 'aaaa', 'aaaa', 'gatc', 'tatc', 'aacg', 'aatt', 'utaa', 'gggc', 'gggg']\n"
     ]
    }
   ],
   "source": [
    "###YOUR CODE HERE###\n",
    "\n",
    "\n",
    "###ANSWER###\n",
    "seq_data_list.insert(0, \"aaaa\")\n",
    "print(seq_data_list)\n",
    "###END ANSWER###"
   ]
  },
  {
   "cell_type": "markdown",
   "metadata": {},
   "source": [
    "### Vraag 3d [2p]"
   ]
  },
  {
   "cell_type": "markdown",
   "metadata": {},
   "source": [
    "Haal nu de sequentie `aacg` uit de lijst op basis van de sequentie en niet op de basis van de positie. <br>\n",
    "Print de lijst naar het scherm. <br>\n",
    "Kom je hier niet uit dan gebruik je voor de volgende opdracht de volgende lijst: "
   ]
  },
  {
   "cell_type": "code",
   "execution_count": 7,
   "metadata": {},
   "outputs": [],
   "source": [
    "seq_data_list = ['aaaa', 'gatc', 'tatc', 'aatt', 'utaa', 'gggc', 'gggg']"
   ]
  },
  {
   "cell_type": "code",
   "execution_count": 43,
   "metadata": {},
   "outputs": [
    {
     "name": "stdout",
     "output_type": "stream",
     "text": [
      "['aaaa', 'gatc', 'tatc', 'aatt', 'utaa', 'gggc', 'gggg']\n"
     ]
    }
   ],
   "source": [
    "###YOUR CODE HERE###\n",
    "\n",
    "\n",
    "###ANSWER###\n",
    "seq_data_list.remove(\"aacg\")\n",
    "print(seq_data_list)\n",
    "###END ANSWER###"
   ]
  },
  {
   "cell_type": "markdown",
   "metadata": {},
   "source": [
    "### Vraag 3e [6p]"
   ]
  },
  {
   "cell_type": "markdown",
   "metadata": {},
   "source": [
    "Gebruik de data van de lijst seq_data_list om in een nieuwe lijst met de naam seq_data_caps alle elementen in hoofdletters te zetten behalve als de sequentie `u` in de lijst voorkomt. Een sequentie met de letter u wil je niet aan de nieuwe lijst toevoegen. <br>\n",
    "Print de lijst naar het scherm. Je moet de volgende uitput hebben:"
   ]
  },
  {
   "cell_type": "code",
   "execution_count": 1,
   "metadata": {},
   "outputs": [
    {
     "data": {
      "text/plain": [
       "['AAAA', 'GATC', 'TATC', 'AATT', 'GGGC', 'GGGG']"
      ]
     },
     "execution_count": 1,
     "metadata": {},
     "output_type": "execute_result"
    }
   ],
   "source": [
    "['AAAA', 'GATC', 'TATC', 'AATT', 'GGGC', 'GGGG']"
   ]
  },
  {
   "cell_type": "code",
   "execution_count": 50,
   "metadata": {},
   "outputs": [
    {
     "name": "stdout",
     "output_type": "stream",
     "text": [
      "['AAAA', 'GATC', 'TATC', 'AATT', 'GGGC', 'GGGG']\n"
     ]
    }
   ],
   "source": [
    "###YOUR CODE HERE###\n",
    "\n",
    "\n",
    "###ANSWER###\n",
    "seq_data_caps = []\n",
    "for i in seq_data_list:\n",
    "    if not \"u\" in i:\n",
    "        seq_data_caps.append(i.upper())\n",
    "print(seq_data_caps)\n",
    "###END ANSWER###"
   ]
  },
  {
   "cell_type": "markdown",
   "metadata": {},
   "source": [
    "## Vraag 4 [10p]"
   ]
  },
  {
   "cell_type": "markdown",
   "metadata": {},
   "source": [
    "Het molecuulgewicht (MW) in gram per mol van enkelstrengs DNA (ssDNA) kan als volgt berekend worden: <br>\n",
    "\n",
    "\n",
    "```\n",
    "MW = (aantal A x 313.2) + (aantal T x 304.2) + (aantal C x 289.2) + (aantal G x 329.2)\n",
    "```\n",
    "Maak gebruik van het juiste type verzameling om het gewicht per base in het geheugen te bewaren. <br>\n",
    "Bereken vervolgens het moleculaire gewicht van de sequentie `AATTCCGGGACGGATTTT` <br>\n",
    "Print je antwoord naar het scherm. Vergeet daarbij de eenheid niet (g/mol)."
   ]
  },
  {
   "cell_type": "code",
   "execution_count": 22,
   "metadata": {},
   "outputs": [
    {
     "name": "stdout",
     "output_type": "stream",
     "text": [
      "5591.6 g/mol\n",
      "5591.6 g/mol\n"
     ]
    }
   ],
   "source": [
    "###YOUR CODE HERE###\n",
    "\n",
    "\n",
    "###ANSWER###\n",
    "mol_weigth_bases = {'A': 313.2, 'T' : 304.2, 'C' : 289.2, 'G' : 329.2}\n",
    "seq = 'AATTCCGGGACGGATTTT'\n",
    "total = 0\n",
    "for nucleotide in seq:\n",
    "    total += mol_weigth_bases[nucleotide]\n",
    "print(round(total, 2), \"g/mol\")\n",
    "\n",
    "\n",
    "#OF\n",
    "mol_weigth_bases = {'A': 313.2, 'T' : 304.2, 'C' : 289.2, 'G' : 329.2}\n",
    "seq = 'AATTCCGGGACGGATTTT'\n",
    "mol_weight_A = seq.count(\"A\") * mol_weigth_bases[\"A\"]\n",
    "mol_weight_T = seq.count(\"T\") * mol_weigth_bases[\"T\"]\n",
    "mol_weight_C = seq.count(\"C\") * mol_weigth_bases[\"C\"]\n",
    "mol_weight_G = seq.count(\"G\") * mol_weigth_bases[\"G\"]\n",
    "mol_weight_total = mol_weight_A + mol_weight_T + mol_weight_C + mol_weight_G\n",
    "print(mol_weight_total, \"g/mol\")\n",
    "###END ANSWER###"
   ]
  },
  {
   "cell_type": "markdown",
   "metadata": {},
   "source": [
    "## Vraag 5 [15p]"
   ]
  },
  {
   "cell_type": "markdown",
   "metadata": {},
   "source": [
    "Het meten van Anti-Müller-Hormoon (AMH) in bloed is een diagnostisch middel om het aantal eicellen van een vrouw te voorspellen. Met de leeftijd neemt het aantal eicellen af. Deze afname kan worden afgelezen aan de hand van de concentratie van AMH in het bloed. <br>\n",
    "Een vrouw van `20` heeft een hoeveelheid van `8.4` μg/ml AMH in bloed.<br>\n",
    "De afname per jaar bedraagt `16.24` % <br>\n",
    "De kritische grens voor AMH bedraagt `0.1` μg/ml.\n",
    "De formule voor het berekenen van de hoeveelheid AMH per jaar is dus:  \n",
    "```\n",
    "AMH nieuwe jaar = AMH oude jaar - (AMH oude jaar * (percentage afname/100))\n",
    "```\n",
    "\n",
    "Schrijf Python code die:\n",
    "- per jaar de leeftijd van de vrouw en de hoeveelheid AMH op 1 regel naar het scherm print.\n",
    "- bij de uitvoering van het script stopt als de kritische waarde van `0.1` μg/ml bereikt is.\n",
    "- print aan het eind de string \"tot slot\" naar het scherm.\n",
    "- print dan nog eenmaal de leeftijd van de vrouw en de hoeveelheid AMH op 1 regel naar het scherm."
   ]
  },
  {
   "cell_type": "code",
   "execution_count": 57,
   "metadata": {},
   "outputs": [
    {
     "name": "stdout",
     "output_type": "stream",
     "text": [
      "leeftijd: 20 AMH: 8.4\n",
      "leeftijd: 21 AMH: 7.04\n",
      "leeftijd: 22 AMH: 5.9\n",
      "leeftijd: 23 AMH: 4.94\n",
      "leeftijd: 24 AMH: 4.14\n",
      "leeftijd: 25 AMH: 3.47\n",
      "leeftijd: 26 AMH: 2.91\n",
      "leeftijd: 27 AMH: 2.44\n",
      "leeftijd: 28 AMH: 2.04\n",
      "leeftijd: 29 AMH: 1.71\n",
      "leeftijd: 30 AMH: 1.43\n",
      "leeftijd: 31 AMH: 1.2\n",
      "leeftijd: 32 AMH: 1.01\n",
      "leeftijd: 33 AMH: 0.85\n",
      "leeftijd: 34 AMH: 0.71\n",
      "leeftijd: 35 AMH: 0.59\n",
      "leeftijd: 36 AMH: 0.49\n",
      "leeftijd: 37 AMH: 0.41\n",
      "leeftijd: 38 AMH: 0.34\n",
      "leeftijd: 39 AMH: 0.28\n",
      "leeftijd: 40 AMH: 0.23\n",
      "leeftijd: 41 AMH: 0.19\n",
      "leeftijd: 42 AMH: 0.16\n",
      "leeftijd: 43 AMH: 0.13\n",
      "leeftijd: 44 AMH: 0.11\n",
      "tot slot\n",
      "leeftijd: 45 AMH: 0.09 μg/ml\n"
     ]
    }
   ],
   "source": [
    "###YOUR CODE HERE###\n",
    "\n",
    "\n",
    "###ANSWER###\n",
    "amh = 8.4\n",
    "afname = 16.24/100\n",
    "leeftijd = 20\n",
    "kritisch_punt = 0.1\n",
    "while amh >= kritisch_punt:\n",
    "    print(\"leeftijd:\", leeftijd, \"AMH:\", amh)\n",
    "    amh = amh - (amh * afname)\n",
    "    amh = round(amh, 2)\n",
    "    leeftijd += 1\n",
    "print(\"tot slot\")\n",
    "print(\"leeftijd:\", leeftijd, \"AMH:\", amh, \"μg/ml\")\n",
    "###END ANSWER###"
   ]
  },
  {
   "cell_type": "markdown",
   "metadata": {},
   "source": [
    "## Vraag 6 [15p]"
   ]
  },
  {
   "cell_type": "markdown",
   "metadata": {},
   "source": [
    "Schrijf een script dat:\n",
    "- Naast de rest van de code een `calc_gc` functie bevat.\n",
    "- Het script moet de file `sequence.txt` inlezen.\n",
    "- Per regel moet het GC percentage uitgerekend worden met de calc_gc functie. De functie moet het GC percentage retourneren.\n",
    "- Print voor elke regel het GC percentage.\n",
    "- Print helemaal aan het einde de **sequentie** met het hoogste GC percentage en het GC percentage van deze sequentie. <br><br>\n",
    "Indien het je niet lukt om de file in te lezen kun je gebruik maken van de volgende lijst met sequenties:"
   ]
  },
  {
   "cell_type": "code",
   "execution_count": 58,
   "metadata": {},
   "outputs": [],
   "source": [
    "sequences = ['GATGGACGTTTGAGGGA', 'TTGAATTATATATATAT', 'GCGGAGGGGGGGGCACACGGAG', 'GGGCGCGGAAAGTCCGGGGG']"
   ]
  },
  {
   "cell_type": "code",
   "execution_count": 63,
   "metadata": {},
   "outputs": [
    {
     "name": "stdout",
     "output_type": "stream",
     "text": [
      "GC percentage: 45.0\n",
      "GC percentage: 65.0\n",
      "GC percentage: 50.0\n",
      "GC percentage: 40.0\n",
      "GC percentage: 45.0\n",
      "GC percentage: 35.0\n",
      "GC percentage: 45.0\n",
      "GC percentage: 35.0\n",
      "GC percentage: 45.0\n",
      "GC percentage: 30.0\n",
      "GC percentage: 60.0\n",
      "GC percentage: 60.0\n",
      "GC percentage: 45.0\n",
      "GC percentage: 90.0\n",
      "GC percentage: 70.0\n",
      "GC percentage: 60.0\n",
      "GC percentage: 35.0\n",
      "GC percentage: 60.0\n",
      "GC percentage: 45.0\n",
      "GC percentage: 30.0\n",
      "Highest GC seq: GCGGCCGGCAGACGGCGCGG value 90.0\n"
     ]
    }
   ],
   "source": [
    "###YOUR CODE HERE###\n",
    "\n",
    "\n",
    "###ANSWER###\n",
    "file_name = \"sequence.txt\"\n",
    "\n",
    "def calc_gc(seq):\n",
    "    gc = (seq.count(\"G\") + seq.count(\"C\")) / len(seq) * 100\n",
    "    return gc\n",
    "\n",
    "\n",
    "def main():\n",
    "    highest_gc_perc = 0\n",
    "    highest_gc_seq = \"\"\n",
    "    file_obj = open(file_name)\n",
    "    for line in file_obj:\n",
    "        seq = line.strip()\n",
    "        gc = calc_gc(seq)\n",
    "        print(\"GC percentage:\", gc)\n",
    "        if gc > highest_gc_perc:\n",
    "            highest_gc_perc = gc\n",
    "            highest_gc_seq = seq\n",
    "    print(\"Highest GC seq:\", highest_gc_seq, \"value\", highest_gc_perc)\n",
    "    file_obj.close()\n",
    "\n",
    "main()\n",
    "###END ANSWER###"
   ]
  },
  {
   "cell_type": "markdown",
   "metadata": {},
   "source": [
    "EINDE"
   ]
  }
 ],
 "metadata": {
  "kernelspec": {
   "display_name": "Python 3",
   "language": "python",
   "name": "python3"
  },
  "language_info": {
   "codemirror_mode": {
    "name": "ipython",
    "version": 3
   },
   "file_extension": ".py",
   "mimetype": "text/x-python",
   "name": "python",
   "nbconvert_exporter": "python",
   "pygments_lexer": "ipython3",
   "version": "3.7.4"
  }
 },
 "nbformat": 4,
 "nbformat_minor": 2
}
