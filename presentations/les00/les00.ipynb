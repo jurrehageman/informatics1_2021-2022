{
 "cells": [
  {
   "cell_type": "markdown",
   "id": "91196ca7",
   "metadata": {
    "slideshow": {
     "slide_type": "slide"
    }
   },
   "source": [
    "# Introductie\n",
    "\n",
    "## Informatica 1"
   ]
  },
  {
   "cell_type": "markdown",
   "id": "d8687354",
   "metadata": {
    "slideshow": {
     "slide_type": "slide"
    }
   },
   "source": [
    "## Wat kan een Bioinformaticus?\n",
    "\n",
    "- Heeft verstand van biologische data\n",
    "- Kan de data bewerken door een programma te schrijven/gebruiken."
   ]
  },
  {
   "cell_type": "markdown",
   "id": "4651b7fa",
   "metadata": {
    "slideshow": {
     "slide_type": "slide"
    }
   },
   "source": [
    "## Wat leer ik tijdens mijn studie?\n",
    "\n",
    "- In jaar vier stage lopen en afstudeeronderzoek doen.\n",
    "- In jaar drie bezig met problemen uit de praktijk.\n",
    "- In jaar twee specifieke technieken leren, JAVA, genexpressie data en\n",
    "modelleren.\n",
    "- In dit eerste jaar de basis daarvoor leggen."
   ]
  },
  {
   "cell_type": "markdown",
   "id": "4b338e45",
   "metadata": {
    "slideshow": {
     "slide_type": "slide"
    }
   },
   "source": [
    "## Wat leer ik in jaar 1?\n",
    "- Kwartaal 1: kennismaken met data en databases, de basis voor\n",
    "programmeren, biologie, chemie en wiskunde\n",
    "- Kwartaal 2: visualisatie\n",
    "- Kwartaal 3: van DNA naar organismen\n",
    "- Kwartaal 4: genetica en statistiek"
   ]
  },
  {
   "cell_type": "markdown",
   "id": "96e25030",
   "metadata": {
    "slideshow": {
     "slide_type": "slide"
    }
   },
   "source": [
    "## Wat leer ik in kwartaal 1?\n",
    "\n",
    "- De themaopdracht: data en databases. Verwerken van data\n",
    "- Informatica: de basis van Python 3\n",
    "- Chemie: de bouwstenen: atomen, verbindingen, naamgeving\n",
    "- Biologie: organismen en cellen\n",
    "- Wiskunde: de basis\n",
    "- SLB: kennismaking met elkaar en met de organisatie"
   ]
  },
  {
   "cell_type": "markdown",
   "id": "44405559",
   "metadata": {
    "slideshow": {
     "slide_type": "slide"
    }
   },
   "source": [
    "## Wat is informatica?\n",
    "\n",
    "- Aansturen van een computer\n",
    "- Taal\n",
    "- Compute /Rekenen\n",
    "- Nadenken\n",
    "- Veel fouten maken/leren"
   ]
  },
  {
   "cell_type": "markdown",
   "id": "ece620ce",
   "metadata": {
    "slideshow": {
     "slide_type": "slide"
    }
   },
   "source": [
    "## Wat leer ik bij Informatica 1?\n",
    "\n",
    "- Data\n",
    "- Verzamelingen\n",
    "- Rekenen\n",
    "- Functies"
   ]
  },
  {
   "cell_type": "markdown",
   "id": "31b52210",
   "metadata": {
    "slideshow": {
     "slide_type": "slide"
    }
   },
   "source": [
    "## Bronnen\n",
    "\n",
    "- Think Python (2nd edition ), gratis te downloaden bij Green Tea Press\n",
    "- De officiele Python tutorial\n",
    "- De w3schools Python tutorial\n",
    "- Codecademy\n",
    "- Codecombat\n",
    "- Rosalind.info"
   ]
  },
  {
   "cell_type": "markdown",
   "id": "0ef8d872",
   "metadata": {
    "slideshow": {
     "slide_type": "slide"
    }
   },
   "source": [
    "## En verder...\n",
    "\n",
    "- Oefen\n",
    "- Wees volhardend\n",
    "- Vraag\n",
    "- Help anderen\n",
    "- Maak fouten\n",
    "- Leer\n",
    "- En heb vooral plezier"
   ]
  },
  {
   "cell_type": "markdown",
   "id": "5616eb41",
   "metadata": {
    "slideshow": {
     "slide_type": "slide"
    }
   },
   "source": [
    "## Einde"
   ]
  }
 ],
 "metadata": {
  "celltoolbar": "Slideshow",
  "kernelspec": {
   "display_name": "Python 3 (ipykernel)",
   "language": "python",
   "name": "python3"
  },
  "language_info": {
   "codemirror_mode": {
    "name": "ipython",
    "version": 3
   },
   "file_extension": ".py",
   "mimetype": "text/x-python",
   "name": "python",
   "nbconvert_exporter": "python",
   "pygments_lexer": "ipython3",
   "version": "3.9.2"
  }
 },
 "nbformat": 4,
 "nbformat_minor": 5
}
