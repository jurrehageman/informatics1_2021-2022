{
 "cells": [
  {
   "cell_type": "markdown",
   "id": "9141cef7",
   "metadata": {},
   "source": [
    "# Lesson2"
   ]
  },
  {
   "cell_type": "markdown",
   "id": "2caf927c",
   "metadata": {},
   "source": [
    "# Simulating Cat\n",
    "\n",
    "This lesson, we will simulate the `cat` command on Linux/Unix (also Mac). Cat is used to concatenate text files but also often used to display the content of a text file to the screen. A similar command is the `less` command on Linux/Unix or the `more`command on Windows. Whether `less` is `more` is up to you to decide...\n",
    "Anyway, my `cat` could not care `less`:\n",
    "![my cat](figs/fig1.png)\n"
   ]
  },
  {
   "cell_type": "markdown",
   "id": "7a354ee6",
   "metadata": {},
   "source": [
    "As mentioned before. Cat can display the content of a text file:\n",
    "![text file](figs/fig2.png)\n",
    "\n",
    "Cat displaying the content of a text file on Ubuntu Linux running as [Windows subsystem for Linux (WSL)](https://docs.microsoft.com/en-us/windows/wsl/install-win10). "
   ]
  },
  {
   "cell_type": "markdown",
   "id": "bdbf9c44",
   "metadata": {},
   "source": [
    "The aim of this lesson is to simulate this behaviour with Python.\n",
    "The required steps are:\n",
    "- Use the `open`function to generate a file object.\n",
    "- Use a `for` loop to iterate through the individual lines.\n",
    "- Use the `print` function to display the lines (strings) to screen.\n",
    "- Close the file object."
   ]
  },
  {
   "cell_type": "markdown",
   "id": "4e5c46dd",
   "metadata": {},
   "source": [
    "## Strings"
   ]
  },
  {
   "cell_type": "markdown",
   "id": "ed2e3868",
   "metadata": {},
   "source": [
    "During this  lesson, we will make use of another data type: `strings`. Some information about `strings`:\n",
    "- Strings are ordered sequences of Unicode characters.\n",
    "- Strings are a collection of characters.\n",
    "- Strings can be created using single quotes or double quotes.\n",
    "- Strings are iterables which means that it can take sequential indexes starting from zero.\n",
    "- Strings have a zero based index in Python  \n",
    "Some examples:"
   ]
  },
  {
   "cell_type": "code",
   "execution_count": 2,
   "id": "f8da4c4a",
   "metadata": {},
   "outputs": [],
   "source": [
    "name1 = \"Jan\" # double quotes\n",
    "name2 = 'Pien' # single quotes\n",
    "message1 = \"Let's code some Python code\" # note the use of a single quote in the string\n",
    "message2 = 'Let\\'s code some Python code' # the \\ character serves as an escape character"
   ]
  },
  {
   "cell_type": "markdown",
   "id": "07fb0ffe",
   "metadata": {},
   "source": [
    "### String methods"
   ]
  },
  {
   "cell_type": "markdown",
   "id": "b8db3d27",
   "metadata": {},
   "source": [
    "Since Python is a real object oriented programming language, all data in Python are represented as objects.\n",
    "In terms of programming, an object is a structure with data (properties or attributes) and methods (functionality). \n",
    "We will explore these concepts a little with string objects."
   ]
  },
  {
   "cell_type": "markdown",
   "id": "aaf58f9f",
   "metadata": {},
   "source": [
    "What is a string method?\n",
    "A function is a piece of code that is accessible through its name.\n",
    "You can call a function and cause its code to be executed.\n",
    "Have a look at the print function for example:"
   ]
  },
  {
   "cell_type": "code",
   "execution_count": 4,
   "id": "99289c71",
   "metadata": {},
   "outputs": [
    {
     "name": "stdout",
     "output_type": "stream",
     "text": [
      "Hello\n"
     ]
    }
   ],
   "source": [
    "print(\"Hello\")"
   ]
  },
  {
   "cell_type": "markdown",
   "id": "edaf6d83",
   "metadata": {},
   "source": [
    "Here the `print` function accepted the string `Hello` as an `argument`. The execution of the `print` function resulted in the display of the string `Hello` on screen."
   ]
  },
  {
   "cell_type": "markdown",
   "id": "265870eb",
   "metadata": {},
   "source": [
    "Methods are functions too but they are attached to an object. They can be called using the object.method( arguments ) syntax.\n",
    "We can explore the methods attached to a string object using the `dir` function:"
   ]
  },
  {
   "cell_type": "code",
   "execution_count": 8,
   "id": "d08322ec",
   "metadata": {},
   "outputs": [],
   "source": [
    "# dir(str) # not executed in order to save space."
   ]
  },
  {
   "cell_type": "markdown",
   "id": "7df6f39e",
   "metadata": {},
   "source": [
    "The string methods that we will cover here are:\n",
    "- strip\n",
    "- rstrip\n",
    "- lstrip\n",
    "- split\n",
    "- upper\n",
    "- lower\n",
    "- find\n",
    "- index\n",
    "- isnumeric\n",
    "- startswith\n",
    "- endswith"
   ]
  },
  {
   "cell_type": "code",
   "execution_count": null,
   "id": "5fdc2989",
   "metadata": {},
   "outputs": [],
   "source": []
  }
 ],
 "metadata": {
  "kernelspec": {
   "display_name": "Python 3 (ipykernel)",
   "language": "python",
   "name": "python3"
  },
  "language_info": {
   "codemirror_mode": {
    "name": "ipython",
    "version": 3
   },
   "file_extension": ".py",
   "mimetype": "text/x-python",
   "name": "python",
   "nbconvert_exporter": "python",
   "pygments_lexer": "ipython3",
   "version": "3.9.2"
  }
 },
 "nbformat": 4,
 "nbformat_minor": 5
}
