{
 "cells": [
  {
   "cell_type": "markdown",
   "id": "9141cef7",
   "metadata": {},
   "source": [
    "# Lesson2"
   ]
  },
  {
   "cell_type": "markdown",
   "id": "2caf927c",
   "metadata": {},
   "source": [
    "# Simulating Cat\n",
    "\n",
    "This lesson, we will simulate the `cat` command on Linux/Unix (also Mac). Cat is used to concatenate text files but also often used to display the content of a text file to the screen. A similar command is the `less` command on Linux/Unix or the `more`command on Windows. Whether `less` is `more` is up to you to decide...\n",
    "Anyway, my `cat` could not care `less`:\n",
    "![my cat](figs/fig1.png)\n"
   ]
  },
  {
   "cell_type": "markdown",
   "id": "7a354ee6",
   "metadata": {},
   "source": [
    "As mentioned before. Cat can display the content of a text file:\n",
    "![text file](figs/fig2.png)\n",
    "\n",
    "Cat displaying the content of a text file on Ubuntu Linux running as [Windows subsystem for Linux (WSL)](https://docs.microsoft.com/en-us/windows/wsl/install-win10). "
   ]
  },
  {
   "cell_type": "markdown",
   "id": "bdbf9c44",
   "metadata": {},
   "source": [
    "The aim of this lesson is to simulate this behaviour with Python.\n",
    "The required steps are:\n",
    "- Use the `open`function to generate a file object.\n",
    "- Use a `for` loop to iterate through the individual lines.\n",
    "- Use the `print` function to display the lines (strings) to screen.\n",
    "- Close the file object."
   ]
  },
  {
   "cell_type": "markdown",
   "id": "4e5c46dd",
   "metadata": {},
   "source": [
    "## Strings"
   ]
  },
  {
   "cell_type": "markdown",
   "id": "ed2e3868",
   "metadata": {},
   "source": [
    "During this  lesson, we will make use of another data type: `strings`. Some information about `strings`:\n",
    "- Strings are ordered sequences of Unicode characters.\n",
    "- Strings are a collection of characters.\n",
    "- Strings can be created using single quotes or double quotes.\n",
    "- Strings are iterables which means that it can take sequential indexes starting from zero.\n",
    "- Strings have a zero based index in Python  \n",
    "Some examples:"
   ]
  },
  {
   "cell_type": "code",
   "execution_count": 2,
   "id": "f8da4c4a",
   "metadata": {},
   "outputs": [],
   "source": [
    "name1 = \"Jan\" # double quotes\n",
    "name2 = 'Pien' # single quotes\n",
    "message1 = \"Let's code some Python code\" # note the use of a single quote in the string\n",
    "message2 = 'Let\\'s code some Python code' # the \\ character serves as an escape character"
   ]
  },
  {
   "cell_type": "markdown",
   "id": "07fb0ffe",
   "metadata": {},
   "source": [
    "### String methods"
   ]
  },
  {
   "cell_type": "markdown",
   "id": "b8db3d27",
   "metadata": {},
   "source": [
    "Since Python is a real object oriented programming language, all data in Python are represented as objects.\n",
    "In terms of programming, an object is a structure with data (properties or attributes) and methods (functionality). \n",
    "We will explore these concepts a little with string objects."
   ]
  },
  {
   "cell_type": "markdown",
   "id": "aaf58f9f",
   "metadata": {},
   "source": [
    "What is a string method?\n",
    "A function is a piece of code that is accessible through its name.\n",
    "You can call a function and cause its code to be executed.\n",
    "Have a look at the print function for example:"
   ]
  },
  {
   "cell_type": "code",
   "execution_count": 4,
   "id": "99289c71",
   "metadata": {},
   "outputs": [
    {
     "name": "stdout",
     "output_type": "stream",
     "text": [
      "Hello\n"
     ]
    }
   ],
   "source": [
    "print(\"Hello\")"
   ]
  },
  {
   "cell_type": "markdown",
   "id": "edaf6d83",
   "metadata": {},
   "source": [
    "Here the `print` function accepted the string `Hello` as an `argument`. The execution of the `print` function resulted in the display of the string `Hello` on screen."
   ]
  },
  {
   "cell_type": "markdown",
   "id": "265870eb",
   "metadata": {},
   "source": [
    "Methods are functions too but they are attached to an object. They can be called using the object.method( arguments ) syntax.\n",
    "We can explore the methods attached to a string object using the `dir` function:"
   ]
  },
  {
   "cell_type": "code",
   "execution_count": 8,
   "id": "d08322ec",
   "metadata": {},
   "outputs": [],
   "source": [
    "# dir(str) # not executed in order to save space."
   ]
  },
  {
   "cell_type": "markdown",
   "id": "7df6f39e",
   "metadata": {},
   "source": [
    "The string methods that we will cover here are:\n",
    "- strip\n",
    "- rstrip\n",
    "- lstrip\n",
    "- split\n",
    "- upper\n",
    "- lower\n",
    "- find\n",
    "- index\n",
    "- isnumeric\n",
    "- startswith\n",
    "- endswith"
   ]
  },
  {
   "cell_type": "markdown",
   "id": "820142e4",
   "metadata": {},
   "source": [
    "Some examples:"
   ]
  },
  {
   "cell_type": "code",
   "execution_count": 18,
   "id": "611a1916",
   "metadata": {},
   "outputs": [
    {
     "name": "stdout",
     "output_type": "stream",
     "text": [
      "Hello World\n",
      "ello Worl\n",
      "ello World\n",
      "Hello World\n",
      "['Hello', 'World']\n",
      "HELLO WORLD\n",
      "hello world\n",
      "2\n",
      "2\n",
      "False\n",
      "True\n",
      "True\n"
     ]
    }
   ],
   "source": [
    "my_string = \"Hello World\"\n",
    "\n",
    "print(my_string)\n",
    "print(my_string.strip(\"Hd\")) # strips the argument from left AND right side. Default is whitespace.\n",
    "print(my_string.lstrip(\"H\")) # strips the argument from left. Default is whitespace.\n",
    "print(my_string.rstrip(\"H\")) # strips the argument from right. Default is whitespace.\n",
    "print(my_string.split()) # splits on argument and returns a list (next lesson more on lists). Default is whitespace.\n",
    "print(my_string.upper()) # returns string in upper case\n",
    "print(my_string.lower()) #  returns string in lower case\n",
    "print(my_string.find(\"l\")) #  returns first occurance position. More on index positions next lesson. returns -1 if substring not found.\n",
    "print(my_string.index(\"l\")) #  returns first occurance position. More on index positions next lesson.\n",
    "print(my_string.isnumeric()) #  returns True if string can be converted to integer. Else False is returned.\n",
    "print(my_string.startswith(\"H\")) #  returns True if string starts with substring. Else False is returned.\n",
    "print(my_string.endswith(\"ld\")) #  returns True if string ends with substring. Else False is returned."
   ]
  },
  {
   "cell_type": "markdown",
   "id": "79602f83",
   "metadata": {},
   "source": [
    "## For loop"
   ]
  },
  {
   "cell_type": "markdown",
   "id": "655e1125",
   "metadata": {},
   "source": [
    "Strings are collections. It is a collection of Unicode characters. Any collection in Python is also an iterable.\n",
    "That means that you can iterate through them using a for loop. A for loop is used when you have a block of code which you want to repeat a fixed number of times. Let's have a look at an example:"
   ]
  },
  {
   "cell_type": "code",
   "execution_count": 19,
   "id": "95c8df0f",
   "metadata": {},
   "outputs": [
    {
     "name": "stdout",
     "output_type": "stream",
     "text": [
      "H\n",
      "e\n",
      "l\n",
      "l\n",
      "o\n",
      " \n",
      "W\n",
      "o\n",
      "r\n",
      "l\n",
      "d\n"
     ]
    }
   ],
   "source": [
    "my_string = \"Hello World\"\n",
    "\n",
    "for letter in my_string:\n",
    "    print(letter)"
   ]
  },
  {
   "cell_type": "markdown",
   "id": "a277f899",
   "metadata": {},
   "source": [
    "As you can see. The for loop is a loop that runs a finite number of times.\n",
    "When the end of the sequence is reached, the for loop stops.\n",
    "Let's digest this a bit:\n",
    "- the `for` keyword is used to clarify the type of loop (later we will cover a while loop).\n",
    "- The `letter` is a placeholder. A temperary variable that is overwritten each loop.\n",
    "- The `in` keyword in Python has two different purposes:\n",
    "    - The `in` keyword is used to check if a value is present in a sequence.\n",
    "    - The `in` keyword is also used in a for loop for readability purposes.\n",
    "- my_string points to the string \"Hello World\" which is an iterable because it is a collection.\n",
    "- the `:` specifies that a code block is beginning (remember that you want to repeat a block of code a number of times). As you can see, the code after a `:` is indented (4 spaces is default). "
   ]
  },
  {
   "cell_type": "markdown",
   "id": "4c719320",
   "metadata": {},
   "source": [
    "The end..."
   ]
  }
 ],
 "metadata": {
  "kernelspec": {
   "display_name": "Python 3 (ipykernel)",
   "language": "python",
   "name": "python3"
  },
  "language_info": {
   "codemirror_mode": {
    "name": "ipython",
    "version": 3
   },
   "file_extension": ".py",
   "mimetype": "text/x-python",
   "name": "python",
   "nbconvert_exporter": "python",
   "pygments_lexer": "ipython3",
   "version": "3.9.2"
  }
 },
 "nbformat": 4,
 "nbformat_minor": 5
}
