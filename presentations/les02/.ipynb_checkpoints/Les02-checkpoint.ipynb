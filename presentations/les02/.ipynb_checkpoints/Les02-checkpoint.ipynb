{
 "cells": [
  {
   "cell_type": "markdown",
   "id": "9141cef7",
   "metadata": {
    "slideshow": {
     "slide_type": "slide"
    }
   },
   "source": [
    "# Lesson2"
   ]
  },
  {
   "cell_type": "markdown",
   "id": "2caf927c",
   "metadata": {
    "slideshow": {
     "slide_type": "slide"
    }
   },
   "source": [
    "## Simulating Cat\n",
    "\n",
    "This lesson, we will simulate the `cat` command on Linux (also installed by default on Mac). Cat is used to concatenate text files but also often used to display the content of a text file to the screen. A similar command is the `less` command on Linux or the `more` command on Windows. Whether `less` is `more` is up to you to decide...\n",
    "Anyway, my `cat` could not care `less`:\n",
    "![my cat](figs/fig1.png)\n"
   ]
  },
  {
   "cell_type": "markdown",
   "id": "7a354ee6",
   "metadata": {
    "slideshow": {
     "slide_type": "slide"
    }
   },
   "source": [
    "As mentioned before. Cat can display the content of a text file:\n",
    "![text file](figs/fig2.png)\n",
    "\n",
    "Cat displaying the content of a text file on Ubuntu Linux running as [Windows subsystem for Linux (WSL)](https://docs.microsoft.com/en-us/windows/wsl/install-win10). "
   ]
  },
  {
   "cell_type": "markdown",
   "id": "bdbf9c44",
   "metadata": {
    "slideshow": {
     "slide_type": "slide"
    }
   },
   "source": [
    "The aim of this lesson is to simulate this behaviour with Python.\n",
    "The required steps are:\n",
    "- Use the `open`function to generate a file object.\n",
    "- Use a `for` loop to iterate through the individual lines.\n",
    "- Use the `print` function to display the lines (strings) to screen.\n",
    "- Close the file object."
   ]
  },
  {
   "cell_type": "markdown",
   "id": "4e5c46dd",
   "metadata": {
    "slideshow": {
     "slide_type": "slide"
    }
   },
   "source": [
    "## Strings"
   ]
  },
  {
   "cell_type": "markdown",
   "id": "ed2e3868",
   "metadata": {
    "slideshow": {
     "slide_type": "slide"
    }
   },
   "source": [
    "During this  lesson, we will make use of another data type: `strings`. Some information about `strings`:\n",
    "- Strings are ordered sequences of Unicode characters.\n",
    "- Strings are a collection of characters.\n",
    "- Strings can be created using single quotes or double quotes.\n",
    "- Strings are iterables which means that it can take sequential indexes starting from zero.\n",
    "- Strings have a zero based index in Python  \n",
    "Some examples:"
   ]
  },
  {
   "cell_type": "code",
   "execution_count": 2,
   "id": "f8da4c4a",
   "metadata": {
    "slideshow": {
     "slide_type": "fragment"
    }
   },
   "outputs": [],
   "source": [
    "name1 = \"Jan\" # double quotes\n",
    "name2 = 'Pien' # single quotes\n",
    "message1 = \"Let's code some Python code\" # note the use of a single quote in the string\n",
    "message2 = 'Let\\'s code some Python code' # the \\ character serves as an escape character"
   ]
  },
  {
   "cell_type": "markdown",
   "id": "07fb0ffe",
   "metadata": {
    "slideshow": {
     "slide_type": "slide"
    }
   },
   "source": [
    "### String methods"
   ]
  },
  {
   "cell_type": "markdown",
   "id": "b8db3d27",
   "metadata": {
    "slideshow": {
     "slide_type": "slide"
    }
   },
   "source": [
    "Since Python is a real object oriented programming language, all data in Python are represented as objects.\n",
    "In terms of programming, an object is a structure with data (properties or attributes) and methods (functionality). \n",
    "We will explore these concepts a little with string objects."
   ]
  },
  {
   "cell_type": "markdown",
   "id": "aaf58f9f",
   "metadata": {
    "slideshow": {
     "slide_type": "slide"
    }
   },
   "source": [
    "What is a string method?\n",
    "A function is a piece of code that is accessible through its name.\n",
    "You can call a function and cause its code to be executed.\n",
    "Have a look at the print function for example:"
   ]
  },
  {
   "cell_type": "code",
   "execution_count": 4,
   "id": "99289c71",
   "metadata": {
    "slideshow": {
     "slide_type": "fragment"
    }
   },
   "outputs": [
    {
     "name": "stdout",
     "output_type": "stream",
     "text": [
      "Hello\n"
     ]
    }
   ],
   "source": [
    "print(\"Hello\")"
   ]
  },
  {
   "cell_type": "markdown",
   "id": "edaf6d83",
   "metadata": {
    "slideshow": {
     "slide_type": "slide"
    }
   },
   "source": [
    "Here the `print` function accepted the string `Hello` as an `argument`. The execution of the `print` function resulted in the display of the string `Hello` on screen."
   ]
  },
  {
   "cell_type": "markdown",
   "id": "265870eb",
   "metadata": {
    "slideshow": {
     "slide_type": "slide"
    }
   },
   "source": [
    "Methods are functions too but they are attached to an object. They can be called using the object.method( arguments ) syntax.\n",
    "We can explore the methods attached to a string object using the `dir` function:"
   ]
  },
  {
   "cell_type": "code",
   "execution_count": 8,
   "id": "d08322ec",
   "metadata": {
    "slideshow": {
     "slide_type": "fragment"
    }
   },
   "outputs": [],
   "source": [
    "# dir(str) # not executed in order to save space."
   ]
  },
  {
   "cell_type": "markdown",
   "id": "7df6f39e",
   "metadata": {
    "slideshow": {
     "slide_type": "slide"
    }
   },
   "source": [
    "The string methods that we will cover here are:\n",
    "- strip\n",
    "- rstrip\n",
    "- lstrip\n",
    "- split\n",
    "- upper\n",
    "- lower\n",
    "- find\n",
    "- index\n",
    "- isnumeric\n",
    "- startswith\n",
    "- endswith"
   ]
  },
  {
   "cell_type": "markdown",
   "id": "820142e4",
   "metadata": {
    "slideshow": {
     "slide_type": "slide"
    }
   },
   "source": [
    "Some examples:"
   ]
  },
  {
   "cell_type": "code",
   "execution_count": 18,
   "id": "611a1916",
   "metadata": {
    "slideshow": {
     "slide_type": "fragment"
    }
   },
   "outputs": [
    {
     "name": "stdout",
     "output_type": "stream",
     "text": [
      "Hello World\n",
      "ello Worl\n",
      "ello World\n",
      "Hello World\n",
      "['Hello', 'World']\n",
      "HELLO WORLD\n",
      "hello world\n",
      "2\n",
      "2\n",
      "False\n",
      "True\n",
      "True\n"
     ]
    }
   ],
   "source": [
    "my_string = \"Hello World\"\n",
    "\n",
    "print(my_string)\n",
    "print(my_string.strip(\"Hd\")) # strips the argument from left AND right side. Default is whitespace.\n",
    "print(my_string.lstrip(\"H\")) # strips the argument from left. Default is whitespace.\n",
    "print(my_string.rstrip(\"H\")) # strips the argument from right. Default is whitespace.\n",
    "print(my_string.split()) # splits on argument and returns a list (next lesson more on lists). Default is whitespace.\n",
    "print(my_string.upper()) # returns string in upper case\n",
    "print(my_string.lower()) #  returns string in lower case\n",
    "print(my_string.find(\"l\")) #  returns first occurance position. More on index positions next lesson. returns -1 if substring not found.\n",
    "print(my_string.index(\"l\")) #  returns first occurance position. More on index positions next lesson.\n",
    "print(my_string.isnumeric()) #  returns True if string can be converted to integer. Else False is returned.\n",
    "print(my_string.startswith(\"H\")) #  returns True if string starts with substring. Else False is returned.\n",
    "print(my_string.endswith(\"ld\")) #  returns True if string ends with substring. Else False is returned."
   ]
  },
  {
   "cell_type": "markdown",
   "id": "79602f83",
   "metadata": {
    "slideshow": {
     "slide_type": "slide"
    }
   },
   "source": [
    "## For loop"
   ]
  },
  {
   "cell_type": "markdown",
   "id": "655e1125",
   "metadata": {
    "slideshow": {
     "slide_type": "slide"
    }
   },
   "source": [
    "Strings are collections. It is a collection of Unicode characters. Any collection in Python is also an iterable.\n",
    "That means that you can iterate through them using a for loop. A for loop is used when you have a block of code which you want to repeat a fixed number of times. Let's have a look at an example:"
   ]
  },
  {
   "cell_type": "code",
   "execution_count": 19,
   "id": "95c8df0f",
   "metadata": {
    "slideshow": {
     "slide_type": "slide"
    }
   },
   "outputs": [
    {
     "name": "stdout",
     "output_type": "stream",
     "text": [
      "H\n",
      "e\n",
      "l\n",
      "l\n",
      "o\n",
      " \n",
      "W\n",
      "o\n",
      "r\n",
      "l\n",
      "d\n"
     ]
    }
   ],
   "source": [
    "my_string = \"Hello World\"\n",
    "\n",
    "for letter in my_string:\n",
    "    print(letter)"
   ]
  },
  {
   "cell_type": "markdown",
   "id": "a277f899",
   "metadata": {
    "slideshow": {
     "slide_type": "slide"
    }
   },
   "source": [
    "As you can see. The for loop is a loop that runs a finite number of times.\n",
    "When the end of the sequence is reached, the for loop stops.\n",
    "Let's digest this a bit:\n",
    "- the `for` keyword is used to clarify the type of loop (later we will cover a while loop).\n",
    "- The `letter` is a placeholder. A temperary variable that is overwritten each loop. You can name it whatever you like but please use a logic name. \n",
    "- The `in` keyword in Python has two different purposes:\n",
    "    - The `in` keyword is used to check if a value is present in a sequence.\n",
    "    - The `in` keyword is also used in a for loop for readability purposes.\n",
    "- my_string points to the string `\"Hello World\"` which is an iterable because it is a collection.\n",
    "- the `:` specifies that a code block is beginning (remember that you want to repeat a block of code a number of times). As you can see, the code after a `:` is indented (4 spaces is default). "
   ]
  },
  {
   "cell_type": "markdown",
   "id": "7feee94e",
   "metadata": {
    "slideshow": {
     "slide_type": "slide"
    }
   },
   "source": [
    "## The `range` function"
   ]
  },
  {
   "cell_type": "markdown",
   "id": "5f39e36e",
   "metadata": {
    "slideshow": {
     "slide_type": "slide"
    }
   },
   "source": [
    "The `range` function returns a sequence of numbers. The default starting point is 0 by default. It increments by 1 by default. It stops before a specified number. The `range` function returns a range object:"
   ]
  },
  {
   "cell_type": "code",
   "execution_count": 46,
   "id": "b5411ee3",
   "metadata": {
    "slideshow": {
     "slide_type": "fragment"
    }
   },
   "outputs": [
    {
     "name": "stdout",
     "output_type": "stream",
     "text": [
      "range(0, 5)\n"
     ]
    }
   ],
   "source": [
    "print(range(5))"
   ]
  },
  {
   "cell_type": "markdown",
   "id": "79e14a70",
   "metadata": {
    "slideshow": {
     "slide_type": "slide"
    }
   },
   "source": [
    "For demonstration purposes, we will create a `list` from the returned range object. Do not do this to iterate over a range object with a for loop because it will allocate a lot of memory. "
   ]
  },
  {
   "cell_type": "code",
   "execution_count": 4,
   "id": "a4cd8a66",
   "metadata": {
    "slideshow": {
     "slide_type": "fragment"
    }
   },
   "outputs": [
    {
     "name": "stdout",
     "output_type": "stream",
     "text": [
      "[0, 1, 2, 3, 4]\n"
     ]
    }
   ],
   "source": [
    "print(list(range(5)))"
   ]
  },
  {
   "cell_type": "markdown",
   "id": "d7500b91",
   "metadata": {
    "slideshow": {
     "slide_type": "slide"
    }
   },
   "source": [
    "As you can see in the example above, only one argument was used (5). The default starting point is 0. The default step size is 1. Now with two arguments:"
   ]
  },
  {
   "cell_type": "code",
   "execution_count": 13,
   "id": "6d0f77b5",
   "metadata": {
    "slideshow": {
     "slide_type": "fragment"
    }
   },
   "outputs": [
    {
     "name": "stdout",
     "output_type": "stream",
     "text": [
      "[2, 3, 4]\n",
      "[2, 3]\n"
     ]
    }
   ],
   "source": [
    "print(list(range(2, 5)))\n",
    "print(list(range(2, 4)))"
   ]
  },
  {
   "cell_type": "markdown",
   "id": "b7d0dcbc",
   "metadata": {
    "slideshow": {
     "slide_type": "slide"
    }
   },
   "source": [
    "Thus, the first argument is the starting point.  \n",
    "The second argument is the stop point (not included). \n",
    "The default step size is 1.  \n",
    "Now with 3 arguments:"
   ]
  },
  {
   "cell_type": "code",
   "execution_count": 16,
   "id": "0b7b258c",
   "metadata": {
    "slideshow": {
     "slide_type": "fragment"
    }
   },
   "outputs": [
    {
     "name": "stdout",
     "output_type": "stream",
     "text": [
      "[0, 2, 4, 6, 8]\n",
      "[10, 8, 6, 4, 2, 0]\n"
     ]
    }
   ],
   "source": [
    "print(list(range(0, 10, 2)))\n",
    "print(list(range(10, -1, -2))) # now -1 is the stop point."
   ]
  },
  {
   "cell_type": "markdown",
   "id": "0fe25ade",
   "metadata": {
    "slideshow": {
     "slide_type": "slide"
    }
   },
   "source": [
    "In the example above, the first argument is the starting point.  \n",
    "The second argument is the stop point.  \n",
    "The third argument is the step size."
   ]
  },
  {
   "cell_type": "markdown",
   "id": "b7b7a5f0",
   "metadata": {
    "slideshow": {
     "slide_type": "slide"
    }
   },
   "source": [
    "> The Python `range` function works only with integers. It does not support floats. If you need a range of floats, you will need a library (numpy, beyond the scope of this course). "
   ]
  },
  {
   "cell_type": "markdown",
   "id": "ca0f570f",
   "metadata": {
    "slideshow": {
     "slide_type": "slide"
    }
   },
   "source": [
    "## For loop and range combined."
   ]
  },
  {
   "cell_type": "markdown",
   "id": "d568dfb9",
   "metadata": {
    "slideshow": {
     "slide_type": "slide"
    }
   },
   "source": [
    "The for loop is often combined with the range function in order to iterate over a sequence of numbers:"
   ]
  },
  {
   "cell_type": "code",
   "execution_count": 17,
   "id": "b4081fc6",
   "metadata": {
    "slideshow": {
     "slide_type": "fragment"
    }
   },
   "outputs": [
    {
     "name": "stdout",
     "output_type": "stream",
     "text": [
      "0\n",
      "1\n",
      "2\n",
      "3\n",
      "4\n"
     ]
    }
   ],
   "source": [
    "for num in range(5):\n",
    "    print(num) "
   ]
  },
  {
   "cell_type": "markdown",
   "id": "b2871755",
   "metadata": {
    "slideshow": {
     "slide_type": "slide"
    }
   },
   "source": [
    "> Note that you can iterate directly on a range object. Do not make a list from it as it will allocate a lot of memory!"
   ]
  },
  {
   "cell_type": "markdown",
   "id": "d9bc2711",
   "metadata": {
    "slideshow": {
     "slide_type": "slide"
    }
   },
   "source": [
    "## File IO"
   ]
  },
  {
   "cell_type": "raw",
   "id": "30f71676",
   "metadata": {
    "slideshow": {
     "slide_type": "slide"
    }
   },
   "source": [
    "- Python can read many file types.\n",
    "- The most basic file type is the text file or ASCII file (every byte is a ASCII character).\n",
    "- This is a file that you can open with a text editor and yields readable text.\n",
    "We will cover more on this later (including writing to files) but keep it simple for this lesson.  \n",
    "Here you will see the content of a text file (it does not mind if you do not understand the codebelow yet):"
   ]
  },
  {
   "cell_type": "code",
   "execution_count": 54,
   "id": "9294b89f",
   "metadata": {
    "slideshow": {
     "slide_type": "fragment"
    }
   },
   "outputs": [
    {
     "name": "stdout",
     "output_type": "stream",
     "text": [
      "This is a text file.\n",
      "This is the second line of the file.\n",
      "The third line.\n",
      "End of message...\n"
     ]
    }
   ],
   "source": [
    "import platform\n",
    "os_type = platform.system()\n",
    "if os_type == \"Windows\":\n",
    "    !more test.txt\n",
    "else: # must be Unix-like, thus cat is probably installed. \n",
    "    !cat test.txt"
   ]
  },
  {
   "cell_type": "markdown",
   "id": "c46c5e0e",
   "metadata": {
    "slideshow": {
     "slide_type": "slide"
    }
   },
   "source": [
    "You can create a file object using the `open` function."
   ]
  },
  {
   "cell_type": "code",
   "execution_count": 56,
   "id": "723d05cf",
   "metadata": {
    "slideshow": {
     "slide_type": "fragment"
    }
   },
   "outputs": [
    {
     "name": "stdout",
     "output_type": "stream",
     "text": [
      "<_io.TextIOWrapper name='test.txt' mode='r' encoding='cp1252'>\n"
     ]
    }
   ],
   "source": [
    "my_file_handle = open(\"test.txt\")\n",
    "print(my_file_handle)"
   ]
  },
  {
   "cell_type": "markdown",
   "id": "ddef8186",
   "metadata": {
    "slideshow": {
     "slide_type": "slide"
    }
   },
   "source": [
    "This shows a bit of information about the file handler. The name of the file is `test.txt`. The mode is `r` which stands for read mode. The file encoding is `cp1252` which is one of the many different types of file encodings. Now that we have a file handler, we can use a for loop to iterate through the lines just as we looped through each character of a text string."
   ]
  },
  {
   "cell_type": "code",
   "execution_count": 57,
   "id": "8318ea43",
   "metadata": {
    "slideshow": {
     "slide_type": "fragment"
    }
   },
   "outputs": [
    {
     "name": "stdout",
     "output_type": "stream",
     "text": [
      "This is a text file.\n",
      "\n",
      "This is the second line of the file.\n",
      "\n",
      "The third line.\n",
      "\n",
      "End of message...\n"
     ]
    }
   ],
   "source": [
    "for line in my_file_handle:\n",
    "    print(line)"
   ]
  },
  {
   "cell_type": "markdown",
   "id": "a8ee1d87",
   "metadata": {
    "slideshow": {
     "slide_type": "slide"
    }
   },
   "source": [
    "As you can see, each line is printed. However, we also see a newline between the printed text. This is because the `print` function also prints a newline by default: "
   ]
  },
  {
   "cell_type": "code",
   "execution_count": 58,
   "id": "75cbc07e",
   "metadata": {
    "slideshow": {
     "slide_type": "fragment"
    }
   },
   "outputs": [
    {
     "name": "stdout",
     "output_type": "stream",
     "text": [
      "line 1\n",
      "line 2\n",
      "line 3\n"
     ]
    }
   ],
   "source": [
    "print(\"line 1\")\n",
    "print(\"line 2\")\n",
    "print(\"line 3\")"
   ]
  },
  {
   "cell_type": "markdown",
   "id": "1714fb4f",
   "metadata": {
    "slideshow": {
     "slide_type": "slide"
    }
   },
   "source": [
    "We can change that behaviour by altering the `end` argument of the `print` function."
   ]
  },
  {
   "cell_type": "code",
   "execution_count": 62,
   "id": "49dff5e6",
   "metadata": {
    "slideshow": {
     "slide_type": "fragment"
    }
   },
   "outputs": [
    {
     "name": "stdout",
     "output_type": "stream",
     "text": [
      "Help on built-in function print in module builtins:\n",
      "\n",
      "print(...)\n",
      "    print(value, ..., sep=' ', end='\\n', file=sys.stdout, flush=False)\n",
      "    \n",
      "    Prints the values to a stream, or to sys.stdout by default.\n",
      "    Optional keyword arguments:\n",
      "    file:  a file-like object (stream); defaults to the current sys.stdout.\n",
      "    sep:   string inserted between values, default a space.\n",
      "    end:   string appended after the last value, default a newline.\n",
      "    flush: whether to forcibly flush the stream.\n",
      "\n"
     ]
    }
   ],
   "source": [
    "help(print)"
   ]
  },
  {
   "cell_type": "code",
   "execution_count": 59,
   "id": "00283c53",
   "metadata": {
    "slideshow": {
     "slide_type": "slide"
    }
   },
   "outputs": [
    {
     "name": "stdout",
     "output_type": "stream",
     "text": [
      "line 1line 2line 3"
     ]
    }
   ],
   "source": [
    "print(\"line 1\", end=\"\")\n",
    "print(\"line 2\", end=\"\")\n",
    "print(\"line 3\", end=\"\")"
   ]
  },
  {
   "cell_type": "markdown",
   "id": "e7a3b3aa",
   "metadata": {
    "slideshow": {
     "slide_type": "slide"
    }
   },
   "source": [
    "Thus in practice:"
   ]
  },
  {
   "cell_type": "code",
   "execution_count": 65,
   "id": "3bb352f8",
   "metadata": {
    "slideshow": {
     "slide_type": "fragment"
    }
   },
   "outputs": [
    {
     "name": "stdout",
     "output_type": "stream",
     "text": [
      "This is a text file.\n",
      "This is the second line of the file.\n",
      "The third line.\n",
      "End of message..."
     ]
    }
   ],
   "source": [
    "my_file_handle = open(\"test.txt\") # We have to create a new file handle object because the old one is exchausted (a property of generator objects as you will learn later)\n",
    "for line in my_file_handle:\n",
    "    print(line, end=\"\")"
   ]
  },
  {
   "cell_type": "markdown",
   "id": "1ca73521",
   "metadata": {
    "slideshow": {
     "slide_type": "fragment"
    }
   },
   "source": [
    "As you can see, this is the same output as the `cat` command. "
   ]
  },
  {
   "cell_type": "markdown",
   "id": "4c719320",
   "metadata": {
    "slideshow": {
     "slide_type": "slide"
    }
   },
   "source": [
    "The end..."
   ]
  }
 ],
 "metadata": {
  "celltoolbar": "Slideshow",
  "kernelspec": {
   "display_name": "Python 3 (ipykernel)",
   "language": "python",
   "name": "python3"
  },
  "language_info": {
   "codemirror_mode": {
    "name": "ipython",
    "version": 3
   },
   "file_extension": ".py",
   "mimetype": "text/x-python",
   "name": "python",
   "nbconvert_exporter": "python",
   "pygments_lexer": "ipython3",
   "version": "3.9.2"
  }
 },
 "nbformat": 4,
 "nbformat_minor": 5
}
