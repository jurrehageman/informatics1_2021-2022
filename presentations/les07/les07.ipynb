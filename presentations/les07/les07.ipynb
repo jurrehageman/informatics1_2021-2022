{
 "cells": [
  {
   "cell_type": "markdown",
   "id": "5e519343",
   "metadata": {
    "slideshow": {
     "slide_type": "slide"
    }
   },
   "source": [
    "# Lesson 7: Functions: scoping rules and default arguments\n",
    "\n",
    "Fenna Feenstra, Jurre Hageman & Kim van Adrichem"
   ]
  },
  {
   "cell_type": "markdown",
   "id": "ec2e3ec1",
   "metadata": {
    "slideshow": {
     "slide_type": "slide"
    }
   },
   "source": [
    "## Recap function elements:\n",
    "A function must:  \n",
    "- start with the keyword def  \n",
    "- have a (legal) name (no spaces for instance)  \n",
    "- have a parameter list between parentheses, but it may be empty: ()  \n",
    "- have a function body, but it may be simply the keyword pass"
   ]
  },
  {
   "cell_type": "markdown",
   "id": "16d7ecc8",
   "metadata": {
    "slideshow": {
     "slide_type": "slide"
    }
   },
   "source": [
    "## Function arguments\n",
    " "
   ]
  },
  {
   "cell_type": "markdown",
   "id": "9e7e609b",
   "metadata": {
    "slideshow": {
     "slide_type": "slide"
    }
   },
   "source": [
    "So far we have been using either functions without arguments:"
   ]
  },
  {
   "cell_type": "code",
   "execution_count": 1,
   "id": "0479d166",
   "metadata": {
    "slideshow": {
     "slide_type": "fragment"
    }
   },
   "outputs": [
    {
     "name": "stdout",
     "output_type": "stream",
     "text": [
      "hello\n"
     ]
    }
   ],
   "source": [
    "def print_hello():\n",
    "    print(\"hello\")\n",
    "    \n",
    "print_hello()"
   ]
  },
  {
   "cell_type": "markdown",
   "id": "2cb0958e",
   "metadata": {
    "slideshow": {
     "slide_type": "slide"
    }
   },
   "source": [
    "Or we used positional arguments:"
   ]
  },
  {
   "cell_type": "code",
   "execution_count": 2,
   "id": "60f58fa7",
   "metadata": {
    "slideshow": {
     "slide_type": "fragment"
    }
   },
   "outputs": [
    {
     "name": "stdout",
     "output_type": "stream",
     "text": [
      "8\n"
     ]
    }
   ],
   "source": [
    "def calc_power(b, n):\n",
    "    res = b**n\n",
    "    return res\n",
    "\n",
    "\n",
    "base = 2\n",
    "number = 3\n",
    "print(calc_power(base, number))"
   ]
  },
  {
   "cell_type": "markdown",
   "id": "383702c3",
   "metadata": {
    "slideshow": {
     "slide_type": "slide"
    }
   },
   "source": [
    "If you switch the position of the arguments you will not get the desired outcome:"
   ]
  },
  {
   "cell_type": "code",
   "execution_count": 3,
   "id": "6aff8d8f",
   "metadata": {
    "slideshow": {
     "slide_type": "fragment"
    }
   },
   "outputs": [
    {
     "name": "stdout",
     "output_type": "stream",
     "text": [
      "9\n"
     ]
    }
   ],
   "source": [
    "def calc_power(b, n):\n",
    "    res = b**n\n",
    "    return res\n",
    "\n",
    "\n",
    "base = 2\n",
    "number = 3\n",
    "print(calc_power(number, base))"
   ]
  },
  {
   "cell_type": "markdown",
   "id": "a1255ebc",
   "metadata": {
    "slideshow": {
     "slide_type": "slide"
    }
   },
   "source": [
    "The same holds for swapping the parameters:"
   ]
  },
  {
   "cell_type": "code",
   "execution_count": 4,
   "id": "69efbae4",
   "metadata": {
    "slideshow": {
     "slide_type": "fragment"
    }
   },
   "outputs": [
    {
     "name": "stdout",
     "output_type": "stream",
     "text": [
      "9\n"
     ]
    }
   ],
   "source": [
    "def calc_power(n, b):\n",
    "    res = b**n\n",
    "    return res\n",
    "\n",
    "\n",
    "base = 2\n",
    "number = 3\n",
    "print(calc_power(base, number))"
   ]
  },
  {
   "cell_type": "markdown",
   "id": "e44b67f3",
   "metadata": {
    "slideshow": {
     "slide_type": "slide"
    }
   },
   "source": [
    "If a function expects arguments and you do not provide the correct number of arguments, you get a TypeError:"
   ]
  },
  {
   "cell_type": "code",
   "execution_count": 5,
   "id": "cce4db26",
   "metadata": {
    "slideshow": {
     "slide_type": "fragment"
    }
   },
   "outputs": [],
   "source": [
    "def calc_power(b, n):\n",
    "    res = b**n\n",
    "    return res\n",
    "\n",
    "\n",
    "base = 2\n",
    "number = 3\n",
    "\n",
    "#print(calc_power())  # TypeError: calc_power() missing 2 required positional arguments: 'b' and 'n'"
   ]
  },
  {
   "cell_type": "markdown",
   "id": "593b9b4a",
   "metadata": {
    "slideshow": {
     "slide_type": "slide"
    }
   },
   "source": [
    "You can prevent this using a default value:"
   ]
  },
  {
   "cell_type": "code",
   "execution_count": 6,
   "id": "ab15d5ff",
   "metadata": {
    "slideshow": {
     "slide_type": "fragment"
    }
   },
   "outputs": [
    {
     "name": "stdout",
     "output_type": "stream",
     "text": [
      "4\n",
      "8\n"
     ]
    }
   ],
   "source": [
    "def calc_power(b, n=2): # n defaults to 2\n",
    "    res = b**n\n",
    "    return res\n",
    "\n",
    "\n",
    "base = 2\n",
    "number = 3\n",
    "\n",
    "print((calc_power(base))) # number not passed as argument\n",
    "print(calc_power(base, number)) "
   ]
  },
  {
   "cell_type": "markdown",
   "id": "ce66cc96",
   "metadata": {
    "slideshow": {
     "slide_type": "slide"
    }
   },
   "source": [
    "A function can define as many arguments as you like, of whatever type you like. If you want to provide some default values but\n",
    "not all, the arguments with default values should be the last one(s)"
   ]
  },
  {
   "cell_type": "code",
   "execution_count": 7,
   "id": "f6ff5f22",
   "metadata": {
    "slideshow": {
     "slide_type": "fragment"
    }
   },
   "outputs": [],
   "source": [
    "# def calc_power(n=2, b): # SyntaxError: non-default argument follows default argument\n",
    "#     res = b**n\n",
    "#     return res"
   ]
  },
  {
   "cell_type": "markdown",
   "id": "2a480f65",
   "metadata": {
    "slideshow": {
     "slide_type": "slide"
    }
   },
   "source": [
    "## Named arguments (keyword arguments)"
   ]
  },
  {
   "cell_type": "markdown",
   "id": "80c23cb6",
   "metadata": {
    "slideshow": {
     "slide_type": "slide"
    }
   },
   "source": [
    "You can also specifically name your arguments when you call a function. In this case, you can swap the position:"
   ]
  },
  {
   "cell_type": "code",
   "execution_count": 8,
   "id": "5c4c3496",
   "metadata": {
    "slideshow": {
     "slide_type": "fragment"
    }
   },
   "outputs": [
    {
     "name": "stdout",
     "output_type": "stream",
     "text": [
      "8\n"
     ]
    }
   ],
   "source": [
    "def calc_power(b, n): \n",
    "    res = b**n\n",
    "    return res\n",
    "\n",
    "\n",
    "base = 2\n",
    "number = 3\n",
    "\n",
    "print(calc_power(n=number, b=base)) "
   ]
  },
  {
   "cell_type": "markdown",
   "id": "20340a3b",
   "metadata": {
    "slideshow": {
     "slide_type": "slide"
    }
   },
   "source": [
    "## Scoping rules\n",
    "So far, you have seen that a function can accept arguments.  \n",
    "These arguments are passed to parameters which can be used as variables that live in the function as long as it runs. \n",
    "These variables are scoped and you will not have access to it from outside the function:"
   ]
  },
  {
   "cell_type": "code",
   "execution_count": 9,
   "id": "e82024b7",
   "metadata": {
    "slideshow": {
     "slide_type": "fragment"
    }
   },
   "outputs": [
    {
     "name": "stdout",
     "output_type": "stream",
     "text": [
      "inside ATC\n",
      "CTA\n"
     ]
    }
   ],
   "source": [
    "def reverse(seq):\n",
    "    rev = seq[::-1]\n",
    "    print(\"inside\", seq)\n",
    "    return rev\n",
    "\n",
    "rev_dna = reverse(\"ATC\")\n",
    "print(rev_dna)\n",
    "#print(seq) # results in NameError"
   ]
  },
  {
   "cell_type": "markdown",
   "id": "9c96c0b8",
   "metadata": {
    "slideshow": {
     "slide_type": "slide"
    }
   },
   "source": [
    "Before you started writing functions, all code was written at the top-level of a python script(module), so the names either   \n",
    "- Lived in the module itself, or were built-ins that Python predefines (e.g., open). \n",
    "- Functions provide a nested namespace (sometimes called a scope), which localizes the names they use, such that names inside the function won’t clash with those outside (in a module or other function). We usually say that functions def in a local scope, and modules define a global scope."
   ]
  },
  {
   "cell_type": "markdown",
   "id": "9bdde821",
   "metadata": {
    "slideshow": {
     "slide_type": "slide"
    }
   },
   "source": [
    "- Each module is a global scope, a namespace where variables created (assigned) at the top level of a module file live\n",
    "- Every time you call a function, you create a new local scope, a namespace where variables names created inside the function usually live, but they do not exist outside the local space"
   ]
  },
  {
   "cell_type": "code",
   "execution_count": 10,
   "id": "4b208d0d",
   "metadata": {
    "slideshow": {
     "slide_type": "slide"
    }
   },
   "outputs": [
    {
     "name": "stdout",
     "output_type": "stream",
     "text": [
      "inside Jan\n",
      "outside Truus\n"
     ]
    }
   ],
   "source": [
    "name = \"Truus\"\n",
    "\n",
    "def show_scoping():\n",
    "    name = \"Jan\"\n",
    "    print(\"inside\", name)\n",
    "\n",
    "show_scoping()\n",
    "print(\"outside\", name)"
   ]
  },
  {
   "cell_type": "markdown",
   "id": "9b71f425",
   "metadata": {
    "slideshow": {
     "slide_type": "slide"
    }
   },
   "source": [
    "- When you use an unqualified name inside a function, Python searches three scopes—the local (L), then the global (G), and then the built-in (B)—and stops at the first place the name is found.\n",
    "- When you assign a name in a function (instead of just referring to it in an expression), Python always creates or changes the name in the local scope, unless it’s declared to be global in that function.\n",
    "- When outside a function (i.e., at the top-level of a module or at the interactive prompt), the scope is global."
   ]
  },
  {
   "cell_type": "markdown",
   "id": "b143b427",
   "metadata": {
    "slideshow": {
     "slide_type": "slide"
    }
   },
   "source": [
    "## Mutable versus unmutable objects and scoping"
   ]
  },
  {
   "cell_type": "markdown",
   "id": "dfa0ee98",
   "metadata": {
    "slideshow": {
     "slide_type": "slide"
    }
   },
   "source": [
    "As shown before variables inside functions are scoped and can not be accessed from outside the function.  \n",
    "This prevents name clashes. But what about the other way around? \n",
    "Are variables in the global scope accessible from within a function without passing them as arguments?"
   ]
  },
  {
   "cell_type": "code",
   "execution_count": 11,
   "id": "a7f71120",
   "metadata": {
    "slideshow": {
     "slide_type": "fragment"
    }
   },
   "outputs": [
    {
     "name": "stdout",
     "output_type": "stream",
     "text": [
      "Truus\n",
      "1\n",
      "[1, 2, 3]\n"
     ]
    }
   ],
   "source": [
    "dna = \"gat\"\n",
    "num = 1\n",
    "nums = [1, 2, 3]\n",
    "\n",
    "def my_fun():\n",
    "    print(name)\n",
    "    print(num)\n",
    "    print(nums)\n",
    "\n",
    "my_fun()"
   ]
  },
  {
   "cell_type": "markdown",
   "id": "b6e5a61c",
   "metadata": {
    "slideshow": {
     "slide_type": "slide"
    }
   },
   "source": [
    "The answer is yes. Global variables are accessible within a function. But can they be manipulated?"
   ]
  },
  {
   "cell_type": "code",
   "execution_count": 12,
   "id": "b9b50205",
   "metadata": {
    "slideshow": {
     "slide_type": "fragment"
    }
   },
   "outputs": [
    {
     "name": "stdout",
     "output_type": "stream",
     "text": [
      "[1, 2, 3, 4]\n"
     ]
    }
   ],
   "source": [
    "name = \"Piet\"\n",
    "num = 1\n",
    "nums = [1, 2, 3]\n",
    "\n",
    "def my_fun():\n",
    "    # name += \"c\" # UnboundLocalError: local variable 'name' referenced before assignment\n",
    "    # num += 1 # UnboundLocalError: local variable 'num' referenced before assignment\n",
    "    nums.append(4) # legal because lists are mutable\n",
    "\n",
    "my_fun()\n",
    "print(nums)"
   ]
  },
  {
   "cell_type": "markdown",
   "id": "02177475",
   "metadata": {
    "slideshow": {
     "slide_type": "slide"
    }
   },
   "source": [
    "As you can see from the example, global variables are accessible in a function but only mutable objects do not give an UnboundLocalError. Immutable objects must be passed as arguments: "
   ]
  },
  {
   "cell_type": "code",
   "execution_count": 13,
   "id": "0d675c3e",
   "metadata": {
    "slideshow": {
     "slide_type": "fragment"
    }
   },
   "outputs": [
    {
     "name": "stdout",
     "output_type": "stream",
     "text": [
      "gatc 2 [1, 2, 3, 4]\n"
     ]
    }
   ],
   "source": [
    "name = \"gat\"\n",
    "num = 1\n",
    "nums = [1, 2, 3]\n",
    "\n",
    "def my_fun(name, num, nums):\n",
    "    name += \"c\" \n",
    "    num += 1 \n",
    "    nums.append(4) \n",
    "    print(name, num, nums)\n",
    "\n",
    "    \n",
    "my_fun(name, num, nums)"
   ]
  },
  {
   "cell_type": "markdown",
   "id": "60ebf738",
   "metadata": {
    "slideshow": {
     "slide_type": "slide"
    }
   },
   "source": [
    "> Even though you can manipulate global mutable objects like lists without passing them as arguments, you are **strongly** adviced to pass them as arguments!"
   ]
  },
  {
   "cell_type": "code",
   "execution_count": 14,
   "id": "55f4e543",
   "metadata": {
    "slideshow": {
     "slide_type": "slide"
    }
   },
   "outputs": [
    {
     "name": "stdout",
     "output_type": "stream",
     "text": [
      "[1, 2, 3, 4]\n"
     ]
    }
   ],
   "source": [
    "# NOT ADVICED\n",
    "x = [1, 2, 3]\n",
    "\n",
    "def my_fun():\n",
    "    x.append(4)\n",
    "\n",
    "my_fun()\n",
    "print(x) "
   ]
  },
  {
   "cell_type": "code",
   "execution_count": 15,
   "id": "edfd8623",
   "metadata": {
    "slideshow": {
     "slide_type": "slide"
    }
   },
   "outputs": [
    {
     "name": "stdout",
     "output_type": "stream",
     "text": [
      "[1, 2, 3, 4]\n"
     ]
    }
   ],
   "source": [
    "# The right way\n",
    "x = [1, 2, 3]\n",
    "\n",
    "def my_fun(x):\n",
    "    x.append(4)\n",
    "    return x\n",
    "\n",
    "my_fun(x)\n",
    "print(x) "
   ]
  },
  {
   "cell_type": "markdown",
   "id": "a746cbfd",
   "metadata": {
    "slideshow": {
     "slide_type": "slide"
    }
   },
   "source": [
    "## Functions can call functions"
   ]
  },
  {
   "cell_type": "markdown",
   "id": "0e68034f",
   "metadata": {
    "slideshow": {
     "slide_type": "slide"
    }
   },
   "source": [
    "As mentioned before, you can call a function only after it has been defined:"
   ]
  },
  {
   "cell_type": "code",
   "execution_count": 17,
   "id": "0690bc98",
   "metadata": {
    "slideshow": {
     "slide_type": "fragment"
    }
   },
   "outputs": [
    {
     "name": "stdout",
     "output_type": "stream",
     "text": [
      "hello\n"
     ]
    }
   ],
   "source": [
    "#say_hello() # NameError: name 'say_hello' is not defined\n",
    "\n",
    "def say_hello():\n",
    "    print(\"hello\")\n",
    "\n",
    "say_hello()"
   ]
  },
  {
   "cell_type": "markdown",
   "id": "eca77e27",
   "metadata": {
    "slideshow": {
     "slide_type": "slide"
    }
   },
   "source": [
    "But what about functions that call functions? Is the sequence important?"
   ]
  },
  {
   "cell_type": "code",
   "execution_count": 18,
   "id": "5e6a4c03",
   "metadata": {
    "slideshow": {
     "slide_type": "fragment"
    }
   },
   "outputs": [
    {
     "name": "stdout",
     "output_type": "stream",
     "text": [
      "2\n",
      "3\n",
      "1\n"
     ]
    }
   ],
   "source": [
    "def fun1():\n",
    "    print(1)\n",
    "    \n",
    "def fun2():\n",
    "    print(2)\n",
    "    fun3()\n",
    "\n",
    "def fun3():\n",
    "    print(3)\n",
    "    fun1()\n",
    "    \n",
    "fun2()"
   ]
  },
  {
   "cell_type": "markdown",
   "id": "5850d34c",
   "metadata": {
    "slideshow": {
     "slide_type": "slide"
    }
   },
   "source": [
    "Note that functions can call other functions and the sequence does not matter. Fun3 is called from within fun2 even though fun3 is declared below fun2."
   ]
  },
  {
   "cell_type": "markdown",
   "id": "6e56ca30",
   "metadata": {
    "slideshow": {
     "slide_type": "slide"
    }
   },
   "source": [
    "Beware that functions can call eachother in a circular function call. This can cause a recursion error:"
   ]
  },
  {
   "cell_type": "code",
   "execution_count": 19,
   "id": "e26a2ff8",
   "metadata": {},
   "outputs": [],
   "source": [
    "def ping():\n",
    "    print(\"ping\")\n",
    "    pong()\n",
    "    \n",
    "    \n",
    "def pong():\n",
    "    print(\"pong\")\n",
    "    ping()\n",
    "    \n",
    "#ping() #This will cause a recursion loop"
   ]
  },
  {
   "cell_type": "markdown",
   "id": "4296a4c2",
   "metadata": {
    "slideshow": {
     "slide_type": "slide"
    }
   },
   "source": [
    "Recursion can be handy. The next example is beyond the scope but have a brief look at it. Do you understand what happens? "
   ]
  },
  {
   "cell_type": "code",
   "execution_count": 22,
   "id": "154686c5",
   "metadata": {
    "slideshow": {
     "slide_type": "fragment"
    }
   },
   "outputs": [
    {
     "name": "stdout",
     "output_type": "stream",
     "text": [
      "24\n"
     ]
    }
   ],
   "source": [
    "# Brain heater. do you understand this? \n",
    "# n! voorbeeld 4! = 4 * 3 * 2 * 1 = 24 \n",
    "\n",
    "def calc_factorial(n):\n",
    "    if n == 1:\n",
    "        return 1\n",
    "    return n * calc_factorial(n - 1) #function called from within a function\n",
    "\n",
    "print(calc_factorial(4))"
   ]
  },
  {
   "cell_type": "markdown",
   "id": "ba6c7fd2",
   "metadata": {
    "slideshow": {
     "slide_type": "slide"
    }
   },
   "source": [
    "The end..."
   ]
  }
 ],
 "metadata": {
  "celltoolbar": "Slideshow",
  "kernelspec": {
   "display_name": "Python 3 (ipykernel)",
   "language": "python",
   "name": "python3"
  },
  "language_info": {
   "codemirror_mode": {
    "name": "ipython",
    "version": 3
   },
   "file_extension": ".py",
   "mimetype": "text/x-python",
   "name": "python",
   "nbconvert_exporter": "python",
   "pygments_lexer": "ipython3",
   "version": "3.9.7"
  }
 },
 "nbformat": 4,
 "nbformat_minor": 5
}
