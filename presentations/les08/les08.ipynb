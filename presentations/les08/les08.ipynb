{
 "cells": [
  {
   "cell_type": "markdown",
   "id": "fea0698c",
   "metadata": {
    "slideshow": {
     "slide_type": "slide"
    }
   },
   "source": [
    "# Lesson 8: File I/O\n",
    "\n",
    "Jurre Hageman"
   ]
  },
  {
   "cell_type": "markdown",
   "id": "7a1164fc",
   "metadata": {
    "slideshow": {
     "slide_type": "slide"
    }
   },
   "source": [
    "Often, you want to read data in your program. When you start a Python session, your data will not be present yet in collections such as strings, lists, tuples amd dictionaries. These collections only live in memory. Not in a persistent state. To create such collections, you often start with reading data from a persistent state (files). This lesson, we will be dealing with reading from files and writing to files. Python can open many different file types. This course will concentrate on ASCII files (also called plain text files). A text file, is a file in which each byte represents one character according to the ASCII code. There is no layout such as bold, superscript etc. Remember that we already opened text files in lesson 2. Let's start with a short summary from that lesson."
   ]
  },
  {
   "cell_type": "markdown",
   "id": "ecec776b",
   "metadata": {
    "slideshow": {
     "slide_type": "slide"
    }
   },
   "source": [
    "The most basic file type is the text file or ASCII file. This is a file that you can open with a text-\n",
    "editor and yields readable text:"
   ]
  },
  {
   "cell_type": "code",
   "execution_count": 2,
   "id": "914f8154",
   "metadata": {
    "slideshow": {
     "slide_type": "fragment"
    }
   },
   "outputs": [
    {
     "name": "stdout",
     "output_type": "stream",
     "text": [
      "This is a text file.\r\n",
      "If you open it with a text editor, you will be able to read the text.\r\n",
      "End of message...\r\n"
     ]
    }
   ],
   "source": [
    "# you do not need to understand the code below yet.\n",
    "import platform\n",
    "os_type = platform.system()\n",
    "if os_type == \"Windows\":\n",
    "    !more file1.txt\n",
    "else: # must be Unix-like, thus cat is probably installed. \n",
    "    !cat file1.txt"
   ]
  },
  {
   "cell_type": "markdown",
   "id": "2ef87fa5",
   "metadata": {
    "slideshow": {
     "slide_type": "slide"
    }
   },
   "source": [
    "In the code above we used the command `more` (installed on Windows) or the command `cat` (installed on Unix-like systems) to read the content of the file. We can do that with Python too:"
   ]
  },
  {
   "cell_type": "code",
   "execution_count": 4,
   "id": "8d92386d",
   "metadata": {
    "slideshow": {
     "slide_type": "fragment"
    }
   },
   "outputs": [
    {
     "name": "stdout",
     "output_type": "stream",
     "text": [
      "<_io.TextIOWrapper name='file1.txt' mode='r' encoding='UTF-8'>\n",
      "This is a text file.\n",
      "If you open it with a text editor, you will be able to read the text.\n",
      "End of message...\n",
      "\n"
     ]
    }
   ],
   "source": [
    "filename = \"file1.txt\"\n",
    "file_object = open(filename)\n",
    "print(file_object)\n",
    "file_content = file_object.read()\n",
    "print(file_content)"
   ]
  },
  {
   "cell_type": "markdown",
   "id": "938b4bba",
   "metadata": {
    "slideshow": {
     "slide_type": "slide"
    }
   },
   "source": [
    "- The first line specifies the path to the filename. Because the file is in the same directory as this notebook file, we only need to specify the name of the file.\n",
    "- The `open` function will return a file object. The file content is not read yet.\n",
    "- The file object is printed to show that the content of the file is not read yet in order to save memory.\n",
    "- The `read` method of the file object is called to read the content of the file and the content is returned in a multi-line string. The variable `file-content` is assigned to this string.\n",
    "- The string is printed\n"
   ]
  },
  {
   "cell_type": "markdown",
   "id": "cfe13728",
   "metadata": {
    "slideshow": {
     "slide_type": "slide"
    }
   },
   "source": [
    "> It is better not to use / and \\ to specify the path as Windows and Unix systems use them differently. In Informatics 2, you will learn how to deal with file paths in an OS-agnostic way."
   ]
  },
  {
   "cell_type": "markdown",
   "id": "b0d430aa",
   "metadata": {
    "slideshow": {
     "slide_type": "slide"
    }
   },
   "source": [
    "## Reading files in streaming mode"
   ]
  },
  {
   "cell_type": "markdown",
   "id": "862c636c",
   "metadata": {
    "slideshow": {
     "slide_type": "slide"
    }
   },
   "source": [
    "While our previous method works, it is often not adviced to work with large files this way. The file-object.read() method allocates a lot of memory. If you use large files, it is better to work in streaming mode. Let's repeat the previous example in streaming mode:"
   ]
  },
  {
   "cell_type": "code",
   "execution_count": 7,
   "id": "bc0a0b08",
   "metadata": {
    "slideshow": {
     "slide_type": "fragment"
    }
   },
   "outputs": [
    {
     "name": "stdout",
     "output_type": "stream",
     "text": [
      "This is a text file.\n",
      "If you open it with a text editor, you will be able to read the text.\n",
      "End of message...\n"
     ]
    }
   ],
   "source": [
    "filename = \"file1.txt\"\n",
    "file_object = open(filename)\n",
    "for line in file_object:\n",
    "    print(line, end=\"\")"
   ]
  },
  {
   "cell_type": "markdown",
   "id": "084c8206",
   "metadata": {
    "slideshow": {
     "slide_type": "slide"
    }
   },
   "source": [
    "Note that we use a for loop to read through the content of the file. You can only do this once. If you try to do it again you will observe that the file object is exausted:"
   ]
  },
  {
   "cell_type": "code",
   "execution_count": 29,
   "id": "aa985842",
   "metadata": {
    "slideshow": {
     "slide_type": "fragment"
    }
   },
   "outputs": [
    {
     "name": "stdout",
     "output_type": "stream",
     "text": [
      "This is used to show that this cell is executed\n"
     ]
    }
   ],
   "source": [
    "for line in file_object:\n",
    "    print(line, end=\"\")\n",
    "print(\"This is used to show that this cell is executed\")"
   ]
  },
  {
   "cell_type": "markdown",
   "id": "911158bb",
   "metadata": {
    "slideshow": {
     "slide_type": "slide"
    }
   },
   "source": [
    "So if you want to print the content of the file again, you need to create a new object using the open function:"
   ]
  },
  {
   "cell_type": "code",
   "execution_count": 14,
   "id": "4096ba96",
   "metadata": {
    "slideshow": {
     "slide_type": "fragment"
    }
   },
   "outputs": [
    {
     "name": "stdout",
     "output_type": "stream",
     "text": [
      "This is a text file.\n",
      "If you open it with a text editor, you will be able to read the text.\n",
      "End of message...\n"
     ]
    }
   ],
   "source": [
    "filename = \"file1.txt\"\n",
    "file_object = open(filename)\n",
    "for line in file_object:\n",
    "    print(line, end=\"\")"
   ]
  },
  {
   "cell_type": "markdown",
   "id": "5fd37a78",
   "metadata": {
    "slideshow": {
     "slide_type": "slide"
    }
   },
   "source": [
    "To show you the difference in memory usage, I will use some code that you do not need to understand yet but it does show the amount of memory used. First, reading the content of the file using file-object.read() method: "
   ]
  },
  {
   "cell_type": "code",
   "execution_count": 15,
   "id": "2ef38e11",
   "metadata": {
    "slideshow": {
     "slide_type": "fragment"
    }
   },
   "outputs": [
    {
     "name": "stdout",
     "output_type": "stream",
     "text": [
      "158 bytes\n"
     ]
    }
   ],
   "source": [
    "import sys\n",
    "my_file = open('file1.txt')\n",
    "content = my_file.read()\n",
    "print(sys.getsizeof(content), 'bytes')"
   ]
  },
  {
   "cell_type": "markdown",
   "id": "914ab26e",
   "metadata": {
    "slideshow": {
     "slide_type": "slide"
    }
   },
   "source": [
    "Now reading the same file in streaming mode:"
   ]
  },
  {
   "cell_type": "code",
   "execution_count": 16,
   "id": "d00ad999",
   "metadata": {
    "slideshow": {
     "slide_type": "fragment"
    }
   },
   "outputs": [
    {
     "name": "stdout",
     "output_type": "stream",
     "text": [
      "70 bytes\n",
      "119 bytes\n",
      "67 bytes\n"
     ]
    }
   ],
   "source": [
    "my_file = open('file1.txt')\n",
    "for line in my_file:\n",
    "    print(sys.getsizeof(line), 'bytes')"
   ]
  },
  {
   "cell_type": "markdown",
   "id": "984a0816",
   "metadata": {
    "slideshow": {
     "slide_type": "slide"
    }
   },
   "source": [
    "As you can see, processing a file line-by-line allocates less memory. Because Bio-informaticians often work with very large files, processing of files line-by-line is often preferred."
   ]
  },
  {
   "cell_type": "markdown",
   "id": "a42ae765",
   "metadata": {
    "slideshow": {
     "slide_type": "slide"
    }
   },
   "source": [
    "## csv files"
   ]
  },
  {
   "cell_type": "markdown",
   "id": "9c6b9430",
   "metadata": {
    "slideshow": {
     "slide_type": "slide"
    }
   },
   "source": [
    "Often, researchers use text files to store data and store it in a table. If comma’s are used, such a file is a comma-separated text file or\n",
    "csv file. Instead of comma’s, other column separators (tabs, semi-colons, etc.) can be used."
   ]
  },
  {
   "cell_type": "markdown",
   "id": "4e21d9a3",
   "metadata": {
    "slideshow": {
     "slide_type": "slide"
    }
   },
   "source": [
    "You can open csv files in e text editor:  \n",
    "![pic](pics/fig1.png)"
   ]
  },
  {
   "cell_type": "markdown",
   "id": "fe32c66d",
   "metadata": {
    "slideshow": {
     "slide_type": "slide"
    }
   },
   "source": [
    "You can open csv files in a spreadsheet:  \n",
    "![pic](pics/fig2.png)"
   ]
  },
  {
   "cell_type": "markdown",
   "id": "2fd2fb7d",
   "metadata": {
    "slideshow": {
     "slide_type": "slide"
    }
   },
   "source": [
    "And (of course), you can open csv files using Python:  \n",
    "And I will store the data in a dictionary."
   ]
  },
  {
   "cell_type": "code",
   "execution_count": 21,
   "id": "bf12f0ba",
   "metadata": {
    "slideshow": {
     "slide_type": "fragment"
    }
   },
   "outputs": [
    {
     "name": "stdout",
     "output_type": "stream",
     "text": [
      "{'alanine': 'A', 'arginine': 'R', 'asparagine': 'N', 'aspartic acid': 'D', 'cysteine': 'C', 'glutamic acid': 'E', 'glutamine': 'Q'}\n"
     ]
    }
   ],
   "source": [
    "aa = {}\n",
    "filename = \"file2.csv\"\n",
    "file_object = open(filename)\n",
    "for line in file_object:\n",
    "    line = line.strip() # strip the newlines\n",
    "    data = line.split(\",\")\n",
    "    full_name = data[0]\n",
    "    single_letter = data[1]\n",
    "    aa[full_name] = single_letter\n",
    "print(aa)"
   ]
  },
  {
   "cell_type": "markdown",
   "id": "63ce8720",
   "metadata": {
    "slideshow": {
     "slide_type": "slide"
    }
   },
   "source": [
    "## File modi"
   ]
  },
  {
   "cell_type": "markdown",
   "id": "29450e75",
   "metadata": {
    "slideshow": {
     "slide_type": "fragment"
    }
   },
   "source": [
    "There are different modi a file object can be in:\n",
    "- read or 'r'\n",
    "- write or 'w'\n",
    "- append or 'a'  \n",
    "\n",
    "The are more modi but we will concentrate on these three."
   ]
  },
  {
   "cell_type": "markdown",
   "id": "1ae89fd1",
   "metadata": {
    "slideshow": {
     "slide_type": "slide"
    }
   },
   "source": [
    "Read is default so you do not have to explicitly define it, although it does not hurt if you do:"
   ]
  },
  {
   "cell_type": "code",
   "execution_count": 23,
   "id": "80a43655",
   "metadata": {
    "slideshow": {
     "slide_type": "fragment"
    }
   },
   "outputs": [
    {
     "name": "stdout",
     "output_type": "stream",
     "text": [
      "This is a text file.\n",
      "If you open it with a text editor, you will be able to read the text.\n",
      "End of message...\n"
     ]
    }
   ],
   "source": [
    "my_file = open('file1.txt', 'r') # explicit in read mode\n",
    "for line in my_file:\n",
    "    print(line, end='')"
   ]
  },
  {
   "cell_type": "markdown",
   "id": "3316be81",
   "metadata": {
    "slideshow": {
     "slide_type": "slide"
    }
   },
   "source": [
    "If you only read a file, closing it is not very important. Python will close it for you when the script stops. It is, however good practice to close your file after use and it is **very important** when you write stuff to files."
   ]
  },
  {
   "cell_type": "code",
   "execution_count": 24,
   "id": "9aed90ff",
   "metadata": {
    "slideshow": {
     "slide_type": "fragment"
    }
   },
   "outputs": [
    {
     "name": "stdout",
     "output_type": "stream",
     "text": [
      "This is a text file.\n",
      "If you open it with a text editor, you will be able to read the text.\n",
      "End of message...\n"
     ]
    }
   ],
   "source": [
    "my_file = open('file1.txt', 'r') # explicit in read mode\n",
    "for line in my_file:\n",
    "    print(line, end='')\n",
    "my_file.close() # explicitly close your files.  "
   ]
  },
  {
   "cell_type": "markdown",
   "id": "2f47f107",
   "metadata": {
    "slideshow": {
     "slide_type": "slide"
    }
   },
   "source": [
    "> In informatics 2, you will learn to work with a `with` statement. With is a context manager that will deal with closing of files automatically and can save you a lot of trouble! For now, you don't need it. Just remember that for reading text files, closing the file object is not important but for saving content to a file it is. It is nevertheless good practice to always explicitly close your file object."
   ]
  },
  {
   "cell_type": "markdown",
   "id": "140e6c2a",
   "metadata": {
    "slideshow": {
     "slide_type": "slide"
    }
   },
   "source": [
    "## Write data using the print function"
   ]
  },
  {
   "cell_type": "markdown",
   "id": "8fdcaf22",
   "metadata": {
    "slideshow": {
     "slide_type": "slide"
    }
   },
   "source": [
    "You can write data to a file using the print function:"
   ]
  },
  {
   "cell_type": "code",
   "execution_count": 45,
   "id": "a6006e62",
   "metadata": {
    "slideshow": {
     "slide_type": "fragment"
    }
   },
   "outputs": [
    {
     "name": "stdout",
     "output_type": "stream",
     "text": [
      "This is used to show that this cell is executed\n"
     ]
    }
   ],
   "source": [
    "my_file = open(\"hello.txt\", \"w\") # write mode\n",
    "print(\"hello\", file=my_file)\n",
    "print(\"This is used to show that this cell is executed\")"
   ]
  },
  {
   "cell_type": "markdown",
   "id": "00f09f9a",
   "metadata": {
    "slideshow": {
     "slide_type": "slide"
    }
   },
   "source": [
    "As you can see, the string `hello` is not printed to screen but it is written to the file hello.txt:"
   ]
  },
  {
   "cell_type": "code",
   "execution_count": 46,
   "id": "6ce48904",
   "metadata": {
    "slideshow": {
     "slide_type": "fragment"
    }
   },
   "outputs": [
    {
     "name": "stdout",
     "output_type": "stream",
     "text": [
      "hello\n"
     ]
    }
   ],
   "source": [
    "for i in open('hello.txt'):\n",
    "    print(i, end='')"
   ]
  },
  {
   "cell_type": "markdown",
   "id": "2cfbdb53",
   "metadata": {
    "slideshow": {
     "slide_type": "slide"
    }
   },
   "source": [
    "Note that the file modus used is write mode. That means that the content of the file will be overwritten each time the code is executed:"
   ]
  },
  {
   "cell_type": "code",
   "execution_count": 49,
   "id": "47d4f08e",
   "metadata": {
    "slideshow": {
     "slide_type": "fragment"
    }
   },
   "outputs": [
    {
     "name": "stdout",
     "output_type": "stream",
     "text": [
      "bla bla\n"
     ]
    }
   ],
   "source": [
    "my_file = open(\"hello.txt\", \"w\") # write mode\n",
    "print(\"bla bla\", file=my_file) # different string is written to the file\n",
    "\n",
    "for i in open('hello.txt'):\n",
    "    print(i, end='') # hello is replaced by bla bla"
   ]
  },
  {
   "cell_type": "markdown",
   "id": "d90f1b31",
   "metadata": {
    "slideshow": {
     "slide_type": "slide"
    }
   },
   "source": [
    "The `file=` parameter in the print function is often used to write messages to a log file. It is usefull to write to a log file in append mode:"
   ]
  },
  {
   "cell_type": "code",
   "execution_count": 64,
   "id": "c894aa72",
   "metadata": {
    "slideshow": {
     "slide_type": "skip"
    }
   },
   "outputs": [],
   "source": [
    "!rm log.txt "
   ]
  },
  {
   "cell_type": "code",
   "execution_count": 65,
   "id": "34d64c89",
   "metadata": {
    "slideshow": {
     "slide_type": "fragment"
    }
   },
   "outputs": [],
   "source": [
    "seq = \"gatc\"\n",
    "log = open(\"log.txt\", \"a\")\n",
    "print(\"sequence converted to:\", seq, file=log)\n",
    "log.close()"
   ]
  },
  {
   "cell_type": "markdown",
   "id": "c3559dcd",
   "metadata": {
    "slideshow": {
     "slide_type": "slide"
    }
   },
   "source": [
    "Read the file:"
   ]
  },
  {
   "cell_type": "code",
   "execution_count": 66,
   "id": "f280116e",
   "metadata": {
    "slideshow": {
     "slide_type": "fragment"
    }
   },
   "outputs": [
    {
     "name": "stdout",
     "output_type": "stream",
     "text": [
      "sequence converted to: gatc\n"
     ]
    }
   ],
   "source": [
    "for line in open(\"log.txt\"):\n",
    "    print(line, end=\"\")"
   ]
  },
  {
   "cell_type": "markdown",
   "id": "2906bbc9",
   "metadata": {
    "slideshow": {
     "slide_type": "slide"
    }
   },
   "source": [
    "Add a new log entry:"
   ]
  },
  {
   "cell_type": "code",
   "execution_count": 67,
   "id": "b058469a",
   "metadata": {
    "slideshow": {
     "slide_type": "fragment"
    }
   },
   "outputs": [],
   "source": [
    "seq = \"cccc\"\n",
    "log = open(\"log.txt\", \"a\")\n",
    "print(\"sequence converted to:\", seq, file=log)\n",
    "log.close()"
   ]
  },
  {
   "cell_type": "code",
   "execution_count": null,
   "id": "80fc3c4d",
   "metadata": {
    "slideshow": {
     "slide_type": "slide"
    }
   },
   "outputs": [],
   "source": [
    "Read the file again:"
   ]
  },
  {
   "cell_type": "code",
   "execution_count": 68,
   "id": "990cd59d",
   "metadata": {
    "slideshow": {
     "slide_type": "fragment"
    }
   },
   "outputs": [
    {
     "name": "stdout",
     "output_type": "stream",
     "text": [
      "sequence converted to: gatc\n",
      "sequence converted to: cccc\n"
     ]
    }
   ],
   "source": [
    "for line in open(\"log.txt\"):\n",
    "    print(line, end=\"\")"
   ]
  },
  {
   "cell_type": "markdown",
   "id": "ebb82731",
   "metadata": {
    "slideshow": {
     "slide_type": "slide"
    }
   },
   "source": [
    "## Write data using file_object.write()"
   ]
  },
  {
   "cell_type": "markdown",
   "id": "3bb1f067",
   "metadata": {
    "slideshow": {
     "slide_type": "slide"
    }
   },
   "source": [
    "Alternatively to the print function, you can also write to a file using the `file_object.write()` method. Here is an example: "
   ]
  },
  {
   "cell_type": "code",
   "execution_count": 72,
   "id": "57fced29",
   "metadata": {
    "slideshow": {
     "slide_type": "fragment"
    }
   },
   "outputs": [
    {
     "name": "stdout",
     "output_type": "stream",
     "text": [
      "done\n"
     ]
    }
   ],
   "source": [
    "sequences = [\"GAATC\", \"CAACC\", \"GAGGG\", \"TTTTT\", \"AAAA\"]\n",
    "seq_file_obj = open(\"seq.txt\", 'w')\n",
    "for seq in sequences:\n",
    "    seq_file_obj.write(seq)\n",
    "seq_file_obj.close()\n",
    "print(\"done\")"
   ]
  },
  {
   "cell_type": "markdown",
   "id": "66a7a423",
   "metadata": {
    "slideshow": {
     "slide_type": "slide"
    }
   },
   "source": [
    "And read the content of the file:"
   ]
  },
  {
   "cell_type": "code",
   "execution_count": 73,
   "id": "5b9bfdcf",
   "metadata": {
    "slideshow": {
     "slide_type": "fragment"
    }
   },
   "outputs": [
    {
     "name": "stdout",
     "output_type": "stream",
     "text": [
      "GAATCCAACCGAGGGTTTTTAAAA\n"
     ]
    }
   ],
   "source": [
    "for line in open(\"seq.txt\"):\n",
    "    print(line, end=\"\")"
   ]
  },
  {
   "cell_type": "markdown",
   "id": "65914fa0",
   "metadata": {
    "slideshow": {
     "slide_type": "slide"
    }
   },
   "source": [
    "Oops, thats not what we wanted. Of course we want a newline \"\\n\" after each sequence. The print function adds a newline by default. We can add one here as well:"
   ]
  },
  {
   "cell_type": "code",
   "execution_count": 74,
   "id": "4b214f35",
   "metadata": {
    "slideshow": {
     "slide_type": "fragment"
    }
   },
   "outputs": [
    {
     "name": "stdout",
     "output_type": "stream",
     "text": [
      "done\n"
     ]
    }
   ],
   "source": [
    "sequences = [\"GAATC\", \"CAACC\", \"GAGGG\", \"TTTTT\", \"AAAA\"]\n",
    "seq_file_obj = open(\"seq.txt\", 'w')\n",
    "for seq in sequences:\n",
    "    seq_file_obj.write(seq + \"\\n\")\n",
    "seq_file_obj.close()\n",
    "print(\"done\")"
   ]
  },
  {
   "cell_type": "code",
   "execution_count": null,
   "id": "2ea3a8c8",
   "metadata": {
    "slideshow": {
     "slide_type": "slide"
    }
   },
   "outputs": [],
   "source": [
    "Read the file:"
   ]
  },
  {
   "cell_type": "code",
   "execution_count": 76,
   "id": "c1907f8f",
   "metadata": {
    "slideshow": {
     "slide_type": "fragment"
    }
   },
   "outputs": [
    {
     "name": "stdout",
     "output_type": "stream",
     "text": [
      "GAATC\n",
      "CAACC\n",
      "GAGGG\n",
      "TTTTT\n",
      "AAAA\n"
     ]
    }
   ],
   "source": [
    "for line in open(\"seq.txt\"):\n",
    "    print(line, end=\"\")"
   ]
  },
  {
   "cell_type": "markdown",
   "id": "45b52cd4",
   "metadata": {
    "slideshow": {
     "slide_type": "slide"
    }
   },
   "source": [
    "The wrap it up:  \n",
    "- The open function creates a file object\n",
    "- The content of the file is not loaded in order to save memory\n",
    "- You can read the file using the `file_object.read()` method\n",
    "- For large files it is better to iterate through the file object and to process the file line-by-line\n",
    "- You can close the file object by calling the `file_object.close()` method\n",
    "- Closing files is very important when you write to files\n",
    "- File objects have multiple modi. Most important are read ('r'), write ('w') and append ('a')\n",
    "- You can save content to the file object using the `print` function with the `file=` argument or using the `file_object.write()` method."
   ]
  },
  {
   "cell_type": "markdown",
   "id": "c6c78fda",
   "metadata": {
    "slideshow": {
     "slide_type": "slide"
    }
   },
   "source": [
    "The end..."
   ]
  }
 ],
 "metadata": {
  "celltoolbar": "Slideshow",
  "kernelspec": {
   "display_name": "Python 3",
   "language": "python",
   "name": "python3"
  },
  "language_info": {
   "codemirror_mode": {
    "name": "ipython",
    "version": 3
   },
   "file_extension": ".py",
   "mimetype": "text/x-python",
   "name": "python",
   "nbconvert_exporter": "python",
   "pygments_lexer": "ipython3",
   "version": "3.8.8"
  }
 },
 "nbformat": 4,
 "nbformat_minor": 5
}
