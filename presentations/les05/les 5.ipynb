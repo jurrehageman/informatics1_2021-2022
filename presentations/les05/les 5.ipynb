{
 "cells": [
  {
   "cell_type": "markdown",
   "id": "b0546d90",
   "metadata": {
    "slideshow": {
     "slide_type": "slide"
    }
   },
   "source": [
    "# Les 5: Booleans\n",
    "\n",
    "Jurre Hageman & Kim van Adrichem"
   ]
  },
  {
   "cell_type": "code",
   "execution_count": null,
   "id": "209bbdf9",
   "metadata": {
    "slideshow": {
     "slide_type": "slide"
    }
   },
   "outputs": [],
   "source": [
    "There are only two possible Booleans:"
   ]
  },
  {
   "cell_type": "code",
   "execution_count": 3,
   "id": "f7c569ed",
   "metadata": {
    "slideshow": {
     "slide_type": "fragment"
    }
   },
   "outputs": [
    {
     "name": "stdout",
     "output_type": "stream",
     "text": [
      "True\n",
      "False\n"
     ]
    }
   ],
   "source": [
    "print(True)\n",
    "print(False)"
   ]
  },
  {
   "cell_type": "markdown",
   "id": "e7707ffc",
   "metadata": {
    "slideshow": {
     "slide_type": "slide"
    }
   },
   "source": [
    "In Python you can convert many datatypes to Boolean with the `bool` function."
   ]
  },
  {
   "cell_type": "code",
   "execution_count": 4,
   "id": "02675a1f",
   "metadata": {
    "slideshow": {
     "slide_type": "fragment"
    }
   },
   "outputs": [
    {
     "name": "stdout",
     "output_type": "stream",
     "text": [
      "True\n"
     ]
    }
   ],
   "source": [
    "x = 1\n",
    "print(bool(x))"
   ]
  },
  {
   "cell_type": "markdown",
   "id": "3575552e",
   "metadata": {
    "slideshow": {
     "slide_type": "slide"
    }
   },
   "source": [
    "For every if/elif/else statement, expressions will be (implicitly) converted to Booleans:"
   ]
  },
  {
   "cell_type": "code",
   "execution_count": 5,
   "id": "660e7d13",
   "metadata": {
    "slideshow": {
     "slide_type": "fragment"
    }
   },
   "outputs": [
    {
     "name": "stdout",
     "output_type": "stream",
     "text": [
      "True\n",
      "3 is smaller then 4\n"
     ]
    }
   ],
   "source": [
    "print(3 < 4)\n",
    "if 3 < 4:\n",
    "    print(\"3 is smaller then 4\")"
   ]
  },
  {
   "cell_type": "markdown",
   "id": "0eefb26d",
   "metadata": {
    "slideshow": {
     "slide_type": "slide"
    }
   },
   "source": [
    "Although the previous case is obvious, sometimes the situation is a bit less obvious:"
   ]
  },
  {
   "cell_type": "code",
   "execution_count": 8,
   "id": "84781213",
   "metadata": {
    "slideshow": {
     "slide_type": "fragment"
    }
   },
   "outputs": [
    {
     "name": "stdout",
     "output_type": "stream",
     "text": [
      "no\n"
     ]
    }
   ],
   "source": [
    "names = []\n",
    "if names:\n",
    "    print(\"yes\")\n",
    "else:\n",
    "    print(\"no\")"
   ]
  },
  {
   "cell_type": "markdown",
   "id": "a3904fba",
   "metadata": {
    "slideshow": {
     "slide_type": "slide"
    }
   },
   "source": [
    "The previous expression will test if the list is empty. Empty lists are evaluated as false. This is often quit usefull. For example if you want to print assigned course members. If no one has assigned yet, it is more informative to print that no one assigned yet then to print an empy list. "
   ]
  },
  {
   "cell_type": "code",
   "execution_count": 1,
   "id": "8a144e4e",
   "metadata": {
    "slideshow": {
     "slide_type": "slide"
    }
   },
   "outputs": [
    {
     "name": "stdout",
     "output_type": "stream",
     "text": [
      "no members assigned yet\n"
     ]
    }
   ],
   "source": [
    "course_members = []\n",
    "if course_members:\n",
    "    print(course_members)\n",
    "else:\n",
    "    print(\"no members assigned yet\")"
   ]
  },
  {
   "cell_type": "markdown",
   "id": "09d76293",
   "metadata": {
    "slideshow": {
     "slide_type": "slide"
    }
   },
   "source": [
    "Maybe the following code is easier for you to understand:"
   ]
  },
  {
   "cell_type": "code",
   "execution_count": 2,
   "id": "a3db18db",
   "metadata": {
    "slideshow": {
     "slide_type": "slide"
    }
   },
   "outputs": [
    {
     "name": "stdout",
     "output_type": "stream",
     "text": [
      "no members assigned yet\n"
     ]
    }
   ],
   "source": [
    "course_members = []\n",
    "if len(course_members) > 0:\n",
    "    print(course_members)\n",
    "else:\n",
    "    print(\"no members assigned yet\")"
   ]
  },
  {
   "cell_type": "markdown",
   "id": "d85f5c5b",
   "metadata": {
    "slideshow": {
     "slide_type": "slide"
    }
   },
   "source": [
    "The code above is not wrong but programmers often directly evaluate variable for Bool types and the previous code example is very common. For every if, elif , else statement, an expression is converted to a bool (like for the `if course_members:` line of code)."
   ]
  },
  {
   "cell_type": "code",
   "execution_count": 14,
   "id": "1da11660",
   "metadata": {
    "slideshow": {
     "slide_type": "fragment"
    }
   },
   "outputs": [
    {
     "name": "stdout",
     "output_type": "stream",
     "text": [
      "False\n",
      "True\n"
     ]
    }
   ],
   "source": [
    "print(bool())\n",
    "print(bool(\"Jan Janssen\"))"
   ]
  },
  {
   "cell_type": "markdown",
   "id": "5952f7db",
   "metadata": {
    "slideshow": {
     "slide_type": "slide"
    }
   },
   "source": [
    "So what is True and what is False (when converted to a bool)?  \n",
    "This might seem complicated but it is not:  \n",
    "False is:  \n",
    "- None\n",
    "- False\n",
    "- 0 (zero as integer or float)\n",
    "- empty sequence such as \"\", [] and ()\n",
    "- empty dictionary or set {}\n",
    "Consider the rest True! (some details left out for simplicity)"
   ]
  },
  {
   "cell_type": "markdown",
   "id": "dc51518c",
   "metadata": {
    "slideshow": {
     "slide_type": "slide"
    }
   },
   "source": [
    "There are three Boolean operations:  \n",
    "- or\n",
    "- and\n",
    "- not  \n",
    "They have a priority order:\n",
    "`or` goes first, than `and` and then `not`:"
   ]
  },
  {
   "cell_type": "code",
   "execution_count": 16,
   "id": "8926fd8c",
   "metadata": {
    "slideshow": {
     "slide_type": "fragment"
    }
   },
   "outputs": [
    {
     "name": "stdout",
     "output_type": "stream",
     "text": [
      "2\n",
      "3\n",
      "1\n"
     ]
    }
   ],
   "source": [
    "print(1 and 2 or 3)\n",
    "print(1 and 2 and 3)\n",
    "print(1 or 2 or 3)"
   ]
  },
  {
   "cell_type": "code",
   "execution_count": 18,
   "id": "70420429",
   "metadata": {
    "slideshow": {
     "slide_type": "slide"
    }
   },
   "outputs": [
    {
     "name": "stdout",
     "output_type": "stream",
     "text": [
      "True\n",
      "False\n",
      "False\n",
      "False\n"
     ]
    }
   ],
   "source": [
    "print(True and True)\n",
    "print(True and False)\n",
    "print(False and True)\n",
    "print(False and False)"
   ]
  },
  {
   "cell_type": "markdown",
   "id": "7f54d644",
   "metadata": {
    "slideshow": {
     "slide_type": "fragment"
    }
   },
   "source": [
    "> As soon as an `and`expression finds False, the whole expression is False."
   ]
  },
  {
   "cell_type": "code",
   "execution_count": 19,
   "id": "578f686a",
   "metadata": {
    "slideshow": {
     "slide_type": "slide"
    }
   },
   "outputs": [
    {
     "name": "stdout",
     "output_type": "stream",
     "text": [
      "True\n",
      "True\n",
      "True\n",
      "False\n"
     ]
    }
   ],
   "source": [
    "print(True or True)\n",
    "print(True or False)\n",
    "print(False or True)\n",
    "print(False or False)"
   ]
  },
  {
   "cell_type": "markdown",
   "id": "1eb8ddb1",
   "metadata": {
    "slideshow": {
     "slide_type": "fragment"
    }
   },
   "source": [
    "> As soon as an `or`expression finds True, the whole expression is True."
   ]
  },
  {
   "cell_type": "markdown",
   "id": "5e4cdbab",
   "metadata": {
    "slideshow": {
     "slide_type": "slide"
    }
   },
   "source": [
    "`or` is a short circuit operator, so it only evaluates the second argument if the first one is false:"
   ]
  },
  {
   "cell_type": "code",
   "execution_count": 20,
   "id": "10799dc2",
   "metadata": {
    "slideshow": {
     "slide_type": "fragment"
    }
   },
   "outputs": [
    {
     "name": "stdout",
     "output_type": "stream",
     "text": [
      "1\n",
      "1\n",
      "True\n"
     ]
    }
   ],
   "source": [
    "print(0 or 1) # bool(0) is False so the interpreter will continue with bool(1)\n",
    "print(1 or 2) # bool(1) is True so the interpreter will stop\n",
    "print(False or False or False or False or True or False or False) # Python will stop after the first True. No need to continue."
   ]
  },
  {
   "cell_type": "markdown",
   "id": "fbb5a20b",
   "metadata": {
    "slideshow": {
     "slide_type": "slide"
    }
   },
   "source": [
    "`and` is also short circuit operator, so it only evaluates the second argument if the first one is true."
   ]
  },
  {
   "cell_type": "code",
   "execution_count": 22,
   "id": "7b31d6b0",
   "metadata": {
    "slideshow": {
     "slide_type": "fragment"
    }
   },
   "outputs": [
    {
     "name": "stdout",
     "output_type": "stream",
     "text": [
      "0\n",
      "2\n",
      "False\n"
     ]
    }
   ],
   "source": [
    "print(0 and 1) # bool(0) is False so the interpreter will stop\n",
    "print(1 and 2) # bool(1) is True so the interpreter will continue\n",
    "print(True and True and True and True and True and False and True and True) # Python will stop after the first False. No need to continue."
   ]
  },
  {
   "cell_type": "markdown",
   "id": "a5768c1e",
   "metadata": {
    "slideshow": {
     "slide_type": "slide"
    }
   },
   "source": [
    "Brain heater"
   ]
  },
  {
   "cell_type": "code",
   "execution_count": 23,
   "id": "54b1a20d",
   "metadata": {
    "slideshow": {
     "slide_type": "fragment"
    }
   },
   "outputs": [
    {
     "data": {
      "text/plain": [
       "True"
      ]
     },
     "execution_count": 23,
     "metadata": {},
     "output_type": "execute_result"
    }
   ],
   "source": [
    "1 and not (\"Yes\" == \"Yes\" or False) and not [] or 5 != 6"
   ]
  },
  {
   "cell_type": "markdown",
   "id": "e93aea30",
   "metadata": {
    "slideshow": {
     "slide_type": "slide"
    }
   },
   "source": [
    "How to solve (without computer)?  \n",
    "First solve any equality checks:  "
   ]
  },
  {
   "cell_type": "code",
   "execution_count": null,
   "id": "4ffbbd0f",
   "metadata": {
    "slideshow": {
     "slide_type": "fragment"
    }
   },
   "outputs": [],
   "source": [
    "1 and not (True or False) and not [] or True"
   ]
  },
  {
   "cell_type": "markdown",
   "id": "370aae1a",
   "metadata": {
    "slideshow": {
     "slide_type": "slide"
    }
   },
   "source": [
    "Find each and/or in parenthesis ():"
   ]
  },
  {
   "cell_type": "code",
   "execution_count": 24,
   "id": "f385b329",
   "metadata": {
    "slideshow": {
     "slide_type": "fragment"
    }
   },
   "outputs": [
    {
     "data": {
      "text/plain": [
       "True"
      ]
     },
     "execution_count": 24,
     "metadata": {},
     "output_type": "execute_result"
    }
   ],
   "source": [
    "1 and not (True) and not [] or True"
   ]
  },
  {
   "cell_type": "markdown",
   "id": "4c1ef556",
   "metadata": {
    "slideshow": {
     "slide_type": "slide"
    }
   },
   "source": [
    "Find each not and invert it:"
   ]
  },
  {
   "cell_type": "code",
   "execution_count": null,
   "id": "4acf2f98",
   "metadata": {
    "slideshow": {
     "slide_type": "fragment"
    }
   },
   "outputs": [],
   "source": [
    "1 and False and True or True"
   ]
  },
  {
   "cell_type": "markdown",
   "id": "ff880a02",
   "metadata": {
    "slideshow": {
     "slide_type": "slide"
    }
   },
   "source": [
    "Find any remaining and/or and solve them:"
   ]
  },
  {
   "cell_type": "code",
   "execution_count": 25,
   "id": "5390c776",
   "metadata": {
    "slideshow": {
     "slide_type": "fragment"
    }
   },
   "outputs": [
    {
     "data": {
      "text/plain": [
       "True"
      ]
     },
     "execution_count": 25,
     "metadata": {},
     "output_type": "execute_result"
    }
   ],
   "source": [
    "True and False and True or True"
   ]
  },
  {
   "cell_type": "code",
   "execution_count": null,
   "id": "c76b0bac",
   "metadata": {
    "slideshow": {
     "slide_type": "slide"
    }
   },
   "outputs": [],
   "source": [
    "This expression will stop at the second True:"
   ]
  },
  {
   "cell_type": "code",
   "execution_count": null,
   "id": "01f24563",
   "metadata": {
    "slideshow": {
     "slide_type": "fragment"
    }
   },
   "outputs": [],
   "source": [
    "True"
   ]
  },
  {
   "cell_type": "markdown",
   "id": "150b641b",
   "metadata": {
    "slideshow": {
     "slide_type": "slide"
    }
   },
   "source": [
    "The end..."
   ]
  }
 ],
 "metadata": {
  "celltoolbar": "Slideshow",
  "kernelspec": {
   "display_name": "Python 3 (ipykernel)",
   "language": "python",
   "name": "python3"
  },
  "language_info": {
   "codemirror_mode": {
    "name": "ipython",
    "version": 3
   },
   "file_extension": ".py",
   "mimetype": "text/x-python",
   "name": "python",
   "nbconvert_exporter": "python",
   "pygments_lexer": "ipython3",
   "version": "3.9.7"
  }
 },
 "nbformat": 4,
 "nbformat_minor": 5
}
