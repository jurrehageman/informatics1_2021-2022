{
 "cells": [
  {
   "cell_type": "markdown",
   "metadata": {
    "slideshow": {
     "slide_type": "slide"
    }
   },
   "source": [
    "# Les 5: Booleans\n",
    "\n",
    "Jurre Hageman & Kim van Adrichem"
   ]
  },
  {
   "cell_type": "code",
   "execution_count": null,
   "metadata": {
    "slideshow": {
     "slide_type": "slide"
    }
   },
   "outputs": [],
   "source": [
    "There are only two possible Booleans:"
   ]
  },
  {
   "cell_type": "code",
   "execution_count": 3,
   "metadata": {
    "slideshow": {
     "slide_type": "fragment"
    }
   },
   "outputs": [
    {
     "name": "stdout",
     "output_type": "stream",
     "text": [
      "True\n",
      "False\n"
     ]
    }
   ],
   "source": [
    "print(True)\n",
    "print(False)"
   ]
  },
  {
   "cell_type": "markdown",
   "metadata": {
    "slideshow": {
     "slide_type": "slide"
    }
   },
   "source": [
    "In Python you can convert many datatypes to Boolean with the `bool` function."
   ]
  },
  {
   "cell_type": "code",
<<<<<<< HEAD:presentations/les05/les05.ipynb
   "execution_count": 46,
   "id": "02675a1f",
=======
   "execution_count": 4,
>>>>>>> bc65c7289e7dd7f25fcedeadca0d7fda62b03890:presentations/les05/les 5.ipynb
   "metadata": {
    "slideshow": {
     "slide_type": "fragment"
    }
   },
   "outputs": [
    {
     "name": "stdout",
     "output_type": "stream",
     "text": [
      "True\n",
      "False\n"
     ]
    }
   ],
   "source": [
    "x = 1\n",
    "print(bool(x))\n",
    "y = 0\n",
    "print(bool(y))"
   ]
  },
  {
   "cell_type": "markdown",
   "metadata": {
    "slideshow": {
     "slide_type": "slide"
    }
   },
   "source": [
    "For every if/elif/else statement, expressions will be (implicitly) converted to Booleans:"
   ]
  },
  {
   "cell_type": "code",
   "execution_count": 5,
   "metadata": {
    "slideshow": {
     "slide_type": "fragment"
    }
   },
   "outputs": [
    {
     "name": "stdout",
     "output_type": "stream",
     "text": [
      "True\n",
      "3 is smaller then 4\n"
     ]
    }
   ],
   "source": [
    "print(3 < 4)\n",
    "if 3 < 4:\n",
    "    print(\"3 is smaller then 4\")"
   ]
  },
  {
   "cell_type": "markdown",
   "metadata": {
    "slideshow": {
     "slide_type": "slide"
    }
   },
   "source": [
    "Although the previous case is obvious, sometimes the situation is a bit less obvious:"
   ]
  },
  {
   "cell_type": "code",
   "execution_count": 8,
   "metadata": {
    "slideshow": {
     "slide_type": "fragment"
    }
   },
   "outputs": [
    {
     "name": "stdout",
     "output_type": "stream",
     "text": [
      "no\n"
     ]
    }
   ],
   "source": [
    "names = []\n",
    "if names:\n",
    "    print(\"yes\")\n",
    "else:\n",
    "    print(\"no\")"
   ]
  },
  {
   "cell_type": "markdown",
   "metadata": {
    "slideshow": {
     "slide_type": "slide"
    }
   },
   "source": [
<<<<<<< HEAD:presentations/les05/les05.ipynb
    "Obiously, the empty list is not equal to True or False. Nonetheless, Python will evaluate it in a Boolean context and determine it to be either “truthy” or “falsy”.\n",
    "\n",
    "Thus, the previous expression will test if the list object is “truthy” or “falsy”.  \n",
    "Empty lists are evaluated as false. This is often quit usefull.  \n",
    "For example if you want to print assigned course members. If no one has assigned yet, it is more informative to print that no one assigned yet then to print an empy list. "
=======
    "The previous expression will test if the list is empty. Empty lists are evaluated as false. This is often quite useful. For example if you want to print assigned course members. If no one has been assigned yet, it is more informative to print that no one has been assigned yet than to print an empty list. "
>>>>>>> bc65c7289e7dd7f25fcedeadca0d7fda62b03890:presentations/les05/les 5.ipynb
   ]
  },
  {
   "cell_type": "code",
   "execution_count": 1,
   "metadata": {
    "slideshow": {
     "slide_type": "fragment"
    }
   },
   "outputs": [
    {
     "name": "stdout",
     "output_type": "stream",
     "text": [
      "no members assigned yet\n"
     ]
    }
   ],
   "source": [
    "course_members = []\n",
    "if course_members:\n",
    "    print(course_members)\n",
    "else:\n",
    "    print(\"no members assigned yet\")"
   ]
  },
  {
   "cell_type": "markdown",
   "metadata": {
    "slideshow": {
     "slide_type": "slide"
    }
   },
   "source": [
    "Maybe the following code is easier for you to understand:"
   ]
  },
  {
   "cell_type": "code",
   "execution_count": 2,
   "metadata": {
    "slideshow": {
     "slide_type": "fragment"
    }
   },
   "outputs": [
    {
     "name": "stdout",
     "output_type": "stream",
     "text": [
      "no members assigned yet\n"
     ]
    }
   ],
   "source": [
    "course_members = []\n",
    "if len(course_members) > 0:\n",
    "    print(course_members)\n",
    "else:\n",
    "    print(\"no members assigned yet\")"
   ]
  },
  {
   "cell_type": "markdown",
   "metadata": {
    "slideshow": {
     "slide_type": "slide"
    }
   },
   "source": [
    "The code above is not wrong but programmers often directly evaluate variable for Bool types and the previous code example is very common. For every if, elif, else statement, an expression is converted to a bool (like for the `if course_members:` line of code)."
   ]
  },
  {
   "cell_type": "code",
<<<<<<< HEAD:presentations/les05/les05.ipynb
   "execution_count": 48,
   "id": "1da11660",
=======
   "execution_count": 14,
>>>>>>> bc65c7289e7dd7f25fcedeadca0d7fda62b03890:presentations/les05/les 5.ipynb
   "metadata": {
    "slideshow": {
     "slide_type": "fragment"
    }
   },
   "outputs": [
    {
     "name": "stdout",
     "output_type": "stream",
     "text": [
      "False\n",
      "True\n"
     ]
    }
   ],
   "source": [
    "print(bool([]))\n",
    "print(bool([\"Jan Janssen\"]))"
   ]
  },
  {
   "cell_type": "markdown",
   "metadata": {
    "slideshow": {
     "slide_type": "slide"
    }
   },
   "source": [
    "So what is True and what is False (when converted to a bool)?  \n",
    "This might seem complicated but it is not:  \n",
    "False is:  \n",
    "- None\n",
    "- False\n",
    "- 0 (zero as integer or float)\n",
    "- empty sequence such as \"\", [] and ()\n",
    "- empty dictionary or set {}\n",
    "\n",
    "Consider the rest True! (some details left out for simplicity)"
   ]
  },
  {
   "cell_type": "markdown",
   "metadata": {
    "slideshow": {
     "slide_type": "slide"
    }
   },
   "source": [
    "There are three Boolean operations:  \n",
    "- not\n",
    "- and\n",
<<<<<<< HEAD:presentations/les05/les05.ipynb
    "- or  \n",
    "\n",
    "They have a priority order:  \n",
    "`not` goes first, than `and` and then `or`.   \n",
    "\n",
    "To see that in action:"
=======
    "- not  \n",
    "They have a priority order:\n",
    "`or` goes first, then `and` and then `not`:"
>>>>>>> bc65c7289e7dd7f25fcedeadca0d7fda62b03890:presentations/les05/les 5.ipynb
   ]
  },
  {
   "cell_type": "code",
<<<<<<< HEAD:presentations/les05/les05.ipynb
   "execution_count": 42,
   "id": "827f98b5",
   "metadata": {
    "slideshow": {
     "slide_type": "slide"
    }
   },
   "outputs": [
    {
     "data": {
      "text/plain": [
       "1"
      ]
     },
     "execution_count": 42,
     "metadata": {},
     "output_type": "execute_result"
    }
   ],
   "source": [
    "0 and 0 or 1"
   ]
  },
  {
   "cell_type": "markdown",
   "id": "ac5df1ca",
   "metadata": {
    "slideshow": {
     "slide_type": "slide"
    }
   },
   "source": [
    "Remember that 0 is \"falsy\" and 1 \"truthy\".  \n",
    "Because of the priority order this is evaluated as:"
   ]
  },
  {
   "cell_type": "code",
   "execution_count": 44,
   "id": "c64274c1",
=======
   "execution_count": 8,
>>>>>>> bc65c7289e7dd7f25fcedeadca0d7fda62b03890:presentations/les05/les 5.ipynb
   "metadata": {
    "slideshow": {
     "slide_type": "fragment"
    }
   },
   "outputs": [
    {
     "data": {
      "text/plain": [
       "1"
      ]
     },
     "execution_count": 44,
     "metadata": {},
     "output_type": "execute_result"
    }
   ],
   "source": [
    "(0 and 0) or 1\n",
    "# thus as:\n",
    "0 or 1"
   ]
  },
  {
   "cell_type": "markdown",
   "id": "9abde9c2",
   "metadata": {
    "slideshow": {
     "slide_type": "slide"
    }
   },
   "source": [
    "If you want to give the `or` priority you need to use parenthesis:"
   ]
  },
  {
   "cell_type": "code",
   "execution_count": 45,
   "id": "bd12f74b",
   "metadata": {
    "slideshow": {
     "slide_type": "fragment"
    }
   },
   "outputs": [
    {
     "data": {
      "text/plain": [
       "0"
      ]
     },
     "execution_count": 45,
     "metadata": {},
     "output_type": "execute_result"
    }
   ],
   "source": [
    "0 and (0 or 1)\n",
    "# thus as\n",
    "0 and 1"
   ]
  },
  {
   "cell_type": "markdown",
   "id": "513dcb61",
   "metadata": {
    "slideshow": {
     "slide_type": "slide"
    }
   },
   "source": [
    "## Short-Circuit Evaluation\n",
    "\n",
    "Python uses a methodology called short-circuit evaluation.  \n",
    "This works as follows:\n",
    "\n",
    "- When the first part of an `and` expression evaluates to False, the overall value must be False\n",
    "- When the first part of an `or` expression evaluates to True, the overall value must be true.\n",
    "\n",
    "Thus, the second argument is executed or evaluated only if the first argument does not suffice to determine the value of the expression!  \n",
    "\n",
    "To see that in action:"
   ]
  },
  {
   "cell_type": "code",
   "execution_count": 18,
   "metadata": {
    "slideshow": {
     "slide_type": "slide"
    }
   },
   "outputs": [
    {
     "name": "stdout",
     "output_type": "stream",
     "text": [
      "True\n",
      "False\n",
      "False\n",
      "False\n"
     ]
    }
   ],
   "source": [
    "print(True and True)\n",
    "print(True and False)\n",
    "print(False and True)\n",
    "print(False and False)"
   ]
  },
  {
   "cell_type": "markdown",
   "metadata": {
    "slideshow": {
     "slide_type": "fragment"
    }
   },
   "source": [
    "> As soon as an `and`expression finds False, the whole expression is False."
   ]
  },
  {
   "cell_type": "code",
   "execution_count": 19,
   "metadata": {
    "slideshow": {
     "slide_type": "slide"
    }
   },
   "outputs": [
    {
     "name": "stdout",
     "output_type": "stream",
     "text": [
      "True\n",
      "True\n",
      "True\n",
      "False\n"
     ]
    }
   ],
   "source": [
    "print(True or True)\n",
    "print(True or False)\n",
    "print(False or True)\n",
    "print(False or False)"
   ]
  },
  {
   "cell_type": "markdown",
   "metadata": {
    "slideshow": {
     "slide_type": "fragment"
    }
   },
   "source": [
    "> As soon as an `or`expression finds True, the whole expression is True."
   ]
  },
  {
   "cell_type": "markdown",
   "metadata": {
    "slideshow": {
     "slide_type": "slide"
    }
   },
   "source": [
    "`or` is a short circuit operator, so it only evaluates the second argument if the first one is false:"
   ]
  },
  {
   "cell_type": "code",
   "execution_count": 20,
   "metadata": {
    "slideshow": {
     "slide_type": "fragment"
    }
   },
   "outputs": [
    {
     "name": "stdout",
     "output_type": "stream",
     "text": [
      "1\n",
      "1\n",
      "True\n"
     ]
    }
   ],
   "source": [
    "print(0 or 1) # bool(0) is False so the interpreter will continue with bool(1)\n",
    "print(1 or 2) # bool(1) is True so the interpreter will stop\n",
    "print(False or False or False or False or True or False or False) # Python will stop after the first True. No need to continue."
   ]
  },
  {
   "cell_type": "markdown",
   "metadata": {
    "slideshow": {
     "slide_type": "slide"
    }
   },
   "source": [
    "`and` is also short circuit operator, so it only evaluates the second argument if the first one is true."
   ]
  },
  {
   "cell_type": "code",
   "execution_count": 22,
   "metadata": {
    "slideshow": {
     "slide_type": "fragment"
    }
   },
   "outputs": [
    {
     "name": "stdout",
     "output_type": "stream",
     "text": [
      "0\n",
      "2\n",
      "False\n"
     ]
    }
   ],
   "source": [
    "print(0 and 1) # bool(0) is False so the interpreter will stop\n",
    "print(1 and 2) # bool(1) is True so the interpreter will continue\n",
    "print(True and True and True and True and True and False and True and True) # Python will stop after the first False. No need to continue."
   ]
  },
  {
   "cell_type": "markdown",
<<<<<<< HEAD:presentations/les05/les05.ipynb
   "id": "148cbe4e",
=======
>>>>>>> bc65c7289e7dd7f25fcedeadca0d7fda62b03890:presentations/les05/les 5.ipynb
   "metadata": {
    "slideshow": {
     "slide_type": "slide"
    }
   },
   "source": [
    "We can clarify this a bit more by defining two functions. One will return True and the other will return False. They also print a unique message in order to identify them:"
   ]
  },
  {
   "cell_type": "code",
<<<<<<< HEAD:presentations/les05/les05.ipynb
   "execution_count": 11,
   "id": "70cfcbe3",
=======
   "execution_count": 23,
   "metadata": {
    "slideshow": {
     "slide_type": "fragment"
    }
   },
   "outputs": [
    {
     "data": {
      "text/plain": [
       "True"
      ]
     },
     "execution_count": 23,
     "metadata": {},
     "output_type": "execute_result"
    }
   ],
   "source": [
    "1 and not (\"Yes\" == \"Yes\" or False) and not [] or 5 != 6"
   ]
  },
  {
   "cell_type": "markdown",
   "metadata": {
    "slideshow": {
     "slide_type": "slide"
    }
   },
   "source": [
    "How to solve (without computer)?  \n",
    "First solve any equality checks:  "
   ]
  },
  {
   "cell_type": "code",
   "execution_count": null,
>>>>>>> bc65c7289e7dd7f25fcedeadca0d7fda62b03890:presentations/les05/les 5.ipynb
   "metadata": {
    "slideshow": {
     "slide_type": "fragment"
    }
   },
   "outputs": [],
   "source": [
    "def f_true():\n",
    "    print(\"f1_true\")\n",
    "    return True\n",
    "    \n",
    "\n",
    "def f_false():\n",
    "    print(\"f_false\")\n",
    "    return False"
   ]
  },
  {
   "cell_type": "markdown",
<<<<<<< HEAD:presentations/les05/les05.ipynb
   "id": "3987ccaf",
=======
>>>>>>> bc65c7289e7dd7f25fcedeadca0d7fda62b03890:presentations/les05/les 5.ipynb
   "metadata": {
    "slideshow": {
     "slide_type": "slide"
    }
   },
   "source": [
    "Now if we call them in a mixed `or` and `and` expression, you will see the short-circuit evaluation of Python in action:  "
   ]
  },
  {
   "cell_type": "code",
<<<<<<< HEAD:presentations/les05/les05.ipynb
   "execution_count": 41,
   "id": "204791c6",
=======
   "execution_count": 24,
>>>>>>> bc65c7289e7dd7f25fcedeadca0d7fda62b03890:presentations/les05/les 5.ipynb
   "metadata": {
    "slideshow": {
     "slide_type": "fragment"
    }
   },
   "outputs": [
    {
<<<<<<< HEAD:presentations/les05/les05.ipynb
     "name": "stdout",
     "output_type": "stream",
     "text": [
      "f1_true\n",
      "f_false\n",
      "f1_true\n"
     ]
    },
=======
     "data": {
      "text/plain": [
       "True"
      ]
     },
     "execution_count": 24,
     "metadata": {},
     "output_type": "execute_result"
    }
   ],
   "source": [
    "1 and not (True) and not [] or True"
   ]
  },
  {
   "cell_type": "markdown",
   "metadata": {
    "slideshow": {
     "slide_type": "slide"
    }
   },
   "source": [
    "Find each not and invert it:"
   ]
  },
  {
   "cell_type": "code",
   "execution_count": null,
   "metadata": {
    "slideshow": {
     "slide_type": "fragment"
    }
   },
   "outputs": [],
   "source": [
    "1 and False and True or True"
   ]
  },
  {
   "cell_type": "markdown",
   "metadata": {
    "slideshow": {
     "slide_type": "slide"
    }
   },
   "source": [
    "Find any remaining and/or and solve them:"
   ]
  },
  {
   "cell_type": "code",
   "execution_count": 25,
   "metadata": {
    "slideshow": {
     "slide_type": "fragment"
    }
   },
   "outputs": [
>>>>>>> bc65c7289e7dd7f25fcedeadca0d7fda62b03890:presentations/les05/les 5.ipynb
    {
     "data": {
      "text/plain": [
       "True"
      ]
     },
     "execution_count": 41,
     "metadata": {},
     "output_type": "execute_result"
    }
   ],
   "source": [
    "f_true() and f_false() or f_true() or f_true() and false() # stops after first True in an or expression"
   ]
  },
  {
<<<<<<< HEAD:presentations/les05/les05.ipynb
   "cell_type": "markdown",
   "id": "8d5ae9be",
=======
   "cell_type": "code",
   "execution_count": null,
>>>>>>> bc65c7289e7dd7f25fcedeadca0d7fda62b03890:presentations/les05/les 5.ipynb
   "metadata": {
    "slideshow": {
     "slide_type": "slide"
    }
   },
<<<<<<< HEAD:presentations/les05/les05.ipynb
=======
   "outputs": [],
   "source": [
    "This expression will stop at the second True:"
   ]
  },
  {
   "cell_type": "code",
   "execution_count": null,
   "metadata": {
    "slideshow": {
     "slide_type": "fragment"
    }
   },
   "outputs": [],
>>>>>>> bc65c7289e7dd7f25fcedeadca0d7fda62b03890:presentations/les05/les 5.ipynb
   "source": [
    "To recap this lesson:  \n",
    "- There are only two possible Booleans: True and False  \n",
    "- Python will evaluate objects in a Boolean context and determine it to be either “truthy” or “falsy”  \n",
    "- There are 3 operations: not, and or\n",
    "- They have a priority order. `not` goes first, then `and` followed by `or`\n",
    "- Python uses a methodology called short-circuit evaluation\n",
    "- As soon as an `and` expression finds False, the whole expression is False\n",
    "- As soon as an `or` expression finds True, the whole expression is True"
   ]
  },
  {
   "cell_type": "markdown",
   "metadata": {
    "slideshow": {
     "slide_type": "slide"
    }
   },
   "source": [
    "The end..."
   ]
  }
 ],
 "metadata": {
  "celltoolbar": "Slideshow",
  "kernelspec": {
   "display_name": "Python 3",
   "language": "python",
   "name": "python3"
  },
  "language_info": {
   "codemirror_mode": {
    "name": "ipython",
    "version": 3
   },
   "file_extension": ".py",
   "mimetype": "text/x-python",
   "name": "python",
   "nbconvert_exporter": "python",
   "pygments_lexer": "ipython3",
<<<<<<< HEAD:presentations/les05/les05.ipynb
   "version": "3.8.8"
=======
   "version": "3.8.3"
>>>>>>> bc65c7289e7dd7f25fcedeadca0d7fda62b03890:presentations/les05/les 5.ipynb
  }
 },
 "nbformat": 4,
 "nbformat_minor": 5
}
