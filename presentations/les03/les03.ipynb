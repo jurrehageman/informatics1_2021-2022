{
 "cells": [
  {
   "cell_type": "markdown",
   "metadata": {
    "slideshow": {
     "slide_type": "slide"
    }
   },
   "source": [
    "# Lesson 3\n",
    "\n",
    "Jurre Hageman"
   ]
  },
  {
   "cell_type": "markdown",
   "metadata": {
    "slideshow": {
     "slide_type": "slide"
    }
   },
   "source": [
    "## Other data types"
   ]
  },
  {
   "cell_type": "markdown",
   "metadata": {
    "slideshow": {
     "slide_type": "slide"
    }
   },
   "source": [
    "First we will cover some other datatypes that are not collections.  \n",
    "These include:\n",
    "- None\n",
    "- Booleans"
   ]
  },
  {
   "cell_type": "markdown",
   "metadata": {
    "slideshow": {
     "slide_type": "slide"
    }
   },
   "source": [
    "## None"
   ]
  },
  {
   "cell_type": "markdown",
   "metadata": {
    "slideshow": {
     "slide_type": "slide"
    }
   },
   "source": [
    "The `None` keyword is used to define... nothing, a null value, no value. It is used as a kind of flag for nothing. It is definitely **not** the same as 0, an empty string, an empty list, etc. \n",
    "\n",
    "Imagine asking someone how many people have signed up for an event by putting their name on a list. 0 would mean that no people have signed up. It means that you *do* know something: you know that there are no people on the list.\n",
    "`None`, on the other hand, means that there is no value. No one counted the people on the list, or maybe the list got lost and nobody can even count them. It, in a way, indicates the absence of information."
   ]
  },
  {
   "cell_type": "markdown",
   "metadata": {
    "slideshow": {
     "slide_type": "slide"
    }
   },
   "source": [
    "So why is `None` useful? Imagine you are analyzing data from a digital weather station device. You are recording the temperature in degrees Celsius. The device did not boot yet. Now how do you store the temperature? There are multiple options you might think would work:\n",
    "- 0 might seem as the easiest solution, but has an obvious problem: the device could also measure a temperature of 0. It is not possible after saving the values whether a 0 was saved because it was relatively cold that day, or because the sensor did not work.\n",
    "- A very large number is not much better. Yes, you should never measure 9999 degrees celcius, but computers don't know. You always have to perform extra checks yourself, which always results in extra confusion and (unnoticed) errors.\n",
    "- An empty string could never be misstaken for a number, but also this has problems. A string (as we've already seen) does not (usually) behave like an integer, which could lead to weird errors which are hard to interpret.\n",
    "\n",
    "You can see that `None` comes in very handy here. It is clear that there is no temperature received yet."
   ]
  },
  {
   "cell_type": "code",
   "execution_count": 1,
   "metadata": {
    "slideshow": {
     "slide_type": "slide"
    }
   },
   "outputs": [
    {
     "name": "stdout",
     "output_type": "stream",
     "text": [
      "None\n",
      "20.4\n"
     ]
    }
   ],
   "source": [
    "temp = None\n",
    "print(temp)\n",
    "temp = 20.4\n",
    "print(temp)"
   ]
  },
  {
   "cell_type": "markdown",
   "metadata": {
    "slideshow": {
     "slide_type": "slide"
    }
   },
   "source": [
    "## Boolean"
   ]
  },
  {
   "cell_type": "markdown",
   "metadata": {
    "slideshow": {
     "slide_type": "slide"
    }
   },
   "source": [
    "Booleans are used very often in programming.  \n",
    "There are two types:  \n",
    "    - `True`\n",
    "    - `False`\n",
    "Any expression in Python will return True or False.  \n",
    "Some examples:"
   ]
  },
  {
   "cell_type": "code",
   "execution_count": 2,
   "metadata": {
    "slideshow": {
     "slide_type": "fragment"
    }
   },
   "outputs": [
    {
     "name": "stdout",
     "output_type": "stream",
     "text": [
      "False\n",
      "True\n"
     ]
    }
   ],
   "source": [
    "x = 4\n",
    "y = 5\n",
    "print(x > y)\n",
    "print(x < y)"
   ]
  },
  {
   "cell_type": "markdown",
   "metadata": {
    "slideshow": {
     "slide_type": "slide"
    }
   },
   "source": [
    "`True` has the same value as 1 in Python while `False` has the same value as 0:"
   ]
  },
  {
   "cell_type": "code",
   "execution_count": 3,
   "metadata": {
    "slideshow": {
     "slide_type": "fragment"
    }
   },
   "outputs": [
    {
     "name": "stdout",
     "output_type": "stream",
     "text": [
      "True\n",
      "True\n",
      "False\n",
      "False\n",
      "False\n"
     ]
    }
   ],
   "source": [
    "print(True == 1) # == evaluates for equal\n",
    "print(False == 0)\n",
    "print(True == 2)\n",
    "print(True == 0)\n",
    "print(False == 1)"
   ]
  },
  {
   "cell_type": "markdown",
   "metadata": {
    "slideshow": {
     "slide_type": "slide"
    }
   },
   "source": [
    "There is a bit more to know about booleans. It is important to understand how data collections are evaluated using the `bool` function. More on that at a later lesson. "
   ]
  },
  {
   "cell_type": "markdown",
   "metadata": {
    "slideshow": {
     "slide_type": "slide"
    }
   },
   "source": [
    "## Collections: strings"
   ]
  },
  {
   "cell_type": "markdown",
   "metadata": {
    "slideshow": {
     "slide_type": "slide"
    }
   },
   "source": [
    "We already covered some basics about strings. Strings are collections of Unicode characters. They are iterables.\n",
    "An example:"
   ]
  },
  {
   "cell_type": "code",
   "execution_count": 4,
   "metadata": {
    "slideshow": {
     "slide_type": "fragment"
    }
   },
   "outputs": [],
   "source": [
    "dna = \"GAATCTGG\""
   ]
  },
  {
   "cell_type": "markdown",
   "metadata": {
    "slideshow": {
     "slide_type": "slide"
    }
   },
   "source": [
    "## String indexing"
   ]
  },
  {
   "cell_type": "markdown",
   "metadata": {
    "slideshow": {
     "slide_type": "slide"
    }
   },
   "source": [
    "- String positions can be specified using an index\n",
    "- When working form the start, indexes start at 0\n",
    "- When working from the end, indexes start at -1\n",
    "![indexing](figs/fig1.png)"
   ]
  },
  {
   "cell_type": "code",
   "execution_count": 5,
   "metadata": {
    "slideshow": {
     "slide_type": "slide"
    }
   },
   "outputs": [
    {
     "name": "stdout",
     "output_type": "stream",
     "text": [
      "G\n",
      "T\n",
      "C\n"
     ]
    }
   ],
   "source": [
    "dna = \"GATC\"\n",
    "print(dna[0])\n",
    "print(dna[2])\n",
    "print(dna[-1])"
   ]
  },
  {
   "cell_type": "markdown",
   "metadata": {
    "slideshow": {
     "slide_type": "slide"
    }
   },
   "source": [
    "What happens if you try to index a position that does not exist?  \n",
    "Try it!"
   ]
  },
  {
   "cell_type": "code",
   "execution_count": 6,
   "metadata": {
    "slideshow": {
     "slide_type": "fragment"
    }
   },
   "outputs": [],
   "source": [
    "#print(dna[4])"
   ]
  },
  {
   "cell_type": "markdown",
   "metadata": {
    "slideshow": {
     "slide_type": "slide"
    }
   },
   "source": [
    "## Manipulating strings"
   ]
  },
  {
   "cell_type": "markdown",
   "metadata": {
    "slideshow": {
     "slide_type": "slide"
    }
   },
   "source": [
    "> Important: in Python, strings are immutable. That means that after manipulating a string, you will get a new string object. You can not change a string in place. This will result in a TypeError."
   ]
  },
  {
   "cell_type": "code",
   "execution_count": 7,
   "metadata": {
    "slideshow": {
     "slide_type": "fragment"
    }
   },
   "outputs": [],
   "source": [
    "dna = \"GATC\"\n",
    "#dna[0] = \"A\" # Results in an TypeError"
   ]
  },
  {
   "cell_type": "markdown",
   "metadata": {
    "slideshow": {
     "slide_type": "slide"
    }
   },
   "source": [
    "In order to change a string, you will need to make a new string and overwrite the variable:"
   ]
  },
  {
   "cell_type": "code",
   "execution_count": 8,
   "metadata": {
    "slideshow": {
     "slide_type": "fragment"
    }
   },
   "outputs": [
    {
     "name": "stdout",
     "output_type": "stream",
     "text": [
      "GATC\n",
      "AATC\n"
     ]
    }
   ],
   "source": [
    "dna = \"GATC\"\n",
    "print(dna)\n",
    "dna = \"AATC\"\n",
    "print(dna)"
   ]
  },
  {
   "cell_type": "markdown",
   "metadata": {
    "slideshow": {
     "slide_type": "slide"
    }
   },
   "source": [
    "Nevertheless, you can do some operations on strings. But remember that Python will always return a new string as strings are immutable. "
   ]
  },
  {
   "cell_type": "code",
   "execution_count": 9,
   "metadata": {
    "slideshow": {
     "slide_type": "fragment"
    }
   },
   "outputs": [
    {
     "name": "stdout",
     "output_type": "stream",
     "text": [
      "AATC\n",
      "AATCAATC\n",
      "AATCAATCAATCAATCAATCAATCAATCAATCAATCAATC\n"
     ]
    }
   ],
   "source": [
    "print(dna)\n",
    "print(dna + dna)\n",
    "print(dna * 10)"
   ]
  },
  {
   "cell_type": "markdown",
   "metadata": {
    "slideshow": {
     "slide_type": "slide"
    }
   },
   "source": [
    "### String slicing"
   ]
  },
  {
   "cell_type": "markdown",
   "metadata": {
    "slideshow": {
     "slide_type": "slide"
    }
   },
   "source": [
    "You can use slicing to create a substring.\n",
    "- seq[x:y:z] will return a slice starting at, and including, index x (or 0 if omitted) to, but excluding, index y (or the end if omitted), and only taking the character at each step z\n",
    "- A slice will always return the same data type. This is different from indexing. Although indexing strings will always return a string, indexing lists (see below) will not per definition return a list.\n",
    "Some examples:"
   ]
  },
  {
   "cell_type": "code",
   "execution_count": 10,
   "metadata": {
    "slideshow": {
     "slide_type": "slide"
    }
   },
   "outputs": [
    {
     "name": "stdout",
     "output_type": "stream",
     "text": [
      "ATC\n",
      "GAT\n",
      "GT\n",
      "CTAG\n"
     ]
    }
   ],
   "source": [
    "seq = \"GATC\"\n",
    "print(seq[1:]) # from pos 1 to end (and including end)\n",
    "print(seq[:3]) # from pos 0 to 3 (not including 3)\n",
    "print(seq[::2]) # start to end (including end) with step 2\n",
    "print(seq[::-1]) # reverse a string"
   ]
  },
  {
   "cell_type": "markdown",
   "metadata": {
    "slideshow": {
     "slide_type": "slide"
    }
   },
   "source": [
    "## The `len` function"
   ]
  },
  {
   "cell_type": "markdown",
   "metadata": {
    "slideshow": {
     "slide_type": "slide"
    }
   },
   "source": [
    "The `len` function works on all collections. It returns the number of items in the collection."
   ]
  },
  {
   "cell_type": "code",
   "execution_count": 11,
   "metadata": {
    "slideshow": {
     "slide_type": "fragment"
    }
   },
   "outputs": [
    {
     "name": "stdout",
     "output_type": "stream",
     "text": [
      "4\n"
     ]
    }
   ],
   "source": [
    "seq = \"GATC\"\n",
    "print(len(seq))"
   ]
  },
  {
   "cell_type": "markdown",
   "metadata": {
    "slideshow": {
     "slide_type": "slide"
    }
   },
   "source": [
    "## Lists"
   ]
  },
  {
   "cell_type": "markdown",
   "metadata": {
    "slideshow": {
     "slide_type": "slide"
    }
   },
   "source": [
    "- Lists are … lists (of objects)\n",
    "- They are also frequently called arrays (in other languages)\n",
    "- They contain ordered series of objects: characters, strings, numbers, or any other Python object\n",
    "- They are quite similar to strings in many ways but with one important exception: they are mutable\n",
    "- Lists are created using square brackets, with elements separated by commas\n",
    "- You can also use indexing and slicing on lists. "
   ]
  },
  {
   "cell_type": "code",
   "execution_count": 12,
   "metadata": {
    "slideshow": {
     "slide_type": "slide"
    }
   },
   "outputs": [
    {
     "name": "stdout",
     "output_type": "stream",
     "text": [
      "agg\n",
      "['agg', 'ttt']\n",
      "['agg']\n"
     ]
    }
   ],
   "source": [
    "my_empty_list = []\n",
    "sequences = ['atc', 'agg', 'ttt']\n",
    "print(sequences[1])\n",
    "print(sequences[1:]) # slicing\n",
    "print(sequences[1:2]) # slicing. "
   ]
  },
  {
   "cell_type": "markdown",
   "metadata": {
    "slideshow": {
     "slide_type": "slide"
    }
   },
   "source": [
    "> Note that a slice always returns the same data type. Slicing:  \n",
    "> - Slicing (`print(sequences[1:2])`) will return a list with a single element. \n",
    "> - Indexing (`sequences[1]`) will return the list object (a string in this case)."
   ]
  },
  {
   "cell_type": "markdown",
   "metadata": {
    "slideshow": {
     "slide_type": "slide"
    }
   },
   "source": [
    "## List manipulations"
   ]
  },
  {
   "cell_type": "markdown",
   "metadata": {
    "slideshow": {
     "slide_type": "slide"
    }
   },
   "source": [
    "You can append to an existing list:"
   ]
  },
  {
   "cell_type": "code",
   "execution_count": 13,
   "metadata": {
    "slideshow": {
     "slide_type": "fragment"
    }
   },
   "outputs": [
    {
     "name": "stdout",
     "output_type": "stream",
     "text": [
      "['atc', 'agg', 'ttt']\n",
      "['atc', 'agg', 'ttt', 'ggg']\n"
     ]
    }
   ],
   "source": [
    "sequences = ['atc', 'agg', 'ttt']\n",
    "print(sequences)\n",
    "sequences.append(\"ggg\")\n",
    "print(sequences)"
   ]
  },
  {
   "cell_type": "markdown",
   "metadata": {
    "slideshow": {
     "slide_type": "slide"
    }
   },
   "source": [
    "Or concatenate an excisting list with another list:"
   ]
  },
  {
   "cell_type": "code",
   "execution_count": 14,
   "metadata": {
    "slideshow": {
     "slide_type": "fragment"
    }
   },
   "outputs": [
    {
     "name": "stdout",
     "output_type": "stream",
     "text": [
      "['atc', 'agg', 'ttt', 'ccc', 'ggg']\n"
     ]
    }
   ],
   "source": [
    "sequences = ['atc', 'agg', 'ttt']\n",
    "more_sequences = ['ccc', 'ggg']\n",
    "total_sequences = sequences + more_sequences\n",
    "print(total_sequences)"
   ]
  },
  {
   "cell_type": "markdown",
   "metadata": {
    "slideshow": {
     "slide_type": "slide"
    }
   },
   "source": [
    "Change the content:"
   ]
  },
  {
   "cell_type": "code",
   "execution_count": 15,
   "metadata": {
    "slideshow": {
     "slide_type": "slide"
    }
   },
   "outputs": [
    {
     "name": "stdout",
     "output_type": "stream",
     "text": [
      "['atc', 'agg', 'ttt', 'ccc', 'ggg']\n",
      "['aaa', 'atc', 'agg', 'ttt', 'ccc', 'ggg']\n",
      "['aaa', 'ata', 'agg', 'ttt', 'ccc', 'ggg']\n",
      "['aaa', 'ata', 'agg', 'ttt', 'ggg']\n",
      "['aaa', 'agg', 'ttt', 'ggg']\n"
     ]
    }
   ],
   "source": [
    "total_sequences = ['atc', 'agg', 'ttt', 'ccc', 'ggg']\n",
    "print(total_sequences)\n",
    "total_sequences = [\"aaa\"] + total_sequences # use concatenation to prepend\n",
    "print(total_sequences)\n",
    "total_sequences[1] = 'ata' # replace item\n",
    "print(total_sequences)\n",
    "total_sequences.remove('ccc') # remove by value (first occurance)\n",
    "print(total_sequences)\n",
    "del total_sequences[1] # remove by index\n",
    "print(total_sequences)"
   ]
  },
  {
   "cell_type": "markdown",
   "metadata": {
    "slideshow": {
     "slide_type": "slide"
    }
   },
   "source": [
    "You can also delete or insert multiple items:"
   ]
  },
  {
   "cell_type": "code",
   "execution_count": 16,
   "metadata": {
    "slideshow": {
     "slide_type": "fragment"
    }
   },
   "outputs": [
    {
     "name": "stdout",
     "output_type": "stream",
     "text": [
      "['atc', 'ccc', 'ggg', 'atg']\n",
      "['atc', 'aaa', 'ttt', 'atg']\n",
      "['atc', 'atg']\n"
     ]
    }
   ],
   "source": [
    "my_list = [\"atc\", \"atg\"]\n",
    "my_list[1:1] = [\"ccc\", \"ggg\"] # insert multiple items at index\n",
    "print(my_list)\n",
    "my_list[1:3] = [\"aaa\", \"ttt\"] # change multiple items\n",
    "print(my_list)\n",
    "my_list[1:3] = [] # delete multiple items\n",
    "print(my_list)"
   ]
  },
  {
   "cell_type": "markdown",
   "metadata": {
    "slideshow": {
     "slide_type": "slide"
    }
   },
   "source": [
    "Making a copy of a list often leads to confusion among new Python programmers.  \n",
    "The following code will **not** copy items from a list:"
   ]
  },
  {
   "cell_type": "code",
   "execution_count": 17,
   "metadata": {
    "slideshow": {
     "slide_type": "fragment"
    }
   },
   "outputs": [
    {
     "name": "stdout",
     "output_type": "stream",
     "text": [
      "[1, 2, 3]\n",
      "[1, 2, 3]\n",
      "[1, 2, 3, 4]\n",
      "[1, 2, 3, 4]\n"
     ]
    }
   ],
   "source": [
    "list1 = [1, 2, 3]\n",
    "list2 = list1 # not a copy. list1 and list2 now point to the same object in memory\n",
    "print(list1)\n",
    "print(list2)\n",
    "list2.append(4) # add 4 to the end\n",
    "print(list2)\n",
    "print(list1) # list1 points to the same object"
   ]
  },
  {
   "cell_type": "markdown",
   "metadata": {
    "slideshow": {
     "slide_type": "slide"
    }
   },
   "source": [
    "If you want to copy items from a list you can use a slice:"
   ]
  },
  {
   "cell_type": "code",
   "execution_count": 18,
   "metadata": {
    "slideshow": {
     "slide_type": "fragment"
    }
   },
   "outputs": [
    {
     "name": "stdout",
     "output_type": "stream",
     "text": [
      "[1, 2, 3]\n",
      "[1, 2, 3]\n",
      "[1, 2, 3, 4]\n",
      "[1, 2, 3]\n"
     ]
    }
   ],
   "source": [
    "list1 = [1, 2, 3]\n",
    "list2 = list1[:] # slices all items from list1 to a new list object\n",
    "print(list1)\n",
    "print(list2)\n",
    "list2.append(4) # add 4 to the end\n",
    "print(list2)\n",
    "print(list1) "
   ]
  },
  {
   "cell_type": "markdown",
   "metadata": {
    "slideshow": {
     "slide_type": "slide"
    }
   },
   "source": [
    "Or you can use the `list.copy` method:"
   ]
  },
  {
   "cell_type": "code",
   "execution_count": 19,
   "metadata": {
    "slideshow": {
     "slide_type": "fragment"
    }
   },
   "outputs": [
    {
     "name": "stdout",
     "output_type": "stream",
     "text": [
      "[1, 2, 3]\n",
      "[1, 2, 3]\n",
      "[1, 2, 3, 4]\n",
      "[1, 2, 3]\n"
     ]
    }
   ],
   "source": [
    "list1 = [1, 2, 3]\n",
    "list2 = list1.copy()\n",
    "print(list1)\n",
    "print(list2)\n",
    "list2.append(4) # add 4 to the end\n",
    "print(list2)\n",
    "print(list1) "
   ]
  },
  {
   "cell_type": "markdown",
   "metadata": {
    "slideshow": {
     "slide_type": "slide"
    }
   },
   "source": [
    "> The `list.copy` method will make a shallow copy. We will not cover deep copy of lists in this course but there are libraries for doing this (the deepcopy function in the copy module)."
   ]
  },
  {
   "cell_type": "markdown",
   "metadata": {
    "slideshow": {
     "slide_type": "slide"
    }
   },
   "source": [
    "## Some useful functions:\n",
    "\n",
    "Like the `len` function, `min`, `max` and `sum` work on all collections. They are very useful for lists: "
   ]
  },
  {
   "cell_type": "code",
   "execution_count": 20,
   "metadata": {
    "slideshow": {
     "slide_type": "fragment"
    }
   },
   "outputs": [
    {
     "name": "stdout",
     "output_type": "stream",
     "text": [
      "4\n",
      "2\n",
      "9\n",
      "9\n"
     ]
    }
   ],
   "source": [
    "x = [2, 4, 7, 9]\n",
    "print(len(x))\n",
    "print(min(x))\n",
    "print(max(x))\n",
    "print(max(x))"
   ]
  },
  {
   "cell_type": "markdown",
   "metadata": {
    "slideshow": {
     "slide_type": "slide"
    }
   },
   "source": [
    "Unlike other languages, there is no type coersion in Python. Therefore, the `sum` function will raise an error if a list contains integers and strings:"
   ]
  },
  {
   "cell_type": "code",
   "execution_count": 21,
   "metadata": {
    "slideshow": {
     "slide_type": "fragment"
    }
   },
   "outputs": [],
   "source": [
    "x = [2, \"a\", 7, 9]\n",
    "#print(sum(x)) #will result in a TypeError"
   ]
  },
  {
   "cell_type": "markdown",
   "metadata": {
    "slideshow": {
     "slide_type": "slide"
    }
   },
   "source": [
    "While the former functions work on every collection, there are also some useful list methods. You can get an overview using `dir(list)`. We will cover some of them (`count` and `index`):"
   ]
  },
  {
   "cell_type": "code",
   "execution_count": 22,
   "metadata": {
    "slideshow": {
     "slide_type": "slide"
    }
   },
   "outputs": [
    {
     "name": "stdout",
     "output_type": "stream",
     "text": [
      "3\n",
      "1\n"
     ]
    }
   ],
   "source": [
    "my_list = [1, 4, 2, 3, 3, 4, 4]\n",
    "print(my_list.count(4))\n",
    "print(my_list.index(4)) # index of first occurance"
   ]
  },
  {
   "cell_type": "markdown",
   "metadata": {
    "slideshow": {
     "slide_type": "slide"
    }
   },
   "source": [
    "## Nested lists"
   ]
  },
  {
   "cell_type": "markdown",
   "metadata": {
    "slideshow": {
     "slide_type": "slide"
    }
   },
   "source": [
    "You can also create lists within lists: nested lists or matrices (also called multi-dimensional lists)"
   ]
  },
  {
   "cell_type": "code",
   "execution_count": 1,
   "metadata": {
    "slideshow": {
     "slide_type": "fragment"
    }
   },
   "outputs": [
    {
     "name": "stdout",
     "output_type": "stream",
     "text": [
      "[[1, 2, 3], [4, 5, 6], [7, 8, 9]]\n"
     ]
    }
   ],
   "source": [
    "my_table = [[1, 2, 3], [4, 5, 6], [7, 8, 9]]\n",
    "\n",
    "# to show that it can represent a table:\n",
    "\n",
    "my_table = [[1, 2, 3], \n",
    "            [4, 5, 6], \n",
    "            [7, 8, 9]]\n",
    "\n",
    "print(my_table)"
   ]
  },
  {
   "cell_type": "markdown",
   "metadata": {
    "slideshow": {
     "slide_type": "slide"
    }
   },
   "source": [
    "Some examples to index:"
   ]
  },
  {
   "cell_type": "code",
   "execution_count": 5,
   "metadata": {
    "slideshow": {
     "slide_type": "fragment"
    }
   },
   "outputs": [
    {
     "name": "stdout",
     "output_type": "stream",
     "text": [
      "[1, 2, 3]\n",
      "[4, 5, 6]\n",
      "4\n"
     ]
    }
   ],
   "source": [
    "print(my_table[0]) # first row\n",
    "print(my_table[1]) # second row\n",
    "print(my_table[1][0]) # first element of the second row"
   ]
  },
  {
   "cell_type": "markdown",
   "metadata": {
    "slideshow": {
     "slide_type": "slide"
    }
   },
   "source": [
    "## Tuples"
   ]
  },
  {
   "cell_type": "markdown",
   "metadata": {
    "slideshow": {
     "slide_type": "slide"
    }
   },
   "source": [
    "`Tuples` are like lists but they are immutable. Hence, they contain less methods compared to lists (like update, remove etc.). Tuples are created using `()` instead of `[]`.  \n",
    "An example:"
   ]
  },
  {
   "cell_type": "code",
   "execution_count": 23,
   "metadata": {
    "slideshow": {
     "slide_type": "fragment"
    }
   },
   "outputs": [],
   "source": [
    "base = (\"A\", \"T\", \"C\", \"G\")"
   ]
  },
  {
   "cell_type": "markdown",
   "metadata": {
    "slideshow": {
     "slide_type": "slide"
    }
   },
   "source": [
    "If you want a one element tuple you need a comma:"
   ]
  },
  {
   "cell_type": "code",
   "execution_count": 24,
   "metadata": {
    "slideshow": {
     "slide_type": "fragment"
    }
   },
   "outputs": [
    {
     "name": "stdout",
     "output_type": "stream",
     "text": [
      "<class 'str'>\n",
      "<class 'tuple'>\n"
     ]
    }
   ],
   "source": [
    "result1 = (\"Hello\")\n",
    "print(type(result1))\n",
    "result2 = (\"Hello\",)\n",
    "print(type(result2))"
   ]
  },
  {
   "cell_type": "markdown",
   "metadata": {
    "slideshow": {
     "slide_type": "slide"
    }
   },
   "source": [
    "Many people starting Python programming have a bit of trouble with understanding why tuples excist when lists can do the same and even more. It all has to do with the immutable nature of tuples. A few use cases:\n",
    "- Keeping data integrity. For example, there are only 20 different amino acids in humans, no more no less. Storing them in a tuple is a good idea. If you work with many people on a project, you will be sure that nobody will be able to change it. If you write data to a database, it is also a good idea to wrap the data in a tuple to ensure data integrity. \n",
    "- Tuples can be used as keys in dictionaries (see below for information). Lists can not be used as keys due to their mutable nature.\n"
   ]
  },
  {
   "cell_type": "markdown",
   "metadata": {
    "slideshow": {
     "slide_type": "slide"
    }
   },
   "source": [
    "## Dictionaries"
   ]
  },
  {
   "cell_type": "markdown",
   "metadata": {
    "slideshow": {
     "slide_type": "slide"
    }
   },
   "source": [
    "Dictionaries are an importent collection in Python. Each item consists of a key, value pair. Thus, there is a coupling between the key-value pairs. Each key must be unique. An example (for bio-informaticians):"
   ]
  },
  {
   "cell_type": "code",
   "execution_count": 25,
   "metadata": {
    "slideshow": {
     "slide_type": "slide"
    }
   },
   "outputs": [
    {
     "name": "stdout",
     "output_type": "stream",
     "text": [
      "{'a': 'adenine', 't': 'thymine', 'c': 'cytosine', 'g': 'guanine'}\n"
     ]
    }
   ],
   "source": [
    "bases = {'a': 'adenine', 't': 'thymine', 'c': 'cytosine','g': 'guanine'} #compact notation\n",
    "\n",
    "# also allowed:\n",
    "\n",
    "bases = {'a': 'adenine', \n",
    "         't': 'thymine', \n",
    "         'c': 'cytosine',\n",
    "         'g': 'guanine'}\n",
    "\n",
    "print(bases)"
   ]
  },
  {
   "cell_type": "markdown",
   "metadata": {
    "slideshow": {
     "slide_type": "slide"
    }
   },
   "source": [
    "You can get the value of a key using indexing:"
   ]
  },
  {
   "cell_type": "code",
   "execution_count": 26,
   "metadata": {
    "slideshow": {
     "slide_type": "fragment"
    }
   },
   "outputs": [
    {
     "name": "stdout",
     "output_type": "stream",
     "text": [
      "adenine\n"
     ]
    }
   ],
   "source": [
    "print(bases['a'])"
   ]
  },
  {
   "cell_type": "markdown",
   "metadata": {
    "slideshow": {
     "slide_type": "slide"
    }
   },
   "source": [
    "If you use a key that does not exist, you will get an error:"
   ]
  },
  {
   "cell_type": "code",
   "execution_count": 27,
   "metadata": {
    "slideshow": {
     "slide_type": "fragment"
    }
   },
   "outputs": [],
   "source": [
    "#print(bases['q']) # will result in a KeyError"
   ]
  },
  {
   "cell_type": "markdown",
   "metadata": {
    "slideshow": {
     "slide_type": "slide"
    }
   },
   "source": [
    "You can avoid this error using the `dict.get` method: "
   ]
  },
  {
   "cell_type": "code",
   "execution_count": 28,
   "metadata": {
    "slideshow": {
     "slide_type": "fragment"
    }
   },
   "outputs": [
    {
     "name": "stdout",
     "output_type": "stream",
     "text": [
      "adenine\n",
      "None\n"
     ]
    }
   ],
   "source": [
    "print(bases.get('a'))\n",
    "print(bases.get('q'))"
   ]
  },
  {
   "cell_type": "markdown",
   "metadata": {
    "slideshow": {
     "slide_type": "slide"
    }
   },
   "source": [
    "You can remove an item using the `del` keyword:"
   ]
  },
  {
   "cell_type": "code",
   "execution_count": 29,
   "metadata": {
    "slideshow": {
     "slide_type": "slide"
    }
   },
   "outputs": [
    {
     "name": "stdout",
     "output_type": "stream",
     "text": [
      "{'t': 'thymine', 'c': 'cytosine', 'g': 'guanine'}\n"
     ]
    }
   ],
   "source": [
    "del bases['a']\n",
    "print(bases)"
   ]
  },
  {
   "cell_type": "markdown",
   "metadata": {
    "slideshow": {
     "slide_type": "slide"
    }
   },
   "source": [
    "And you can add an item as follows:"
   ]
  },
  {
   "cell_type": "code",
   "execution_count": 30,
   "metadata": {
    "slideshow": {
     "slide_type": "fragment"
    }
   },
   "outputs": [
    {
     "name": "stdout",
     "output_type": "stream",
     "text": [
      "{'t': 'thymine', 'c': 'cytosine', 'g': 'guanine', 'a': 'adenine'}\n"
     ]
    }
   ],
   "source": [
    "bases['a'] = 'adenine'\n",
    "print(bases)"
   ]
  },
  {
   "cell_type": "markdown",
   "metadata": {
    "slideshow": {
     "slide_type": "slide"
    }
   },
   "source": [
    "If you want to add multiple items you can use the update method:"
   ]
  },
  {
   "cell_type": "code",
   "execution_count": 31,
   "metadata": {
    "slideshow": {
     "slide_type": "fragment"
    }
   },
   "outputs": [
    {
     "name": "stdout",
     "output_type": "stream",
     "text": [
      "{'a': 'adenine', 't': 'thymine'}\n",
      "{'a': 'adenine', 't': 'thymine', 'c': 'cytosine', 'g': 'guanine'}\n"
     ]
    }
   ],
   "source": [
    "bases = {'a': 'adenine', 't': 'thymine'}\n",
    "print(bases)\n",
    "bases.update({'c': 'cytosine', 'g': 'guanine'})\n",
    "print(bases)"
   ]
  },
  {
   "cell_type": "markdown",
   "metadata": {
    "slideshow": {
     "slide_type": "slide"
    }
   },
   "source": [
    "You might have wondered if you could work the other way around, retrieve a key from a value. The answer is no, not possible...\n",
    "You need to swap the keys and values:"
   ]
  },
  {
   "cell_type": "code",
   "execution_count": 32,
   "metadata": {
    "slideshow": {
     "slide_type": "fragment"
    }
   },
   "outputs": [
    {
     "name": "stdout",
     "output_type": "stream",
     "text": [
      "{'a': 'adenine', 't': 'thymine', 'c': 'cytosine', 'g': 'guanine'}\n",
      "{'adenine': 'a', 'thymine': 't', 'cytosine': 'c', 'guanine': 'g'}\n"
     ]
    }
   ],
   "source": [
    "print(bases)\n",
    "bases_switched = {} # create empty dict\n",
    "for i in bases:\n",
    "    new_key = bases[i]\n",
    "    new_value = i\n",
    "    bases_switched[new_key] = new_value\n",
    "print(bases_switched)"
   ]
  },
  {
   "cell_type": "markdown",
   "metadata": {
    "slideshow": {
     "slide_type": "slide"
    }
   },
   "source": [
    "There are shorter ways to accomplish this. You will learn that in informatics 2."
   ]
  },
  {
   "cell_type": "markdown",
   "metadata": {
    "slideshow": {
     "slide_type": "slide"
    }
   },
   "source": [
    "> Python dictionaries are ordered. You might still read that they are not ordered but this changed recently."
   ]
  },
  {
   "cell_type": "markdown",
   "metadata": {
    "slideshow": {
     "slide_type": "slide"
    }
   },
   "source": [
    "## Sets"
   ]
  },
  {
   "cell_type": "markdown",
   "metadata": {
    "slideshow": {
     "slide_type": "slide"
    }
   },
   "source": [
    "A set is like a dictionary without values. Thus, it is a set of unique keys. Sets are unordered. An example:"
   ]
  },
  {
   "cell_type": "code",
   "execution_count": 33,
   "metadata": {
    "slideshow": {
     "slide_type": "fragment"
    }
   },
   "outputs": [],
   "source": [
    "bases_dna = {\"a\", \"t\", \"c\", \"g\"}\n",
    "bases_rna = {\"a\", \"u\", \"c\", \"g\"}"
   ]
  },
  {
   "cell_type": "markdown",
   "metadata": {
    "slideshow": {
     "slide_type": "slide"
    }
   },
   "source": [
    "You can use set to check if all bases of DNA are present:"
   ]
  },
  {
   "cell_type": "code",
   "execution_count": 34,
   "metadata": {
    "slideshow": {
     "slide_type": "fragment"
    }
   },
   "outputs": [
    {
     "name": "stdout",
     "output_type": "stream",
     "text": [
      "{'a', 't', 'g'}\n"
     ]
    }
   ],
   "source": [
    "dna = \"atttgggaatg\"\n",
    "print(set(dna))"
   ]
  },
  {
   "cell_type": "markdown",
   "metadata": {
    "slideshow": {
     "slide_type": "slide"
    }
   },
   "source": [
    "You can use set methods to get the union, intersection and differences. Have a look at the Venn diagram that shows some possible logical relations between different sets (source: https://en.wikipedia.org/wiki/Venn_diagram):\n",
    "![Venn](./figs/fig2.png)"
   ]
  },
  {
   "cell_type": "code",
   "execution_count": 35,
   "metadata": {
    "slideshow": {
     "slide_type": "slide"
    }
   },
   "outputs": [
    {
     "name": "stdout",
     "output_type": "stream",
     "text": [
      "{'a', 'g', 'c'}\n",
      "{'u', 'g', 'a', 'c', 't'}\n",
      "{'t'}\n"
     ]
    }
   ],
   "source": [
    "print(bases_dna.intersection(bases_rna)) # returns the set of elements that are present in both sets\n",
    "print(bases_dna.union(bases_rna)) # returns the set of elements present in either set\n",
    "#dir(bases_dna)\n",
    "print(bases_dna.difference(bases_rna)) # returns the set of elements present in bases_dna, but not bases_rna\n",
    "print(bases_rna.difference(bases_dna)) # returns the set of elements present in bases_rna, but not bases_dna\n",
    "\n",
    "print(bases_dna.symmetric_difference(bases_rna)) # returns the set of elements present in either set, but not in both"
   ]
  },
  {
   "cell_type": "markdown",
   "metadata": {
    "slideshow": {
     "slide_type": "slide"
    }
   },
   "source": [
    "## Creating empty collections"
   ]
  },
  {
   "cell_type": "markdown",
   "metadata": {
    "slideshow": {
     "slide_type": "slide"
    }
   },
   "source": [
    "Often, you want to create an empty collection. For most collections, this can be achieved by either regular syntax or using the constructor function.  \n",
    "Some examples:"
   ]
  },
  {
   "cell_type": "code",
   "execution_count": 36,
   "metadata": {
    "slideshow": {
     "slide_type": "fragment"
    }
   },
   "outputs": [],
   "source": [
    "my_string1 = \"\" #regular syntax\n",
    "my_string2 = str() #constructor function\n",
    "my_list1 = [] #regular syntax\n",
    "my_list2 = list() #constructor function\n",
    "my_tuple1 = () #regular syntax\n",
    "my_tuple2 = tuple() #constructor function\n",
    "my_dict1 = {} #regular syntax\n",
    "my_dict2 = dict() #constructor function\n",
    "my_set = set() #constructor function"
   ]
  },
  {
   "cell_type": "markdown",
   "metadata": {
    "slideshow": {
     "slide_type": "slide"
    }
   },
   "source": [
    "> Note that an empty set can only be created using the constructor function. This is because the {} are already used to create an empty dictionary. For all other collections, you can use both but regular syntax is preferred over constructor by convention. "
   ]
  },
  {
   "cell_type": "markdown",
   "metadata": {
    "slideshow": {
     "slide_type": "slide"
    }
   },
   "source": [
    "## Python data structures conversions"
   ]
  },
  {
   "cell_type": "markdown",
   "metadata": {
    "slideshow": {
     "slide_type": "slide"
    }
   },
   "source": [
    "A lot of data structures can be converted. For example, an integer can be converted to a float, a list to a string, a dictionary to a set etc.   \n",
    "Some examples:"
   ]
  },
  {
   "cell_type": "code",
   "execution_count": 37,
   "metadata": {
    "slideshow": {
     "slide_type": "slide"
    }
   },
   "outputs": [
    {
     "name": "stdout",
     "output_type": "stream",
     "text": [
      "1\n",
      "1.0\n"
     ]
    }
   ],
   "source": [
    "x = 1\n",
    "print(x)\n",
    "print(float(x))"
   ]
  },
  {
   "cell_type": "code",
   "execution_count": 38,
   "metadata": {
    "slideshow": {
     "slide_type": "slide"
    }
   },
   "outputs": [
    {
     "name": "stdout",
     "output_type": "stream",
     "text": [
      "1\n",
      "1\n"
     ]
    }
   ],
   "source": [
    "x = 1\n",
    "print(x)\n",
    "print(str(x))"
   ]
  },
  {
   "cell_type": "code",
   "execution_count": 39,
   "metadata": {
    "slideshow": {
     "slide_type": "slide"
    }
   },
   "outputs": [
    {
     "name": "stdout",
     "output_type": "stream",
     "text": [
      "1\n",
      "True\n",
      "0\n",
      "False\n"
     ]
    }
   ],
   "source": [
    "x = 1\n",
    "print(x)\n",
    "print(bool(x)) \n",
    "y = 0\n",
    "print(y)\n",
    "print(bool(y)) #we will cover a whole lesson to this"
   ]
  },
  {
   "cell_type": "code",
   "execution_count": 40,
   "metadata": {
    "slideshow": {
     "slide_type": "slide"
    }
   },
   "outputs": [
    {
     "name": "stdout",
     "output_type": "stream",
     "text": [
      "['hello', 'world']\n",
      "hello world\n"
     ]
    }
   ],
   "source": [
    "x = [\"hello\", \"world\"]\n",
    "print(x)\n",
    "print(\" \".join(x)) #This might be a bit confusing at first glance. Converts a list in a string using the str.join method."
   ]
  },
  {
   "cell_type": "code",
   "execution_count": 41,
   "metadata": {
    "slideshow": {
     "slide_type": "slide"
    }
   },
   "outputs": [
    {
     "name": "stdout",
     "output_type": "stream",
     "text": [
      "[1, 2, 3]\n",
      "(1, 2, 3)\n"
     ]
    }
   ],
   "source": [
    "x = [1, 2, 3]\n",
    "print(x)\n",
    "print(tuple(x))"
   ]
  },
  {
   "cell_type": "code",
   "execution_count": 42,
   "metadata": {
    "slideshow": {
     "slide_type": "slide"
    }
   },
   "outputs": [
    {
     "name": "stdout",
     "output_type": "stream",
     "text": [
      "{'a': 't', 'c': 'g', 't': 'a', 'g': 'c'}\n",
      "{'a', 't', 'g', 'c'}\n"
     ]
    }
   ],
   "source": [
    "x = {'a': 't', 'c': 'g', 't': 'a', 'g': 'c'}\n",
    "print(x)\n",
    "print(set(x)) #remember that sets are unordered unlike dictionaries"
   ]
  },
  {
   "cell_type": "markdown",
   "metadata": {
    "slideshow": {
     "slide_type": "slide"
    }
   },
   "source": [
    "The end"
   ]
  }
 ],
 "metadata": {
  "celltoolbar": "Slideshow",
  "kernelspec": {
   "display_name": "Python 3",
   "language": "python",
   "name": "python3"
  },
  "language_info": {
   "codemirror_mode": {
    "name": "ipython",
    "version": 3
   },
   "file_extension": ".py",
   "mimetype": "text/x-python",
   "name": "python",
   "nbconvert_exporter": "python",
   "pygments_lexer": "ipython3",
   "version": "3.8.3"
  }
 },
 "nbformat": 4,
 "nbformat_minor": 5
}
