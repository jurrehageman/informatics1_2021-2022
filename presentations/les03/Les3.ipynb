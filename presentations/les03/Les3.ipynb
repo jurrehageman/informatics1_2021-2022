{
 "cells": [
  {
   "cell_type": "markdown",
   "id": "5cb0927c",
   "metadata": {
    "slideshow": {
     "slide_type": "slide"
    }
   },
   "source": [
    "# Lesson 3\n",
    "\n",
    "Jurre Hageman"
   ]
  },
  {
   "cell_type": "markdown",
   "id": "bbfa92dc",
   "metadata": {
    "slideshow": {
     "slide_type": "slide"
    }
   },
   "source": [
    "## Other data types"
   ]
  },
  {
   "cell_type": "markdown",
   "id": "5099f1ab",
   "metadata": {
    "slideshow": {
     "slide_type": "slide"
    }
   },
   "source": [
    "First we will cover some other datatypes that are not collections these include:\n",
    "- None\n",
    "- Booleans"
   ]
  },
  {
   "cell_type": "markdown",
   "id": "fb44002d",
   "metadata": {
    "slideshow": {
     "slide_type": "slide"
    }
   },
   "source": [
    "## None"
   ]
  },
  {
   "cell_type": "markdown",
   "id": "e8e46c0d",
   "metadata": {
    "slideshow": {
     "slide_type": "slide"
    }
   },
   "source": [
    "The `None` keyword is used to define... nothing, a null value, no value. It is used as a kind of flag for nothing. So why is this usefull? Imagine you are analyzing data from a digital weather station device. You are recording the temperature in degrees Celsius. The device did not boot yet. Now how do you store the temperature? 0 is obviously wrong as temperature is an example of interval scale. There is no true zero for temperature in Celsius. A temperature of 20°C is not twice as warm as 10°C. Hence, it is not a ratio scale but an inteval scale (20°C is 10°C warmer compared to a temperature of 10°C). You could set it to an empty string but that would be clumpsy too. `None` comes in very handy here. It is clear that there is no temperature received yet."
   ]
  },
  {
   "cell_type": "code",
   "execution_count": 5,
   "id": "9b7ccc9f",
   "metadata": {
    "slideshow": {
     "slide_type": "fragment"
    }
   },
   "outputs": [
    {
     "name": "stdout",
     "output_type": "stream",
     "text": [
      "None\n",
      "20.4\n"
     ]
    }
   ],
   "source": [
    "temp = None\n",
    "print(temp)\n",
    "temp = 20.4\n",
    "print(temp)"
   ]
  },
  {
   "cell_type": "markdown",
   "id": "81dd2bcf",
   "metadata": {
    "slideshow": {
     "slide_type": "slide"
    }
   },
   "source": [
    "## Boolean"
   ]
  },
  {
   "cell_type": "markdown",
   "id": "720d016b",
   "metadata": {
    "slideshow": {
     "slide_type": "slide"
    }
   },
   "source": [
    "Booleans are used very often in programming.\n",
    "There are two types:\n",
    "    - `True`\n",
    "    - `False`\n",
    "Any expression in Python will return True or False.  \n",
    "Some examples:"
   ]
  },
  {
   "cell_type": "code",
   "execution_count": 6,
   "id": "c93158e9",
   "metadata": {
    "slideshow": {
     "slide_type": "fragment"
    }
   },
   "outputs": [
    {
     "name": "stdout",
     "output_type": "stream",
     "text": [
      "False\n",
      "True\n"
     ]
    }
   ],
   "source": [
    "x = 4\n",
    "y = 5\n",
    "print(x > y)\n",
    "print(x < y)"
   ]
  },
  {
   "cell_type": "markdown",
   "id": "b77d5125",
   "metadata": {
    "slideshow": {
     "slide_type": "slide"
    }
   },
   "source": [
    "`True` has the same value as 1 in Python while `False` has the same value as 0:"
   ]
  },
  {
   "cell_type": "code",
   "execution_count": 8,
   "id": "dd09b271",
   "metadata": {
    "slideshow": {
     "slide_type": "fragment"
    }
   },
   "outputs": [
    {
     "name": "stdout",
     "output_type": "stream",
     "text": [
      "True\n",
      "True\n",
      "False\n",
      "False\n",
      "False\n"
     ]
    }
   ],
   "source": [
    "print(True == 1) # == evaluates for equal\n",
    "print(False == 0)\n",
    "print(True == 2)\n",
    "print(True == 0)\n",
    "print(False == 1)"
   ]
  },
  {
   "cell_type": "markdown",
   "id": "2feb0198",
   "metadata": {
    "slideshow": {
     "slide_type": "slide"
    }
   },
   "source": [
    "The is a bit more to know about booleans. It is important to understand how data collections are evaluated using the `bool` function. More on that later. "
   ]
  },
  {
   "cell_type": "markdown",
   "id": "9013c9a4",
   "metadata": {
    "slideshow": {
     "slide_type": "slide"
    }
   },
   "source": [
    "## Collections: strings"
   ]
  },
  {
   "cell_type": "code",
   "execution_count": null,
   "id": "069aba70",
   "metadata": {
    "slideshow": {
     "slide_type": "slide"
    }
   },
   "outputs": [],
   "source": [
    "We already covered some basics about strings. Strings are collections of Unicode characters. They are iterables.\n",
    "An example:"
   ]
  },
  {
   "cell_type": "code",
   "execution_count": null,
   "id": "d92b8f61",
   "metadata": {
    "slideshow": {
     "slide_type": "fragment"
    }
   },
   "outputs": [],
   "source": [
    "dna = \"GAATCTGG\""
   ]
  },
  {
   "cell_type": "markdown",
   "id": "7924184a",
   "metadata": {
    "slideshow": {
     "slide_type": "slide"
    }
   },
   "source": [
    "## String indexing"
   ]
  },
  {
   "cell_type": "markdown",
   "id": "681cb0b9",
   "metadata": {
    "slideshow": {
     "slide_type": "slide"
    }
   },
   "source": [
    "- String positions can be specified using an index\n",
    "- When working form the start, indexes start at 0\n",
    "- When working from the end, indexes start at -1\n",
    "![indexing](figs/fig1.png)"
   ]
  },
  {
   "cell_type": "code",
   "execution_count": 9,
   "id": "811fc776",
   "metadata": {
    "slideshow": {
     "slide_type": "fragment"
    }
   },
   "outputs": [
    {
     "name": "stdout",
     "output_type": "stream",
     "text": [
      "G\n",
      "T\n",
      "C\n"
     ]
    }
   ],
   "source": [
    "dna = \"GATC\"\n",
    "print(dna[0])\n",
    "print(dna[2])\n",
    "print(dna[-1])"
   ]
  },
  {
   "cell_type": "markdown",
   "id": "a381f995",
   "metadata": {
    "slideshow": {
     "slide_type": "slide"
    }
   },
   "source": [
    "What happens if you try to index a position that does not exist?"
   ]
  },
  {
   "cell_type": "code",
   "execution_count": 16,
   "id": "10ed580f",
   "metadata": {
    "slideshow": {
     "slide_type": "slide"
    }
   },
   "outputs": [
    {
     "ename": "IndexError",
     "evalue": "string index out of range",
     "output_type": "error",
     "traceback": [
      "\u001b[1;31m---------------------------------------------------------------------------\u001b[0m",
      "\u001b[1;31mIndexError\u001b[0m                                Traceback (most recent call last)",
      "\u001b[1;32m~\\AppData\\Local\\Temp/ipykernel_2092/908610614.py\u001b[0m in \u001b[0;36m<module>\u001b[1;34m\u001b[0m\n\u001b[1;32m----> 1\u001b[1;33m \u001b[0mdna\u001b[0m\u001b[1;33m[\u001b[0m\u001b[1;36m12\u001b[0m\u001b[1;33m]\u001b[0m\u001b[1;33m\u001b[0m\u001b[1;33m\u001b[0m\u001b[0m\n\u001b[0m",
      "\u001b[1;31mIndexError\u001b[0m: string index out of range"
     ]
    }
   ],
   "source": [
    "dna[12]"
   ]
  },
  {
   "cell_type": "markdown",
   "id": "33896202",
   "metadata": {
    "slideshow": {
     "slide_type": "slide"
    }
   },
   "source": [
    "## Manipulating strings"
   ]
  },
  {
   "cell_type": "markdown",
   "id": "be4127bd",
   "metadata": {
    "slideshow": {
     "slide_type": "slide"
    }
   },
   "source": [
    "> Important: in Python, strings are immutable. That means that after manipulating a string, you will get a new string object. You can not change a string in place. This will result in a TypeError."
   ]
  },
  {
   "cell_type": "code",
   "execution_count": 10,
   "id": "c72c3fd3",
   "metadata": {
    "slideshow": {
     "slide_type": "slide"
    }
   },
   "outputs": [
    {
     "ename": "TypeError",
     "evalue": "'str' object does not support item assignment",
     "output_type": "error",
     "traceback": [
      "\u001b[1;31m---------------------------------------------------------------------------\u001b[0m",
      "\u001b[1;31mTypeError\u001b[0m                                 Traceback (most recent call last)",
      "\u001b[1;32m~\\AppData\\Local\\Temp/ipykernel_2092/294218731.py\u001b[0m in \u001b[0;36m<module>\u001b[1;34m\u001b[0m\n\u001b[0;32m      1\u001b[0m \u001b[0mdna\u001b[0m \u001b[1;33m=\u001b[0m \u001b[1;34m\"GATC\"\u001b[0m\u001b[1;33m\u001b[0m\u001b[1;33m\u001b[0m\u001b[0m\n\u001b[1;32m----> 2\u001b[1;33m \u001b[0mdna\u001b[0m\u001b[1;33m[\u001b[0m\u001b[1;36m0\u001b[0m\u001b[1;33m]\u001b[0m \u001b[1;33m=\u001b[0m \u001b[1;34m\"A\"\u001b[0m\u001b[1;33m\u001b[0m\u001b[1;33m\u001b[0m\u001b[0m\n\u001b[0m",
      "\u001b[1;31mTypeError\u001b[0m: 'str' object does not support item assignment"
     ]
    }
   ],
   "source": [
    "dna = \"GATC\"\n",
    "dna[0] = \"A\""
   ]
  },
  {
   "cell_type": "markdown",
   "id": "d022b4c9",
   "metadata": {
    "slideshow": {
     "slide_type": "slide"
    }
   },
   "source": [
    "The change it you need to make a new string and overwrite the variable:"
   ]
  },
  {
   "cell_type": "code",
   "execution_count": 11,
   "id": "2f30373b",
   "metadata": {
    "slideshow": {
     "slide_type": "fragment"
    }
   },
   "outputs": [
    {
     "name": "stdout",
     "output_type": "stream",
     "text": [
      "AATC\n"
     ]
    }
   ],
   "source": [
    "dna = \"GATC\"\n",
    "dna = \"AATC\"\n",
    "print(dna)"
   ]
  },
  {
   "cell_type": "markdown",
   "id": "6f5bf558",
   "metadata": {
    "slideshow": {
     "slide_type": "slide"
    }
   },
   "source": [
    "Nevertheless, you can do some operations on strings. But remember that Python will always return a new string as strings are immutable. "
   ]
  },
  {
   "cell_type": "code",
   "execution_count": 13,
   "id": "2a1d54c1",
   "metadata": {
    "slideshow": {
     "slide_type": "fragment"
    }
   },
   "outputs": [
    {
     "name": "stdout",
     "output_type": "stream",
     "text": [
      "AATCAATC\n",
      "AATCAATCAATCAATCAATCAATCAATCAATCAATCAATC\n"
     ]
    }
   ],
   "source": [
    "print(dna + dna)\n",
    "print(dna * 10)"
   ]
  },
  {
   "cell_type": "markdown",
   "id": "5978b642",
   "metadata": {
    "slideshow": {
     "slide_type": "slide"
    }
   },
   "source": [
    "### String slicing"
   ]
  },
  {
   "cell_type": "markdown",
   "id": "6d79e9ec",
   "metadata": {
    "slideshow": {
     "slide_type": "slide"
    }
   },
   "source": [
    "You can use slicing to create a substring.\n",
    "- seq x:y:z ] will return a slice starting at, and including, index x (or 0 if omitted) to, but excluding, index y (or the end if omitted), and only taking the character at each step z\n",
    "- A slice will always return the same data type. This is different from indexing. Although indexing strings will always return a string, indexing lists (see below) will not per definition return a list.\n",
    "Some examples:"
   ]
  },
  {
   "cell_type": "code",
   "execution_count": 15,
   "id": "e8d75a03",
   "metadata": {
    "slideshow": {
     "slide_type": "slide"
    }
   },
   "outputs": [
    {
     "name": "stdout",
     "output_type": "stream",
     "text": [
      "ATC\n",
      "GAT\n",
      "GT\n",
      "CTAG\n"
     ]
    }
   ],
   "source": [
    "seq = \"GATC\"\n",
    "print(seq[1:]) # from pos 1 toend (and including end)\n",
    "print(seq[:3]) # from pos 0 to 3 (not including 3)\n",
    "print(seq[::2]) # start to end (including end) with step 2\n",
    "print(seq[::-1]) # reverse a string"
   ]
  },
  {
   "cell_type": "markdown",
   "id": "7df8c8eb",
   "metadata": {
    "slideshow": {
     "slide_type": "slide"
    }
   },
   "source": [
    "## The `len` function"
   ]
  },
  {
   "cell_type": "markdown",
   "id": "c161aa3f",
   "metadata": {
    "slideshow": {
     "slide_type": "slide"
    }
   },
   "source": [
    "The `len` function works on all collections. It returns the number of items in the collection."
   ]
  },
  {
   "cell_type": "code",
   "execution_count": 18,
   "id": "b6e3b7ea",
   "metadata": {
    "slideshow": {
     "slide_type": "slide"
    }
   },
   "outputs": [
    {
     "name": "stdout",
     "output_type": "stream",
     "text": [
      "4\n"
     ]
    }
   ],
   "source": [
    "seq = \"GATC\"\n",
    "print(len(seq))"
   ]
  },
  {
   "cell_type": "markdown",
   "id": "d55deb87",
   "metadata": {
    "slideshow": {
     "slide_type": "slide"
    }
   },
   "source": [
    "## Lists"
   ]
  },
  {
   "cell_type": "markdown",
   "id": "c71e69d9",
   "metadata": {
    "slideshow": {
     "slide_type": "slide"
    }
   },
   "source": [
    "- Lists are … lists (of objects)\n",
    "- They are also frequently called arrays (in other languages)\n",
    "- They contain ordered series of objects: characters, strings, numbers, or any other Python object\n",
    "- They are quite similar to strings in many ways but with one important exception: they are mutable\n",
    "- Lists are created using square brackets, with elements separated by commas\n",
    "- You can also use indexing and slicing on lists. "
   ]
  },
  {
   "cell_type": "code",
   "execution_count": 21,
   "id": "8028274e",
   "metadata": {
    "slideshow": {
     "slide_type": "slide"
    }
   },
   "outputs": [
    {
     "name": "stdout",
     "output_type": "stream",
     "text": [
      "agg\n",
      "['agg', 'ttt']\n",
      "['agg']\n"
     ]
    }
   ],
   "source": [
    "my_empty_list = []\n",
    "sequences = ['atc', 'agg', 'ttt']\n",
    "print(sequences[1])\n",
    "print(sequences[1:]) # slicing\n",
    "print(sequences[1:2]) # slicing. Note that a slice always returns the same data type. A list with a single element here."
   ]
  },
  {
   "cell_type": "markdown",
   "id": "1e633275",
   "metadata": {
    "slideshow": {
     "slide_type": "slide"
    }
   },
   "source": [
    "## List manipulations"
   ]
  },
  {
   "cell_type": "markdown",
   "id": "5396066c",
   "metadata": {
    "slideshow": {
     "slide_type": "slide"
    }
   },
   "source": [
    "You can append to an existing list:"
   ]
  },
  {
   "cell_type": "code",
   "execution_count": 23,
   "id": "f2fc6633",
   "metadata": {
    "slideshow": {
     "slide_type": "slide"
    }
   },
   "outputs": [
    {
     "name": "stdout",
     "output_type": "stream",
     "text": [
      "['atc', 'agg', 'ttt']\n",
      "['atc', 'agg', 'ttt', 'ggg']\n"
     ]
    }
   ],
   "source": [
    "sequences = ['atc', 'agg', 'ttt']\n",
    "print(sequences)\n",
    "sequences.append(\"ggg\")\n",
    "print(sequences)"
   ]
  },
  {
   "cell_type": "markdown",
   "id": "2632c8be",
   "metadata": {
    "slideshow": {
     "slide_type": "slide"
    }
   },
   "source": [
    "Or concatenate an excisting list:"
   ]
  },
  {
   "cell_type": "code",
   "execution_count": 24,
   "id": "8dc59d1f",
   "metadata": {
    "slideshow": {
     "slide_type": "slide"
    }
   },
   "outputs": [
    {
     "name": "stdout",
     "output_type": "stream",
     "text": [
      "['atc', 'agg', 'ttt', 'ccc', 'ggg']\n"
     ]
    }
   ],
   "source": [
    "sequences = ['atc', 'agg', 'ttt']\n",
    "more_sequences = ['ccc', 'ggg']\n",
    "total_sequences = sequences + more_sequences\n",
    "print(total_sequences)"
   ]
  },
  {
   "cell_type": "markdown",
   "id": "15288e88",
   "metadata": {
    "slideshow": {
     "slide_type": "slide"
    }
   },
   "source": [
    "Change the content:"
   ]
  },
  {
   "cell_type": "code",
   "execution_count": 31,
   "id": "fec2041a",
   "metadata": {
    "slideshow": {
     "slide_type": "slide"
    }
   },
   "outputs": [
    {
     "name": "stdout",
     "output_type": "stream",
     "text": [
      "['aaa', 'atc', 'agg', 'ttt', 'ccc', 'ggg']\n",
      "['aaa', 'ata', 'agg', 'ttt', 'ccc', 'ggg']\n",
      "['aaa', 'ata', 'agg', 'ttt', 'ggg']\n",
      "['aaa', 'agg', 'ttt', 'ggg']\n"
     ]
    }
   ],
   "source": [
    "total_sequences = ['atc', 'agg', 'ttt', 'ccc', 'ggg']\n",
    "total_sequences = [\"aaa\"] + total_sequences # use concatenation to prepend\n",
    "print(total_sequences)\n",
    "total_sequences[1] = 'ata' # replace item\n",
    "print(total_sequences)\n",
    "total_sequences.remove('ccc') # remove by value (first occurance)\n",
    "print(total_sequences)\n",
    "del total_sequences[1] # remove by index\n",
    "print(total_sequences)"
   ]
  },
  {
   "cell_type": "markdown",
   "id": "d03ae68b",
   "metadata": {
    "slideshow": {
     "slide_type": "slide"
    }
   },
   "source": [
    "You can also delete or insert multiple items:"
   ]
  },
  {
   "cell_type": "code",
   "execution_count": 35,
   "id": "ec44030b",
   "metadata": {
    "slideshow": {
     "slide_type": "slide"
    }
   },
   "outputs": [
    {
     "name": "stdout",
     "output_type": "stream",
     "text": [
      "['atc', 'ccc', 'ggg', 'atg']\n",
      "['atc', 'aaa', 'ttt', 'atg']\n",
      "['atc', 'atg']\n"
     ]
    }
   ],
   "source": [
    "my_list = [\"atc\", \"atg\"]\n",
    "my_list[1:1] = [\"ccc\", \"ggg\"] # insert multiple items at index\n",
    "print(my_list)\n",
    "my_list[1:3] = [\"aaa\", \"ttt\"] # change multiple items\n",
    "print(my_list)\n",
    "my_list[1:3] = [] # delete multiple items\n",
    "print(my_list)\n"
   ]
  },
  {
   "cell_type": "markdown",
   "id": "4243c7bc",
   "metadata": {
    "slideshow": {
     "slide_type": "slide"
    }
   },
   "source": [
    "Making a copy of a list often leads to confusion among new Python programmers.  \n",
    "The following code will **not** copy items from a list:"
   ]
  },
  {
   "cell_type": "code",
   "execution_count": 1,
   "id": "f31ea79f",
   "metadata": {
    "slideshow": {
     "slide_type": "slide"
    }
   },
   "outputs": [
    {
     "name": "stdout",
     "output_type": "stream",
     "text": [
      "[1, 2, 3]\n",
      "[1, 2, 3]\n",
      "[1, 2, 3, 4]\n",
      "[1, 2, 3, 4]\n"
     ]
    }
   ],
   "source": [
    "list1 = [1, 2, 3]\n",
    "list2 = list1 # not a copy. list1 and list2 now point to the same object in memory\n",
    "print(list1)\n",
    "print(list2)\n",
    "list2.append(4) # add 4 to the end\n",
    "print(list2)\n",
    "print(list1) # list1 points to the same object"
   ]
  },
  {
   "cell_type": "markdown",
   "id": "a6e0f3c8",
   "metadata": {
    "slideshow": {
     "slide_type": "slide"
    }
   },
   "source": [
    "If you want to copy items from a list you can use a slice:"
   ]
  },
  {
   "cell_type": "code",
   "execution_count": 2,
   "id": "d1de2dd1",
   "metadata": {
    "slideshow": {
     "slide_type": "slide"
    }
   },
   "outputs": [
    {
     "name": "stdout",
     "output_type": "stream",
     "text": [
      "[1, 2, 3]\n",
      "[1, 2, 3]\n",
      "[1, 2, 3, 4]\n",
      "[1, 2, 3]\n"
     ]
    }
   ],
   "source": [
    "list1 = [1, 2, 3]\n",
    "list2 = list1[:] # slices all items from list1 to a new list object\n",
    "print(list1)\n",
    "print(list2)\n",
    "list2.append(4) # add 4 to the end\n",
    "print(list2)\n",
    "print(list1) "
   ]
  },
  {
   "cell_type": "markdown",
   "id": "f3ff94dd",
   "metadata": {
    "slideshow": {
     "slide_type": "slide"
    }
   },
   "source": [
    "Or you can use the `list.copy` method:"
   ]
  },
  {
   "cell_type": "code",
   "execution_count": 3,
   "id": "4e7a93cc",
   "metadata": {
    "slideshow": {
     "slide_type": "slide"
    }
   },
   "outputs": [
    {
     "name": "stdout",
     "output_type": "stream",
     "text": [
      "[1, 2, 3]\n",
      "[1, 2, 3]\n",
      "[1, 2, 3, 4]\n",
      "[1, 2, 3]\n"
     ]
    }
   ],
   "source": [
    "list1 = [1, 2, 3]\n",
    "list2 = list1.copy()\n",
    "print(list1)\n",
    "print(list2)\n",
    "list2.append(4) # add 4 to the end\n",
    "print(list2)\n",
    "print(list1) "
   ]
  },
  {
   "cell_type": "markdown",
   "id": "fe3eee21",
   "metadata": {
    "slideshow": {
     "slide_type": "slide"
    }
   },
   "source": [
    "> The `list.copy` method will make a shallow copy. We will not cover deep copy of lists here but there are libraries for doing this (the deepcopy function in the copy module)."
   ]
  },
  {
   "cell_type": "markdown",
   "id": "a828f0de",
   "metadata": {
    "slideshow": {
     "slide_type": "slide"
    }
   },
   "source": [
    "## Some usefull functions:\n",
    "\n",
    "Like the `len` function, `min`, `max` and `sum` work on all collections. They are very usefull for lists: "
   ]
  },
  {
   "cell_type": "code",
   "execution_count": 4,
   "id": "e860c775",
   "metadata": {
    "slideshow": {
     "slide_type": "slide"
    }
   },
   "outputs": [
    {
     "name": "stdout",
     "output_type": "stream",
     "text": [
      "4\n",
      "2\n",
      "9\n",
      "22\n"
     ]
    }
   ],
   "source": [
    "x = [2, 4, 7, 9]\n",
    "print(len(x))\n",
    "print(min(x))\n",
    "print(max(x))\n",
    "print(max(x))"
   ]
  },
  {
   "cell_type": "markdown",
   "id": "4812f249",
   "metadata": {
    "slideshow": {
     "slide_type": "slide"
    }
   },
   "source": [
    "Unlike other languages, there is no type coersion in Python:"
   ]
  },
  {
   "cell_type": "code",
   "execution_count": 6,
   "id": "51788f06",
   "metadata": {
    "slideshow": {
     "slide_type": "slide"
    }
   },
   "outputs": [
    {
     "ename": "TypeError",
     "evalue": "unsupported operand type(s) for +: 'int' and 'str'",
     "output_type": "error",
     "traceback": [
      "\u001b[1;31m---------------------------------------------------------------------------\u001b[0m",
      "\u001b[1;31mTypeError\u001b[0m                                 Traceback (most recent call last)",
      "\u001b[1;32m~\\AppData\\Local\\Temp/ipykernel_2776/3363887901.py\u001b[0m in \u001b[0;36m<module>\u001b[1;34m\u001b[0m\n\u001b[0;32m      1\u001b[0m \u001b[0mx\u001b[0m \u001b[1;33m=\u001b[0m \u001b[1;33m[\u001b[0m\u001b[1;36m2\u001b[0m\u001b[1;33m,\u001b[0m \u001b[1;34m\"a\"\u001b[0m\u001b[1;33m,\u001b[0m \u001b[1;36m7\u001b[0m\u001b[1;33m,\u001b[0m \u001b[1;36m9\u001b[0m\u001b[1;33m]\u001b[0m\u001b[1;33m\u001b[0m\u001b[1;33m\u001b[0m\u001b[0m\n\u001b[1;32m----> 2\u001b[1;33m \u001b[0mprint\u001b[0m\u001b[1;33m(\u001b[0m\u001b[0msum\u001b[0m\u001b[1;33m(\u001b[0m\u001b[0mx\u001b[0m\u001b[1;33m)\u001b[0m\u001b[1;33m)\u001b[0m\u001b[1;33m\u001b[0m\u001b[1;33m\u001b[0m\u001b[0m\n\u001b[0m",
      "\u001b[1;31mTypeError\u001b[0m: unsupported operand type(s) for +: 'int' and 'str'"
     ]
    }
   ],
   "source": [
    "x = [2, \"a\", 7, 9]\n",
    "print(sum(x))"
   ]
  },
  {
   "cell_type": "markdown",
   "id": "0e51d0d1",
   "metadata": {
    "slideshow": {
     "slide_type": "slide"
    }
   },
   "source": [
    "The end"
   ]
  }
 ],
 "metadata": {
  "celltoolbar": "Slideshow",
  "kernelspec": {
   "display_name": "Python 3 (ipykernel)",
   "language": "python",
   "name": "python3"
  },
  "language_info": {
   "codemirror_mode": {
    "name": "ipython",
    "version": 3
   },
   "file_extension": ".py",
   "mimetype": "text/x-python",
   "name": "python",
   "nbconvert_exporter": "python",
   "pygments_lexer": "ipython3",
   "version": "3.9.2"
  }
 },
 "nbformat": 4,
 "nbformat_minor": 5
}
