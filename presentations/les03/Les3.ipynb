{
 "cells": [
  {
   "cell_type": "markdown",
   "id": "5cb0927c",
   "metadata": {
    "slideshow": {
     "slide_type": "slide"
    }
   },
   "source": [
    "# Lesson 3\n",
    "\n",
    "Jurre Hageman"
   ]
  },
  {
   "cell_type": "markdown",
   "id": "bbfa92dc",
   "metadata": {
    "slideshow": {
     "slide_type": "slide"
    }
   },
   "source": [
    "## Other data types"
   ]
  },
  {
   "cell_type": "markdown",
   "id": "5099f1ab",
   "metadata": {
    "slideshow": {
     "slide_type": "slide"
    }
   },
   "source": [
    "First we will cover some other datatypes that are not collections these include:\n",
    "- None\n",
    "- Booleans"
   ]
  },
  {
   "cell_type": "markdown",
   "id": "fb44002d",
   "metadata": {
    "slideshow": {
     "slide_type": "slide"
    }
   },
   "source": [
    "## None"
   ]
  },
  {
   "cell_type": "markdown",
   "id": "e8e46c0d",
   "metadata": {
    "slideshow": {
     "slide_type": "slide"
    }
   },
   "source": [
    "The `None` keyword is used to define... nothing, a null value, no value. It is used as a kind of flag for nothing. So why is this usefull? Imagine you are analyzing data from a digital weather station device. You are recording the temperature in degrees Celsius. The device did not boot yet. Now how do you store the temperature? 0 is obviously wrong as temperature is an example of interval scale. There is no true zero for temperature in Celsius. A temperature of 20°C is not twice as warm as 10°C. Hence, it is not a ratio scale but an inteval scale (20°C is 10°C warmer compared to a temperature of 10°C). You could set it to an empty string but that would be clumpsy too. `None` comes in very handy here. It is clear that there is no temperature received yet."
   ]
  },
  {
   "cell_type": "code",
   "execution_count": 5,
   "id": "9b7ccc9f",
   "metadata": {
    "slideshow": {
     "slide_type": "fragment"
    }
   },
   "outputs": [
    {
     "name": "stdout",
     "output_type": "stream",
     "text": [
      "None\n",
      "20.4\n"
     ]
    }
   ],
   "source": [
    "temp = None\n",
    "print(temp)\n",
    "temp = 20.4\n",
    "print(temp)"
   ]
  },
  {
   "cell_type": "markdown",
   "id": "81dd2bcf",
   "metadata": {
    "slideshow": {
     "slide_type": "slide"
    }
   },
   "source": [
    "## Boolean"
   ]
  },
  {
   "cell_type": "markdown",
   "id": "720d016b",
   "metadata": {
    "slideshow": {
     "slide_type": "slide"
    }
   },
   "source": [
    "Booleans are used very often in programming.\n",
    "There are two types:\n",
    "    - `True`\n",
    "    - `False`\n",
    "Any expression in Python will return True or False.  \n",
    "Some examples:"
   ]
  },
  {
   "cell_type": "code",
   "execution_count": 6,
   "id": "c93158e9",
   "metadata": {
    "slideshow": {
     "slide_type": "fragment"
    }
   },
   "outputs": [
    {
     "name": "stdout",
     "output_type": "stream",
     "text": [
      "False\n",
      "True\n"
     ]
    }
   ],
   "source": [
    "x = 4\n",
    "y = 5\n",
    "print(x > y)\n",
    "print(x < y)"
   ]
  },
  {
   "cell_type": "markdown",
   "id": "b77d5125",
   "metadata": {
    "slideshow": {
     "slide_type": "slide"
    }
   },
   "source": [
    "`True` has the same value as 1 in Python while `False` has the same value as 0:"
   ]
  },
  {
   "cell_type": "code",
   "execution_count": 8,
   "id": "dd09b271",
   "metadata": {
    "slideshow": {
     "slide_type": "fragment"
    }
   },
   "outputs": [
    {
     "name": "stdout",
     "output_type": "stream",
     "text": [
      "True\n",
      "True\n",
      "False\n",
      "False\n",
      "False\n"
     ]
    }
   ],
   "source": [
    "print(True == 1) # == evaluates for equal\n",
    "print(False == 0)\n",
    "print(True == 2)\n",
    "print(True == 0)\n",
    "print(False == 1)"
   ]
  },
  {
   "cell_type": "markdown",
   "id": "2feb0198",
   "metadata": {
    "slideshow": {
     "slide_type": "slide"
    }
   },
   "source": [
    "The is a bit more to know about booleans. It is important to understand how data collections are evaluated using the `bool` function. More on that later. "
   ]
  },
  {
   "cell_type": "markdown",
   "id": "9013c9a4",
   "metadata": {
    "slideshow": {
     "slide_type": "slide"
    }
   },
   "source": [
    "## Collections: strings"
   ]
  },
  {
   "cell_type": "code",
   "execution_count": null,
   "id": "069aba70",
   "metadata": {
    "slideshow": {
     "slide_type": "slide"
    }
   },
   "outputs": [],
   "source": [
    "We already covered some basics about strings. Strings are collections of Unicode characters. They are iterables.\n",
    "An example:"
   ]
  },
  {
   "cell_type": "code",
   "execution_count": null,
   "id": "d92b8f61",
   "metadata": {
    "slideshow": {
     "slide_type": "fragment"
    }
   },
   "outputs": [],
   "source": [
    "dna = \"GAATCTGG\""
   ]
  },
  {
   "cell_type": "markdown",
   "id": "7924184a",
   "metadata": {
    "slideshow": {
     "slide_type": "slide"
    }
   },
   "source": [
    "## String indexing"
   ]
  },
  {
   "cell_type": "markdown",
   "id": "681cb0b9",
   "metadata": {
    "slideshow": {
     "slide_type": "slide"
    }
   },
   "source": [
    "- String positions can be specified using an index\n",
    "- When working form the start, indexes start at 0\n",
    "- When working from the end, indexes start at -1\n",
    "![indexing](figs/fig1.png)"
   ]
  },
  {
   "cell_type": "code",
   "execution_count": 9,
   "id": "811fc776",
   "metadata": {
    "slideshow": {
     "slide_type": "fragment"
    }
   },
   "outputs": [
    {
     "name": "stdout",
     "output_type": "stream",
     "text": [
      "G\n",
      "T\n",
      "C\n"
     ]
    }
   ],
   "source": [
    "dna = \"GATC\"\n",
    "print(dna[0])\n",
    "print(dna[2])\n",
    "print(dna[-1])"
   ]
  },
  {
   "cell_type": "markdown",
   "id": "a381f995",
   "metadata": {
    "slideshow": {
     "slide_type": "slide"
    }
   },
   "source": [
    "What happens if you try to index a position that does not exist?"
   ]
  },
  {
   "cell_type": "code",
   "execution_count": 16,
   "id": "10ed580f",
   "metadata": {
    "slideshow": {
     "slide_type": "slide"
    }
   },
   "outputs": [
    {
     "ename": "IndexError",
     "evalue": "string index out of range",
     "output_type": "error",
     "traceback": [
      "\u001b[1;31m---------------------------------------------------------------------------\u001b[0m",
      "\u001b[1;31mIndexError\u001b[0m                                Traceback (most recent call last)",
      "\u001b[1;32m~\\AppData\\Local\\Temp/ipykernel_2092/908610614.py\u001b[0m in \u001b[0;36m<module>\u001b[1;34m\u001b[0m\n\u001b[1;32m----> 1\u001b[1;33m \u001b[0mdna\u001b[0m\u001b[1;33m[\u001b[0m\u001b[1;36m12\u001b[0m\u001b[1;33m]\u001b[0m\u001b[1;33m\u001b[0m\u001b[1;33m\u001b[0m\u001b[0m\n\u001b[0m",
      "\u001b[1;31mIndexError\u001b[0m: string index out of range"
     ]
    }
   ],
   "source": [
    "dna[12]"
   ]
  },
  {
   "cell_type": "markdown",
   "id": "33896202",
   "metadata": {
    "slideshow": {
     "slide_type": "slide"
    }
   },
   "source": [
    "## Manipulating strings"
   ]
  },
  {
   "cell_type": "markdown",
   "id": "be4127bd",
   "metadata": {
    "slideshow": {
     "slide_type": "slide"
    }
   },
   "source": [
    "> Important: in Python, strings are immutable. That means that after manipulating a string, you will get a new string object. You can not change a string in place. This will result in a TypeError."
   ]
  },
  {
   "cell_type": "code",
   "execution_count": 10,
   "id": "c72c3fd3",
   "metadata": {
    "slideshow": {
     "slide_type": "slide"
    }
   },
   "outputs": [
    {
     "ename": "TypeError",
     "evalue": "'str' object does not support item assignment",
     "output_type": "error",
     "traceback": [
      "\u001b[1;31m---------------------------------------------------------------------------\u001b[0m",
      "\u001b[1;31mTypeError\u001b[0m                                 Traceback (most recent call last)",
      "\u001b[1;32m~\\AppData\\Local\\Temp/ipykernel_2092/294218731.py\u001b[0m in \u001b[0;36m<module>\u001b[1;34m\u001b[0m\n\u001b[0;32m      1\u001b[0m \u001b[0mdna\u001b[0m \u001b[1;33m=\u001b[0m \u001b[1;34m\"GATC\"\u001b[0m\u001b[1;33m\u001b[0m\u001b[1;33m\u001b[0m\u001b[0m\n\u001b[1;32m----> 2\u001b[1;33m \u001b[0mdna\u001b[0m\u001b[1;33m[\u001b[0m\u001b[1;36m0\u001b[0m\u001b[1;33m]\u001b[0m \u001b[1;33m=\u001b[0m \u001b[1;34m\"A\"\u001b[0m\u001b[1;33m\u001b[0m\u001b[1;33m\u001b[0m\u001b[0m\n\u001b[0m",
      "\u001b[1;31mTypeError\u001b[0m: 'str' object does not support item assignment"
     ]
    }
   ],
   "source": [
    "dna = \"GATC\"\n",
    "dna[0] = \"A\""
   ]
  },
  {
   "cell_type": "markdown",
   "id": "d022b4c9",
   "metadata": {
    "slideshow": {
     "slide_type": "slide"
    }
   },
   "source": [
    "The change it you need to make a new string and overwrite the variable:"
   ]
  },
  {
   "cell_type": "code",
   "execution_count": 11,
   "id": "2f30373b",
   "metadata": {
    "slideshow": {
     "slide_type": "fragment"
    }
   },
   "outputs": [
    {
     "name": "stdout",
     "output_type": "stream",
     "text": [
      "AATC\n"
     ]
    }
   ],
   "source": [
    "dna = \"GATC\"\n",
    "dna = \"AATC\"\n",
    "print(dna)"
   ]
  },
  {
   "cell_type": "markdown",
   "id": "6f5bf558",
   "metadata": {
    "slideshow": {
     "slide_type": "slide"
    }
   },
   "source": [
    "Nevertheless, you can do some operations on strings. But remember that Python will always return a new string as strings are immutable. "
   ]
  },
  {
   "cell_type": "code",
   "execution_count": 13,
   "id": "2a1d54c1",
   "metadata": {
    "slideshow": {
     "slide_type": "fragment"
    }
   },
   "outputs": [
    {
     "name": "stdout",
     "output_type": "stream",
     "text": [
      "AATCAATC\n",
      "AATCAATCAATCAATCAATCAATCAATCAATCAATCAATC\n"
     ]
    }
   ],
   "source": [
    "print(dna + dna)\n",
    "print(dna * 10)"
   ]
  },
  {
   "cell_type": "markdown",
   "id": "5978b642",
   "metadata": {
    "slideshow": {
     "slide_type": "slide"
    }
   },
   "source": [
    "### String slicing"
   ]
  },
  {
   "cell_type": "markdown",
   "id": "6d79e9ec",
   "metadata": {
    "slideshow": {
     "slide_type": "slide"
    }
   },
   "source": [
    "You can use slicing to create a substring.\n",
    "- seq x:y:z ] will return a slice starting at, and including, index x (or 0 if omitted) to, but excluding, index y (or the end if omitted), and only taking the character at each step z\n",
    "- A slice will always return the same data type. This is different from indexing. Although indexing strings will always return a string, indexing lists (see below) will not per definition return a list.\n",
    "Some examples:"
   ]
  },
  {
   "cell_type": "code",
   "execution_count": 15,
   "id": "e8d75a03",
   "metadata": {
    "slideshow": {
     "slide_type": "slide"
    }
   },
   "outputs": [
    {
     "name": "stdout",
     "output_type": "stream",
     "text": [
      "ATC\n",
      "GAT\n",
      "GT\n",
      "CTAG\n"
     ]
    }
   ],
   "source": [
    "seq = \"GATC\"\n",
    "print(seq[1:]) # from pos 1 toend (and including end)\n",
    "print(seq[:3]) # from pos 0 to 3 (not including 3)\n",
    "print(seq[::2]) # start to end (including end) with step 2\n",
    "print(seq[::-1]) # reverse a string"
   ]
  },
  {
   "cell_type": "markdown",
   "id": "7df8c8eb",
   "metadata": {
    "slideshow": {
     "slide_type": "slide"
    }
   },
   "source": [
    "## The `len` function"
   ]
  },
  {
   "cell_type": "markdown",
   "id": "c161aa3f",
   "metadata": {
    "slideshow": {
     "slide_type": "slide"
    }
   },
   "source": [
    "The `len` function works on all collections. It returns the number of items in the collection."
   ]
  },
  {
   "cell_type": "code",
   "execution_count": 18,
   "id": "b6e3b7ea",
   "metadata": {
    "slideshow": {
     "slide_type": "slide"
    }
   },
   "outputs": [
    {
     "name": "stdout",
     "output_type": "stream",
     "text": [
      "4\n"
     ]
    }
   ],
   "source": [
    "seq = \"GATC\"\n",
    "print(len(seq))"
   ]
  },
  {
   "cell_type": "markdown",
   "id": "d55deb87",
   "metadata": {
    "slideshow": {
     "slide_type": "slide"
    }
   },
   "source": [
    "## Lists"
   ]
  },
  {
   "cell_type": "markdown",
   "id": "c71e69d9",
   "metadata": {
    "slideshow": {
     "slide_type": "slide"
    }
   },
   "source": [
    "- Lists are … lists (of objects)\n",
    "- They are also frequently called arrays (in other languages)\n",
    "- They contain ordered series of objects: characters, strings, numbers, or any other Python object\n",
    "- They are quite similar to strings in many ways but with one important exception: they are mutable\n",
    "- Lists are created using square brackets, with elements separated by commas\n",
    "- You can also use indexing and slicing on lists. "
   ]
  },
  {
   "cell_type": "code",
   "execution_count": 21,
   "id": "8028274e",
   "metadata": {
    "slideshow": {
     "slide_type": "slide"
    }
   },
   "outputs": [
    {
     "name": "stdout",
     "output_type": "stream",
     "text": [
      "agg\n",
      "['agg', 'ttt']\n",
      "['agg']\n"
     ]
    }
   ],
   "source": [
    "my_empty_list = []\n",
    "sequences = ['atc', 'agg', 'ttt']\n",
    "print(sequences[1])\n",
    "print(sequences[1:]) # slicing\n",
    "print(sequences[1:2]) # slicing. Note that a slice always returns the same data type. A list with a single element here."
   ]
  },
  {
   "cell_type": "markdown",
   "id": "1e633275",
   "metadata": {
    "slideshow": {
     "slide_type": "slide"
    }
   },
   "source": [
    "## List manipulations"
   ]
  },
  {
   "cell_type": "markdown",
   "id": "5396066c",
   "metadata": {
    "slideshow": {
     "slide_type": "slide"
    }
   },
   "source": [
    "You can append to an existing list:"
   ]
  },
  {
   "cell_type": "code",
   "execution_count": 23,
   "id": "f2fc6633",
   "metadata": {
    "slideshow": {
     "slide_type": "slide"
    }
   },
   "outputs": [
    {
     "name": "stdout",
     "output_type": "stream",
     "text": [
      "['atc', 'agg', 'ttt']\n",
      "['atc', 'agg', 'ttt', 'ggg']\n"
     ]
    }
   ],
   "source": [
    "sequences = ['atc', 'agg', 'ttt']\n",
    "print(sequences)\n",
    "sequences.append(\"ggg\")\n",
    "print(sequences)"
   ]
  },
  {
   "cell_type": "markdown",
   "id": "2632c8be",
   "metadata": {
    "slideshow": {
     "slide_type": "slide"
    }
   },
   "source": [
    "Or concatenate an excisting list:"
   ]
  },
  {
   "cell_type": "code",
   "execution_count": 24,
   "id": "8dc59d1f",
   "metadata": {
    "slideshow": {
     "slide_type": "slide"
    }
   },
   "outputs": [
    {
     "name": "stdout",
     "output_type": "stream",
     "text": [
      "['atc', 'agg', 'ttt', 'ccc', 'ggg']\n"
     ]
    }
   ],
   "source": [
    "sequences = ['atc', 'agg', 'ttt']\n",
    "more_sequences = ['ccc', 'ggg']\n",
    "total_sequences = sequences + more_sequences\n",
    "print(total_sequences)"
   ]
  },
  {
   "cell_type": "markdown",
   "id": "15288e88",
   "metadata": {
    "slideshow": {
     "slide_type": "slide"
    }
   },
   "source": [
    "Change the content:"
   ]
  },
  {
   "cell_type": "code",
   "execution_count": 31,
   "id": "fec2041a",
   "metadata": {
    "slideshow": {
     "slide_type": "slide"
    }
   },
   "outputs": [
    {
     "name": "stdout",
     "output_type": "stream",
     "text": [
      "['aaa', 'atc', 'agg', 'ttt', 'ccc', 'ggg']\n",
      "['aaa', 'ata', 'agg', 'ttt', 'ccc', 'ggg']\n",
      "['aaa', 'ata', 'agg', 'ttt', 'ggg']\n",
      "['aaa', 'agg', 'ttt', 'ggg']\n"
     ]
    }
   ],
   "source": [
    "total_sequences = ['atc', 'agg', 'ttt', 'ccc', 'ggg']\n",
    "total_sequences = [\"aaa\"] + total_sequences # use concatenation to prepend\n",
    "print(total_sequences)\n",
    "total_sequences[1] = 'ata' # replace item\n",
    "print(total_sequences)\n",
    "total_sequences.remove('ccc') # remove by value (first occurance)\n",
    "print(total_sequences)\n",
    "del total_sequences[1] # remove by index\n",
    "print(total_sequences)"
   ]
  },
  {
   "cell_type": "markdown",
   "id": "d03ae68b",
   "metadata": {
    "slideshow": {
     "slide_type": "slide"
    }
   },
   "source": [
    "You can also delete or insert multiple items:"
   ]
  },
  {
   "cell_type": "code",
   "execution_count": 35,
   "id": "ec44030b",
   "metadata": {
    "slideshow": {
     "slide_type": "slide"
    }
   },
   "outputs": [
    {
     "name": "stdout",
     "output_type": "stream",
     "text": [
      "['atc', 'ccc', 'ggg', 'atg']\n",
      "['atc', 'aaa', 'ttt', 'atg']\n",
      "['atc', 'atg']\n"
     ]
    }
   ],
   "source": [
    "my_list = [\"atc\", \"atg\"]\n",
    "my_list[1:1] = [\"ccc\", \"ggg\"] # insert multiple items at index\n",
    "print(my_list)\n",
    "my_list[1:3] = [\"aaa\", \"ttt\"] # change multiple items\n",
    "print(my_list)\n",
    "my_list[1:3] = [] # delete multiple items\n",
    "print(my_list)\n"
   ]
  },
  {
   "cell_type": "markdown",
   "id": "4243c7bc",
   "metadata": {
    "slideshow": {
     "slide_type": "slide"
    }
   },
   "source": [
    "Making a copy of a list often leads to confusion among new Python programmers.  \n",
    "The following code will **not** copy items from a list:"
   ]
  },
  {
   "cell_type": "code",
   "execution_count": 1,
   "id": "f31ea79f",
   "metadata": {
    "slideshow": {
     "slide_type": "slide"
    }
   },
   "outputs": [
    {
     "name": "stdout",
     "output_type": "stream",
     "text": [
      "[1, 2, 3]\n",
      "[1, 2, 3]\n",
      "[1, 2, 3, 4]\n",
      "[1, 2, 3, 4]\n"
     ]
    }
   ],
   "source": [
    "list1 = [1, 2, 3]\n",
    "list2 = list1 # not a copy. list1 and list2 now point to the same object in memory\n",
    "print(list1)\n",
    "print(list2)\n",
    "list2.append(4) # add 4 to the end\n",
    "print(list2)\n",
    "print(list1) # list1 points to the same object"
   ]
  },
  {
   "cell_type": "markdown",
   "id": "a6e0f3c8",
   "metadata": {
    "slideshow": {
     "slide_type": "slide"
    }
   },
   "source": [
    "If you want to copy items from a list you can use a slice:"
   ]
  },
  {
   "cell_type": "code",
   "execution_count": 2,
   "id": "d1de2dd1",
   "metadata": {
    "slideshow": {
     "slide_type": "slide"
    }
   },
   "outputs": [
    {
     "name": "stdout",
     "output_type": "stream",
     "text": [
      "[1, 2, 3]\n",
      "[1, 2, 3]\n",
      "[1, 2, 3, 4]\n",
      "[1, 2, 3]\n"
     ]
    }
   ],
   "source": [
    "list1 = [1, 2, 3]\n",
    "list2 = list1[:] # slices all items from list1 to a new list object\n",
    "print(list1)\n",
    "print(list2)\n",
    "list2.append(4) # add 4 to the end\n",
    "print(list2)\n",
    "print(list1) "
   ]
  },
  {
   "cell_type": "markdown",
   "id": "f3ff94dd",
   "metadata": {
    "slideshow": {
     "slide_type": "slide"
    }
   },
   "source": [
    "Or you can use the `list.copy` method:"
   ]
  },
  {
   "cell_type": "code",
   "execution_count": 3,
   "id": "4e7a93cc",
   "metadata": {
    "slideshow": {
     "slide_type": "slide"
    }
   },
   "outputs": [
    {
     "name": "stdout",
     "output_type": "stream",
     "text": [
      "[1, 2, 3]\n",
      "[1, 2, 3]\n",
      "[1, 2, 3, 4]\n",
      "[1, 2, 3]\n"
     ]
    }
   ],
   "source": [
    "list1 = [1, 2, 3]\n",
    "list2 = list1.copy()\n",
    "print(list1)\n",
    "print(list2)\n",
    "list2.append(4) # add 4 to the end\n",
    "print(list2)\n",
    "print(list1) "
   ]
  },
  {
   "cell_type": "markdown",
   "id": "fe3eee21",
   "metadata": {
    "slideshow": {
     "slide_type": "slide"
    }
   },
   "source": [
    "> The `list.copy` method will make a shallow copy. We will not cover deep copy of lists here but there are libraries for doing this (the deepcopy function in the copy module)."
   ]
  },
  {
   "cell_type": "markdown",
   "id": "a828f0de",
   "metadata": {
    "slideshow": {
     "slide_type": "slide"
    }
   },
   "source": [
    "## Some usefull functions:\n",
    "\n",
    "Like the `len` function, `min`, `max` and `sum` work on all collections. They are very usefull for lists: "
   ]
  },
  {
   "cell_type": "code",
   "execution_count": 4,
   "id": "e860c775",
   "metadata": {
    "slideshow": {
     "slide_type": "slide"
    }
   },
   "outputs": [
    {
     "name": "stdout",
     "output_type": "stream",
     "text": [
      "4\n",
      "2\n",
      "9\n",
      "22\n"
     ]
    }
   ],
   "source": [
    "x = [2, 4, 7, 9]\n",
    "print(len(x))\n",
    "print(min(x))\n",
    "print(max(x))\n",
    "print(max(x))"
   ]
  },
  {
   "cell_type": "markdown",
   "id": "4812f249",
   "metadata": {
    "slideshow": {
     "slide_type": "slide"
    }
   },
   "source": [
    "Unlike other languages, there is no type coersion in Python. Therefore, the `sum` function will raise an error if a list contains integers and strings:"
   ]
  },
  {
   "cell_type": "code",
   "execution_count": 6,
   "id": "51788f06",
   "metadata": {
    "slideshow": {
     "slide_type": "slide"
    }
   },
   "outputs": [
    {
     "ename": "TypeError",
     "evalue": "unsupported operand type(s) for +: 'int' and 'str'",
     "output_type": "error",
     "traceback": [
      "\u001b[1;31m---------------------------------------------------------------------------\u001b[0m",
      "\u001b[1;31mTypeError\u001b[0m                                 Traceback (most recent call last)",
      "\u001b[1;32m~\\AppData\\Local\\Temp/ipykernel_2776/3363887901.py\u001b[0m in \u001b[0;36m<module>\u001b[1;34m\u001b[0m\n\u001b[0;32m      1\u001b[0m \u001b[0mx\u001b[0m \u001b[1;33m=\u001b[0m \u001b[1;33m[\u001b[0m\u001b[1;36m2\u001b[0m\u001b[1;33m,\u001b[0m \u001b[1;34m\"a\"\u001b[0m\u001b[1;33m,\u001b[0m \u001b[1;36m7\u001b[0m\u001b[1;33m,\u001b[0m \u001b[1;36m9\u001b[0m\u001b[1;33m]\u001b[0m\u001b[1;33m\u001b[0m\u001b[1;33m\u001b[0m\u001b[0m\n\u001b[1;32m----> 2\u001b[1;33m \u001b[0mprint\u001b[0m\u001b[1;33m(\u001b[0m\u001b[0msum\u001b[0m\u001b[1;33m(\u001b[0m\u001b[0mx\u001b[0m\u001b[1;33m)\u001b[0m\u001b[1;33m)\u001b[0m\u001b[1;33m\u001b[0m\u001b[1;33m\u001b[0m\u001b[0m\n\u001b[0m",
      "\u001b[1;31mTypeError\u001b[0m: unsupported operand type(s) for +: 'int' and 'str'"
     ]
    }
   ],
   "source": [
    "x = [2, \"a\", 7, 9]\n",
    "print(sum(x))"
   ]
  },
  {
   "cell_type": "markdown",
   "id": "4245f0be",
   "metadata": {
    "slideshow": {
     "slide_type": "slide"
    }
   },
   "source": [
    "While the former functions work on every collection, there are also some list methods. You can get an overview using `dir(list)`. We will cover some of them:"
   ]
  },
  {
   "cell_type": "code",
   "execution_count": 3,
   "id": "f4ae1532",
   "metadata": {
    "slideshow": {
     "slide_type": "slide"
    }
   },
   "outputs": [
    {
     "name": "stdout",
     "output_type": "stream",
     "text": [
      "3\n",
      "1\n"
     ]
    }
   ],
   "source": [
    "my_list = [1, 4, 2, 3, 3, 4, 4]\n",
    "print(my_list.count(4))\n",
    "print(my_list.index(4)) # index of first occurance"
   ]
  },
  {
   "cell_type": "markdown",
   "id": "8107b5ee",
   "metadata": {
    "slideshow": {
     "slide_type": "slide"
    }
   },
   "source": [
    "## Tuples"
   ]
  },
  {
   "cell_type": "markdown",
   "id": "682a483e",
   "metadata": {
    "slideshow": {
     "slide_type": "slide"
    }
   },
   "source": [
    "`Tuples` are like lists but they are immutable. Hence, they contain less methods compared to lists (like update, remove etc.). Tuples are created using `()` instead of `[]`.  \n",
    "An example:"
   ]
  },
  {
   "cell_type": "code",
   "execution_count": null,
   "id": "2ba0188f",
   "metadata": {
    "slideshow": {
     "slide_type": "fragment"
    }
   },
   "outputs": [],
   "source": [
    "base = (\"A\", \"T\", \"C\", \"G\")"
   ]
  },
  {
   "cell_type": "code",
   "execution_count": null,
   "id": "072d3743",
   "metadata": {
    "slideshow": {
     "slide_type": "slide"
    }
   },
   "outputs": [],
   "source": [
    "If you want a one element tuple you need a comma:"
   ]
  },
  {
   "cell_type": "code",
   "execution_count": 4,
   "id": "b551a8c3",
   "metadata": {
    "slideshow": {
     "slide_type": "slide"
    }
   },
   "outputs": [
    {
     "name": "stdout",
     "output_type": "stream",
     "text": [
      "<class 'bool'>\n",
      "<class 'tuple'>\n"
     ]
    }
   ],
   "source": [
    "result1 = (True)\n",
    "print(type(result1))\n",
    "result2 = (True,)\n",
    "print(type(result2))"
   ]
  },
  {
   "cell_type": "markdown",
   "id": "f1a4f0ae",
   "metadata": {
    "slideshow": {
     "slide_type": "slide"
    }
   },
   "source": [
    "Many people starting Python programming have a bit of trouble with understanding why tuples excist when lists can do the same but more. It all has to do with the immutable nature of tuples. A few use cases:\n",
    "- Keeping data integrity. For example, there are only 20 different amino acids in humans, no more no less. Storing them in a tuple is a good idea. If you work with many people on a project, you will be sure that nobody will be able to change it.\n",
    "- Tuples can be used as keys in dictionaries (see below for information). Lists can not be used as keys due to their mutable nature.\n"
   ]
  },
  {
   "cell_type": "markdown",
   "id": "e7caff44",
   "metadata": {
    "slideshow": {
     "slide_type": "slide"
    }
   },
   "source": [
    "## Dictionaries"
   ]
  },
  {
   "cell_type": "markdown",
   "id": "125fe740",
   "metadata": {
    "slideshow": {
     "slide_type": "slide"
    }
   },
   "source": [
    "Dictionaries are an importent collection in Python. Each item consists of a key, value pair. Thus, there is a coupling between the key-value pairs. An example (for bio-informaticians):"
   ]
  },
  {
   "cell_type": "code",
   "execution_count": 7,
   "id": "67fc7f74",
   "metadata": {
    "slideshow": {
     "slide_type": "slide"
    }
   },
   "outputs": [
    {
     "name": "stdout",
     "output_type": "stream",
     "text": [
      "{'a': 'adenine', 't': 'thymine', 'c': 'cytosine', 'g': 'guanine'}\n"
     ]
    }
   ],
   "source": [
    "bases = {'a': 'adenine', 't': 'thymine', 'c': 'cytosine','g': 'guanine'} #compact notation\n",
    "\n",
    "# also allowed:\n",
    "\n",
    "bases = {'a': 'adenine', \n",
    "         't': 'thymine', \n",
    "         'c': 'cytosine',\n",
    "         'g': 'guanine'}\n",
    "\n",
    "print(bases)"
   ]
  },
  {
   "cell_type": "markdown",
   "id": "0f9acea2",
   "metadata": {
    "slideshow": {
     "slide_type": "slide"
    }
   },
   "source": [
    "You can get the value of a key using indexing:"
   ]
  },
  {
   "cell_type": "code",
   "execution_count": 8,
   "id": "59e09e32",
   "metadata": {
    "slideshow": {
     "slide_type": "slide"
    }
   },
   "outputs": [
    {
     "name": "stdout",
     "output_type": "stream",
     "text": [
      "adenine\n"
     ]
    }
   ],
   "source": [
    "print(bases['a'])"
   ]
  },
  {
   "cell_type": "markdown",
   "id": "6c21e7ff",
   "metadata": {
    "slideshow": {
     "slide_type": "slide"
    }
   },
   "source": [
    "If you use a key that does not exist, you will get an error:"
   ]
  },
  {
   "cell_type": "code",
   "execution_count": 11,
   "id": "89a6dd2c",
   "metadata": {
    "slideshow": {
     "slide_type": "slide"
    }
   },
   "outputs": [
    {
     "ename": "KeyError",
     "evalue": "'q'",
     "output_type": "error",
     "traceback": [
      "\u001b[0;31m---------------------------------------------------------------------------\u001b[0m",
      "\u001b[0;31mKeyError\u001b[0m                                  Traceback (most recent call last)",
      "\u001b[0;32m<ipython-input-11-2b731f725ec6>\u001b[0m in \u001b[0;36m<module>\u001b[0;34m\u001b[0m\n\u001b[0;32m----> 1\u001b[0;31m \u001b[0mprint\u001b[0m\u001b[0;34m(\u001b[0m\u001b[0mbases\u001b[0m\u001b[0;34m[\u001b[0m\u001b[0;34m'q'\u001b[0m\u001b[0;34m]\u001b[0m\u001b[0;34m)\u001b[0m\u001b[0;34m\u001b[0m\u001b[0;34m\u001b[0m\u001b[0m\n\u001b[0m",
      "\u001b[0;31mKeyError\u001b[0m: 'q'"
     ]
    }
   ],
   "source": [
    "print(bases['q'])"
   ]
  },
  {
   "cell_type": "markdown",
   "id": "c49de7f0",
   "metadata": {
    "slideshow": {
     "slide_type": "slide"
    }
   },
   "source": [
    "You can avoid this error using the `dict.get` method: "
   ]
  },
  {
   "cell_type": "code",
   "execution_count": 13,
   "id": "c4e38bf3",
   "metadata": {
    "slideshow": {
     "slide_type": "slide"
    }
   },
   "outputs": [
    {
     "name": "stdout",
     "output_type": "stream",
     "text": [
      "adenine\n",
      "None\n"
     ]
    }
   ],
   "source": [
    "print(bases.get('a'))\n",
    "print(bases.get('q'))"
   ]
  },
  {
   "cell_type": "markdown",
   "id": "1525ee78",
   "metadata": {
    "slideshow": {
     "slide_type": "slide"
    }
   },
   "source": [
    "You can remove an item using the `del` keyword:"
   ]
  },
  {
   "cell_type": "code",
   "execution_count": 9,
   "id": "6508be2a",
   "metadata": {
    "slideshow": {
     "slide_type": "slide"
    }
   },
   "outputs": [
    {
     "name": "stdout",
     "output_type": "stream",
     "text": [
      "{'t': 'thymine', 'c': 'cytosine', 'g': 'guanine'}\n"
     ]
    }
   ],
   "source": [
    "del bases['a']\n",
    "print(bases)"
   ]
  },
  {
   "cell_type": "markdown",
   "id": "cda3d0bf",
   "metadata": {
    "slideshow": {
     "slide_type": "slide"
    }
   },
   "source": [
    "And you can add an item as follows:"
   ]
  },
  {
   "cell_type": "code",
   "execution_count": 10,
   "id": "6f650e4e",
   "metadata": {
    "slideshow": {
     "slide_type": "slide"
    }
   },
   "outputs": [
    {
     "name": "stdout",
     "output_type": "stream",
     "text": [
      "{'t': 'thymine', 'c': 'cytosine', 'g': 'guanine', 'a': 'adenine'}\n"
     ]
    }
   ],
   "source": [
    "bases['a'] = 'adenine'\n",
    "print(bases)"
   ]
  },
  {
   "cell_type": "markdown",
   "id": "275b358b",
   "metadata": {
    "slideshow": {
     "slide_type": "slide"
    }
   },
   "source": [
    "If you want to add multiple items you can use the update method:"
   ]
  },
  {
   "cell_type": "code",
   "execution_count": 21,
   "id": "8bf65976",
   "metadata": {
    "slideshow": {
     "slide_type": "slide"
    }
   },
   "outputs": [
    {
     "name": "stdout",
     "output_type": "stream",
     "text": [
      "{'a': 'adenine', 't': 'thymine'}\n",
      "{'a': 'adenine', 't': 'thymine', 'c': 'cytosine', 'g': 'guanine'}\n"
     ]
    }
   ],
   "source": [
    "bases = {'a': 'adenine', 't': 'thymine'}\n",
    "print(bases)\n",
    "bases.update({'c': 'cytosine', 'g': 'guanine'})\n",
    "print(bases)"
   ]
  },
  {
   "cell_type": "markdown",
   "id": "12711095",
   "metadata": {
    "slideshow": {
     "slide_type": "slide"
    }
   },
   "source": [
    "You might have wondered if you could work the other way around, retrieve a key from a value. The answer is no, not possible...\n",
    "You need to switch key, values:"
   ]
  },
  {
   "cell_type": "code",
   "execution_count": 22,
   "id": "49703fef",
   "metadata": {
    "slideshow": {
     "slide_type": "slide"
    }
   },
   "outputs": [
    {
     "name": "stdout",
     "output_type": "stream",
     "text": [
      "{'a': 'adenine', 't': 'thymine', 'c': 'cytosine', 'g': 'guanine'}\n",
      "{'adenine': 'a', 'thymine': 't', 'cytosine': 'c', 'guanine': 'g'}\n"
     ]
    }
   ],
   "source": [
    "print(bases)\n",
    "bases_switched = {} # create empty dict\n",
    "for i in bases:\n",
    "    new_key = bases[i]\n",
    "    new_value = i\n",
    "    bases_switched[new_key] = new_value\n",
    "print(bases_switched)"
   ]
  },
  {
   "cell_type": "markdown",
   "id": "d9e78af1",
   "metadata": {
    "slideshow": {
     "slide_type": "slide"
    }
   },
   "source": [
    "There are shorter ways to accomplish this. You will learn that in informatics 2."
   ]
  },
  {
   "cell_type": "markdown",
   "id": "90301276",
   "metadata": {
    "slideshow": {
     "slide_type": "slide"
    }
   },
   "source": [
    "> Python dictionaries are ordered. You might still read that they are not ordered but this changed recently."
   ]
  },
  {
   "cell_type": "markdown",
   "id": "0e51d0d1",
   "metadata": {
    "slideshow": {
     "slide_type": "slide"
    }
   },
   "source": [
    "The end"
   ]
  }
 ],
 "metadata": {
  "celltoolbar": "Slideshow",
  "kernelspec": {
   "display_name": "Python 3",
   "language": "python",
   "name": "python3"
  },
  "language_info": {
   "codemirror_mode": {
    "name": "ipython",
    "version": 3
   },
   "file_extension": ".py",
   "mimetype": "text/x-python",
   "name": "python",
   "nbconvert_exporter": "python",
   "pygments_lexer": "ipython3",
   "version": "3.8.10"
  }
 },
 "nbformat": 4,
 "nbformat_minor": 5
}
