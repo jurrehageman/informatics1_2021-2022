{
 "cells": [
  {
   "cell_type": "markdown",
   "id": "5e519343",
   "metadata": {
    "slideshow": {
     "slide_type": "slide"
    }
   },
   "source": [
    "# Lesson 6: Functions\n",
    "\n",
    "Fenna Feenstra, Jurre Hageman & Kim van Adrichem"
   ]
  },
  {
   "cell_type": "markdown",
   "id": "a15d9e5f",
   "metadata": {
    "slideshow": {
     "slide_type": "slide"
    }
   },
   "source": [
    "## Why write functions?  \n",
    "- When you want to repeat a set ofcalculations several times, you can copy-and paste this code every time.\n",
    "- However, if you decide to change the calculation, you will have to change it all over your script(s).\n",
    "- This, and many other issues, can be prevented if you make use of functions"
   ]
  },
  {
   "cell_type": "markdown",
   "id": "af73dfb0",
   "metadata": {
    "slideshow": {
     "slide_type": "slide"
    }
   },
   "source": [
    "## What is a function?\n",
    "A function is a block of code that has been given a name. Instead of copy the whole block of code again we just call the name of this block of code. Sometimes we have to pass data to a function and sometimes the function returns data.  \n",
    "An example:"
   ]
  },
  {
   "cell_type": "code",
   "execution_count": null,
   "id": "eb842dad",
   "metadata": {
    "slideshow": {
     "slide_type": "fragment"
    }
   },
   "outputs": [],
   "source": [
    "def calc_area(width, length):\n",
    "    area = width * length\n",
    "    return area"
   ]
  },
  {
   "cell_type": "markdown",
   "id": "a303d51b",
   "metadata": {
    "slideshow": {
     "slide_type": "slide"
    }
   },
   "source": [
    "In the code above we know it is a function because it has the keyword `def`. The first line is the function header. The function has the name `calc_area` and it needs two arguments: a value for the parameter `width` and a value for the parameter `length`. It returns the value of the variable `area`."
   ]
  },
  {
   "cell_type": "markdown",
   "id": "7abf7908",
   "metadata": {
    "slideshow": {
     "slide_type": "slide"
    }
   },
   "source": [
    "**Parameters** are defined by the names that appear in a function definition. In the case below the function has two parameters, `width` and `length`:"
   ]
  },
  {
   "cell_type": "code",
   "execution_count": 1,
   "id": "5bdb279b",
   "metadata": {
    "slideshow": {
     "slide_type": "fragment"
    }
   },
   "outputs": [],
   "source": [
    "def calc_area(width, length):\n",
    "    area = width * length\n",
    "    return area"
   ]
  },
  {
   "cell_type": "markdown",
   "id": "3a796596",
   "metadata": {
    "slideshow": {
     "slide_type": "slide"
    }
   },
   "source": [
    "**Arguments** are the values actually passed to a function when calling it."
   ]
  },
  {
   "cell_type": "markdown",
   "id": "8b8c6ef3",
   "metadata": {
    "slideshow": {
     "slide_type": "slide"
    }
   },
   "source": [
    "## How to call a function?"
   ]
  },
  {
   "cell_type": "markdown",
   "id": "b1cf5b1e",
   "metadata": {
    "slideshow": {
     "slide_type": "slide"
    }
   },
   "source": [
    "You can call the function by typing the name followed by parentheses. Within the parentheses you can provide the arguments:"
   ]
  },
  {
   "cell_type": "code",
   "execution_count": 3,
   "id": "6993e427",
   "metadata": {
    "slideshow": {
     "slide_type": "fragment"
    }
   },
   "outputs": [
    {
     "data": {
      "text/plain": [
       "20"
      ]
     },
     "execution_count": 3,
     "metadata": {},
     "output_type": "execute_result"
    }
   ],
   "source": [
    "calc_area(4, 5)"
   ]
  },
  {
   "cell_type": "markdown",
   "id": "af566247",
   "metadata": {
    "slideshow": {
     "slide_type": "slide"
    }
   },
   "source": [
    "In many cases you want to \"catch\" the return value in a variable. "
   ]
  },
  {
   "cell_type": "code",
   "execution_count": 6,
   "id": "3188ac1d",
   "metadata": {
    "slideshow": {
     "slide_type": "fragment"
    }
   },
   "outputs": [
    {
     "name": "stdout",
     "output_type": "stream",
     "text": [
      "20\n"
     ]
    }
   ],
   "source": [
    "fieldsize = calc_area(4, 5)\n",
    "print(fieldsize)"
   ]
  },
  {
   "cell_type": "markdown",
   "id": "70508cdb",
   "metadata": {
    "slideshow": {
     "slide_type": "slide"
    }
   },
   "source": [
    "In the previous example, two arguments are passed to the `calc_area` function. The integer 4 is passes to the parameter width and the integer 5 is passed to the parameter length. Since the parameters width and length are filled with the arguments 4 and 5 we can use them inside the function, like variables."
   ]
  },
  {
   "cell_type": "code",
   "execution_count": 8,
   "id": "3b8f49a3",
   "metadata": {
    "slideshow": {
     "slide_type": "fragment"
    }
   },
   "outputs": [
    {
     "name": "stdout",
     "output_type": "stream",
     "text": [
      "width: 4\n",
      "length: 5\n"
     ]
    },
    {
     "data": {
      "text/plain": [
       "20"
      ]
     },
     "execution_count": 8,
     "metadata": {},
     "output_type": "execute_result"
    }
   ],
   "source": [
    "def calc_area(width, length):\n",
    "    print(\"width:\", width)\n",
    "    print(\"length:\", length)\n",
    "    area = width * length\n",
    "    return area\n",
    "\n",
    "calc_area(4, 5)"
   ]
  },
  {
   "cell_type": "markdown",
   "id": "e6365b37",
   "metadata": {
    "slideshow": {
     "slide_type": "slide"
    }
   },
   "source": [
    "You can also use variable names that point to integer objects in a function call:"
   ]
  },
  {
   "cell_type": "code",
   "execution_count": 9,
   "id": "000ae08e",
   "metadata": {
    "slideshow": {
     "slide_type": "fragment"
    }
   },
   "outputs": [
    {
     "data": {
      "text/plain": [
       "20"
      ]
     },
     "execution_count": 9,
     "metadata": {},
     "output_type": "execute_result"
    }
   ],
   "source": [
    "def calc_area(width, length):\n",
    "    area = width * length\n",
    "    return area\n",
    "\n",
    "\n",
    "w = 4\n",
    "l = 5\n",
    "calc_area(w, l)"
   ]
  },
  {
   "cell_type": "markdown",
   "id": "52ed1ac6",
   "metadata": {
    "slideshow": {
     "slide_type": "slide"
    }
   },
   "source": [
    "Note that the names of the arguments and parameters do not need to match. These are positional arguments. Thus the parameters are assigned by position. You need to provide the arguments in the correct sequence. Imagine we want to calculate $2^3$. We can create a `calc_power` function:"
   ]
  },
  {
   "cell_type": "code",
   "execution_count": 12,
   "id": "0254ab03",
   "metadata": {
    "slideshow": {
     "slide_type": "fragment"
    }
   },
   "outputs": [
    {
     "name": "stdout",
     "output_type": "stream",
     "text": [
      "9\n",
      "8\n"
     ]
    }
   ],
   "source": [
    "def calc_power(b, n):\n",
    "    res = b**n\n",
    "    return res\n",
    "\n",
    "\n",
    "base = 2\n",
    "number = 3\n",
    "\n",
    "print(calc_power(number, base)) # not OK, number and base switched\n",
    "print(calc_power(base, number)) # OK"
   ]
  },
  {
   "cell_type": "markdown",
   "id": "de0ae9d1",
   "metadata": {
    "slideshow": {
     "slide_type": "slide"
    }
   },
   "source": [
    "To recap:\n",
    "- Parameters are defined by the names that appear in a function definition. \n",
    "- Arguments are the values actually passed to a function when calling it.\n",
    "- Parameters can be used inside the function as variables"
   ]
  },
  {
   "cell_type": "markdown",
   "id": "e16c931f",
   "metadata": {
    "slideshow": {
     "slide_type": "slide"
    }
   },
   "source": [
    "## The return value of a function\n",
    "\n",
    "- Not only can you pass a value as an argument into a function, a function can also produce a value; the return value\n",
    "- The return statement is followed by an expression which is evaluated. This is either a simple value, a variable containing a value or an expression resulting in a value.\n",
    "- NB: All Python functions return a `None` object unless there is an explicit return statement."
   ]
  },
  {
   "cell_type": "code",
   "execution_count": 16,
   "id": "fa617f40",
   "metadata": {
    "slideshow": {
     "slide_type": "fragment"
    }
   },
   "outputs": [
    {
     "name": "stdout",
     "output_type": "stream",
     "text": [
      "Hello\n",
      "None\n"
     ]
    }
   ],
   "source": [
    "def do_not_return_anything():\n",
    "    print(\"Hello\")\n",
    "\n",
    "print(do_not_return_anything()) # will return None"
   ]
  },
  {
   "cell_type": "markdown",
   "id": "2e6a4d03",
   "metadata": {
    "slideshow": {
     "slide_type": "slide"
    }
   },
   "source": [
    "As mentioned earlier, if we call a function that returns a value we can catch this value in a variable by assigning the function call to a variable."
   ]
  },
  {
   "cell_type": "code",
   "execution_count": 19,
   "id": "a3604418",
   "metadata": {
    "slideshow": {
     "slide_type": "fragment"
    }
   },
   "outputs": [
    {
     "name": "stdout",
     "output_type": "stream",
     "text": [
      "20\n"
     ]
    }
   ],
   "source": [
    "def calc_area(width, length):\n",
    "    area = width * length\n",
    "    return area\n",
    "\n",
    "fieldsize = calc_area(4, 5)\n",
    "print(fieldsize)"
   ]
  },
  {
   "cell_type": "markdown",
   "id": "8fa5a6d2",
   "metadata": {
    "slideshow": {
     "slide_type": "slide"
    }
   },
   "source": [
    "We also can use the result directly in another function as an argument, like the print function."
   ]
  },
  {
   "cell_type": "code",
   "execution_count": 20,
   "id": "ac90c46c",
   "metadata": {
    "slideshow": {
     "slide_type": "fragment"
    }
   },
   "outputs": [
    {
     "name": "stdout",
     "output_type": "stream",
     "text": [
      "20\n"
     ]
    }
   ],
   "source": [
    "def calc_area(width, length):\n",
    "    area = width * length\n",
    "    return area\n",
    "\n",
    "print(calc_area(4, 5))"
   ]
  },
  {
   "cell_type": "markdown",
   "id": "3fc39dc8",
   "metadata": {
    "slideshow": {
     "slide_type": "slide"
    }
   },
   "source": [
    "A return statement, once executed, immediately terminates execution of a function, even if it is not the last statement in the function.\n",
    "\n",
    "- If the function does not have a return statement it leaves the function after the last statement of the function and resumes at the point in the code the function was called."
   ]
  },
  {
   "cell_type": "code",
   "execution_count": 24,
   "id": "82a748ab",
   "metadata": {
    "slideshow": {
     "slide_type": "slide"
    }
   },
   "outputs": [
    {
     "name": "stdout",
     "output_type": "stream",
     "text": [
      "only valid letters found\n"
     ]
    },
    {
     "data": {
      "text/plain": [
       "True"
      ]
     },
     "execution_count": 24,
     "metadata": {},
     "output_type": "execute_result"
    }
   ],
   "source": [
    "def validate_dna(seq):\n",
    "    for base in seq:\n",
    "        if not base in \"ATCG\":\n",
    "            print(\"found invalid letter\", base)\n",
    "            return False\n",
    "    print(\"only valid letters found\")\n",
    "    return True\n",
    "\n",
    "seq1 = \"ATTTCCGG\"\n",
    "seq2 = \"ATQTCCGG\"\n",
    "\n",
    "validate_dna(seq1)  "
   ]
  },
  {
   "cell_type": "code",
   "execution_count": 25,
   "id": "297a30d4",
   "metadata": {
    "slideshow": {
     "slide_type": "slide"
    }
   },
   "outputs": [
    {
     "name": "stdout",
     "output_type": "stream",
     "text": [
      "found invalid letter Q\n"
     ]
    },
    {
     "data": {
      "text/plain": [
       "False"
      ]
     },
     "execution_count": 25,
     "metadata": {},
     "output_type": "execute_result"
    }
   ],
   "source": [
    "def validate_dna(seq):\n",
    "    for base in seq:\n",
    "        if not base in \"ATCG\":\n",
    "            print(\"found invalid letter\", base)\n",
    "            return False\n",
    "    print(\"only valid letters found\")\n",
    "    return True\n",
    "\n",
    "seq1 = \"ATTTCCGG\"\n",
    "seq2 = \"ATQTCCGG\"\n",
    "\n",
    "validate_dna(seq2)  "
   ]
  },
  {
   "cell_type": "markdown",
   "id": "7703b303",
   "metadata": {
    "slideshow": {
     "slide_type": "slide"
    }
   },
   "source": [
    "A return statement causes execution to leave the current function and resume at the point in the code immediately after where the function was called."
   ]
  },
  {
   "cell_type": "code",
   "execution_count": 34,
   "id": "4c432e33",
   "metadata": {
    "slideshow": {
     "slide_type": "fragment"
    }
   },
   "outputs": [
    {
     "name": "stdout",
     "output_type": "stream",
     "text": [
      "c\n",
      "a\n",
      "d\n"
     ]
    }
   ],
   "source": [
    "def test():\n",
    "    print(\"a\") \n",
    "    return \n",
    "    print(\"b\") # never gets executed because after return\n",
    "    \n",
    "print(\"c\") # first executed line\n",
    "test() # now the function is called\n",
    "print(\"d\") # executed after the return statement"
   ]
  },
  {
   "cell_type": "markdown",
   "id": "c72d9b2f",
   "metadata": {
    "slideshow": {
     "slide_type": "slide"
    }
   },
   "source": [
    "If the function does not have a return statement it leaves the function after the last statement of the function and resumes at the point in thecode the function was called."
   ]
  },
  {
   "cell_type": "code",
   "execution_count": 35,
   "id": "b06aa9ec",
   "metadata": {
    "slideshow": {
     "slide_type": "slide"
    }
   },
   "outputs": [
    {
     "name": "stdout",
     "output_type": "stream",
     "text": [
      "c\n",
      "a\n",
      "b\n",
      "d\n"
     ]
    }
   ],
   "source": [
    "def test():\n",
    "    print(\"a\")  \n",
    "    print(\"b\")\n",
    "    \n",
    "print(\"c\") # first executed line\n",
    "test() # now the function is called\n",
    "print(\"d\") # executed after the return statement"
   ]
  },
  {
   "cell_type": "markdown",
   "id": "79f9ba95",
   "metadata": {
    "slideshow": {
     "slide_type": "slide"
    }
   },
   "source": [
    "> Each function ends with an implicit `return None` statement "
   ]
  },
  {
   "cell_type": "markdown",
   "id": "134a7bd1",
   "metadata": {
    "slideshow": {
     "slide_type": "slide"
    }
   },
   "source": [
    "Functions can only return a single variable. If you want to return more than one value you've got to wrap them inside a: \n",
    "- list\n",
    "- tuple\n",
    "- dictionary\n",
    "- set\n",
    "- object"
   ]
  },
  {
   "cell_type": "code",
   "execution_count": 38,
   "id": "22fcda00",
   "metadata": {
    "slideshow": {
     "slide_type": "slide"
    }
   },
   "outputs": [
    {
     "data": {
      "text/plain": [
       "(1.0, -4.0)"
      ]
     },
     "execution_count": 38,
     "metadata": {},
     "output_type": "execute_result"
    }
   ],
   "source": [
    "def abc_formula(a, b, c):\n",
    "    D = b**2 - 4 * a * c\n",
    "    x1 = (-b + D**0.5) / (2 * a)\n",
    "    x2 = (-b - D**0.5) / (2 * a)\n",
    "    return (x1, x2)\n",
    "\n",
    "a = 1\n",
    "b = 3\n",
    "c = -4\n",
    "abc_formula(a, b, c)"
   ]
  },
  {
   "cell_type": "markdown",
   "id": "8eab4ed6",
   "metadata": {
    "slideshow": {
     "slide_type": "slide"
    }
   },
   "source": [
    "Note that the coordinates of obtained by the abc-formula in the return statement are wrapped in a tuple. If you do not add the parentheses, Python will wrap it in a tuple as well:"
   ]
  },
  {
   "cell_type": "code",
   "execution_count": 40,
   "id": "8c3275ca",
   "metadata": {
    "slideshow": {
     "slide_type": "fragment"
    }
   },
   "outputs": [
    {
     "name": "stdout",
     "output_type": "stream",
     "text": [
      "(1, 2, 3)\n",
      "<class 'tuple'>\n"
     ]
    }
   ],
   "source": [
    "def return_multiple_values():\n",
    "    return 1, 2, 3 # will wrap in a tuple\n",
    "\n",
    "result = return_multiple_values()\n",
    "print(result)\n",
    "print(type(result))"
   ]
  },
  {
   "cell_type": "markdown",
   "id": "8e18f269",
   "metadata": {
    "slideshow": {
     "slide_type": "slide"
    }
   },
   "source": [
    "Using functions is a good way to organize your code. With the keyword def we define a function. It is not yet called, just defined.  \n",
    "The function code is called (executed) if we call it by it's function name.  \n",
    "You can not call a function before it is defined!"
   ]
  },
  {
   "cell_type": "code",
   "execution_count": 47,
   "id": "d914c7a0",
   "metadata": {
    "slideshow": {
     "slide_type": "fragment"
    }
   },
   "outputs": [
    {
     "data": {
      "text/plain": [
       "4.47213595499958"
      ]
     },
     "execution_count": 47,
     "metadata": {},
     "output_type": "execute_result"
    }
   ],
   "source": [
    "#calc_pythagoras(2, 4) # results in NameError\n",
    "\n",
    "def calc_pyhtagoras(a, b):\n",
    "    c = (a**2 + b**2)**0.5\n",
    "    return c\n",
    "\n",
    "calc_pythagoras(2, 4) # now it is ok to call the function because it is defined."
   ]
  },
  {
   "cell_type": "markdown",
   "id": "ec2e3ec1",
   "metadata": {
    "slideshow": {
     "slide_type": "slide"
    }
   },
   "source": [
    "## Recap function elements:\n",
    "A function must:  \n",
    "- start with the keyword def  \n",
    "- have a (legal) name (no spaces for instance)  \n",
    "- have a parameter list between parentheses, but it may be empty: ()  \n",
    "- have a function body, but it may be simply the keyword `pass`"
   ]
  },
  {
   "cell_type": "code",
   "execution_count": 1,
   "id": "1eca5317",
   "metadata": {
    "slideshow": {
     "slide_type": "fragment"
    }
   },
   "outputs": [],
   "source": [
    "def calc_pyhtagoras(a, b):\n",
    "    pass # pass can be handy if you want to define the function first, but add the actual content at a later stage."
   ]
  },
  {
   "cell_type": "markdown",
   "id": "ba6c7fd2",
   "metadata": {
    "slideshow": {
     "slide_type": "slide"
    }
   },
   "source": [
    "The end..."
   ]
  }
 ],
 "metadata": {
  "celltoolbar": "Slideshow",
  "kernelspec": {
   "display_name": "Python 3 (ipykernel)",
   "language": "python",
   "name": "python3"
  },
  "language_info": {
   "codemirror_mode": {
    "name": "ipython",
    "version": 3
   },
   "file_extension": ".py",
   "mimetype": "text/x-python",
   "name": "python",
   "nbconvert_exporter": "python",
   "pygments_lexer": "ipython3",
   "version": "3.9.7"
  }
 },
 "nbformat": 4,
 "nbformat_minor": 5
}
