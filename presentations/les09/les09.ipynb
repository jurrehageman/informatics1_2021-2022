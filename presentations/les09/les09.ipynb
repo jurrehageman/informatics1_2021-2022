{
 "cells": [
  {
   "cell_type": "markdown",
   "id": "c0ff0153",
   "metadata": {
    "slideshow": {
     "slide_type": "slide"
    }
   },
   "source": [
    "# Lesson 9: Math and Random modules\n",
    "\n",
    "Jurre Hageman & Kim van Adrichem"
   ]
  },
  {
   "cell_type": "code",
   "execution_count": 14,
   "id": "a84e7996",
   "metadata": {
    "slideshow": {
     "slide_type": "skip"
    }
   },
   "outputs": [],
   "source": [
    "import warnings\n",
    "warnings.filterwarnings(\"ignore\")"
   ]
  },
  {
   "cell_type": "markdown",
   "id": "54db4a19",
   "metadata": {
    "slideshow": {
     "slide_type": "slide"
    }
   },
   "source": [
    "## Module import"
   ]
  },
  {
   "cell_type": "markdown",
   "id": "a54a9437",
   "metadata": {
    "slideshow": {
     "slide_type": "slide"
    }
   },
   "source": [
    "The functionality of Python can be extended by importing modules. There are many modules and a lot of them are part of the Python Standard Library. You will learn more about Python imports in the informatics 2 course. In this course we will just have a look at two of them:  \n",
    "- The math module\n",
    "- The random module"
   ]
  },
  {
   "cell_type": "markdown",
   "id": "630a5d61",
   "metadata": {
    "slideshow": {
     "slide_type": "slide"
    }
   },
   "source": [
    "Imorting modules in Python is easy. Use the keyword `import` followed with the name of the module that you want to import:"
   ]
  },
  {
   "cell_type": "code",
   "execution_count": 15,
   "id": "62cda78e",
   "metadata": {
    "slideshow": {
     "slide_type": "fragment"
    }
   },
   "outputs": [],
   "source": [
    "import math"
   ]
  },
  {
   "cell_type": "markdown",
   "id": "3ccafc3e",
   "metadata": {
    "slideshow": {
     "slide_type": "slide"
    }
   },
   "source": [
    "If you want to know what modules are available. Use help."
   ]
  },
  {
   "cell_type": "code",
   "execution_count": 18,
   "id": "ca19b7f9",
   "metadata": {
    "slideshow": {
     "slide_type": "fragment"
    }
   },
   "outputs": [
    {
     "name": "stdout",
     "output_type": "stream",
     "text": [
      "\n",
      "Please wait a moment while I gather a list of all available modules...\n",
      "\n",
      "IPython             bz2                 mmapfile            struct\n",
      "__future__          cProfile            mmsystem            subprocess\n",
      "_abc                calendar            modulefinder        sunau\n",
      "_aix_support        certifi             msilib              symbol\n",
      "_ast                cffi                msvcrt              sympyprinting\n",
      "_asyncio            cgi                 multiprocessing     symtable\n",
      "_bisect             cgitb               nbclassic           sys\n",
      "_blake2             chardet             nbclient            sysconfig\n",
      "_bootlocale         chunk               nbconvert           tabnanny\n",
      "_bootsubprocess     cmath               nbformat            tarfile\n",
      "_bz2                cmd                 nest_asyncio        telnetlib\n",
      "_cffi_backend       code                netbios             tempfile\n",
      "_codecs             codecs              netrc               termcolor\n",
      "_codecs_cn          codeop              nntplib             terminado\n",
      "_codecs_hk          collections         notebook            test\n",
      "_codecs_iso2022     colorama            nt                  testpath\n",
      "_codecs_jp          colorsys            ntpath              tests\n",
      "_codecs_kr          commctrl            ntsecuritycon       textwrap\n",
      "_codecs_tw          compileall          nturl2path          this\n",
      "_collections        concurrent          numbers             threading\n",
      "_collections_abc    configparser        numpy               threadpoolctl\n",
      "_compat_pickle      contextlib          odbc                time\n",
      "_compression        contextvars         opcode              timeit\n",
      "_contextvars        copy                operator            timer\n",
      "_csv                copyreg             optparse            tkinter\n",
      "_ctypes             crypt               os                  token\n",
      "_ctypes_test        cssselect           packaging           tokenize\n",
      "_datetime           csv                 pandocfilters       tornado\n",
      "_decimal            ctypes              parse               tqdm\n",
      "_distutils_hack     curses              parser              trace\n",
      "_elementtree        cythonmagic         parso               traceback\n",
      "_functools          dataclasses         pathlib             tracemalloc\n",
      "_hashlib            datetime            pdb                 traitlets\n",
      "_heapq              dateutil            perfmon             tty\n",
      "_imp                dbi                 pickle              turtle\n",
      "_io                 dbm                 pickleshare         turtledemo\n",
      "_json               dde                 pickletools         types\n",
      "_locale             debugpy             pip                 typing\n",
      "_lsprof             decimal             pipes               unicodedata\n",
      "_lzma               decorator           pkg_resources       unittest\n",
      "_markupbase         defusedxml          pkgutil             urllib\n",
      "_md5                difflib             platform            urllib3\n",
      "_msi                dis                 plistlib            uu\n",
      "_multibytecodec     distutils           poplib              uuid\n",
      "_multiprocessing    doctest             posixpath           venv\n",
      "_opcode             email               pprint              w3lib\n",
      "_operator           encodings           profile             warnings\n",
      "_osx_support        ensurepip           prometheus_client   wave\n",
      "_overlapped         entrypoints         prompt_toolkit      wcwidth\n",
      "_peg_parser         enum                pstats              weakref\n",
      "_pickle             errno               pty                 webbrowser\n",
      "_py_abc             faulthandler        pvectorc            webencodings\n",
      "_pydecimal          filecmp             py_compile          websocket\n",
      "_pyio               fileinput           pyclbr              widgetsnbextension\n",
      "_pyrsistent_version fire                pycparser           win2kras\n",
      "_queue              fnmatch             pydoc               win32api\n",
      "_random             formatter           pydoc_data          win32clipboard\n",
      "_sha1               fractions           pyexpat             win32com\n",
      "_sha256             ftplib              pygments            win32con\n",
      "_sha3               functools           pyparsing           win32console\n",
      "_sha512             gc                  pyquery             win32cred\n",
      "_signal             genericpath         pyrsistent          win32crypt\n",
      "_sitebuiltins       getopt              pythoncom           win32cryptcon\n",
      "_socket             getpass             pytz                win32event\n",
      "_sqlite3            gettext             pywebcopy           win32evtlog\n",
      "_sre                glob                pywin               win32evtlogutil\n",
      "_ssl                graphlib            pywin32_bootstrap   win32file\n",
      "_stat               gzip                pywin32_testutil    win32gui\n",
      "_statistics         hashlib             pywintypes          win32gui_struct\n",
      "_string             heapq               qtconsole           win32help\n",
      "_strptime           hmac                qtpy                win32inet\n",
      "_struct             html                queue               win32inetcon\n",
      "_symtable           http                quopri              win32job\n",
      "_testbuffer         idlelib             random              win32lz\n",
      "_testcapi           idna                rasutil             win32net\n",
      "_testconsole        imaplib             re                  win32netcon\n",
      "_testimportmultiple imghdr              regcheck            win32pdh\n",
      "_testinternalcapi   imp                 regutil             win32pdhquery\n",
      "_testmultiphase     importlib           reprlib             win32pdhutil\n",
      "_thread             inspect             requests            win32pipe\n",
      "_threading_local    io                  requests_unixsocket win32print\n",
      "_tkinter            ipaddress           rise                win32process\n",
      "_tracemalloc        ipykernel           rlcompleter         win32profile\n",
      "_uuid               ipykernel_launcher  rmagic              win32ras\n",
      "_warnings           ipython_genutils    runpy               win32rcparser\n",
      "_weakref            ipywidgets          sched               win32security\n",
      "_weakrefset         isapi               scipy               win32service\n",
      "_win32sysloader     itertools           secrets             win32serviceutil\n",
      "_winapi             jedi                select              win32timezone\n",
      "_winxptheme         jinja2              selectors           win32trace\n",
      "_xxsubinterpreters  joblib              send2trash          win32traceutil\n",
      "_zoneinfo           json                servicemanager      win32transaction\n",
      "abc                 json5               setuptools          win32ts\n",
      "adodbapi            jsonschema          shelve              win32ui\n",
      "afxres              jupyter             shlex               win32uiole\n",
      "aifc                jupyter_client      shutil              win32verstamp\n",
      "antigravity         jupyter_console     signal              win32wnet\n",
      "anyio               jupyter_core        site                winerror\n",
      "argon2              jupyter_server      six                 winioctlcon\n",
      "argparse            jupyterlab          sklearn             winnt\n",
      "array               jupyterlab_pygments smtpd               winperf\n",
      "ast                 jupyterlab_server   smtplib             winpty\n",
      "asynchat            jupyterlab_widgets  sndhdr              winreg\n",
      "asyncio             keyword             sniffio             winsound\n",
      "asyncore            lib2to3             socket              winxpgui\n",
      "atexit              linecache           socketserver        winxptheme\n",
      "attr                locale              soupsieve           wsgiref\n",
      "audioop             logging             sqlite3             xdrlib\n",
      "autoreload          lxml                sre_compile         xml\n",
      "babel               lzma                sre_constants       xmlrpc\n",
      "backcall            mailbox             sre_parse           xxsubtype\n",
      "base64              mailcap             ssl                 zipapp\n",
      "bdb                 markupsafe          sspi                zipfile\n",
      "binascii            marshal             sspicon             zipimport\n",
      "binhex              math                stat                zlib\n",
      "bisect              matplotlib_inline   statistics          zmq\n",
      "bleach              mimetypes           storemagic          zoneinfo\n",
      "bs4                 mistune             string              \n",
      "builtins            mmap                stringprep          \n",
      "\n",
      "Enter any module name to get more help.  Or, type \"modules spam\" to search\n",
      "for modules whose name or summary contain the string \"spam\".\n",
      "\n"
     ]
    }
   ],
   "source": [
    "help(\"modules\") #lot of output"
   ]
  },
  {
   "cell_type": "markdown",
   "id": "5ceb4363",
   "metadata": {
    "slideshow": {
     "slide_type": "slide"
    }
   },
   "source": [
    "Now how will Python know where to find modules?  \n",
    "Python looks for modules in 3 steps:\n",
    "- Step 1 is to look in the current directory. You will make your own modules in informatics 2. These modules are stored in the same directory.\n",
    "- If the specified module is not found then Python searches in the directories which are in the shell variable PYTHONPATH. You can get this list by running: `import sys;print(sys.path)`\n",
    "- If the module is not found there, Python checks an installation-dependent list of directories that is configured at the time that Python was installed\n",
    "- If the module is still not found, you will get a `ModuleNotFoundError`.   \n",
    "\n",
    "As mentioned above, you will learn more on this in informatics 2."
   ]
  },
  {
   "cell_type": "markdown",
   "id": "102f0275",
   "metadata": {
    "slideshow": {
     "slide_type": "slide"
    }
   },
   "source": [
    "Now why use imports? First of all, you can re-use code. The random and math modules are used a lot. So it would be a waste of time (and error prone) to write them over and over again. In addition, instead of storing them in a lot of different directories, it is cleaner to store them at a central place. Therefore, modules from the Python Standard Library are stored in a central place.  "
   ]
  },
  {
   "cell_type": "markdown",
   "id": "814b5137",
   "metadata": {
    "slideshow": {
     "slide_type": "slide"
    }
   },
   "source": [
    "But why importing these standard modules if they are used so often? Why not load it when a Python interpreter runs? The answer is that Python wants to keep the environment clean. Loading a lot of modules will pollute the environment and could potentially result in name clashes (same variable names that become overwritten). Importing modules also requires time. Imports are usually (very near) the top of your script. Do not wrap them in function as it would run the import many times: "
   ]
  },
  {
   "cell_type": "code",
   "execution_count": 16,
   "id": "a3c2d615",
   "metadata": {
    "slideshow": {
     "slide_type": "slide"
    }
   },
   "outputs": [
    {
     "name": "stdout",
     "output_type": "stream",
     "text": [
      "3\n",
      "13\n",
      "28\n"
     ]
    }
   ],
   "source": [
    "import math #The correct way\n",
    "\n",
    "def calc_area(radius):\n",
    "    return math.pi * radius**2\n",
    "\n",
    "for i in range(1, 4):\n",
    "    print(round(calc_area(i)))"
   ]
  },
  {
   "cell_type": "code",
   "execution_count": 17,
   "id": "6a48b086",
   "metadata": {
    "slideshow": {
     "slide_type": "slide"
    }
   },
   "outputs": [
    {
     "name": "stdout",
     "output_type": "stream",
     "text": [
      "3\n",
      "13\n",
      "28\n"
     ]
    }
   ],
   "source": [
    "def calc_area(radius):\n",
    "    import math #The wrong way. The module gets imported many times.\n",
    "    return math.pi * radius**2\n",
    "\n",
    "for i in range(1, 4):\n",
    "    print(round(calc_area(i)))"
   ]
  },
  {
   "cell_type": "markdown",
   "id": "e968af53",
   "metadata": {
    "slideshow": {
     "slide_type": "slide"
    }
   },
   "source": [
    "As shown above, you can access pi by first specifying the module name, then a dot, than the variable name (or name of the function if it is a function)."
   ]
  },
  {
   "cell_type": "code",
   "execution_count": 30,
   "id": "c4f16387",
   "metadata": {
    "slideshow": {
     "slide_type": "fragment"
    }
   },
   "outputs": [
    {
     "name": "stdout",
     "output_type": "stream",
     "text": [
      "3.141592653589793\n"
     ]
    }
   ],
   "source": [
    "import math\n",
    "print(math.pi)"
   ]
  },
  {
   "cell_type": "markdown",
   "id": "559da4cb",
   "metadata": {
    "slideshow": {
     "slide_type": "slide"
    }
   },
   "source": [
    "If you do not want to load the whole module but just a variable or a function, you can do that as follows:"
   ]
  },
  {
   "cell_type": "code",
   "execution_count": 27,
   "id": "f28d2fc0",
   "metadata": {
    "slideshow": {
     "slide_type": "fragment"
    }
   },
   "outputs": [],
   "source": [
    "from math import pi"
   ]
  },
  {
   "cell_type": "code",
   "execution_count": null,
   "id": "f08d0e2b",
   "metadata": {
    "slideshow": {
     "slide_type": "slide"
    }
   },
   "outputs": [],
   "source": [
    "Now you will have direct access to the pi variable:"
   ]
  },
  {
   "cell_type": "code",
   "execution_count": 28,
   "id": "d715732b",
   "metadata": {
    "slideshow": {
     "slide_type": "fragment"
    }
   },
   "outputs": [
    {
     "name": "stdout",
     "output_type": "stream",
     "text": [
      "3.141592653589793\n"
     ]
    }
   ],
   "source": [
    "print(pi)"
   ]
  },
  {
   "cell_type": "code",
   "execution_count": null,
   "id": "8c8dae9d",
   "metadata": {
    "slideshow": {
     "slide_type": "slide"
    }
   },
   "outputs": [],
   "source": [
    "You can also assign it to a variable:"
   ]
  },
  {
   "cell_type": "code",
   "execution_count": 31,
   "id": "641605d7",
   "metadata": {
    "slideshow": {
     "slide_type": "fragment"
    }
   },
   "outputs": [
    {
     "name": "stdout",
     "output_type": "stream",
     "text": [
      "3.141592653589793\n"
     ]
    }
   ],
   "source": [
    "from math import pi as p\n",
    "print(p)"
   ]
  },
  {
   "cell_type": "markdown",
   "id": "139131a4",
   "metadata": {
    "slideshow": {
     "slide_type": "slide"
    }
   },
   "source": [
    "But keep your environment clean and don't do this:"
   ]
  },
  {
   "cell_type": "code",
   "execution_count": null,
   "id": "fc7ac6ce",
   "metadata": {
    "slideshow": {
     "slide_type": "slide"
    }
   },
   "outputs": [],
   "source": [
    "#from math import * #this will import everything from the math module in the global name space. Do not do this!"
   ]
  },
  {
   "cell_type": "markdown",
   "id": "ae36d4fd",
   "metadata": {
    "slideshow": {
     "slide_type": "slide"
    }
   },
   "source": [
    "## The random module"
   ]
  },
  {
   "cell_type": "markdown",
   "id": "83addbf0",
   "metadata": {
    "slideshow": {
     "slide_type": "slide"
    }
   },
   "source": [
    "The random module can be used to retrieve pseudo-random numbers and pseudo-random selections."
   ]
  },
  {
   "cell_type": "markdown",
   "id": "188d1d93",
   "metadata": {
    "slideshow": {
     "slide_type": "slide"
    }
   },
   "source": [
    "> Warning: the numbers retreived from the random module are pseudo random and with effort, can be predicted. Do not use the random module if you need true random numbers like in cryptography!"
   ]
  },
  {
   "cell_type": "markdown",
   "id": "03e5fdf0",
   "metadata": {
    "slideshow": {
     "slide_type": "slide"
    }
   },
   "source": [
    "Here is a demonstration of the random module:"
   ]
  },
  {
   "cell_type": "code",
   "execution_count": 20,
   "id": "2ad3faaf",
   "metadata": {
    "slideshow": {
     "slide_type": "fragment"
    }
   },
   "outputs": [],
   "source": [
    "import random"
   ]
  },
  {
   "cell_type": "markdown",
   "id": "c631cf66",
   "metadata": {
    "slideshow": {
     "slide_type": "slide"
    }
   },
   "source": [
    "If you want to know whats in it use dir:"
   ]
  },
  {
   "cell_type": "code",
   "execution_count": 25,
   "id": "137b82c7",
   "metadata": {
    "slideshow": {
     "slide_type": "fragment"
    }
   },
   "outputs": [
    {
     "data": {
      "text/plain": [
       "['BPF',\n",
       " 'LOG4',\n",
       " 'NV_MAGICCONST',\n",
       " 'RECIP_BPF',\n",
       " 'Random',\n",
       " 'SG_MAGICCONST',\n",
       " 'SystemRandom',\n",
       " 'TWOPI',\n",
       " '_Sequence',\n",
       " '_Set',\n",
       " '__all__',\n",
       " '__builtins__',\n",
       " '__cached__',\n",
       " '__doc__',\n",
       " '__file__',\n",
       " '__loader__',\n",
       " '__name__',\n",
       " '__package__',\n",
       " '__spec__',\n",
       " '_accumulate',\n",
       " '_acos',\n",
       " '_bisect',\n",
       " '_ceil',\n",
       " '_cos',\n",
       " '_e',\n",
       " '_exp',\n",
       " '_floor',\n",
       " '_inst',\n",
       " '_log',\n",
       " '_os',\n",
       " '_pi',\n",
       " '_random',\n",
       " '_repeat',\n",
       " '_sha512',\n",
       " '_sin',\n",
       " '_sqrt',\n",
       " '_test',\n",
       " '_test_generator',\n",
       " '_urandom',\n",
       " '_warn',\n",
       " 'betavariate',\n",
       " 'choice',\n",
       " 'choices',\n",
       " 'expovariate',\n",
       " 'gammavariate',\n",
       " 'gauss',\n",
       " 'getrandbits',\n",
       " 'getstate',\n",
       " 'lognormvariate',\n",
       " 'normalvariate',\n",
       " 'paretovariate',\n",
       " 'randbytes',\n",
       " 'randint',\n",
       " 'random',\n",
       " 'randrange',\n",
       " 'sample',\n",
       " 'seed',\n",
       " 'setstate',\n",
       " 'shuffle',\n",
       " 'triangular',\n",
       " 'uniform',\n",
       " 'vonmisesvariate',\n",
       " 'weibullvariate']"
      ]
     },
     "execution_count": 25,
     "metadata": {},
     "output_type": "execute_result"
    }
   ],
   "source": [
    "dir(random)"
   ]
  },
  {
   "cell_type": "markdown",
   "id": "51a4810d",
   "metadata": {
    "slideshow": {
     "slide_type": "slide"
    }
   },
   "source": [
    "What we will use in informatics 1 are just a few functions:\n",
    "- randint\n",
    "- choice\n",
    "- seed"
   ]
  },
  {
   "cell_type": "markdown",
   "id": "cc53e930",
   "metadata": {
    "slideshow": {
     "slide_type": "slide"
    }
   },
   "source": [
    "The randint function returns a pseudo-random number in the range from a specified number up to and including a specified number:"
   ]
  },
  {
   "cell_type": "code",
   "execution_count": 37,
   "id": "d63ef668",
   "metadata": {
    "slideshow": {
     "slide_type": "fragment"
    }
   },
   "outputs": [
    {
     "name": "stdout",
     "output_type": "stream",
     "text": [
      "87\n",
      "23\n"
     ]
    }
   ],
   "source": [
    "import random\n",
    "x = random.randint(1, 100)\n",
    "print(x)\n",
    "\n",
    "y = random.randint(1, 100)\n",
    "print(y)"
   ]
  },
  {
   "cell_type": "markdown",
   "id": "58bc9dfc",
   "metadata": {
    "slideshow": {
     "slide_type": "slide"
    }
   },
   "source": [
    "The choice function will return a random item from any collection"
   ]
  },
  {
   "cell_type": "code",
   "execution_count": 42,
   "id": "e8c140de",
   "metadata": {
    "slideshow": {
     "slide_type": "fragment"
    }
   },
   "outputs": [
    {
     "name": "stdout",
     "output_type": "stream",
     "text": [
      "c\n",
      "a\n"
     ]
    }
   ],
   "source": [
    "import random\n",
    "dna_string = \"gatc\"\n",
    "dna_list = ['g', 'a', 't', 'c']\n",
    "x = random.choice(dna_string)\n",
    "print(x)\n",
    "\n",
    "y = random.choice(dna_list)\n",
    "print(y)"
   ]
  },
  {
   "cell_type": "markdown",
   "id": "7a0889cb",
   "metadata": {
    "slideshow": {
     "slide_type": "slide"
    }
   },
   "source": [
    "The seed function is very handy during writing and debugging. It ensures that the outcome of random is predictable. The sequence of numbers you generate from that point forwards will always be the same."
   ]
  },
  {
   "cell_type": "code",
   "execution_count": 60,
   "id": "111a9235",
   "metadata": {
    "slideshow": {
     "slide_type": "fragment"
    }
   },
   "outputs": [
    {
     "name": "stdout",
     "output_type": "stream",
     "text": [
      "74\n",
      "5\n",
      "--------------------\n",
      "74\n",
      "5\n"
     ]
    }
   ],
   "source": [
    "random.seed(10)\n",
    "print(random.randint(1, 100))\n",
    "print(random.randint(1, 100))\n",
    "print(\"-\" * 20)\n",
    "random.seed(10)\n",
    "print(random.randint(1, 100))\n",
    "print(random.randint(1, 100))"
   ]
  },
  {
   "cell_type": "markdown",
   "id": "b91b1bc7",
   "metadata": {
    "slideshow": {
     "slide_type": "slide"
    }
   },
   "source": [
    "## The math module"
   ]
  },
  {
   "cell_type": "code",
   "execution_count": null,
   "id": "44ce75fc",
   "metadata": {
    "slideshow": {
     "slide_type": "slide"
    }
   },
   "outputs": [],
   "source": [
    "You have already seen that math contains the number pi:"
   ]
  },
  {
   "cell_type": "code",
   "execution_count": 62,
   "id": "bc76c18a",
   "metadata": {
    "slideshow": {
     "slide_type": "fragment"
    }
   },
   "outputs": [
    {
     "name": "stdout",
     "output_type": "stream",
     "text": [
      "3.141592653589793\n"
     ]
    }
   ],
   "source": [
    "import math\n",
    "print(math.pi)"
   ]
  },
  {
   "cell_type": "markdown",
   "id": "dc0fdfcc",
   "metadata": {
    "slideshow": {
     "slide_type": "slide"
    }
   },
   "source": [
    "You can run dir(math) to see whats in it."
   ]
  },
  {
   "cell_type": "code",
   "execution_count": 77,
   "id": "350a4886",
   "metadata": {},
   "outputs": [
    {
     "data": {
      "text/plain": [
       "['__doc__',\n",
       " '__loader__',\n",
       " '__name__',\n",
       " '__package__',\n",
       " '__spec__',\n",
       " 'acos',\n",
       " 'acosh',\n",
       " 'asin',\n",
       " 'asinh',\n",
       " 'atan',\n",
       " 'atan2',\n",
       " 'atanh',\n",
       " 'ceil',\n",
       " 'comb',\n",
       " 'copysign',\n",
       " 'cos',\n",
       " 'cosh',\n",
       " 'degrees',\n",
       " 'dist',\n",
       " 'e',\n",
       " 'erf',\n",
       " 'erfc',\n",
       " 'exp',\n",
       " 'expm1',\n",
       " 'fabs',\n",
       " 'factorial',\n",
       " 'floor',\n",
       " 'fmod',\n",
       " 'frexp',\n",
       " 'fsum',\n",
       " 'gamma',\n",
       " 'gcd',\n",
       " 'hypot',\n",
       " 'inf',\n",
       " 'isclose',\n",
       " 'isfinite',\n",
       " 'isinf',\n",
       " 'isnan',\n",
       " 'isqrt',\n",
       " 'lcm',\n",
       " 'ldexp',\n",
       " 'lgamma',\n",
       " 'log',\n",
       " 'log10',\n",
       " 'log1p',\n",
       " 'log2',\n",
       " 'modf',\n",
       " 'nan',\n",
       " 'nextafter',\n",
       " 'perm',\n",
       " 'pi',\n",
       " 'pow',\n",
       " 'prod',\n",
       " 'radians',\n",
       " 'remainder',\n",
       " 'sin',\n",
       " 'sinh',\n",
       " 'sqrt',\n",
       " 'tan',\n",
       " 'tanh',\n",
       " 'tau',\n",
       " 'trunc',\n",
       " 'ulp']"
      ]
     },
     "execution_count": 77,
     "metadata": {},
     "output_type": "execute_result"
    }
   ],
   "source": [
    "dir(math)"
   ]
  },
  {
   "cell_type": "markdown",
   "id": "a19e9875",
   "metadata": {
    "slideshow": {
     "slide_type": "slide"
    }
   },
   "source": [
    " Some usefull variables and functions:"
   ]
  },
  {
   "cell_type": "code",
   "execution_count": 78,
   "id": "ad11f5e5",
   "metadata": {
    "slideshow": {
     "slide_type": "fragment"
    }
   },
   "outputs": [
    {
     "data": {
      "text/plain": [
       "4.0"
      ]
     },
     "execution_count": 78,
     "metadata": {},
     "output_type": "execute_result"
    }
   ],
   "source": [
    "math.sqrt(16)"
   ]
  },
  {
   "cell_type": "code",
   "execution_count": 63,
   "id": "6eafb907",
   "metadata": {
    "slideshow": {
     "slide_type": "fragment"
    }
   },
   "outputs": [
    {
     "data": {
      "text/plain": [
       "2.718281828459045"
      ]
     },
     "execution_count": 63,
     "metadata": {},
     "output_type": "execute_result"
    }
   ],
   "source": [
    "math.e"
   ]
  },
  {
   "cell_type": "code",
   "execution_count": 85,
   "id": "0c12c523",
   "metadata": {
    "slideshow": {
     "slide_type": "fragment"
    }
   },
   "outputs": [
    {
     "data": {
      "text/plain": [
       "1.0"
      ]
     },
     "execution_count": 85,
     "metadata": {},
     "output_type": "execute_result"
    }
   ],
   "source": [
    "math.exp(math.log(1))"
   ]
  },
  {
   "cell_type": "code",
   "execution_count": 65,
   "id": "96677b40",
   "metadata": {
    "slideshow": {
     "slide_type": "fragment"
    }
   },
   "outputs": [
    {
     "data": {
      "text/plain": [
       "1.0"
      ]
     },
     "execution_count": 65,
     "metadata": {},
     "output_type": "execute_result"
    }
   ],
   "source": [
    "math.log(math.e)"
   ]
  },
  {
   "cell_type": "markdown",
   "id": "40099127",
   "metadata": {
    "slideshow": {
     "slide_type": "slide"
    }
   },
   "source": [
    "Note that that the math.exp and math.log functions uses eulers constant as base by default. You can also define the base yourself:"
   ]
  },
  {
   "cell_type": "code",
   "execution_count": 88,
   "id": "e4017095",
   "metadata": {
    "slideshow": {
     "slide_type": "fragment"
    }
   },
   "outputs": [
    {
     "data": {
      "text/plain": [
       "100.0"
      ]
     },
     "execution_count": 88,
     "metadata": {},
     "output_type": "execute_result"
    }
   ],
   "source": [
    "math.pow(10, 2) #note that we use math.pow instead math.exp"
   ]
  },
  {
   "cell_type": "code",
   "execution_count": 67,
   "id": "d3a7bccc",
   "metadata": {
    "slideshow": {
     "slide_type": "fragment"
    }
   },
   "outputs": [
    {
     "data": {
      "text/plain": [
       "2.0"
      ]
     },
     "execution_count": 67,
     "metadata": {},
     "output_type": "execute_result"
    }
   ],
   "source": [
    "math.log(100, 10)"
   ]
  },
  {
   "cell_type": "markdown",
   "id": "4dd31e67",
   "metadata": {
    "slideshow": {
     "slide_type": "slide"
    }
   },
   "source": [
    "Because base 10 and 2 are used a lot in log calculations, you will find dedicated functions for them:"
   ]
  },
  {
   "cell_type": "code",
   "execution_count": 68,
   "id": "87e8ccb2",
   "metadata": {
    "slideshow": {
     "slide_type": "fragment"
    }
   },
   "outputs": [
    {
     "data": {
      "text/plain": [
       "2.0"
      ]
     },
     "execution_count": 68,
     "metadata": {},
     "output_type": "execute_result"
    }
   ],
   "source": [
    "math.log10(100)"
   ]
  },
  {
   "cell_type": "code",
   "execution_count": 69,
   "id": "ebcb162d",
   "metadata": {
    "slideshow": {
     "slide_type": "fragment"
    }
   },
   "outputs": [
    {
     "data": {
      "text/plain": [
       "3.0"
      ]
     },
     "execution_count": 69,
     "metadata": {},
     "output_type": "execute_result"
    }
   ],
   "source": [
    "math.log2(8)"
   ]
  },
  {
   "cell_type": "markdown",
   "id": "fe71e823",
   "metadata": {
    "slideshow": {
     "slide_type": "slide"
    }
   },
   "source": [
    "Some goniometric functions:"
   ]
  },
  {
   "cell_type": "code",
   "execution_count": 73,
   "id": "d5818097",
   "metadata": {
    "slideshow": {
     "slide_type": "fragment"
    }
   },
   "outputs": [
    {
     "data": {
      "text/plain": [
       "1.0"
      ]
     },
     "execution_count": 73,
     "metadata": {},
     "output_type": "execute_result"
    }
   ],
   "source": [
    "math.sin(math.pi / 2)"
   ]
  },
  {
   "cell_type": "code",
   "execution_count": 76,
   "id": "42794af7",
   "metadata": {
    "scrolled": true,
    "slideshow": {
     "slide_type": "fragment"
    }
   },
   "outputs": [
    {
     "data": {
      "text/plain": [
       "1.0"
      ]
     },
     "execution_count": 76,
     "metadata": {},
     "output_type": "execute_result"
    }
   ],
   "source": [
    "math.cos(0)"
   ]
  },
  {
   "cell_type": "markdown",
   "id": "6d19795f",
   "metadata": {
    "slideshow": {
     "slide_type": "slide"
    }
   },
   "source": [
    "Note that the input is in radians and not in degrees."
   ]
  },
  {
   "cell_type": "markdown",
   "id": "6460cd10",
   "metadata": {
    "slideshow": {
     "slide_type": "slide"
    }
   },
   "source": [
    "Some other useful functions:"
   ]
  },
  {
   "cell_type": "code",
   "execution_count": 94,
   "id": "6546478e",
   "metadata": {
    "slideshow": {
     "slide_type": "fragment"
    }
   },
   "outputs": [
    {
     "data": {
      "text/plain": [
       "1"
      ]
     },
     "execution_count": 94,
     "metadata": {},
     "output_type": "execute_result"
    }
   ],
   "source": [
    "math.floor(1.1234) #floor, returns the largest integer less than or equal to a given number"
   ]
  },
  {
   "cell_type": "code",
   "execution_count": 95,
   "id": "df77aca9",
   "metadata": {
    "slideshow": {
     "slide_type": "fragment"
    }
   },
   "outputs": [
    {
     "data": {
      "text/plain": [
       "2"
      ]
     },
     "execution_count": 95,
     "metadata": {},
     "output_type": "execute_result"
    }
   ],
   "source": [
    "math.ceil(1.1234) #ceiling, rounds a number up to the next largest integer"
   ]
  },
  {
   "cell_type": "markdown",
   "id": "fe16391c",
   "metadata": {
    "slideshow": {
     "slide_type": "slide"
    }
   },
   "source": [
    "The wrap it up:\n",
    "- import modules using the import statement\n",
    "- The random module has a couple of handy functions to deal with pseudo-random numbers\n",
    "- The math module has a couple of handy functions to deal with common math "
   ]
  },
  {
   "cell_type": "code",
   "execution_count": null,
   "id": "64408956",
   "metadata": {
    "slideshow": {
     "slide_type": "slide"
    }
   },
   "outputs": [],
   "source": [
    "The end..."
   ]
  }
 ],
 "metadata": {
  "celltoolbar": "Slideshow",
  "kernelspec": {
   "display_name": "Python 3",
   "language": "python",
   "name": "python3"
  },
  "language_info": {
   "codemirror_mode": {
    "name": "ipython",
    "version": 3
   },
   "file_extension": ".py",
   "mimetype": "text/x-python",
   "name": "python",
   "nbconvert_exporter": "python",
   "pygments_lexer": "ipython3",
   "version": "3.8.8"
  }
 },
 "nbformat": 4,
 "nbformat_minor": 5
}
