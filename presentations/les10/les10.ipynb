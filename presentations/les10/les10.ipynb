{
 "cells": [
  {
   "cell_type": "markdown",
   "id": "d9ec3740",
   "metadata": {},
   "source": [
    "# Lesson 10: Organization and code style\n",
    "\n",
    "Jurre Hageman"
   ]
  },
  {
   "cell_type": "markdown",
   "id": "3b4920f7",
   "metadata": {},
   "source": [
    "This lesson is about code organization and code style.  \n",
    "It is important to organize your code.  \n",
    "Well organized code can be re-used, reduces bugs and is easier to maintain."
   ]
  },
  {
   "cell_type": "markdown",
   "id": "f9fac44b",
   "metadata": {},
   "source": [
    "## Code organization"
   ]
  },
  {
   "cell_type": "markdown",
   "id": "fa97273f",
   "metadata": {},
   "source": [
    "Python offers different levels of code organization:\n",
    "- Functions\n",
    "- Classes (informatics 3)\n",
    "- Modules (informatics 2)"
   ]
  },
  {
   "cell_type": "markdown",
   "id": "1709326b",
   "metadata": {},
   "source": [
    "As you will deal with classes and modules in the next courses, we will focus on organization of a script in functions. Cut your code in functions. As a rule of thumb, limit your functions to around 12 lines of code. Re-use your functions as much as possible and limit duplicated code!"
   ]
  },
  {
   "cell_type": "markdown",
   "id": "694e8a5a",
   "metadata": {},
   "source": [
    "Many programming languages use a main function that is executed when a program runs. In Python, there is no function that automatically executes.  \n",
    "Nevertheless, having an explicit starting point for the start of execution of a program is good practice. \n",
    "Therefore, Python programmers often use a `main` function to define this starting point:"
   ]
  },
  {
   "cell_type": "code",
   "execution_count": 4,
   "id": "b9f618d0",
   "metadata": {},
   "outputs": [
    {
     "name": "stdout",
     "output_type": "stream",
     "text": [
      "75.0\n",
      "Done\n"
     ]
    }
   ],
   "source": [
    "def calc_cg(seq):\n",
    "    \"\"\"Calculates the CG percentage of a sequence\"\"\"\n",
    "    C = seq.count(\"C\")\n",
    "    G = seq.count(\"G\")\n",
    "    CG_perc = (C + G)/len(seq) * 100\n",
    "    return CG_perc\n",
    "\n",
    "\n",
    "def main():\n",
    "    \"\"\"main function that calls other functions\"\"\"\n",
    "    seq = \"GAGC\"\n",
    "    cg_perc = calc_cg(seq)\n",
    "    print(cg_perc)\n",
    "    print(\"Done\")\n",
    "\n",
    "main()"
   ]
  },
  {
   "cell_type": "markdown",
   "id": "0dc56945",
   "metadata": {},
   "source": [
    "Note that in the previous example the main function calls the `calc_cg` function.  \n",
    "The first line after the function header is a multi-line string that describes the function.  \n",
    "Use multi-line strings for this as they also act as doc-strings in Python. This will be explained in informatics 2. For now, just remember to add the description in a multiline string. "
   ]
  },
  {
   "cell_type": "markdown",
   "id": "830fb2ff",
   "metadata": {},
   "source": [
    "Now imagine that you need to write a (command-line) program with similar functionality as shown in [this link](https://www.bioinformatics.org/sms/rev_comp.html).\n",
    "The program accepts a DNA sequence and can:\n",
    "- reverse DNA\n",
    "- complement DNA\n",
    "- reverse complement DNA"
   ]
  },
  {
   "cell_type": "markdown",
   "id": "7c12ce84",
   "metadata": {},
   "source": [
    "Now how would you organize such a program?  \n",
    "Start with writing function headers. \n",
    "Include multi-line strings with a short description of the function.\n",
    "Include a main function.  \n",
    "Use `pass` to prevent errors:  "
   ]
  },
  {
   "cell_type": "code",
   "execution_count": 7,
   "id": "8ba7c4f8",
   "metadata": {},
   "outputs": [],
   "source": [
    "def reverse(seq):\n",
    "    \"\"\"Returns the reverse of a DNA string\"\"\"\n",
    "    pass\n",
    "\n",
    "def complement(seq):\n",
    "    \"\"\"Returns the complement of a DNA string\"\"\"\n",
    "    pass\n",
    "\n",
    "def reverse_complement(seq):\n",
    "    \"\"\"Returns the reverse complement of a DNA string\"\"\"\n",
    "    pass\n",
    "\n",
    "def main():\n",
    "    \"\"\"Main function that starts the scripts\"\"\"\n",
    "    "
   ]
  },
  {
   "cell_type": "markdown",
   "id": "801c8e10",
   "metadata": {},
   "source": [
    "The next step is to write the functions.  \n",
    "Test them step by step.  \n",
    "Make sure that the function works as expected:"
   ]
  },
  {
   "cell_type": "code",
   "execution_count": 12,
   "id": "7d15877d",
   "metadata": {},
   "outputs": [
    {
     "name": "stdout",
     "output_type": "stream",
     "text": [
      "input: GACC\n",
      "reverse: CCAG\n",
      "complement: CTGG\n",
      "reverse-complement: GGTC\n"
     ]
    }
   ],
   "source": [
    "def reverse(seq):\n",
    "    \"\"\"Returns the reverse of a DNA string\"\"\"\n",
    "    return seq[::-1]\n",
    "\n",
    "def complement(seq):\n",
    "    \"\"\"Returns the complement of a DNA string\"\"\"\n",
    "    bases = {\"A\": \"T\", \"T\": \"A\", \"C\": \"G\", \"G\": \"C\"}\n",
    "    comp = \"\"\n",
    "    for nuc in seq:\n",
    "        comp += bases[nuc]\n",
    "    return comp\n",
    "    \n",
    "def reverse_complement(seq):\n",
    "    \"\"\"Returns the reverse complement of a DNA string\"\"\"\n",
    "    rev = reverse(seq)\n",
    "    rev_comp = complement(rev)\n",
    "    return rev_comp\n",
    "\n",
    "def main():\n",
    "    \"\"\"Main function that starts the scripts\"\"\"\n",
    "    seq = \"GACC\"\n",
    "    print(\"input:\", seq)\n",
    "    print(\"reverse:\", reverse(seq))\n",
    "    print(\"complement:\", complement(seq))\n",
    "    print(\"reverse-complement:\", reverse_complement(seq))\n",
    "\n",
    "main()"
   ]
  },
  {
   "cell_type": "markdown",
   "id": "b608df80",
   "metadata": {},
   "source": [
    "Note that the reverse_complement function has no code duplication. Instead, it calls the reverse function and the complement function to create a reverse complement of the sequence."
   ]
  },
  {
   "cell_type": "markdown",
   "id": "16a7dbc9",
   "metadata": {},
   "source": [
    "More about code organization in the informatics 2 course."
   ]
  }
 ],
 "metadata": {
  "kernelspec": {
   "display_name": "Python 3 (ipykernel)",
   "language": "python",
   "name": "python3"
  },
  "language_info": {
   "codemirror_mode": {
    "name": "ipython",
    "version": 3
   },
   "file_extension": ".py",
   "mimetype": "text/x-python",
   "name": "python",
   "nbconvert_exporter": "python",
   "pygments_lexer": "ipython3",
   "version": "3.9.7"
  }
 },
 "nbformat": 4,
 "nbformat_minor": 5
}
