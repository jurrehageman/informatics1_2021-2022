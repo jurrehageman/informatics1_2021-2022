{
 "cells": [
  {
   "cell_type": "markdown",
   "id": "d9ec3740",
   "metadata": {
    "slideshow": {
     "slide_type": "slide"
    }
   },
   "source": [
    "# Lesson 10: Organization and code style\n",
    "\n",
    "Jurre Hageman"
   ]
  },
  {
   "cell_type": "markdown",
   "id": "3b4920f7",
   "metadata": {
    "slideshow": {
     "slide_type": "slide"
    }
   },
   "source": [
    "This lesson is about code organization and code style.  \n",
    "It is important to put effort in organizing your code.  \n",
    "Well organized code can be re-used, reduces the chance for errors and is much easier to maintain."
   ]
  },
  {
   "cell_type": "markdown",
   "id": "f9fac44b",
   "metadata": {
    "slideshow": {
     "slide_type": "slide"
    }
   },
   "source": [
    "## Code organization"
   ]
  },
  {
   "cell_type": "markdown",
   "id": "fa97273f",
   "metadata": {
    "slideshow": {
     "slide_type": "slide"
    }
   },
   "source": [
    "Python offers different levels of code organization:\n",
    "- Functions\n",
    "- Classes (informatics 3)\n",
    "- Modules (informatics 2)"
   ]
  },
  {
   "cell_type": "markdown",
   "id": "1709326b",
   "metadata": {
    "slideshow": {
     "slide_type": "slide"
    }
   },
   "source": [
    "As you will deal with classes and modules in the next courses, we will focus on organization of a script in functions. Organize your code in functions. As a rule of thumb, limit your functions to around 12 lines of code. Re-use your functions as much as possible and limit code duplication."
   ]
  },
  {
   "cell_type": "markdown",
   "id": "694e8a5a",
   "metadata": {
    "slideshow": {
     "slide_type": "slide"
    }
   },
   "source": [
    "Many programming languages use a main function that is executed when a program runs. In Python, there is no function that automatically executes.  \n",
    "Nevertheless, having an explicit starting point for the start of execution of a program is good practice. \n",
    "Therefore, Python programmers often use a `main` function to define this starting point:"
   ]
  },
  {
   "cell_type": "code",
   "execution_count": 4,
   "id": "b9f618d0",
   "metadata": {
    "slideshow": {
     "slide_type": "slide"
    }
   },
   "outputs": [
    {
     "name": "stdout",
     "output_type": "stream",
     "text": [
      "75.0\n",
      "Done\n"
     ]
    }
   ],
   "source": [
    "def calc_cg(seq):\n",
    "    \"\"\"Calculates the CG percentage of a sequence\"\"\"\n",
    "    C = seq.count(\"C\")\n",
    "    G = seq.count(\"G\")\n",
    "    CG_perc = (C + G)/len(seq) * 100\n",
    "    return CG_perc\n",
    "\n",
    "\n",
    "def main():\n",
    "    \"\"\"Main function that calls other functions\"\"\"\n",
    "    seq = \"GAGC\"\n",
    "    cg_perc = calc_cg(seq)\n",
    "    print(cg_perc)\n",
    "    print(\"Done\")\n",
    "\n",
    "main()"
   ]
  },
  {
   "cell_type": "markdown",
   "id": "0dc56945",
   "metadata": {
    "slideshow": {
     "slide_type": "slide"
    }
   },
   "source": [
    "Note that in the previous example the main function calls the `calc_cg` function.  \n",
    "The first line after the function header is a multi-line string that describes the function.  \n",
    "Use multi-line strings (strings between triple quotes, they may span multiple lines) for this as they also act as doc-strings in Python. This will be explained in informatics 2. For now, just remember to add the description in a multiline string. "
   ]
  },
  {
   "cell_type": "markdown",
   "id": "830fb2ff",
   "metadata": {
    "slideshow": {
     "slide_type": "slide"
    }
   },
   "source": [
    "Now imagine that you need to write a (command-line) program with similar functionality as shown in [this link](https://www.bioinformatics.org/sms/rev_comp.html).\n",
    "The program accepts a DNA sequence and can:\n",
    "- reverse DNA\n",
    "- complement DNA\n",
    "- reverse complement DNA"
   ]
  },
  {
   "cell_type": "markdown",
   "id": "7c12ce84",
   "metadata": {
    "slideshow": {
     "slide_type": "slide"
    }
   },
   "source": [
    "Now how would you organize such a program?  \n",
    "Start with writing function headers. \n",
    "Include multi-line strings with a short description of the function.\n",
    "Include a main function.  \n",
    "Use `pass` to prevent an IndentationError:  "
   ]
  },
  {
   "cell_type": "code",
   "execution_count": 8,
   "id": "8ba7c4f8",
   "metadata": {
    "slideshow": {
     "slide_type": "slide"
    }
   },
   "outputs": [],
   "source": [
    "def reverse(seq):\n",
    "    \"\"\"Returns the reverse of a DNA string\"\"\"\n",
    "    pass\n",
    "\n",
    "def complement(seq):\n",
    "    \"\"\"Returns the complement of a DNA string\"\"\"\n",
    "    pass\n",
    "\n",
    "def reverse_complement(seq):\n",
    "    \"\"\"Returns the reverse complement of a DNA string\"\"\"\n",
    "    pass\n",
    "\n",
    "def main():\n",
    "    \"\"\"Main function that starts the scripts\"\"\"\n",
    "    pass"
   ]
  },
  {
   "cell_type": "markdown",
   "id": "801c8e10",
   "metadata": {
    "slideshow": {
     "slide_type": "slide"
    }
   },
   "source": [
    "The next step is to write the functions.  \n",
    "Test them step by step.  \n",
    "Make sure that the function works as expected:"
   ]
  },
  {
   "cell_type": "code",
   "execution_count": 12,
   "id": "7d15877d",
   "metadata": {
    "slideshow": {
     "slide_type": "slide"
    }
   },
   "outputs": [
    {
     "name": "stdout",
     "output_type": "stream",
     "text": [
      "input: GACC\n",
      "reverse: CCAG\n",
      "complement: CTGG\n",
      "reverse-complement: GGTC\n"
     ]
    }
   ],
   "source": [
    "def reverse(seq):\n",
    "    \"\"\"Returns the reverse of a DNA string\"\"\"\n",
    "    return seq[::-1]\n",
    "\n",
    "def complement(seq):\n",
    "    \"\"\"Returns the complement of a DNA string\"\"\"\n",
    "    bases = {\"A\": \"T\", \"T\": \"A\", \"C\": \"G\", \"G\": \"C\"}\n",
    "    comp = \"\"\n",
    "    for nuc in seq:\n",
    "        comp += bases[nuc]\n",
    "    return comp\n",
    "    \n",
    "def reverse_complement(seq):\n",
    "    \"\"\"Returns the reverse complement of a DNA string\"\"\"\n",
    "    rev = reverse(seq)\n",
    "    rev_comp = complement(rev)\n",
    "    return rev_comp\n",
    "\n",
    "def main():\n",
    "    \"\"\"Main function that starts the scripts\"\"\"\n",
    "    seq = \"GACC\"\n",
    "    print(\"input:\", seq)\n",
    "    print(\"reverse:\", reverse(seq))\n",
    "    print(\"complement:\", complement(seq))\n",
    "    print(\"reverse-complement:\", reverse_complement(seq))\n",
    "\n",
    "main()"
   ]
  },
  {
   "cell_type": "markdown",
   "id": "b608df80",
   "metadata": {
    "slideshow": {
     "slide_type": "slide"
    }
   },
   "source": [
    "Note that the reverse_complement function has no code duplication. Instead, it calls the reverse function and the complement function to create a reverse complement of the sequence."
   ]
  },
  {
   "cell_type": "markdown",
   "id": "16a7dbc9",
   "metadata": {
    "slideshow": {
     "slide_type": "slide"
    }
   },
   "source": [
    "More about code organization in the informatics 2 course."
   ]
  },
  {
   "cell_type": "markdown",
   "id": "b2f5c46e",
   "metadata": {
    "slideshow": {
     "slide_type": "slide"
    }
   },
   "source": [
    "## Code style"
   ]
  },
  {
   "cell_type": "markdown",
   "id": "249d99e9",
   "metadata": {
    "slideshow": {
     "slide_type": "slide"
    }
   },
   "source": [
    "Python is widely appreciated for its high level of readability. Nevertheless, Python code can be written in an inconsistent style. To prevent inconsistent code, it is important to comply with the code style guidelines. Many programming languages have a code style guideline. The code style guideline op Python is named PEP8 and can be found [here](https://www.python.org/dev/peps/pep-0008/)."
   ]
  },
  {
   "cell_type": "markdown",
   "id": "039727fc",
   "metadata": {
    "slideshow": {
     "slide_type": "slide"
    }
   },
   "source": [
    "Read the style guide and try to comply with it as much as possible. We will discuss some style recommandations during the lesson. Look at your code that you have written so far. Does it comply with PEP8? And the code of your teachers? It is well possible that it does not always comply with the PEP8 code style."
   ]
  },
  {
   "cell_type": "markdown",
   "id": "3aa03f9e",
   "metadata": {
    "slideshow": {
     "slide_type": "slide"
    }
   },
   "source": [
    "Fortunately, you don't need to remember everything from the style guide. Integrated development environments such as PyCharm and Visual Code can be extended with linters that help you to comply with the PEP8 style guide. Even Jupyter notebooks can be extended with plugins that help on PEP8 styling."
   ]
  },
  {
   "cell_type": "markdown",
   "id": "11f79c99",
   "metadata": {
    "slideshow": {
     "slide_type": "slide"
    }
   },
   "source": [
    "Another posibility is to use online PEP8 checkers:\n",
    "http://pep8online.com/"
   ]
  },
  {
   "cell_type": "markdown",
   "id": "6422b328",
   "metadata": {
    "slideshow": {
     "slide_type": "slide"
    }
   },
   "source": [
    "Sometimes, you need to break the rules. To quote Guido van Rossum (thecreator of Python): \"However, know when to be inconsistent -- sometimes style guide recommendations just aren't applicable.\""
   ]
  },
  {
   "cell_type": "markdown",
   "id": "b6931129",
   "metadata": {
    "slideshow": {
     "slide_type": "slide"
    }
   },
   "source": [
    "We will end the course with some tips from PEP20, \"The Zen of Python\":"
   ]
  },
  {
   "cell_type": "code",
   "execution_count": 9,
   "id": "8a0528c6",
   "metadata": {
    "slideshow": {
     "slide_type": "slide"
    }
   },
   "outputs": [
    {
     "name": "stdout",
     "output_type": "stream",
     "text": [
      "The Zen of Python, by Tim Peters\n",
      "\n",
      "Beautiful is better than ugly.\n",
      "Explicit is better than implicit.\n",
      "Simple is better than complex.\n",
      "Complex is better than complicated.\n",
      "Flat is better than nested.\n",
      "Sparse is better than dense.\n",
      "Readability counts.\n",
      "Special cases aren't special enough to break the rules.\n",
      "Although practicality beats purity.\n",
      "Errors should never pass silently.\n",
      "Unless explicitly silenced.\n",
      "In the face of ambiguity, refuse the temptation to guess.\n",
      "There should be one-- and preferably only one --obvious way to do it.\n",
      "Although that way may not be obvious at first unless you're Dutch.\n",
      "Now is better than never.\n",
      "Although never is often better than *right* now.\n",
      "If the implementation is hard to explain, it's a bad idea.\n",
      "If the implementation is easy to explain, it may be a good idea.\n",
      "Namespaces are one honking great idea -- let's do more of those!\n"
     ]
    }
   ],
   "source": [
    "import this"
   ]
  },
  {
   "cell_type": "markdown",
   "id": "d94d9141",
   "metadata": {
    "slideshow": {
     "slide_type": "slide"
    }
   },
   "source": [
    "The end..."
   ]
  }
 ],
 "metadata": {
  "celltoolbar": "Slideshow",
  "kernelspec": {
   "display_name": "Python 3",
   "language": "python",
   "name": "python3"
  },
  "language_info": {
   "codemirror_mode": {
    "name": "ipython",
    "version": 3
   },
   "file_extension": ".py",
   "mimetype": "text/x-python",
   "name": "python",
   "nbconvert_exporter": "python",
   "pygments_lexer": "ipython3",
   "version": "3.8.8"
  }
 },
 "nbformat": 4,
 "nbformat_minor": 5
}
