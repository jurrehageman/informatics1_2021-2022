{
 "cells": [
  {
   "cell_type": "markdown",
   "metadata": {
    "slideshow": {
     "slide_type": "slide"
    }
   },
   "source": [
    "# Les 4: Flow Control\n",
    "\n",
    "Jurre Hageman & Kim van Adrichem"
   ]
  },
  {
   "cell_type": "markdown",
   "metadata": {
    "slideshow": {
     "slide_type": "slide"
    }
   },
   "source": [
    "## if/elif/else"
   ]
  },
  {
   "cell_type": "markdown",
   "metadata": {
    "slideshow": {
     "slide_type": "slide"
    }
   },
   "source": [
    "This lesson will be about flow control. The flow control of a program defines to order of code execution. A Python program's flow control is regulated by:  \n",
    "- conditional statements `if`, `elif`, `else`.\n",
    "- loops `for` and `while` \n",
    "- function calls (functions will be covered in a later lesson).  \n",
    "Think of conditionals as branch points for your code to execute. \n",
    "Imagine `if` and `else` statements as railroad switches.  \n",
    "![railroad](figs/fig1.jpg)\n",
    "\n",
    "Source: https://en.wikipedia.org/wiki/Railroad_switch  \n",
    "Each switch is analogous to an if/else statement.\n",
    "If/elif/else can be visualized as a railroad diverging in 3 directions at a particular switch.  \n",
    "An example of `if` in the most basic form:"
   ]
  },
  {
   "cell_type": "code",
   "execution_count": 1,
   "metadata": {
    "slideshow": {
     "slide_type": "slide"
    }
   },
   "outputs": [
    {
     "name": "stdout",
     "output_type": "stream",
     "text": [
      "You are an adult\n"
     ]
    }
   ],
   "source": [
    "age = 20\n",
    "if age >= 18:\n",
    "    print(\"You are an adult\")"
   ]
  },
  {
   "cell_type": "markdown",
   "metadata": {
    "slideshow": {
     "slide_type": "slide"
    }
   },
   "source": [
    "If works as a switch. Our code is diverging at the `if` statement. But you might be a bit confused as nothing is executed for the alternative route. You can use `else` here:"
   ]
  },
  {
   "cell_type": "code",
   "execution_count": 2,
   "metadata": {
    "slideshow": {
     "slide_type": "fragment"
    }
   },
   "outputs": [
    {
     "name": "stdout",
     "output_type": "stream",
     "text": [
      "You are an adult\n"
     ]
    }
   ],
   "source": [
    "age = 20\n",
    "if age >= 18:\n",
    "    print(\"You are an adult\")\n",
    "else:\n",
    "    print(\"You are not an adult\")"
   ]
  },
  {
   "cell_type": "code",
   "execution_count": 3,
   "metadata": {
    "slideshow": {
     "slide_type": "fragment"
    }
   },
   "outputs": [
    {
     "name": "stdout",
     "output_type": "stream",
     "text": [
      "You are not an adult\n"
     ]
    }
   ],
   "source": [
    "age = 17\n",
    "if age >= 18:\n",
    "    print(\"You are an adult\")\n",
    "else:\n",
    "    print(\"You are not an adult\")"
   ]
  },
  {
   "cell_type": "markdown",
   "metadata": {
    "slideshow": {
     "slide_type": "slide"
    }
   },
   "source": [
    "You can use `elif` (else if) of you like a branchepoint consisting of more than 2 subroads:"
   ]
  },
  {
   "cell_type": "code",
   "execution_count": 4,
   "metadata": {
    "slideshow": {
     "slide_type": "fragment"
    }
   },
   "outputs": [
    {
     "name": "stdout",
     "output_type": "stream",
     "text": [
      "Teen\n"
     ]
    }
   ],
   "source": [
    "age = 14\n",
    "if age < 2:\n",
    "    print(\"Infant\")\n",
    "elif age < 5:\n",
    "    print(\"Toddler\")\n",
    "elif age < 13:\n",
    "    print(\"Child\")\n",
    "elif age < 20:\n",
    "    print(\"Teen\")\n",
    "elif age < 40:\n",
    "    print(\"Adult\")\n",
    "elif age < 60:\n",
    "    print(\"Middle age adult\")\n",
    "else:\n",
    "    print(\"Senior adult\")"
   ]
  },
  {
   "cell_type": "markdown",
   "metadata": {
    "slideshow": {
     "slide_type": "slide"
    }
   },
   "source": [
    "The code above will run untill a condition is `True`. As soon as this is the case, the rest of the `elif` statements as well as the else statements are skipped.  \n",
    "Compare the previous code with the following code:"
   ]
  },
  {
   "cell_type": "code",
   "execution_count": 5,
   "metadata": {
    "slideshow": {
     "slide_type": "slide"
    }
   },
   "outputs": [
    {
     "name": "stdout",
     "output_type": "stream",
     "text": [
      "Teen\n",
      "Adult\n",
      "Middle age adult\n"
     ]
    }
   ],
   "source": [
    "age = 14\n",
    "if age < 2:\n",
    "    print(\"Infant\")\n",
    "if age < 5:\n",
    "    print(\"Toddler\")\n",
    "if age < 13:\n",
    "    print(\"Child\")\n",
    "if age < 20:\n",
    "    print(\"Teen\")\n",
    "if age < 40:\n",
    "    print(\"Adult\")\n",
    "if age < 60:\n",
    "    print(\"Middle age adult\")\n",
    "else:\n",
    "    print(\"Senior adult\")"
   ]
  },
  {
   "cell_type": "markdown",
   "metadata": {
    "slideshow": {
     "slide_type": "slide"
    }
   },
   "source": [
    "From the previous code it becomes clear that a block of if/elif/else code runs untill a condition is met True. As soon this is the case, the execution of the if/elif/else will be stopped.  \n",
    "Now what if multiple conditions should be True or 1 of two conditions should be True?\n",
    "You can use `and` and `or` to accomplish this:\n"
   ]
  },
  {
   "cell_type": "code",
   "execution_count": 6,
   "metadata": {
    "slideshow": {
     "slide_type": "slide"
    }
   },
   "outputs": [
    {
     "name": "stdout",
     "output_type": "stream",
     "text": [
      "teen\n"
     ]
    }
   ],
   "source": [
    "age = 14\n",
    "if age > 13 and age < 20:\n",
    "    print(\"teen\")\n",
    "else:\n",
    "    \"not a teen\""
   ]
  },
  {
   "cell_type": "markdown",
   "metadata": {
    "slideshow": {
     "slide_type": "slide"
    }
   },
   "source": [
    "Note that you can accomplish the same by nesting `if` expressions:"
   ]
  },
  {
   "cell_type": "code",
   "execution_count": 7,
   "metadata": {
    "slideshow": {
     "slide_type": "fragment"
    }
   },
   "outputs": [
    {
     "name": "stdout",
     "output_type": "stream",
     "text": [
      "teen\n"
     ]
    }
   ],
   "source": [
    "if age > 13:\n",
    "    if age < 20:\n",
    "        print(\"teen\")\n",
    "else:\n",
    "    print(\"not a teen\")"
   ]
  },
  {
   "cell_type": "markdown",
   "metadata": {
    "slideshow": {
     "slide_type": "slide"
    }
   },
   "source": [
    "Now an example for `or`:"
   ]
  },
  {
   "cell_type": "code",
   "execution_count": 8,
   "metadata": {
    "slideshow": {
     "slide_type": "fragment"
    }
   },
   "outputs": [
    {
     "name": "stdout",
     "output_type": "stream",
     "text": [
      "weekend\n"
     ]
    }
   ],
   "source": [
    "day = \"Saturday\"\n",
    "if day == \"Saturday\" or day == \"Sunday\":\n",
    "    print(\"weekend\")\n",
    "else:\n",
    "    print(\"not Weekend\")"
   ]
  },
  {
   "cell_type": "markdown",
   "metadata": {
    "slideshow": {
     "slide_type": "slide"
    }
   },
   "source": [
    "Note that you can accomplish the same using an `elif`:"
   ]
  },
  {
   "cell_type": "code",
   "execution_count": 9,
   "metadata": {
    "slideshow": {
     "slide_type": "fragment"
    }
   },
   "outputs": [
    {
     "name": "stdout",
     "output_type": "stream",
     "text": [
      "weekend\n"
     ]
    }
   ],
   "source": [
    "day = \"Saturday\"\n",
    "if day == \"Saturday\":\n",
    "    print(\"weekend\")\n",
    "elif day == \"Sunday\":\n",
    "    print(\"weekend\")\n",
    "else:\n",
    "    print(\"not Weekend\")"
   ]
  },
  {
   "cell_type": "markdown",
   "metadata": {
    "slideshow": {
     "slide_type": "slide"
    }
   },
   "source": [
    "## For loop"
   ]
  },
  {
   "cell_type": "markdown",
   "metadata": {
    "slideshow": {
     "slide_type": "slide"
    }
   },
   "source": [
    "We already covered the for loop in a previous lesson. A for loop is used for iterating over a collection (such as strings, lists, tuples, dictionaries, sets, range objects or file objects)."
   ]
  },
  {
   "cell_type": "code",
   "execution_count": 10,
   "metadata": {
    "slideshow": {
     "slide_type": "slide"
    }
   },
   "outputs": [
    {
     "name": "stdout",
     "output_type": "stream",
     "text": [
      "milk\n",
      "coffee\n",
      "bananas\n"
     ]
    }
   ],
   "source": [
    "groceries = ['milk', 'coffee', 'bananas']\n",
    "for item in groceries:\n",
    "    print(item)"
   ]
  },
  {
   "cell_type": "markdown",
   "metadata": {
    "slideshow": {
     "slide_type": "slide"
    }
   },
   "source": [
    "## Break"
   ]
  },
  {
   "cell_type": "markdown",
   "metadata": {
    "slideshow": {
     "slide_type": "slide"
    }
   },
   "source": [
    "We did not cover the `break` statement yet. You can use `break` to exit a for loop:  "
   ]
  },
  {
   "cell_type": "code",
   "execution_count": 11,
   "metadata": {
    "slideshow": {
     "slide_type": "fragment"
    }
   },
   "outputs": [
    {
     "name": "stdout",
     "output_type": "stream",
     "text": [
      "number 1\n",
      "number 4\n",
      "number 9\n",
      "Yes, found it 7\n"
     ]
    }
   ],
   "source": [
    "magic_number = 7\n",
    "nums = [1, 4, 9, 7, 5, 3]\n",
    "for num in nums:\n",
    "    if num == magic_number:\n",
    "        print(\"Yes, found it\", magic_number)\n",
    "        break\n",
    "    else:\n",
    "        print(\"number\", num)"
   ]
  },
  {
   "cell_type": "markdown",
   "metadata": {
    "slideshow": {
     "slide_type": "slide"
    }
   },
   "source": [
    "As you can see, the for loop stopped being executed as soon as the magic number was found."
   ]
  },
  {
   "cell_type": "markdown",
   "metadata": {
    "slideshow": {
     "slide_type": "slide"
    }
   },
   "source": [
    "## Continue"
   ]
  },
  {
   "cell_type": "markdown",
   "metadata": {
    "slideshow": {
     "slide_type": "slide"
    }
   },
   "source": [
    "You can use `continue` to skip the rest of the code in a loop and continue to the next iteration:"
   ]
  },
  {
   "cell_type": "code",
   "execution_count": 12,
   "metadata": {
    "slideshow": {
     "slide_type": "slide"
    }
   },
   "outputs": [
    {
     "name": "stdout",
     "output_type": "stream",
     "text": [
      "number 1\n",
      "number 4\n",
      "number 9\n",
      "number 5\n",
      "number 3\n"
     ]
    }
   ],
   "source": [
    "bad_number = 13\n",
    "nums = [1, 4, 9, 13, 5, 3]\n",
    "for num in nums:\n",
    "    if num == bad_number:\n",
    "        continue\n",
    "    else:\n",
    "        print(\"number\", num)"
   ]
  },
  {
   "cell_type": "markdown",
   "metadata": {
    "slideshow": {
     "slide_type": "slide"
    }
   },
   "source": [
    "The `else` clause in the for loop"
   ]
  },
  {
   "cell_type": "markdown",
   "metadata": {
    "slideshow": {
     "slide_type": "slide"
    }
   },
   "source": [
    "for loops also have an optional else clause:"
   ]
  },
  {
   "cell_type": "code",
   "execution_count": 13,
   "metadata": {
    "slideshow": {
     "slide_type": "fragment"
    }
   },
   "outputs": [
    {
     "name": "stdout",
     "output_type": "stream",
     "text": [
      "item not found\n"
     ]
    }
   ],
   "source": [
    "item_to_find = \"butter\"\n",
    "items = ['bread', 'milk', 'coffee']\n",
    "for item in items:\n",
    "    if item == item_to_find:\n",
    "        print(\"found it\")\n",
    "else:\n",
    "    print(\"item not found\")"
   ]
  },
  {
   "cell_type": "markdown",
   "metadata": {
    "slideshow": {
     "slide_type": "slide"
    }
   },
   "source": [
    "## While loop"
   ]
  },
  {
   "cell_type": "markdown",
   "metadata": {
    "slideshow": {
     "slide_type": "slide"
    }
   },
   "source": [
    "A while loop runs a set of statements as long as a condition is true.  "
   ]
  },
  {
   "cell_type": "code",
   "execution_count": 14,
   "metadata": {
    "slideshow": {
     "slide_type": "fragment"
    }
   },
   "outputs": [
    {
     "name": "stdout",
     "output_type": "stream",
     "text": [
      "0\n",
      "1\n",
      "2\n",
      "3\n",
      "4\n",
      "5\n",
      "6\n"
     ]
    }
   ],
   "source": [
    "num = 0\n",
    "while num < 7:\n",
    "    print(num)\n",
    "    num += 1"
   ]
  },
  {
   "cell_type": "markdown",
   "metadata": {
    "slideshow": {
     "slide_type": "slide"
    }
   },
   "source": [
    "Note that you need to create the variable `num` before the `while` loop.  \n",
    "If you do not create it, you will encounter a NameError.  \n",
    "Also be aware that `while` loops are a bit risky because you can easily encounter an infinite loop.  \n",
    "If you forget the `num += 1` expression in the previous example, you will not be able to exit the while loop.  \n",
    "Num will always be 0 and never be larger than 6.  \n",
    "It also matters where you put the `num += 1` expression.  \n",
    "Putting it below the print statement will give a different result:"
   ]
  },
  {
   "cell_type": "code",
   "execution_count": 15,
   "metadata": {
    "slideshow": {
     "slide_type": "slide"
    }
   },
   "outputs": [
    {
     "name": "stdout",
     "output_type": "stream",
     "text": [
      "1\n",
      "2\n",
      "3\n",
      "4\n",
      "5\n",
      "6\n",
      "7\n"
     ]
    }
   ],
   "source": [
    "num = 0\n",
    "while num < 7:\n",
    "    num += 1\n",
    "    print(num)"
   ]
  },
  {
   "cell_type": "markdown",
   "metadata": {
    "slideshow": {
     "slide_type": "slide"
    }
   },
   "source": [
    "Note that at the start of the last iteration `num` will be 6.  \n",
    "It will be incremented by 1 and at the start of the next iteration, the expression `num < 7` will yield `False`. "
   ]
  },
  {
   "cell_type": "markdown",
   "metadata": {
    "slideshow": {
     "slide_type": "slide"
    }
   },
   "source": [
    "Like for loops, you can use `break` and `continue` for while loops too:"
   ]
  },
  {
   "cell_type": "code",
   "execution_count": 16,
   "metadata": {
    "slideshow": {
     "slide_type": "slide"
    }
   },
   "outputs": [
    {
     "name": "stdout",
     "output_type": "stream",
     "text": [
      "1\n",
      "2\n",
      "3\n"
     ]
    }
   ],
   "source": [
    "num = 0\n",
    "while num < 7:\n",
    "    num += 1\n",
    "    if num == 4:\n",
    "        break\n",
    "    print(num)\n"
   ]
  },
  {
   "cell_type": "code",
   "execution_count": 17,
   "metadata": {
    "slideshow": {
     "slide_type": "slide"
    }
   },
   "outputs": [
    {
     "name": "stdout",
     "output_type": "stream",
     "text": [
      "1\n",
      "2\n",
      "3\n",
      "5\n",
      "6\n",
      "7\n"
     ]
    }
   ],
   "source": [
    "num = 0\n",
    "while num < 7:\n",
    "    num += 1\n",
    "    if num == 4:\n",
    "        continue\n",
    "    print(num)\n",
    "    "
   ]
  },
  {
   "cell_type": "markdown",
   "metadata": {
    "slideshow": {
     "slide_type": "slide"
    }
   },
   "source": [
    "What will happen if you put the `num += 1` statement at the line below `continue` but at the same indentation level as the `if` statement?  \n",
    "Do you understand this behaviour?"
   ]
  },
  {
   "cell_type": "markdown",
   "metadata": {
    "slideshow": {
     "slide_type": "slide"
    }
   },
   "source": [
    "Like the `for` loop, the `while` loop can also be combined with an `else`:"
   ]
  },
  {
   "cell_type": "code",
   "execution_count": 18,
   "metadata": {
    "slideshow": {
     "slide_type": "slide"
    }
   },
   "outputs": [
    {
     "name": "stdout",
     "output_type": "stream",
     "text": [
      "item not found\n"
     ]
    }
   ],
   "source": [
    "item_to_find = \"butter\"\n",
    "items = ['bread', 'milk', 'coffee']\n",
    "while items:\n",
    "    if item[0] == item_to_find:\n",
    "        print(\"found it\")\n",
    "    items.pop(0) # remove first item of list\n",
    "else:\n",
    "    print(\"item not found\")"
   ]
  },
  {
   "cell_type": "markdown",
   "metadata": {
    "slideshow": {
     "slide_type": "slide"
    }
   },
   "source": [
    "In the code above, the expression `while items` might look a bit confusing. Remember that `while` will implicitly test if an expression is `True` or `False`. Items is a list. If a list is not empty than converting a list to a boolean will return true. If empty, it will return false: "
   ]
  },
  {
   "cell_type": "code",
   "execution_count": 19,
   "metadata": {
    "slideshow": {
     "slide_type": "slide"
    }
   },
   "outputs": [
    {
     "name": "stdout",
     "output_type": "stream",
     "text": [
      "False\n",
      "True\n"
     ]
    }
   ],
   "source": [
    "my_list1 = []\n",
    "print(bool(my_list1))\n",
    "my_list2 = ['bread', 'milk', 'coffee']\n",
    "print(bool(my_list2))"
   ]
  },
  {
   "cell_type": "markdown",
   "metadata": {
    "slideshow": {
     "slide_type": "slide"
    }
   },
   "source": [
    "In the previous while loop, the while loop will run untill the list is empty.  \n",
    "An empty list will return false.  \n",
    "Likewise, you will often see the expression `while True` (especially in games).  \n",
    "`while True` is essentially the same as `while True == True`.  \n",
    "Since true is always true, this is used to initiate a deliberate infinite loop.  \n",
    "The break statement will be used to break out of the while loop.  \n",
    "We will deal with this behaviour at a future lesson.  "
   ]
  },
  {
   "cell_type": "markdown",
   "metadata": {
    "slideshow": {
     "slide_type": "slide"
    }
   },
   "source": [
    "The end..."
   ]
  }
 ],
 "metadata": {
  "celltoolbar": "Slideshow",
  "kernelspec": {
   "display_name": "Python 3",
   "language": "python",
   "name": "python3"
  },
  "language_info": {
   "codemirror_mode": {
    "name": "ipython",
    "version": 3
   },
   "file_extension": ".py",
   "mimetype": "text/x-python",
   "name": "python",
   "nbconvert_exporter": "python",
   "pygments_lexer": "ipython3",
   "version": "3.8.3"
  }
 },
 "nbformat": 4,
 "nbformat_minor": 5
}
